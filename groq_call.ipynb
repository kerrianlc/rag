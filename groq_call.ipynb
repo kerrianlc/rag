{
 "cells": [
  {
   "cell_type": "code",
   "execution_count": 3,
   "metadata": {
    "execution": {
     "iopub.execute_input": "2025-01-21T16:17:28.745723Z",
     "iopub.status.busy": "2025-01-21T16:17:28.745273Z",
     "iopub.status.idle": "2025-01-21T16:17:28.751804Z",
     "shell.execute_reply": "2025-01-21T16:17:28.750435Z",
     "shell.execute_reply.started": "2025-01-21T16:17:28.745682Z"
    },
    "trusted": true
   },
   "outputs": [],
   "source": [
    "GROQ_API_KEY = \"\""
   ]
  },
  {
   "cell_type": "code",
   "execution_count": 9,
   "metadata": {
    "execution": {
     "iopub.execute_input": "2025-01-21T16:20:57.064974Z",
     "iopub.status.busy": "2025-01-21T16:20:57.064579Z",
     "iopub.status.idle": "2025-01-21T16:20:57.083946Z",
     "shell.execute_reply": "2025-01-21T16:20:57.082761Z",
     "shell.execute_reply.started": "2025-01-21T16:20:57.064942Z"
    },
    "trusted": true
   },
   "outputs": [],
   "source": [
    "from groq import Client\n",
    "\n",
    "client = Client(api_key=GROQ_API_KEY)"
   ]
  },
  {
   "cell_type": "code",
   "execution_count": 10,
   "metadata": {
    "execution": {
     "iopub.execute_input": "2025-01-21T14:08:16.318886Z",
     "iopub.status.busy": "2025-01-21T14:08:16.318103Z",
     "iopub.status.idle": "2025-01-21T14:08:16.335797Z",
     "shell.execute_reply": "2025-01-21T14:08:16.334444Z",
     "shell.execute_reply.started": "2025-01-21T14:08:16.318839Z"
    },
    "trusted": true
   },
   "outputs": [],
   "source": [
    "def prompt_template(content):\n",
    "    return [{\"role\": \"user\", \"content\": content}]"
   ]
  },
  {
   "cell_type": "code",
   "execution_count": 11,
   "metadata": {
    "execution": {
     "iopub.execute_input": "2025-01-21T14:08:20.106215Z",
     "iopub.status.busy": "2025-01-21T14:08:20.105816Z",
     "iopub.status.idle": "2025-01-21T14:08:52.722477Z",
     "shell.execute_reply": "2025-01-21T14:08:52.721139Z",
     "shell.execute_reply.started": "2025-01-21T14:08:20.106180Z"
    },
    "trusted": true
   },
   "outputs": [],
   "source": [
    "from metric_prompts.faithfulness import faithfulness_prompt\n",
    "from metric_prompts.answer_relevancy import answer_relevancy_prompt\n",
    "from ratelimit import limits, sleep_and_retry\n",
    "\n",
    "RATE_LIMIT = 30\n",
    "TIME_PERIOD = 180\n",
    "\n",
    "@sleep_and_retry\n",
    "@limits(calls=RATE_LIMIT, period=TIME_PERIOD)\n",
    "def api_call(client, message, model):\n",
    "    response = client.chat.completions.create(messages=message, model=model)\n",
    "    return response.choices[0].message.content\n",
    "\n",
    "\n",
    "def faithfulness(judge, query, context, output):\n",
    "    judge_statement = judge.chat.completions.create(\n",
    "        messages=prompt_template(faithfulness_prompt(context, query, output)),\n",
    "        model=\"llama3-70b-8192\",\n",
    "    )\n",
    "    return judge_statement.choices[0].message.content\n",
    "\n",
    "def answer_relevancy(judge, query, output):\n",
    "    judge_statement = judge.chat.completions.create(\n",
    "        messages=prompt_template(answer_relevancy_prompt(query, output)),\n",
    "        model=\"llama3-70b-8192\",\n",
    "    )\n",
    "    return judge_statement.choices[0].message.content"
   ]
  },
  {
   "cell_type": "code",
   "execution_count": 12,
   "metadata": {
    "execution": {
     "iopub.execute_input": "2025-01-21T14:08:52.725341Z",
     "iopub.status.busy": "2025-01-21T14:08:52.724456Z",
     "iopub.status.idle": "2025-01-21T14:08:53.388724Z",
     "shell.execute_reply": "2025-01-21T14:08:53.387468Z",
     "shell.execute_reply.started": "2025-01-21T14:08:52.725296Z"
    },
    "trusted": true
   },
   "outputs": [],
   "source": [
    "import pandas as pd\n",
    "df = pd.read_parquet(\"./RAGtruth/data.parquet\")\n",
    "df = df[df[\"task_type\"] == \"QA\"]\n",
    "\n",
    "df[\"labels\"] = df[\"labels\"].apply(lambda x: False if len(x) == 0 else x)\n",
    "df[\"labels\"] = df[\"labels\"].apply(lambda x: x[0][\"label_type\"] if type(x) != bool else x)\n",
    "\n",
    "# Filter rows where labels are not False\n",
    "df = df[df[\"labels\"] != False]\n",
    "\n",
    "def split_dataframe(df, chunk_size = 10000): \n",
    "    chunks = list()\n",
    "    num_chunks = len(df) // chunk_size + 1\n",
    "    for i in range(num_chunks):\n",
    "        chunks.append(df[i*chunk_size:(i+1)*chunk_size])\n",
    "    return chunks\n",
    "chunks_l = split_dataframe(df, chunk_size=100)"
   ]
  },
  {
   "cell_type": "code",
   "execution_count": 13,
   "metadata": {
    "execution": {
     "iopub.execute_input": "2025-01-21T14:08:53.390625Z",
     "iopub.status.busy": "2025-01-21T14:08:53.390172Z",
     "iopub.status.idle": "2025-01-21T14:08:53.673919Z",
     "shell.execute_reply": "2025-01-21T14:08:53.672399Z",
     "shell.execute_reply.started": "2025-01-21T14:08:53.390579Z"
    },
    "trusted": true
   },
   "outputs": [],
   "source": [
    "import pandas as pd\n",
    "df = pd.read_parquet(\"./RAGtruth/data.parquet\")\n",
    "df = df[df[\"task_type\"] == \"QA\"]\n",
    "\n",
    "df[\"labels\"] = df[\"labels\"].apply(lambda x: False if len(x) == 0 else x)\n",
    "df[\"labels\"] = df[\"labels\"].apply(lambda x: x[0][\"label_type\"] if type(x) != bool else x)\n",
    "# df = df[df[\"model\"].str.contains(\"llama\")]\n",
    "def split_dataframe(df, chunk_size = 10000): \n",
    "    chunks = list()\n",
    "    num_chunks = len(df) // chunk_size + 1\n",
    "    for i in range(num_chunks):\n",
    "        chunks.append(df[i*chunk_size:(i+1)*chunk_size])\n",
    "    return chunks\n",
    "chunks = split_dataframe(df, chunk_size=100)"
   ]
  },
  {
   "cell_type": "code",
   "execution_count": null,
   "metadata": {},
   "outputs": [
    {
     "name": "stderr",
     "output_type": "stream",
     "text": [
      "  0%|          | 0/989 [00:00<?, ?it/s]"
     ]
    },
    {
     "name": "stdout",
     "output_type": "stream",
     "text": [
      "['Unable to answer based on given passages.', 'Based on the given passages, it can be inferred that if someone cries at a sad movie, it could mean that they are emotionally moved or empathetic towards the characters and storyline.', 'Based on the given passages, crying at a sad movie does not necessarily indicate anything about a person\\'s emotional state or their tendency to cry easily. Some people may cry readily at movies, while others may not. In passage 1, the speaker mentions that they cry at a variety of occasions, including weddings, birthday parties, school plays, and humane society advertisements featuring adoptable dogs. Passage 3 specifically mentions that the speaker cried deeply during both \"The Notebook\" and \"The Source Code,\" despite not typically being someone who cries readily at personal problems or life events. Therefore, crying at a sad movie is simply a personal reaction and does not necessarily provide insight into a person\\'s emotional state.', \"Based on the provided passages, it seems that crying at a sad movie may indicate different things for different people. Here are some possible interpretations:\\n\\n1. Emotional sensitivity: According to passage 1, some people are more prone to crying at various emotional triggers, including sad movies. This suggests that they may be more emotionally sensitive and reactive to feelings of sadness or vulnerability.\\n2. Empathy: Passage 2 mentions that some individuals cry at the drop of a hat, which could imply that they are more empathetic and able to connect with the emotions of others, including those depicted in movies.\\n3. Personal connection: In passage 3, the author reveals that they cried during a movie (The Notebook) and were unable to stop, suggesting that they were deeply moved by the storyline or characters. This could indicate that personal connections and emotional investment in the story can trigger crying responses.\\n4. Unconscious release: Some research suggests that crying can serve as an unconscious mechanism for releasing pent-up emotions or stress. Therefore, crying during a sad movie might represent a way to process and release emotions related to one's own experiences or past events.\\n\\nUnable to answer based on given passages. Further context or additional information would be needed to provide a more detailed explanation of why someone might cry during a sad movie.\", 'Based on the provided passages, crying at a sad movie suggests that you may be someone who cries easily, as you are affected by emotional content, such as heartwarming or tragic events, whether in real life or in media. It is also mentioned that you may not cry often in your daily life but become highly emotional during certain situations, like watching movies.', \"Based on the given passages, it seems that crying at a sad movie is a common occurrence and is not necessarily indicative of any deeper issue. Some people may be more prone to crying at emotional stimuli, such as movies, weddings, or public service announcements, while others may be less likely to show their emotions in this way. It's also possible that people may experience stronger emotions when watching a movie because they are able to temporarily immerse themselves in the story and characters, allowing them to connect with the emotions portrayed on screen in a more intense way.\"]\n"
     ]
    },
    {
     "name": "stderr",
     "output_type": "stream",
     "text": [
      "  0%|          | 1/989 [00:06<1:39:36,  6.05s/it]"
     ]
    },
    {
     "name": "stdout",
     "output_type": "stream",
     "text": [
      "['Remove the mushroom from the water and then drain well.', 'Unable to answer based on given passages.', 'To remove water from canned mushrooms, you need to follow these steps:\\n\\n1. Drain the mushrooms from the can and rinse them under running water to remove any remaining moisture.\\n2. Pat the mushrooms dry with a paper towel or a clean kitchen cloth.\\n3. Place the mushrooms on a baking sheet lined with parchment paper.\\n4. Put the baking sheet in the oven at 200°F (93°C) for about an hour or until the mushrooms are completely dry.\\n5. Once the mushrooms are dry, you can store them in an airtight container or freeze them for later use.', \"Based on the provided passages, here's how you can remove water from canned mushrooms:\\n\\nPassage 1 states that after removing the mushrooms from the water, you should drain them well before placing them on a cookie sheet and freezing them for 30-40 minutes. This process will allow the excess water to evaporate, leaving the mushrooms dry and ready for storage.\\n\\nPassage 2 provides guidance on how to clean fresh mushrooms, which may not directly address the issue of removing water from canned mushrooms. However, it does provide tips on how to handle and prepare mushrooms in general, which could be applied to canned mushrooms as well.\\n\\nPassage 3 does not provide specific instructions on how to remove water from canned mushrooms. It focuses on preparing fresh mushrooms for filling, and does not cover the topic of removing water from canned products.\\n\\nTherefore, based on the provided passages, I am unable to answer your question on how to remove water from canned mushrooms.\", \"Based on the given passages, here's how you can remove water from canned mushrooms:\\n\\n1. Remove the mushrooms from the can and drain well.\\n2. Place the mushrooms on a cookie sheet and put it in the freezer for about 30-40 minutes or until the mushrooms are frozen.\\n3. Remove the mushrooms from the cookie sheet and transfer them to labeled bags.\\n\\nNote that the passages do not mention any specific method for removing water from canned mushrooms, so this answer is based on the assumption that the mushrooms have been drained and are ready to be used. If the mushrooms are still in liquid, additional steps may be needed to remove the water.\", 'Unable to answer based on given passages.\\n\\nThe provided passages do not contain information on how to remove water from canned mushrooms. Passage 1 discusses freezing mushrooms, passage 2 explains how to clean fresh mushrooms, and passage 3 provides instructions for preparing mushrooms for stuffing. None of these passages address the issue of removing water from canned mushrooms.']\n"
     ]
    },
    {
     "name": "stderr",
     "output_type": "stream",
     "text": [
      "  0%|          | 3/989 [01:04<6:13:35, 22.73s/it]"
     ]
    },
    {
     "name": "stdout",
     "output_type": "stream",
     "text": [
      "{\n",
      "  \"answer_0\": {\n",
      "    \"answer_only_asserts_no_document_answers\": true,\n",
      "    \"content_analysis_sentence_by_sentence\": [],\n",
      "    \"faithfulness_justification\": \"The answer only asserts that it is unable to answer the question based on the given passages, without providing any additional information.\",\n",
      "    \"faithfulness\": null\n",
      "  },\n",
      "  \"answer_1\": {\n",
      "    \"answer_only_asserts_no_document_answers\": true,\n",
      "    \"content_analysis_sentence_by_sentence\": [],\n",
      "    \"faithfulness_justification\": \"The answer only asserts that it is unable to answer the question based on the given passages, without providing any additional information.\",\n",
      "    \"faithfulness\": null\n",
      "  },\n",
      "  \"answer_2\": {\n",
      "    \"answer_only_asserts_no_document_answers\": false,\n",
      "    \"content_analysis_sentence_by_sentence\": [\n",
      "      {\n",
      "        \"sentence\": \"1. Log into your Rollstone Bank account online.\",\n",
      "        \"criterion_1\": \"No reference is provided\",\n",
      "        \"criterion_2\": \"N/A\",\n",
      "        \"criterion_3\": \"N/A\"\n",
      "      },\n",
      "      {\n",
      "        \"sentence\": \"2. Navigate to the payment section of the website.\",\n",
      "        \"criterion_1\": \"No reference is provided\",\n",
      "        \"criterion_2\": \"N/A\",\n",
      "        \"criterion_3\": \"N/A\"\n",
      "      },\n",
      "      {\n",
      "        \"sentence\": \"3. Select the option for paying property taxes.\",\n",
      "        \"criterion_1\": \"No reference is provided\",\n",
      "        \"criterion_2\": \"N/A\",\n",
      "        \"criterion_3\": \"N/A\"\n",
      "      },\n",
      "      {\n",
      "        \"sentence\": \"4. Enter your St. Louis County account number and Personal Identification Number (PIN) number.\",\n",
      "        \"criterion_1\": \"Reference is provided (passage 3)\",\n",
      "        \"criterion_2\": \"Correct reference\",\n",
      "        \"criterion_3\": \"Sentence is in agreement with the reference\"\n",
      "      },\n",
      "      ...\n",
      "    ],\n",
      "    \"faithfulness_justification\": \"The answer provides a step-by-step guide, but only one sentence is supported by a reference (passage 3), and the rest of the sentences do not have any reference.\",\n",
      "    \"faithfulness\": 0\n",
      "  },\n",
      "  \"answer_3\": {\n",
      "    \"answer_only_asserts_no_document_answers\": false,\n",
      "    \"content_analysis_sentence_by_sentence\": [\n",
      "      {\n",
      "        \"sentence\": \"1. Visit the Rollstone Bank website and look for the \\\\\"Tax Payment\\\\\" or \\\\\"Property Tax\\\\\" section.\",\n",
      "        \"criterion_1\": \"No reference is provided\",\n",
      "        \"criterion_2\": \"N/A\",\n",
      "        \"criterion_3\": \"N/A\"\n",
      "      },\n",
      "      {\n",
      "        \"sentence\": \"2. Enter your St. Louis County account number and Personal Identification Number (PIN) number to access your tax payment information.\",\n",
      "        \"criterion_1\": \"Reference is provided (passage 3)\",\n",
      "        \"criterion_2\": \"Correct reference\",\n",
      "        \"criterion_3\": \"Sentence is in agreement with the reference\"\n",
      "      },\n",
      "      ...\n",
      "    ],\n",
      "    \"faithfulness_justification\": \"The answer provides a step-by-step guide, but only one sentence is supported by a reference (passage 3), and the rest of the sentences do not have any reference.\",\n",
      "    \"faithfulness\": 0\n",
      "  },\n",
      "  \"answer_4\": {\n",
      "    \"answer_only_asserts_no_document_answers\": false,\n",
      "    \"content_analysis_sentence_by_sentence\": [\n",
      "      {\n",
      "        \"sentence\": \"1. Go to the Rollstone Bank website and navigate to the \\\\\"Pay Taxes\\\\\" section.\",\n",
      "        \"criterion_1\": \"No reference is provided\",\n",
      "        \"criterion_2\": \"N/A\",\n",
      "        \"criterion_3\": \"N/A\"\n",
      "      },\n",
      "      {\n",
      "        \"sentence\": \"2. Select the tax type you are paying (real estate or personal property) and enter your St. Louis County account number and Personal Identification Number (PIN) number.\",\n",
      "        \"criterion_1\": \"Reference is provided (passage 3)\",\n",
      "        \"criterion_2\": \"Correct reference\",\n",
      "        \"criterion_3\": \"Sentence is in agreement with the reference\"\n",
      "      },\n",
      "      ...\n",
      "    ],\n",
      "    \"faithfulness_justification\": \"The answer provides a step-by-step guide, but only one sentence is supported by a reference (passage 3), and the rest of the sentences do not have any reference.\",\n",
      "    \"faithfulness\": 0\n",
      "  },\n",
      "  \"answer_5\": {\n",
      "    \"answer_only_asserts_no_document_answers\": true,\n",
      "    \"content_analysis_sentence_by_sentence\": [],\n",
      "    \"faithfulness_justification\": \"The answer only asserts that it is unable to answer the question based on the given passages, without providing any additional information.\",\n",
      "    \"faithfulness\": null\n",
      "  }\n",
      "}\n"
     ]
    },
    {
     "name": "stderr",
     "output_type": "stream",
     "text": [
      "  0%|          | 4/989 [01:27<6:16:23, 22.93s/it]"
     ]
    },
    {
     "name": "stdout",
     "output_type": "stream",
     "text": [
      "{\n",
      "\"answer_0\": {\n",
      "\"answer_only_asserts_no_document_answers\": false,\n",
      "\"content_analysis_sentence_by_sentence\": [\n",
      "{\n",
      "\"sentence\": \"In golf, \\\\\"clutch\\\\\" refers to a putt that a player must make, especially in high-pressure situations.\",\n",
      "\"criterion_1\": \"Yes, a reference follows the sentence.\",\n",
      "\"criterion_2\": \"The reference is correct, passage 1 and passage 3.\",\n",
      "\"criterion_3\": \"The sentence does not distort or modify the content of the references.\"\n",
      "},\n",
      "{\n",
      "\"sentence\": \"This could be a 6 foot par putt for an average golfer or a 10 footer to win a tournament or get into a playoff for a professional.\",\n",
      "\"criterion_1\": \"Yes, a reference follows the sentence.\",\n",
      "\"criterion_2\": \"The reference is correct, passage 1 and passage 3.\",\n",
      "\"criterion_3\": \"The sentence does not distort or modify the content of the references.\"\n",
      "}\n",
      "],\n",
      "\"faithfulness_justification\": \"The answer accurately quotes the definitions of clutch putt from the references, and provides additional details that are in line with the context.\",\n",
      "\"faithfulness\": 1\n",
      "},\n",
      "\"answer_1\": {\n",
      "\"answer_only_asserts_no_document_answers\": false,\n",
      "\"content_analysis_sentence_by_sentence\": [\n",
      "{\n",
      "\"sentence\": \"In golf, \\\\\"clutch\\\\\" refers to a putt that a player must make under pressure, such as a crucial putt to win a tournament or make a crucial shot.\",\n",
      "\"criterion_1\": \"No reference follows the sentence.\",\n",
      "\"criterion_2\": \"Not applicable.\",\n",
      "\"criterion_3\": \"Not applicable.\"\n",
      "}\n",
      "],\n",
      "\"faithfulness_justification\": \"The answer does not provide references for the statements made, and the information does not accurately reflect the content of the references.\",\n",
      "\"faithfulness\": 0\n",
      "},\n",
      "\"answer_2\": {\n",
      "\"answer_only_asserts_no_document_answers\": false,\n",
      "\"content_analysis_sentence_by_sentence\": [\n",
      "{\n",
      "\"sentence\": \"Based on the given passages, a clutch putt refers to a putt that a player must make under significant pressure, such as in a high-stakes situation like winning a tournament or qualifying for a playoff.\",\n",
      "\"criterion_1\": \"Yes, a reference follows the sentence.\",\n",
      "\"criterion_2\": \"The reference is correct, passage 1 and passage 3.\",\n",
      "\"criterion_3\": \"The sentence does not distort or modify the content of the references.\"\n",
      "},\n",
      "{\n",
      "\"sentence\": \"The difficulty level of the putt can vary depending on the context, but generally speaking, it requires a high degree of skill and mental focus to execute successfully.\",\n",
      "\"criterion_1\": \"No reference follows the sentence.\",\n",
      "\"criterion_2\": \"Not applicable.\",\n",
      "\"criterion_3\": \"Not applicable.\"\n",
      "}\n",
      "],\n",
      "\"faithfulness_justification\": \"The answer accurately quotes the definition of clutch putt from the references, but adds additional information that is not supported by the references.\",\n",
      "\"faithfulness\": 0\n",
      "},\n",
      "\"answer_3\": {\n",
      "\"answer_only_asserts_no_document_answers\": false,\n",
      "\"content_analysis_sentence_by_sentence\": [\n",
      "{\n",
      "\"sentence\": \"Based on the provided passages, \\\\\"clutch\\\\\" in golf refers to a putt that a player must make, often under high pressure, such as a short par putt for an average golfer or a longer putt to win a tournament or get into a playoff for a professional.\",\n",
      "\"criterion_1\": \"Yes, a reference follows the sentence.\",\n",
      "\"criterion_2\": \"The reference is correct, passage 1 and passage 3.\",\n",
      "\"criterion_3\": \"The sentence does not distort or modify the content of the references.\"\n",
      "},\n",
      "{\n",
      "\"sentence\": \"The term \\\\\"clutch\\\\\" is used to describe this type of putt because it is critical to the outcome of the game, and the player’s performance in these situations can be influenced by their beliefs and confidence levels.\",\n",
      "\"criterion_1\": \"No reference follows the sentence.\",\n",
      "\"criterion_2\": \"Not applicable.\",\n",
      "\"criterion_3\": \"Not applicable.\"\n",
      "}\n",
      "],\n",
      "\"faithfulness_justification\": \"The answer accurately quotes the definition of clutch putt from the references, but adds additional information that is not supported by the references.\",\n",
      "\"faithfulness\": 0\n",
      "},\n",
      "\"answer_4\": {\n",
      "\"answer_only_asserts_no_document_answers\": false,\n",
      "\"content_analysis_sentence_by_sentence\": [\n",
      "{\n",
      "\"sentence\": \"Based on the given passages, \\\\\"clutch\\\\\" in golf refers to a putt that a player must make under pressure, such as a 6 foot par putt for an average golfer or a 10 footer to win a tournament for a professional.\",\n",
      "\"criterion_1\": \"Yes, a reference follows the sentence.\",\n",
      "\"criterion_2\": \"The reference is correct, passage 1 and passage 3.\",\n",
      "\"criterion_3\": \"The sentence does not distort or modify the content of the references.\"\n",
      "},\n",
      "{\n",
      "\"sentence\": \"The term \\\\\"clutch\\\\\" can be a self-fulfilling prophecy for athletes, as they may begin to believe that they will fail when the game is on the line due to repeated messages about their supposed lack of clutch ability.\",\n",
      "\"criterion_1\": \"Yes, a reference follows the sentence.\",\n",
      "\"criterion_2\": \"The reference is correct, passage 2.\",\n",
      "\"criterion_3\": \"The sentence does not distort or modify the content of the references.\"\n",
      "}\n",
      "],\n",
      "\"faithfulness_justification\": \"The answer accurately quotes the definition of clutch putt from the references and adds additional information that is supported by the references.\",\n",
      "\"faithfulness\": 1\n",
      "},\n",
      "\"answer_5\": {\n",
      "\"answer_only_asserts_no_document_answers\": false,\n",
      "\"content_analysis_sentence_by_sentence\": [\n",
      "{\n",
      "\"sentence\": \"Based on the provided passages, clutch in golf refers to a crucial putt that a player must make, particularly in high-pressure situations, such as a 6-foot par putt for an average golfer or a 10-footer to win a tournament or get into a playoff for a professional.\",\n",
      "\"criterion_1\": \"Yes, a reference follows the sentence.\",\n",
      "\"criterion_2\": \"The reference is correct, passage 1 and passage 3.\",\n",
      "\"criterion_3\": \"The sentence does not distort or modify the content of the references.\"\n",
      "},\n",
      "{\n",
      "\"sentence\": \"The term \\\\\"clutch\\\\\" implies that the player must perform well under pressure to achieve a positive outcome.\",\n",
      "\"criterion_1\": \"No reference follows the sentence.\",\n",
      "\"criterion_2\": \"Not applicable.\",\n",
      "\"criterion_3\": \"Not applicable.\"\n",
      "}\n",
      "],\n",
      "\"faithfulness_justification\": \"The answer accurately quotes the definition of clutch putt from the references, but adds additional information that is not supported by the references.\",\n",
      "\"faithfulness\": 0\n",
      "}\n",
      "}\n",
      "['Forces can be measured in the unit called the Newton (N). The passages do not provide information on how much force an apple applies.', 'Forces can be measured in the unit of Newton (N). The given passages do not provide information on how much force the apple applies, so we are unable to answer this question based on the given passages.', \"Forces can be measured in Newton's (N). The amount of force an apple applies cannot be determined without further information about the apple and the situation in which it is acting.\", 'Based on the provided passages, forces can be measured in units of Newtons (N). The passage states that the unit of force is the Newton (N), and a force of 1 N is defined as the force that produces an acceleration of 1 m/s^2 when applied to an object with a mass of 1 kg. Therefore, the amount of force applied by an apple depends on its mass and the duration of the force application. However, without additional information about the mass of the apple or the duration of the force application, it is impossible to determine the exact amount of force applied by the apple. Therefore, I am unable to answer your question directly based on the given passages.', 'Based on the given passages, forces can be measured in Newtons (N).\\n\\nAccording to passage 2, a force of 1 N is defined as the force that, when applied to an object with a mass of 1 kg, produces an acceleration of 1 m/s^2. Therefore, if we apply a force equal to 2 N, the corresponding acceleration would be 2 m/s^2.\\n\\nAs for the force applied by the apple, we can use passage 3 to determine the velocity of the mass (the apple) after applying the force for 1 second. According to passage 3, if the force is applied for a given time (1 second) in a given direction, at the end of that time the mass will have a velocity (1 meter per second) in that direction, relative to the initial velocity of the mass. Therefore, the apple will have a velocity of 1 meter per second after being pushed by a force for 1 second.', 'The unit of force is Newton (N).\\n\\nThe apple applies a force of 1 N, as defined in passage 2.']\n"
     ]
    },
    {
     "name": "stderr",
     "output_type": "stream",
     "text": [
      "  1%|          | 5/989 [02:24<9:36:41, 35.16s/it]"
     ]
    },
    {
     "name": "stdout",
     "output_type": "stream",
     "text": [
      "[\"Based on the passages, you should prepare for your G1 driver's test by taking practice tests, which are based on the official Ontario Driver's handbook. These tests will help you learn about road signs and rules, fines, and speed limits. It is also recommended to use resources like the #1 G1 Test Preparation Resource in Ontario. Remember, these tests are for practice purposes and passing them does not guarantee you will pass the actual G1 test.\", \"Based on the given passages, you should study the road signs, rules, fines, and speed limits mentioned in the Ontario Driver's handbook in preparation for your G1 drivers test. Additionally, you can use the collection of free Ontario G1 practice tests and quizzes provided to gain confidence and practice for the written road knowledge test.\", \"To prepare for your G1 drivers test in Ontario, it would be helpful to study the road signs and rules, fines, and speed limits. You can find practice tests online that are based on the official Ontario Driver's Handbook and use the same scoring system as the DriveTest centers across the province. These resources can provide you with confidence as you prepare for the test. Additionally, a free practice quiz specifically designed for the Ontario G1 Test and written road knowledge test can also be helpful for preparation. However, it is important to note that these practice materials are for practice purposes only and cannot guarantee that you will pass the actual G1 test.\", \"Here are some tips for studying in preparation for your G1 driver's test based on the provided passages:\\n\\n1. Take our most popular G1 practice test, which is based on the official Ontario Driver's Handbook and uses the same scoring system as DriveTest centers across the province. (From passage 1)\\n2. Use our collection of free Ontario G1 practice tests to prepare and build confidence. Our state-of-the-art practice tests are designed to give you the edge you need to pass on your first try. (From passage 2)\\n3. Practice with a free quiz specifically designed to help you prepare for your Ontario G1 Test and written road knowledge test. While this quiz is for practice purposes only, it can help you identify areas where you may need to focus your studies. (From passage 3)\\n4. Review the road signs and rules, fines, and speed limits covered in the practice tests. Make sure you are familiar with these topics before taking the actual test. (Implied in passages 1 and 2)\\n5. Familiarize yourself with the format and content of the actual G1 test, including the types of questions that may be asked and the time limit for each section. (Unclear from passages, but recommended)\\n6. Consider purchasing additional study materials or resources, such as textbooks or online courses, to supplement your practice tests and provide more detailed information on the topics covered on the test. (Unclear from passages, but recommended)\\n\\nUnable to answer based on given passages.\", \"Sure, I'd be happy to help! Here are some tips for studying in preparation for your G1 drivers test based on the given passages:\\n\\n1. Familiarize yourself with Ontario's road signs and rules: Passage 1 mentions that the test will cover road signs and rules based on the official Ontario Driver's Handbook. Study the handbook thoroughly to ensure you understand all the signs and rules.\\n2. Practice with free resources: Passage 2 suggests using their practice tests to prepare for the G1 test. Additionally, passage 3 offers a free quiz to help you practice your road knowledge.\\n3. Use state-of-the-art practice tests: According to passage 2, their practice tests are designed to give you confidence. Use these resources to get a feel for the types of questions you'll encounter on the actual test.\\n4. Practice regularly: Consistent practice will help you become more comfortable with the material and increase your chances of passing the test.\\n5. Don't rely solely on online resources: While online resources can be helpful, don't rely solely on them. The actual test may include questions that are not covered in online resources.\\n\\nUnable to answer based on given passages.\", \"Sure, I can help you with that! Here are some tips for studying in preparation for the G1 driver's test based on the given passages:\\n\\n1. Familiarize yourself with the official Ontario Driver's Handbook, which covers road signs, rules, fines, and speed limits.\\n2. Practice with various G1 practice tests, such as those offered by DriveTest centers across the province or online resources like Ontario G1 Test Preparation.\\n3. Take advantage of free practice quizzes, like the one mentioned in passage 3, to help you prepare for the written road knowledge test.\\n4. Focus on building your knowledge of road signs, as they are a crucial aspect of the G1 test.\\n5. Review the scoring system used by DriveTest centers to avoid surprises during the actual test.\\n6. Use state-of-the-art practice tests to help you feel confident and prepared for the test.\\n\\nRemember, practice makes perfect! Good luck with your G1 test!\"]\n"
     ]
    },
    {
     "name": "stderr",
     "output_type": "stream",
     "text": [
      "  1%|          | 6/989 [03:35<12:56:31, 47.40s/it]"
     ]
    },
    {
     "name": "stdout",
     "output_type": "stream",
     "text": [
      "['To perform skill moves on FIFA 16 for Xbox One, you need to use combinations of buttons on your controller. For example, to do a Ball Juggle while your character is standing, hold LT and tap RB. Video guides showing what each skill move looks like are available at the top of the relevant page.', 'Passage 1 provides information on how to perform the Ball Juggle skill move on FIFA 16 for Xbox One. However, it does not provide information on other skill moves. \\n\\nUnable to answer based on given passages.', \"To perform skill moves on FIFA 16 for Xbox One, hold down the LT button while tapping the RB button. This is the command for Ball Juggle when standing. For more information about all the skill moves in FIFA 16, refer to the skill moves tutorials available on the game's website or other resources.\", \"Based on the provided passages, here is how to perform skill moves on FIFA 16 for Xbox One:\\n\\n1. Ball Juggle (while standing): Press and hold the LT button on the Xbox controller, followed by a quick tap of the RB button.\\n\\nThat's it! This combination will allow you to perform the ball juggling skill move while standing on the field in FIFA 16 on Xbox One.\", 'Based on the given passages, here is how to perform skill moves in FIFA 16 on Xbox One:\\n\\nTo execute a skill move while standing, press and hold the LT button and then tap the RB button. This will allow your player to perform various skill moves such as flip fouls, step-overs, and heel-to-heel turns.\\n\\nYou can find more tutorials and guides on executing skill moves in FIFA 16 by visiting the official website or watching video tutorials available online. Additionally, the complete FIFA 16 Skill Moves guide with a list and tutorial videos can be found on the official website.', \"Sure, I can help you with that! Based on the given passages, here's how to do skill moves on FIFA 16 for Xbox One:\\n\\n1. Ball Juggle (while standing): Hold LT + tap RB.\\n\\nNote that this combination works for Xbox 360 and Xbox One controllers. If you're playing on PC with a controller, the buttons may be different. Additionally, there are tutorial videos available online that show what each skill move looks like, which can be helpful in mastering these moves.\"]\n"
     ]
    },
    {
     "name": "stderr",
     "output_type": "stream",
     "text": [
      "  1%|          | 7/989 [04:20<12:40:38, 46.48s/it]"
     ]
    },
    {
     "name": "stdout",
     "output_type": "stream",
     "text": [
      "[\"The passages mention that Colorado has collected millions of dollars in tax revenue from the sale of marijuana. However, they do not specify what the state has done with the collected money. There is a mention of a possible refund due to a quirk in the state's constitution but it does not provide a definitive answer on how the state has used the money.\", 'Colorado has collected tens of millions of dollars in tax revenue from marijuana sales, generating about $63 million in taxes in 2014 alone.', \"Based on the given passages, it is clear that Colorado's legalization of recreational marijuana has generated significant tax revenue for the state. In the first month of sales, licensed dispensaries generated over $14 million and put about $2 million of tax revenue into state coffers (Passage 1). By the end of the first year, Colorado had collected tens of millions of dollars in taxes from pot (Passage 2). Furthermore, marijuana businesses in Colorado generated about $63 million in taxes in 2014, the first year of legal recreational marijuana sales (Passage 3). However, there is no information provided regarding how the state has used or allocated this tax revenue.\", \"Based on the provided passages, here is what Colorado has done with the revenue generated from marijuana:\\n\\nPassage 1 states that during the first month of recreational marijuana sales in Colorado, licensed dispensaries generated a total of over $14 million and put about $2 million of tax revenue into state coffers.\\n\\nPassage 3 states that marijuana businesses in Colorado have generated about $63 million in taxes in 2014, the first year of legal recreational marijuana sales.\\n\\nTherefore, according to these passages, Colorado has collected around $85 million in tax revenue from marijuana sales in 2014 ($63 million + $2 million).\\n\\nAs for Passage 2, it mentions that there may be a need to refund some of the taxes raised from pot due to a quirk in the state's constitution, but does not provide any specific information on how much revenue has been refunded or if any refunds have actually taken place. Therefore, I cannot provide an answer based on this passage alone.\", \"Based on the given passages, here is what Colorado has done with weed money:\\n\\nAccording to Passage 1, during the first month of recreational marijuana sales, Colorado's licensed dispensaries generated a total of more than $14 million, putting about $2 million of tax revenue into state coffers.\\n\\nPassage 2 states that all those taxes raised from pot may have to be refunded because of a quirk in the state's constitution. However, it does not specify what has been done with the tax revenue so far.\\n\\nPassage 3 states that marijuana businesses in Colorado have generated about $63 million in taxes in 2014, the first year of legal recreational marijuana sales.\\n\\nTherefore, based on the given passages, Colorado has collected tens of millions of dollars in tax revenue from legal marijuana sales, but some of these funds may need to be refunded due to a constitutional issue.\", 'Based on the given passages, it appears that Colorado has used the tax revenue generated from legalized marijuana sales to put into state coffers. Specifically, passage 1 mentions that $2 million of tax revenue was generated in the first month of recreational marijuana sales, and passage 3 states that marijuana businesses in Colorado have generated about $63 million in taxes in 2014, the first year of legal recreational marijuana sales. It is unclear exactly how the state has used or allocated these funds, but it seems that they have been deposited into state coffers. Therefore, I cannot provide a specific answer to the question of what Colorado has done with weed money beyond the fact that it has generated revenue for the state.']\n"
     ]
    },
    {
     "name": "stderr",
     "output_type": "stream",
     "text": [
      "  1%|          | 8/989 [05:16<13:29:43, 49.52s/it]"
     ]
    },
    {
     "name": "stdout",
     "output_type": "stream",
     "text": [
      "['Unable to answer based on given passages.', 'Unable to answer based on given passages.', 'To get an update for Lego Star Wars: The Complete Saga on iOS, you can either download it from the App Store or check for updates within the app. For Episode I Story Mode, you do not need to purchase anything as it is free for a limited time. However, for Episodes II through VI and other content, you will need to make in-app purchases. If you want to play Lego Star Wars: The New Yoda Chronicles, you will need to purchase it separately.', \"Based on the provided passages, here's how to get the update for Lego Star Wars: The Complete Saga:\\n\\nTo get the update for Lego Star Wars: The Complete Saga, follow these steps:\\n\\n1. Download Lego Star Wars: The Complete Saga from the App Store for iOS devices. (Passage 1)\\n2. Episode I: The Phantom Menace is included for free with the download, while the remaining five episodes are available through in-app purchases. (Passage 2)\\n\\nAlternatively, if you're looking for information on how to get the update for Lego Star Wars: The New Yoda Chronicles, it can be downloaded directly from the App Store or Google Play Store. (Passage 3)\\n\\nUnable to answer based on given passages.\", \"Based on the given passages, here's how to get the update for Lego Star Wars: The Complete Saga:\\n\\nTo get the update, you need to download the game from the App Store, as it is available for iOS devices. Episode I: The Phantom Menace is included for free with the initial download, while the remaining five episodes (II - VI) are available through in-app purchases. However, there is no mention of any specific update in the given passages.\", \"Unfortunately, the provided passages do not contain information on how to get updates for Lego Star Wars: The Complete Saga. Therefore, I cannot provide an answer to the question based on the given passages.\\n\\nHowever, I can suggest some general steps that may help you find updates for the game:\\n\\n1. Check the App Store or Google Play Store for updates: You can check the App Store or Google Play Store on your mobile device to see if there are any updates available for Lego Star Wars: The Complete Saga.\\n2. Follow the game's social media accounts: You can follow the official social media accounts of Lego Star Wars: The Complete Saga on platforms like Twitter, Facebook, or Instagram to stay up-to-date with the latest news and updates about the game.\\n3. Visit the game's website: You can visit the official website of Lego Star Wars: The Complete Saga to check for any updates or patch notes.\\n4. Join a community forum: You can join a community forum or discussion board dedicated to Lego Star Wars: The Complete Saga to ask other players about updates and share tips and strategies.\\n\\nI hope these suggestions help you find the updates you are looking for.\"]\n"
     ]
    },
    {
     "name": "stderr",
     "output_type": "stream",
     "text": [
      "  1%|          | 9/989 [06:02<13:14:30, 48.64s/it]"
     ]
    },
    {
     "name": "stdout",
     "output_type": "stream",
     "text": [
      "['Unable to answer based on given passages.', 'Unable to answer based on given passages.', \"Based on the given passages, it is clear that the NHL quarter final schedule includes two games in Toronto and two games in Helsinki. The specific matchups are as follows:\\n\\n* In Toronto, Canada will play against either the fourth or third seed (depending on their position in the final round robin).\\n* In Helsinki, Finland will play the evening game against either the second or first seed (again, depending on their position in the final round robin).\\n\\nIt's important to note that these matchups are subject to change based on the results of the final round robin and playoffs leading up to the quarter finals.\", \"Based on the provided passages, the NHL quarter-final schedule is as follows:\\n\\nCanada's quarter-final game will be played in Toronto at 8 p.m. ET. The specific match-ups and game times for the quarter-finals are not specified in the passages provided.\", 'Based on the given passages, here is the answer to the question:\\n\\nThe NHL quarter-final schedule is as follows:\\n\\n* Canada will play their quarter-final game in Toronto, regardless of their seeding.\\n* The quarter-final games will be played in Stockholm and Helsinki, with the matchups being:\\n\\t+ Stockholm: (1S-4S) & (2S-3S)\\n\\t+ Helsinki: (1H-4H) & (2H-3H)\\n\\nNote that the exact game times have not been specified, as they may change depending on the results of the pre-competition games.', \"Unable to answer based on given passages.\\n\\nThe provided passages do not include information about the NHL quarterfinal schedule. The passages are focused on the Canadian National Junior Team's pre-competition games and the quarterfinal and semifinal games of the IIHF World Junior Championship. They do not mention anything about the NHL or its playoff schedule.\"]\n"
     ]
    },
    {
     "name": "stderr",
     "output_type": "stream",
     "text": [
      "  1%|          | 10/989 [06:42<12:27:07, 45.79s/it]"
     ]
    },
    {
     "name": "stdout",
     "output_type": "stream",
     "text": [
      "['The chances of getting HIV after a single encounter vary depending on the type of sexual activity. For unprotected receptive anal sex, the risk is estimated to be 1.4%. For an HIV-negative woman having unprotected receptive vaginal sex, the risk could be closer to 1%. A study of heterosexual couples in Africa estimated the chance of catching the AIDS virus from a single sexual encounter with an infected person to be one in 588.', 'Based on the given passages, the chances of getting HIV after a single encounter are estimated to be 1.4% for receptive anal sex, 1% for receptive vaginal sex with a vaginal STI, and one in 588 for heterosexual encounters in Africa.', 'Based on the given passages, the chance of getting HIV after a single encounter varies depending on the type of sexual activity and the presence of a sexually transmitted infection (STI). For receptive anal sex, the estimated risk is 1.4%, while for receptive vaginal sex with a vaginal STI, the risk could be closer to 1%. However, for heterosexual couples in Africa, the chance of catching the AIDS virus from a single sexual encounter with an infected person is one in 588.', \"Based on the provided passages, the chances of getting HIV after a single encounter are:\\n\\nPassage 1: For anal sex, the estimated risk of HIV transmission through unprotected sex is 1.4%.\\n\\nPassage 2: For vaginal sex, the estimated risk of HIV transmission through unprotected sex for an HIV-negative woman is 1% (1 transmission per 100 exposures) if she has a vaginal STI.\\n\\nPassage 3: The study mentioned in passage 3 found that the chance of catching HIV from a single sexual encounter with an infected person is approximately 1 in 588.\\n\\nTherefore, based on these passages, the chances of getting HIV after a single encounter are:\\n\\n* Anal sex: 1.4%\\n* Vaginal sex (HIV-negative woman without STI): 1%\\n* Vaginal sex (HIV-negative woman with STI): Not specified in the passages.\\n\\nIt's important to note that these estimates are based on specific circumstances and may not reflect the actual risk of HIV transmission in all cases. Additionally, the accuracy of these estimates may depend on various factors such as the viral load of the infected person, the type of sexual contact, and the use of protection. It's always recommended to consult a medical professional for accurate information on HIV transmission and prevention methods.\", 'Based on the given passages, I can provide the following information:\\n\\nFor receptive anal sex (bottoming), the risk of HIV transmission is estimated to be 1.4% based on a meta-analysis of four studies (Passage 1).\\n\\nFor vaginal sex, the risk of HIV transmission for an HIV-negative woman may be around 1% if she has a vaginal STI (Passage 2).\\n\\nAccording to a study of heterosexual couples in Africa, the chance of catching the AIDS virus from a single sexual encounter with an infected person is 1 in 588 (Passage 3).\\n\\nTherefore, based on these passages, it is difficult to provide a specific answer to the question of the chances of getting HIV after a single encounter without more information. However, the risk of transmission appears to be relatively low for both anal and vaginal sex when proper precautions are not used, and the likelihood of transmission increases with the presence of STIs.', \"Based on the information provided in the passages, the chance of getting HIV after a single encounter is estimated to be around 1.4% through receptive anal sex (Passage 1), and around 1% through unprotected receptive vaginal sex (Passage 2). However, it's important to note that these estimates are based on specific circumstances and populations, and the actual risk may vary depending on various factors such as the viral load of the infected partner, the presence of other sexually transmitted infections (STIs), and the effectiveness of any prevention methods used. Therefore, it's difficult to provide a precise answer to the question without more information.\\n\\nIt's also worth mentioning that Passage 3 mentions a study that found the chance of catching HIV from a single sexual encounter with an infected person to be one in 588, but this estimate likely applies to a specific population and set of circumstances, and may not be generalizable to all individuals or situations.\"]\n"
     ]
    },
    {
     "name": "stderr",
     "output_type": "stream",
     "text": [
      "  1%|          | 11/989 [07:43<13:45:32, 50.65s/it]"
     ]
    },
    {
     "name": "stdout",
     "output_type": "stream",
     "text": [
      "['Unable to answer based on given passages.', 'Unable to answer based on given passages.', 'Based on the given passages, it is clear that the Supreme Court played an important role in defining the laws and regulations related to slavery and citizenship rights during the Civil War era. The Dred Scott Decision, in particular, made a significant contribution to the ongoing debate over slavery and its legality in the United States. However, it is unclear what other roles the Supreme Court may have had during this time.', \"Based on the provided passages, the Supreme Court played the following roles during the American Civil War:\\n\\n1. Defined its most influential role through the appeal process: According to passage 1, the Supreme Court's most significant role was established through the appeal process, which involved reviewing cases involving state and local legislatures, as well as Congress.\\n2. Impacted by the Civil War: Passage 2 highlights the Supreme Court's experience during the Civil War, indicating that the institution was affected by the conflict. However, the passages do not provide specific details about the Court's role during this time.\\n3. Denied freedom to a slave: The Dred Scott decision (summarized in passage 3) denied a slave named Dred Scott his freedom, ruling that he was not a citizen and had no legal rights. This decision reinforced the institution of slavery and highlights the Supreme Court's role in upholding it.\\n\\nTherefore, the Supreme Court's role during the American Civil War can be summarized as:\\n\\n* Establishing its most influential role through the appeal process\\n* Being impacted by the Civil War\\n* Upholding the institution of slavery through decisions such as the Dred Scott case.\\n\\nUnable to answer based on given passages.\", 'Based on the given passages, the Supreme Court played an important role during the Civil War era. Passage 2 states that the exhibition \"War and In Peace\" examines the Supreme Court during this time period and the impact of the Civil War on the institution. Additionally, passage 3 mentions the significant Dred Scott decision made by the Court in 1857, which denied the freedom of a slave named Dred Scott and established that African Americans were not citizens. Therefore, the Supreme Court played a role in shaping the legal framework of the Civil War and its aftermath.', \"The Supreme Court played a significant role during the Civil War era, particularly in the Dred Scott case, which denied a slave's plea for freedom and established that African Americans were not considered citizens. The Court also had the power to review decisions made by state and local courts, as well as those made by Congress, further solidifying its influence during this time.\\n\\nHowever, it is worth noting that the Court's role during the Civil War was not explicitly defined in the Constitution. Instead, its influence was established over time through its appeal process and the precedents set in landmark cases such as Dred Scott.\\n\\nTherefore, based on the given passages, the Supreme Court's role during the Civil War was shaped by its ability to review decisions made by other branches of government and its power to set legal precedents, as demonstrated in the Dred Scott case.\"]\n"
     ]
    },
    {
     "name": "stderr",
     "output_type": "stream",
     "text": [
      "  1%|          | 12/989 [08:31<13:32:16, 49.88s/it]"
     ]
    },
    {
     "name": "stdout",
     "output_type": "stream",
     "text": [
      "['Snails play several roles in the environment. They serve as a food source for various animals like birds, turtles, fishes, insects, and crocodiles. They also contribute to the cycling of organic matter, which helps to build healthy, rich soil. However, they can also be detrimental to plants.', 'Unable to answer based on given passages.', 'Unable to answer based on given passages.', 'Based on the provided passages, here is what snails do for the environment:\\n\\nUnable to answer based on given passages. Passages 1 and 2 focus primarily on controlling or exterminating snails, rather than highlighting their environmental benefits. Passage 3 provides some information about the ecological roles of slugs, but does not specifically mention snails. Therefore, I cannot provide an answer based on the given passages.', 'Based on the given passages, snails do not appear to provide any direct benefits to the environment. Passage 1 describes snails as being detrimental to plants, and passage 2 mentions that they are a food source for various animals, but does not mention any positive effects they may have on the environment. Passage 3 discusses the importance of slugs (which are similar to snails) in cycling organic matter and providing food for wildlife, but does not specifically address snails. Therefore, unable to answer based on given passages.', \"Based on the given passages, it appears that snails have a role in the ecosystem as a food source for other animals, such as birds, turtles, fish, insects, and crocodiles. They also help to cycle organic matter, which contributes to building healthy, rich soil. Therefore, snails play a positive role in maintaining the balance of the environment.\\n\\nHowever, it's worth noting that the first passage mentions that snails can be detrimental to plants, suggesting that they can cause damage to gardens and crops. Nevertheless, this does not negate their overall beneficial impact on the environment.\\n\\nSo, to summarize, snails contribute positively to the environment by serving as a food source for other animals and helping to cycle organic matter, which benefits soil health.\"]\n"
     ]
    },
    {
     "name": "stderr",
     "output_type": "stream",
     "text": [
      "  1%|▏         | 13/989 [09:10<12:36:15, 46.49s/it]"
     ]
    },
    {
     "name": "stdout",
     "output_type": "stream",
     "text": [
      "['Fluid in the knee, also known as knee effusion or water on the knee, is caused by an excessive accumulation of fluid around the knee joint. This can be due to various causes such as arthritis, injury to the ligaments or meniscus, or when fluid collects in the bursa. A small amount of fluid might be manageable with rest and elevation of the leg, while using a knee support to aid fluid drainage. However, a larger amount of fluid can make the knee joint tight, resulting in difficulty bending the leg.', 'The fluid in the knee can cause swelling and tightness in the knee joint, making it difficult to bend the leg.', 'Based on the given passages, fluid in the knee can cause swelling and tightness in the knee joint, making it difficult to bend the leg. However, small amounts of fluid can be drained through resting the leg, sitting with the leg raised, and wearing a knee support. Larger amounts of fluid may require medical attention.', \"Based on the provided passages, here are some potential effects of fluid in the knee:\\n\\n1. Swelling: Fluid in the knee can cause swelling in or around the knee joint, which can be due to an excessive accumulation of fluid (passage 1).\\n2. Limited mobility: A larger amount of fluid in the knee can make the joint tight and limit the individual's ability to bend their leg (passage 3).\\n3. Pain: Knee effusion can cause pain in the knee joint, especially when walking or standing (passage 2).\\n4. Stiffness: Prolonged fluid buildup in the knee can lead to stiffness and limited range of motion (passage 3).\\n5. Reduced function: Severe knee effusion can impair the individual's ability to perform daily activities, such as walking, climbing stairs, or bending (passage 2).\\n\\nIt is important to note that these effects can vary depending on the severity and duration of the fluid buildup, as well as the underlying cause.\", 'Based on the given passages, excess fluid in the knee can cause swelling in or around the knee joint, which can lead to difficulties bending the leg and making the knee joint tight.', 'Based on the given passages, fluid in the knee can cause swelling, stiffness, and difficulty bending the leg. If the amount of fluid is small, resting the leg and elevating it can help drain the fluid. However, if the amount of fluid is large, it can make the knee joint tight and difficult to move.\\n\\nTherefore, the answer to the question \"What can fluid in knee do to you?\" is:\\n\\nFluid in the knee can cause swelling, stiffness, and difficulty bending the leg, and in severe cases, it can make the knee joint tight and difficult to move.']\n"
     ]
    },
    {
     "name": "stderr",
     "output_type": "stream",
     "text": [
      "  2%|▏         | 15/989 [10:29<11:14:53, 41.57s/it]"
     ]
    },
    {
     "name": "stdout",
     "output_type": "stream",
     "text": [
      "{\n",
      "  \"answer_0\": {\n",
      "    \"answer_only_asserts_no_document_answers\": false,\n",
      "    \"content_analysis_sentence_by_sentence\": [\n",
      "      {\n",
      "        \"sentence\": \"You can retrieve deleted web history on a PC by using a data recovery tool to recover these files, as they are saved on your PC’s hard drive just like other files.\",\n",
      "        \"criterion_1\": \"yes\",\n",
      "        \"criterion_2\": \"yes, passage 3\",\n",
      "        \"criterion_3\": \"yes\"\n",
      "      },\n",
      "      {\n",
      "        \"sentence\": \"Another method is to use Windows System Restore or Windows Registry, as Windows records user activities in log files.\",\n",
      "        \"criterion_1\": \"yes\",\n",
      "        \"criterion_2\": \"yes, passage 2\",\n",
      "        \"criterion_3\": \"yes\"\n",
      "      }\n",
      "    ],\n",
      "    \"faithfulness_justification\": \"All statements are faithful to the sources.\",\n",
      "    \"faithfulness\": 1\n",
      "  },\n",
      "  \"answer_1\": {\n",
      "    \"answer_only_asserts_no_document_answers\": false,\n",
      "    \"content_analysis_sentence_by_sentence\": [\n",
      "      {\n",
      "        \"sentence\": \"You can retrieve deleted web history on a PC by using a data recovery tool.\",\n",
      "        \"criterion_1\": \"yes\",\n",
      "        \"criterion_2\": \"yes, passage 3\",\n",
      "        \"criterion_3\": \"yes\"\n",
      "      },\n",
      "      {\n",
      "        \"sentence\": \"When you delete browsing history, it is actually deleted from your PC's hard drive.\",\n",
      "        \"criterion_1\": \"yes\",\n",
      "        \"criterion_2\": \"yes, passage 3\",\n",
      "        \"criterion_3\": \"yes\"\n",
      "      },\n",
      "      {\n",
      "        \"sentence\": \"However, data recovery tools can help recover these deleted files, just like other deleted data on your PC.\",\n",
      "        \"criterion_1\": \"yes\",\n",
      "        \"criterion_2\": \"yes, passage 3\",\n",
      "        \"criterion_3\": \"yes\"\n",
      "      }\n",
      "    ],\n",
      "    \"faithfulness_justification\": \"All statements are faithful to the sources.\",\n",
      "    \"faithfulness\": 1\n",
      "  },\n",
      "  \"answer_2\": {\n",
      "    \"answer_only_asserts_no_document_answers\": false,\n",
      "    \"content_analysis_sentence_by_sentence\": [\n",
      "      {\n",
      "        \"sentence\": \"To retrieve deleted web history on a PC, one method is to use a data recovery tool to search for and restore the deleted files.\",\n",
      "        \"criterion_1\": \"yes\",\n",
      "        \"criterion_2\": \"yes, passage 3\",\n",
      "        \"criterion_3\": \"yes\"\n",
      "      },\n",
      "      {\n",
      "        \"sentence\": \"The browser history is saved on the PC's hard drive and when it is deleted from the browser, it is also deleted from the PC.\",\n",
      "        \"criterion_1\": \"yes\",\n",
      "        \"criterion_2\": \"yes, passage 3\",\n",
      "        \"criterion_3\": \"yes\"\n",
      "      },\n",
      "      {\n",
      "        \"sentence\": \"Therefore, using a data recovery tool can help recover the lost history.\",\n",
      "        \"criterion_1\": \"yes\",\n",
      "        \"criterion_2\": \"yes, passage 3\",\n",
      "        \"criterion_3\": \"yes\"\n",
      "      },\n",
      "      {\n",
      "        \"sentence\": \"Another method is to use System Restore or access the Windows Registry to recover the deleted history files.\",\n",
      "        \"criterion_1\": \"yes\",\n",
      "        \"criterion_2\": \"yes, passage 2\",\n",
      "        \"criterion_3\": \"yes\"\n",
      "      }\n",
      "    ],\n",
      "    \"faithfulness_justification\": \"All statements are faithful to the sources.\",\n",
      "    \"faithfulness\": 1\n",
      "  },\n",
      "  \"answer_3\": {\n",
      "    \"answer_only_asserts_no_document_answers\": false,\n",
      "    \"content_analysis_sentence_by_sentence\": [\n",
      "      {\n",
      "        \"sentence\": \"Based on the provided passages, there are two methods to retrieve deleted web history on a PC:\",\n",
      "        \"criterion_1\": \"no\",\n",
      "        \"criterion_2\": \"N/A\",\n",
      "        \"criterion_3\": \"N/A\"\n",
      "      },\n",
      "      {\n",
      "        \"sentence\": \"1. Using System Restore: This method involves using Windows System Restore feature to recover deleted history.\",\n",
      "        \"criterion_1\": \"yes\",\n",
      "        \"criterion_2\": \"yes, passage 2\",\n",
      "        \"criterion_3\": \"yes\"\n",
      "      },\n",
      "      {\n",
      "        \"sentence\": \"Windows records a number of user activities in log files, including browsing history, and these logs can be recovered using this method.\",\n",
      "        \"criterion_1\": \"yes\",\n",
      "        \"criterion_2\": \"yes, passage 2\",\n",
      "        \"criterion_3\": \"yes\"\n",
      "      },\n",
      "      {\n",
      "        \"sentence\": \"2. Using a Data Recovery tool: This method involves using a third-party data recovery software to scan your PC's hard drive for deleted files, including browser history.\",\n",
      "        \"criterion_1\": \"yes\",\n",
      "        \"criterion_2\": \"yes, passage 3\",\n",
      "        \"criterion_3\": \"yes\"\n",
      "      },\n",
      "      {\n",
      "        \"sentence\": \"Unable to answer based on given passages.\",\n",
      "        \"criterion_1\": \"no\",\n",
      "        \"criterion_2\": \"N/A\",\n",
      "        \"criterion_3\": \"N/A\"\n",
      "      }\n",
      "    ],\n",
      "    \"faithfulness_justification\": \"Some statements are faithful to the sources, but the answer also includes an unsupported statement.\",\n",
      "    \"faithfulness\": 0\n",
      "  },\n",
      "  \"answer_4\": {\n",
      "    \"answer_only_asserts_no_document_answers\": false,\n",
      "    \"content_analysis_sentence_by_sentence\": [\n",
      "      {\n",
      "        \"sentence\": \"Based on the provided passages, here's how to retrieve deleted web history on a PC:\",\n",
      "        \"criterion_1\": \"no\",\n",
      "        \"criterion_2\": \"N/A\",\n",
      "        \"criterion_3\": \"N/A\"\n",
      "      },\n",
      "      {\n",
      "        \"sentence\": \"Method 1: Using System Restore\",\n",
      "        \"criterion_1\": \"no\",\n",
      "        \"criterion_2\": \"N/A\",\n",
      "        \"criterion_3\": \"N/A\"\n",
      "      },\n",
      "      {\n",
      "        \"sentence\": \"Open the Control Panel on your PC.\",\n",
      "        \"criterion_1\": \"no\",\n",
      "        \"criterion_2\": \"N/A\",\n",
      "        \"criterion_3\": \"N/A\"\n",
      "      },\n",
      "      {\n",
      "        \"sentence\": \"Click on \\\\\"System and Security\\\\\" or \\\\\"System\\\\\" (depending on your Windows version).\",\n",
      "        \"criterion_1\": \"no\",\n",
      "        \"criterion_2\": \"N/A\",\n",
      "        \"criterion_3\": \"N/A\"\n",
      "      },\n",
      "      ...\n",
      "    ],\n",
      "    \"faithfulness_justification\": \"The answer includes many unsupported statements and provides detailed instructions not found in the passages.\",\n",
      "    \"faithfulness\": 0\n",
      "  },\n",
      "  \"answer_5\": {\n",
      "    \"answer_only_asserts_no_document_answers\": false,\n",
      "    \"content_analysis_sentence_by_sentence\": [\n",
      "      {\n",
      "        \"sentence\": \"You can use data recovery tools to recover deleted web history on your PC.\",\n",
      "        \"criterion_1\": \"yes\",\n",
      "        \"criterion_2\": \"yes, passage 3\",\n",
      "        \"criterion_3\": \"yes\"\n",
      "      },\n",
      "      {\n",
      "        \"sentence\": \"These tools can scan your hard drive for deleted files and recover them, including your browser history.\",\n",
      "        \"criterion_1\": \"yes\",\n",
      "        \"criterion_2\": \"yes, passage 3\",\n",
      "        \"criterion_3\": \"yes\"\n",
      "      },\n",
      "      {\n",
      "        \"sentence\": \"One way to do this is by using System Restore, which is a built-in feature in Windows that allows you to restore your system to a previous state.\",\n",
      "        \"criterion_1\": \"yes\",\n",
      "        \"criterion_2\": \"yes, passage 2\",\n",
      "        \"criterion_3\": \"yes\"\n",
      "      },\n",
      "      {\n",
      "        \"sentence\": \"Another way is to use Windows Registry, which records user activities in log files that can be deleted by users concerned about privacy issues.\",\n",
      "        \"criterion_1\": \"yes\",\n",
      "        \"criterion_2\": \"yes, passage 2\",\n",
      "        \"criterion_3\": \"yes\"\n",
      "      }\n",
      "    ],\n",
      "    \"faithfulness_justification\": \"All statements are faithful to the sources.\",\n",
      "    \"faithfulness\": 1\n",
      "  }\n",
      "}\n",
      "['If you want to drive a truck with air brakes in PA, you would need to pass the Air Brakes test. If you are driving with a CDL-B or lower, an air brake endorsement is required. However, if you have a CDL-A, a separate endorsement is not necessary as air brakes are included. If you do not complete the air brakes portion of the written test, an L restriction would be placed on your CDL, prohibiting you from driving commercial vehicles with air brakes.', 'Based on the given passages, if the truck you are driving has air brakes, you would need an air brake endorsement in Pennsylvania.', 'Based on the given passages, if the truck you are driving has air brakes, you would need an air brake endorsement if you have a CDL-B or lower. However, if you have a CDL-A, air brakes are already included and no separate endorsement is required.', 'Based on the provided passages, if you are driving a truck with air brakes in Pennsylvania, you may need an air brake endorsement depending on the type of license you hold.\\n\\nAccording to passage 2, if you have a CDL-A (Class A) license, you do not need a separate air brake endorsement since air brakes are included as part of the CDL-A. However, if you have a lower class of license (CDL-B or lower), and the vehicle you will be driving is equipped with air brakes, you will need an air brake endorsement.\\n\\nOn the other hand, passage 3 states that if you are a CDL driver and you do not complete the air brakes portion of the written test or do not test in a vehicle equipped with air brakes, you will receive an L restriction on your CDL, which prohibits you from driving commercial vehicles with air brakes.\\n\\nTherefore, without additional information, it is unclear whether you specifically need an air brake endorsement for the truck you are driving in Pennsylvania. If you have any further questions or concerns, please feel free to ask.', 'Based on the given passages, I can answer your question. According to passage 2, if you are driving a truck or bus with air brakes, you do not need a separate endorsement for an air brake if you have a CDL-A. However, if you are driving a CDL-B or lower and the vehicle you are driving is equipped with air brakes, then you need an air brake endorsement. Therefore, if you are driving a truck with air brakes in Pennsylvania and you have a CDL-A, you do not need an air brake endorsement.', 'Based on the given passages, the answer to the question is: Yes, if the truck you are driving has air brakes, you need an endorsement in PA. According to passage 2, if the vehicle you will be driving is equipped with air brakes, then you need an air brake endorsement, even if you have a CDL-A. Passage 3 also states that if a CDL driver does not complete the air brakes portion of the written test and tests in a vehicle equipped with air brakes, they will receive an L restriction on their CDL, prohibiting them from driving commercial vehicles with air brakes. Therefore, it is necessary to obtain an endorsement for air brakes when driving a truck with air brakes in PA.']\n"
     ]
    },
    {
     "name": "stderr",
     "output_type": "stream",
     "text": [
      "  2%|▏         | 17/989 [11:52<10:46:33, 39.91s/it]"
     ]
    },
    {
     "name": "stdout",
     "output_type": "stream",
     "text": [
      "{\n",
      "  \"answer_0\": {\n",
      "    \"answer_only_asserts_no_document_answers\": false,\n",
      "    \"content_analysis_sentence_by_sentence\": [\n",
      "      {\n",
      "        \"sentence\": \"To quickly get rid of mice, you need to take immediate action.\",\n",
      "        \"criterion_1\": \"True\",\n",
      "        \"criterion_2\": \"True\",\n",
      "        \"criterion_3\": \"True\" ([1])\n",
      "      },\n",
      "      {\n",
      "        \"sentence\": \"You can start by identifying all possible entry points that mice use to get into your house.\",\n",
      "        \"criterion_1\": \"False\",\n",
      "        \"criterion_2\": \"False\",\n",
      "        \"criterion_3\": \"N/A\"\n",
      "      },\n",
      "      {\n",
      "        \"sentence\": \"Once identified, consider putting steel wool inside these holes or vents before sealing them off.\",\n",
      "        \"criterion_1\": \"True\",\n",
      "        \"criterion_2\": \"True\",\n",
      "        \"criterion_3\": \"True\" ([2])\n",
      "      },\n",
      "      {\n",
      "        \"sentence\": \"This will prevent the mice from using these paths to re-enter your home.\",\n",
      "        \"criterion_1\": \"True\",\n",
      "        \"criterion_2\": \"True\",\n",
      "        \"criterion_3\": \"True\" ([2])\n",
      "      },\n",
      "      {\n",
      "        \"sentence\": \"By doing so, you eliminate their access to food or shelter in your house, which can help in getting rid of them quickly.\",\n",
      "        \"criterion_1\": \"True\",\n",
      "        \"criterion_2\": \"True\",\n",
      "        \"criterion_3\": \"True\" ([3])\n",
      "      }\n",
      "    ],\n",
      "    \"faithfulness_justification\": \"The answer is mostly faithful, but one sentence lacks a reference.\",\n",
      "    \"faithfulness\": 0\n",
      "  },\n",
      "  \"answer_1\": {\n",
      "    \"answer_only_asserts_no_document_answers\": false,\n",
      "    \"content_analysis_sentence_by_sentence\": [\n",
      "      {\n",
      "        \"sentence\": \"To quickly get rid of mice, it is important to take immediate action as they can quickly infest your home.\",\n",
      "        \"criterion_1\": \"True\",\n",
      "        \"criterion_2\": \"True\",\n",
      "        \"criterion_3\": \"True\" ([1])\n",
      "      },\n",
      "      {\n",
      "        \"sentence\": \"One effective method is to seal off any entry points that mice can use to enter your house, such as pipes and vents.\",\n",
      "        \"criterion_1\": \"True\",\n",
      "        \"criterion_2\": \"True\",\n",
      "        \"criterion_3\": \"True\" ([2])\n",
      "      },\n",
      "      {\n",
      "        \"sentence\": \"Placing steel wool inside these openings before sealing them can prevent mice from reentering.\",\n",
      "        \"criterion_1\": \"True\",\n",
      "        \"criterion_2\": \"True\",\n",
      "        \"criterion_3\": \"True\" ([2])\n",
      "      },\n",
      "      {\n",
      "        \"sentence\": \"Additionally, eliminating any potential food sources and shelter can help deter mice from your home.\",\n",
      "        \"criterion_1\": \"True\",\n",
      "        \"criterion_2\": \"True\",\n",
      "        \"criterion_3\": \"True\" ([3])\n",
      "      }\n",
      "    ],\n",
      "    \"faithfulness_justification\": \"The answer is faithful.\",\n",
      "    \"faithfulness\": 1\n",
      "  },\n",
      "  \"answer_2\": {\n",
      "    \"answer_only_asserts_no_document_answers\": false,\n",
      "    \"content_analysis_sentence_by_sentence\": [\n",
      "      {\n",
      "        \"sentence\": \"To quickly get rid of mice, you should take immediate action by sealing off entry points that mice could use to enter your home.\",\n",
      "        \"criterion_1\": \"True\",\n",
      "        \"criterion_2\": \"True\",\n",
      "        \"criterion_3\": \"True\" ([1])\n",
      "      },\n",
      "      {\n",
      "        \"sentence\": \"Steel wool is a good material to use for this purpose as it will prevent mice from using the hole to get back into your house.\",\n",
      "        \"criterion_1\": \"True\",\n",
      "        \"criterion_2\": \"True\",\n",
      "        \"criterion_3\": \"True\" ([2])\n",
      "      },\n",
      "      {\n",
      "        \"sentence\": \"Additionally, getting rid of rats and mice involves eliminating any sources of food and shelter for these rodents and preventing them from returning.\",\n",
      "        \"criterion_1\": \"True\",\n",
      "        \"criterion_2\": \"True\",\n",
      "        \"criterion_3\": \"True\" ([3])\n",
      "      }\n",
      "    ],\n",
      "    \"faithfulness_justification\": \"The answer is faithful.\",\n",
      "    \"faithfulness\": 1\n",
      "  },\n",
      "  \"answer_3\": {\n",
      "    \"answer_only_asserts_no_document_answers\": false,\n",
      "    \"content_analysis_sentence_by_sentence\": [\n",
      "      {\n",
      "        \"sentence\": \"Based on the provided passages, here are some ways to quickly get rid of mice:\",\n",
      "        \"criterion_1\": \"False\",\n",
      "        \"criterion_2\": \"False\",\n",
      "        \"criterion_3\": \"N/A\"\n",
      "      },\n",
      "      {\n",
      "        \"sentence\": \"1. Take immediate action to get rid of mice as soon as possible, as they can quickly take up residence in your home and start nesting (Passage 1).\",\n",
      "        \"criterion_1\": \"True\",\n",
      "        \"criterion_2\": \"True\",\n",
      "        \"criterion_3\": \"True\" ([1])\n",
      "      },\n",
      "      {\n",
      "        \"sentence\": \"2. Seal off all entry points into your home, including holes around pipes and vents, using steel wool to prevent mice from getting back in (Passage 2).\",\n",
      "        \"criterion_1\": \"True\",\n",
      "        \"criterion_2\": \"True\",\n",
      "        \"criterion_3\": \"True\" ([2])\n",
      "      },\n",
      "      {\n",
      "        \"sentence\": \"3. Get rid of any sources of food for mice and rats, as they will quickly take advantage of any food left behind by humans (Passage 3).\",\n",
      "        \"criterion_1\": \"True\",\n",
      "        \"criterion_2\": \"True\",\n",
      "        \"criterion_3\": \"True\" ([3])\n",
      "      }\n",
      "    ],\n",
      "    \"faithfulness_justification\": \"The answer is faithful.\",\n",
      "    \"faithfulness\": 1\n",
      "  },\n",
      "  \"answer_4\": {\n",
      "    \"answer_only_asserts_no_document_answers\": false,\n",
      "    \"content_analysis_sentence_by_sentence\": [\n",
      "      {\n",
      "        \"sentence\": \"Based on the given passages, here's a brief answer to the question 'How to quickly get rid of mice':\",\n",
      "        \"criterion_1\": \"False\",\n",
      "        \"criterion_2\": \"False\",\n",
      "        \"criterion_3\": \"N/A\"\n",
      "      },\n",
      "      {\n",
      "        \"sentence\": \"To quickly get rid of mice, take immediate action and seal all entry points into your home, including holes around pipes, vents, and doors.\",\n",
      "        \"criterion_1\": \"True\",\n",
      "        \"criterion_2\": \"True\",\n",
      "        \"criterion_3\": \"True\" ([1, 2])\n",
      "      },\n",
      "      {\n",
      "        \"sentence\": \"Use steel wool pads to block their entry points and prevent them from nesting.\",\n",
      "        \"criterion_1\": \"True\",\n",
      "        \"criterion_2\": \"True\",\n",
      "        \"criterion_3\": \"True\" ([2])\n",
      "      },\n",
      "      {\n",
      "        \"sentence\": \"Additionally, eliminate any sources of food and shelter to discourage them from staying.\",\n",
      "        \"criterion_1\": \"True\",\n",
      "        \"criterion_2\": \"True\",\n",
      "        \"criterion_3\": \"True\" ([3])\n",
      "      },\n",
      "      {\n",
      "        \"sentence\": \"Therefore, the three steps to quickly get rid of mice are:\",\n",
      "        \"criterion_1\": \"False\",\n",
      "        \"criterion_2\": \"False\",\n",
      "        \"criterion_3\": \"N/A\"\n",
      "      },\n",
      "      {\n",
      "        \"sentence\": \"1. Seal all entry points.\",\n",
      "        \"criterion_1\": \"True\",\n",
      "        \"criterion_2\": \"True\",\n",
      "        \"criterion_3\": \"True\" ([1, 2])\n",
      "      },\n",
      "      {\n",
      "        \"sentence\": \"2. Eliminate food sources and shelter.\",\n",
      "        \"criterion_1\": \"True\",\n",
      "        \"criterion_2\": \"True\",\n",
      "        \"criterion_3\": \"True\" ([3])\n",
      "      },\n",
      "      {\n",
      "        \"sentence\": \"3. Use steel wool pads to block entry points.\",\n",
      "        \"criterion_1\": \"True\",\n",
      "        \"criterion_2\": \"True\",\n",
      "        \"criterion_3\": \"True\" ([2])\n",
      "      }\n",
      "    ],\n",
      "    \"faithfulness_justification\": \"The answer is mostly faithful, but some sentences lack references or are paraphrased.\",\n",
      "    \"faithfulness\": 0\n",
      "  },\n",
      "  \"answer_5\": {\n",
      "    \"answer_only_asserts_no_document_answers\": false,\n",
      "    \"content_analysis_sentence_by_sentence\": [\n",
      "      {\n",
      "        \"sentence\": \"To quickly get rid of mice, take immediate action and seal all entry points, including pipes and vents, using steel wool pads to prevent mice from getting back in.\",\n",
      "        \"criterion_1\": \"True\",\n",
      "        \"criterion_2\": \"True\",\n",
      "        \"criterion_3\": \"True\" ([1, 2])\n",
      "      },\n",
      "      {\n",
      "        \"sentence\": \"Eliminate sources of food and shelter, and consider using humane mouse traps or natural deterrents like peppermint oil to encourage mice to leave.\",\n",
      "        \"criterion_1\": \"False\",\n",
      "        \"criterion_2\": \"False\",\n",
      "        \"criterion_3\": \"N/A\"\n",
      "      },\n",
      "      {\n",
      "        \"sentence\": \"Prevent their return by keeping your home clean and well-maintained.\",\n",
      "        \"criterion_1\": \"False\",\n",
      "        \"criterion_2\": \"False\",\n",
      "        \"criterion_3\": \"N/A\"\n",
      "      }\n",
      "    ],\n",
      "    \"faithfulness_justification\": \"The answer is not faithful due to some sentences lacking references or not being supported by the passages.\",\n",
      "    \"faithfulness\": 0\n",
      "  }\n",
      "}\n",
      "['Family planning methods for limiting the number of children include the use of contraceptive methods and withdrawal method, where coitus is initiated but the penis is deliberately withdrawn before ejaculation. Additionally, family planning through contraception can prevent unintended pregnancy, thereby limiting the number of children.', 'Passage 2 mentions that family planning involves limiting the number of children born through various methods such as birth control, birth prevention, coitus interruptus (withdrawal method), and onanism (withdrawal before ejaculation). Therefore, family planning methods for limiting the number of children include the use of contraceptive methods and the practice of withdrawal before ejaculation.', \"Based on the given passages, family planning methods for limiting the number of children include contraceptive methods such as coitus interruptus, the pulling out method, withdrawal method, onanism, and other forms of birth control like the pill, condoms, patches, etc. Additionally, there are surgical procedures available like vasectomy and tubal ligation that can permanently prevent conception. However, it's important to note that family planning also encompasses more than just limiting the number of children and includes methods for spacing and timing of births as well.\", 'Based on the provided passages, here are some family planning methods for limiting the number of children:\\n\\n1. Contraceptive methods: These include various forms of birth control such as condoms, the pill, intrauterine devices (IUDs), and sterilization. Passage 1 mentions the use of contraceptive methods for family planning.\\n2. Withdrawal method: This involves withdrawing from sexual intercourse before ejaculation to prevent pregnancy. Passage 2 refers to this method as \"withdrawal-a method of birth control in which coitus is initiated but the penis is deliberately withdrawn before ejaculation.\"\\n3. Coitus interruptus: This is another form of withdrawal method where the male partner withdraws from sexual intercourse before ejaculation to prevent pregnancy. Passage 2 also mentions this method.\\n4. Birth prevention: Passage 2 uses the term \"birth prevention\" as a synonym for family planning.\\n\\nIt\\'s worth noting that these methods are not exhaustive and there may be other effective ways to limit the number of children depending on individual circumstances and preferences. However, based on the information provided in the given passages, these are some of the most commonly mentioned methods of family planning.', \"Based on the provided passages, here are some family planning methods for limiting the number of children:\\n\\n1. Birth control or contraception: This includes various methods such as coitus interruptus (pulling out), withdrawal method, and other forms of barrier methods.\\n2. Hormonal methods: These include oral contraceptives, injectables, and intrauterine devices (IUDs) that prevent ovulation and pregnancy.\\n3. Intrauterine contraceptives (IUCs): These are long-acting reversible contraceptives that are inserted into the uterus to prevent pregnancy.\\n4. Sterilization: This is a permanent form of birth control where the fallopian tubes are blocked or cut in women, or the vas deferens is blocked or cut in men.\\n5. Natural family planning: This involves tracking the woman's menstrual cycle and basal body temperature to determine the fertile days and avoid intercourse during those times.\\n\\nIt is important to note that these methods can also help with spacing the birth of children, not just limiting the number of children.\", 'Based on the given passages, the following are family planning methods for limiting the number of children:\\n\\n1. Contraceptive methods\\n2. Coitus interruptus (withdrawal method)\\n3. Onanism (masturbation)\\n4. Withdrawal-a method of birth control in which coitus is initiated but the penis is deliberately withdrawn before ejaculation.\\n\\nTherefore, the answer is:\\n\\n1. Contraceptive methods\\n2. Coitus interruptus\\n3. Onanism\\n4. Withdrawal method']\n"
     ]
    },
    {
     "name": "stderr",
     "output_type": "stream",
     "text": [
      "  2%|▏         | 19/989 [13:25<11:03:10, 41.02s/it]"
     ]
    },
    {
     "name": "stdout",
     "output_type": "stream",
     "text": [
      "{\n",
      "\"answer_0\": {\n",
      "\"answer_only_asserts_no_document_answers\": false,\n",
      "\"content_analysis_sentence_by_sentence\": [\n",
      "{\n",
      "\"sentence\": \"To change a Sim's appearance in Sims 4, you can use any mirror in the game.\",\n",
      "\"criterion_1\": \"Reference is provided\",\n",
      "\"criterion_2\": \"Reference 3\",\n",
      "\"criterion_3\": \"Accurate\"\n",
      "},\n",
      "{\n",
      "\"sentence\": \"Select the Sim you want to change, click on the mirror, and choose Change Appearance.\",\n",
      "\"criterion_1\": \"Reference is provided\",\n",
      "\"criterion_2\": \"Reference 3\",\n",
      "\"criterion_3\": \"Accurate\"\n",
      "},\n",
      "{\n",
      "\"sentence\": \"Your Sim will walk to the mirror, and a window will open allowing you to change their makeup, accessories, facial hair, and eyebrows.\",\n",
      "\"criterion_1\": \"Reference is provided\",\n",
      "\"criterion_2\": \"Reference 3\",\n",
      "\"criterion_3\": \"Accurate\"\n",
      "},\n",
      "{\n",
      "\"sentence\": \"You can also change the color of a Sim's eyebrows, stubble, and facial hair independently of the Sim's hair color.\",\n",
      "\"criterion_1\": \"Reference is provided\",\n",
      "\"criterion_2\": \"Reference 1\",\n",
      "\"criterion_3\": \"Accurate\"\n",
      "},\n",
      "{\n",
      "\"sentence\": \"Alternatively, you can access the Change Appearance dialog through vanities and the Ug-No-More Makeover Station.\",\n",
      "\"criterion_1\": \"Reference is provided\",\n",
      "\"criterion_2\": \"Reference 2\",\n",
      "\"criterion_3\": \"Accurate\"\n",
      "}\n",
      "],\n",
      "\"faithfulness_justification\": \"All statements are accurate and supported by the provided references.\",\n",
      "\"faithfulness\": 1\n",
      "},\n",
      "\"answer_1\": {\n",
      "\"answer_only_asserts_no_document_answers\": false,\n",
      "\"content_analysis_sentence_by_sentence\": [\n",
      "{\n",
      "\"sentence\": \"To change the appearance in The Sims 4, select the sim you want to change and click on a mirror.\",\n",
      "\"criterion_1\": \"Reference is provided\",\n",
      "\"criterion_2\": \"Reference 3\",\n",
      "\"criterion_3\": \"Accurate\"\n",
      "},\n",
      "{\n",
      "\"sentence\": \"Choose the \\\\\"Change Appearance\\\\\" option and a window will open where you can modify their makeup, accessories, facial hair, and eyebrows.\",\n",
      "\"criterion_1\": \"Reference is provided\",\n",
      "\"criterion_2\": \"Reference 3\",\n",
      "\"criterion_3\": \"Accurate\"\n",
      "},\n",
      "{\n",
      "\"sentence\": \"This option can also be accessed through vanities and the Ug-No-More Makeover Station.\",\n",
      "\"criterion_1\": \"Reference is provided\",\n",
      "\"criterion_2\": \"Reference 2\",\n",
      "\"criterion_3\": \"Accurate\"\n",
      "}\n",
      "],\n",
      "\"faithfulness_justification\": \"All statements are accurate and supported by the provided references.\",\n",
      "\"faithfulness\": 1\n",
      "},\n",
      "\"answer_2\": {\n",
      "\"answer_only_asserts_no_document_answers\": false,\n",
      "\"content_analysis_sentence_by_sentence\": [\n",
      "{\n",
      "\"sentence\": \"To change the appearance of a Sim in The Sims 4, follow these steps:\",\n",
      "\"criterion_1\": \"No reference provided\",\n",
      "\"criterion_2\": \"N/A\",\n",
      "\"criterion_3\": \"N/A\"\n",
      "},\n",
      "{\n",
      "\"sentence\": \"Select the Sim you want to change using the mouse or keyboard shortcut.\",\n",
      "\"criterion_1\": \"No reference provided\",\n",
      "\"criterion_2\": \"N/A\",\n",
      "\"criterion_3\": \"N/A\"\n",
      "},\n",
      "{\n",
      "\"sentence\": \"Look for a mirror in the game, either Maxis or custom.\",\n",
      "\"criterion_1\": \"Reference is provided\",\n",
      "\"criterion_2\": \"Reference 3\",\n",
      "\"criterion_3\": \"Accurate\"\n",
      "},\n",
      "...\n",
      "],\n",
      "\"faithfulness_justification\": \"Some statements do not provide references or are not supported by the provided references.\",\n",
      "\"faithfulness\": 0\n",
      "},\n",
      "\"answer_3\": {\n",
      "\"answer_only_asserts_no_document_answers\": true,\n",
      "\"content_analysis_sentence_by_sentence\": [],\n",
      "\"faithfulness_justification\": \"The answer only asserts that no document answers the question without providing any related information.\",\n",
      "\"faithfulness\": null\n",
      "},\n",
      "\"answer_4\": {\n",
      "\"answer_only_asserts_no_document_answers\": false,\n",
      "\"content_analysis_sentence_by_sentence\": [\n",
      "{\n",
      "\"sentence\": \"To change a Sim's appearance in The Sims 4, you can follow these steps:\",\n",
      "\"criterion_1\": \"No reference provided\",\n",
      "\"criterion_2\": \"N/A\",\n",
      "\"criterion_3\": \"N/A\"\n",
      "},\n",
      "{\n",
      "\"sentence\": \"Select the Sim you want to change using the mouse cursor.\",\n",
      "\"criterion_1\": \"No reference provided\",\n",
      "\"criterion_2\": \"N/A\",\n",
      "\"criterion_3\": \"N/A\"\n",
      "},\n",
      "{\n",
      "\"sentence\": \"Click on any mirror in the game, such as a vanity or the Ug-No-More Makeover Station.\",\n",
      "\"criterion_1\": \"Reference is provided\",\n",
      "\"criterion_2\": \"Reference 2\",\n",
      "\"criterion_3\": \"Accurate\"\n",
      "},\n",
      "...\n",
      "],\n",
      "\"faithfulness_justification\": \"Some statements do not provide references or are not supported by the provided references.\",\n",
      "\"faithfulness\": 0\n",
      "},\n",
      "\"answer_5\": {\n",
      "\"answer_only_asserts_no_document_answers\": false,\n",
      "\"content_analysis_sentence_by_sentence\": [\n",
      "{\n",
      "\"sentence\": \"To change a Sim's appearance in The Sims 4, you can use the \\\\\"Change Appearance\\\\\" option in the Game Menu or interact with a mirror in the game.\",\n",
      "\"criterion_1\": \"No reference provided\",\n",
      "\"criterion_2\": \"N/A\",\n",
      "\"criterion_3\": \"N/A\"\n",
      "},\n",
      "{\n",
      "\"sentence\": \"Using a mirror, select the Sim you want to change and choose \\\\\"Change Appearance\\\\\" from the menu.\",\n",
      "\"criterion_1\": \"Reference is provided\",\n",
      "\"criterion_2\": \"Reference 3\",\n",
      "\"criterion_3\": \"Accurate\"\n",
      "},\n",
      "{\n",
      "\"sentence\": \"This will open a window where you can modify the Sim's makeup, accessories, facial hair, and eyebrows.\",\n",
      "\"criterion_1\": \"Reference is provided\",\n",
      "\"criterion_2\": \"Reference 3\",\n",
      "\"criterion_3\": \"Accurate\"\n",
      "},\n",
      "...\n",
      "],\n",
      "\"faithfulness_justification\": \"Some statements do not provide references or are not supported by the provided references.\",\n",
      "\"faithfulness\": 0\n",
      "}\n",
      "}\n",
      "['Unable to answer based on given passages.', 'A Nash equilibrium is a solution concept in game theory where each player in a game has chosen a strategy that is a best response to the strategies chosen by the other players. In other words, no player has an incentive to unilaterally deviate from their chosen strategy.\\n\\nOn the other hand, a maximin solution is a strategy that maximizes the minimum payoff for a player in a game. This means that a player chooses a strategy that ensures the highest possible payoff in the worst-case scenario, assuming the other players are playing optimally.\\n\\nBased on the given passages, it can be inferred that a Nash equilibrium can involve mixed strategies, where players choose their strategies probabilistically, while a maximin solution focuses on the worst-case scenario and does not necessarily involve mixed strategies. However, the passages do not explicitly compare the two concepts, so the answer is not fully conclusive.', 'Unable to answer based on given passages.', \"Based on the provided passages, a Nash equilibrium and a game minimax solution are different concepts in game theory. A Nash equilibrium is a concept that describes a stable state where no player can improve their payoff by unilaterally changing their strategy, assuming all other players keep their strategies unchanged. In contrast, a game minimax solution is a specific instance of the Nash theorem that assumes a two-player zero-sum game. It is a profile of strategies that are optimal for both players, given the other player's strategy. The minimax theorem states that if a game has a value, then there exists a mixed strategy equilibrium, which means that every feasible strategy profile leads to an equilibrium outcome. However, not all games necessarily have a mixed strategy Nash equilibrium, as stated in passage 1. Therefore, while both concepts are related to game theory, they are distinct ideas that serve different purposes in analyzing strategic interactions between agents.\", 'Based on the provided passages, here is how a Nash equilibrium differs from a game minimax solution:\\n\\nA Nash equilibrium is a set of strategies for each player that no player can improve upon by unilaterally changing their strategy, assuming all other players keep their strategies unchanged. In contrast, a game minimax solution is a strategy that maximizes the minimum payoff that a player can expect to achieve, given the strategies of the other players.\\n\\nThe main difference between the two concepts is that a Nash equilibrium does not require the existence of a value function or a unique optimal strategy for each player, whereas a game minimax solution is based on the concept of a value function and the optimal strategy for each player.\\n\\nAccording to Passage 1, a game may have a Nash equilibrium but not have a mixed strategy equilibrium, implying that the concept of a Nash equilibrium is more general than the concept of a mixed strategy equilibrium. Additionally, Passage 3 confirms that a game may not have a mixed strategy Nash equilibrium even if it has a value.\\n\\nTherefore, a Nash equilibrium is a broader concept that encompasses a range of possible outcomes, while a game minimax solution is a specific instance of a Nash equilibrium that maximizes the minimum payoff for each player.', 'A Nash equilibrium differs from a game minimax solution in that the former does not necessarily require the game to have a value, whereas the latter assumes that the game has a value and focuses on finding the optimal strategy that maximizes the payoff for one player while considering the possible moves of the other player. In other words, a Nash equilibrium is a broader concept that can apply to games without a known value, whereas a minimax solution is a specific type of strategy that aims to maximize the payoff in a game with a known value.\\n\\nTherefore, the main difference between a Nash equilibrium and a game minimax solution is that the former does not assume the existence of a game value, whereas the latter assumes that a game value exists and focuses on finding the optimal strategy to maximize it.']\n"
     ]
    },
    {
     "name": "stderr",
     "output_type": "stream",
     "text": [
      "  2%|▏         | 21/989 [14:49<10:44:09, 39.93s/it]"
     ]
    },
    {
     "name": "stdout",
     "output_type": "stream",
     "text": [
      "{\n",
      "\"answer_0\": {\n",
      "\"answer_only_asserts_no_document_answers\": true,\n",
      "\"content_analysis_sentence_by_sentence\": [],\n",
      "\"faithfulness_justification\": \"The answer only states that it is unable to answer based on the given passages, without providing any related information.\",\n",
      "\"faithfulness\": null\n",
      "},\n",
      "\"answer_1\": {\n",
      "\"answer_only_asserts_no_document_answers\": false,\n",
      "\"content_analysis_sentence_by_sentence\": [\n",
      "{\n",
      "\"sentence\": \"Accuracy of measurements: Errors in measuring height and weight can lead to inaccurate BMI calculations.\",\n",
      "\"criterion_1\": \"No reference is provided for this statement.\",\n",
      "\"criterion_2\": \"N/A\",\n",
      "\"criterion_3\": \"N/A\"\n",
      "},\n",
      "...\n",
      "],\n",
      "\"faithfulness_justification\": \"None of the statements made by the answer are supported by the provided references.\",\n",
      "\"faithfulness\": 0\n",
      "},\n",
      "\"answer_2\": {\n",
      "\"answer_only_asserts_no_document_answers\": true,\n",
      "\"content_analysis_sentence_by_sentence\": [],\n",
      "\"faithfulness_justification\": \"The answer only states that it is unable to answer based on the given passages, without providing any related information.\",\n",
      "\"faithfulness\": null\n",
      "},\n",
      "\"answer_3\": {\n",
      "\"answer_only_asserts_no_document_answers\": false,\n",
      "\"content_analysis_sentence_by_sentence\": [\n",
      "{\n",
      "\"sentence\": \"Confounding variables: The passage notes that BMI was introduced to eliminate the confounding effects of height on weight, but it does not account for other factors such as muscle mass or body composition.\",\n",
      "\"criterion_1\": \"A reference is provided (Passage 2).\",\n",
      "\"criterion_2\": \"The reference is correct.\",\n",
      "\"criterion_3\": \"The sentence accurately summarizes the content of the reference.\"\n",
      "},\n",
      "...\n",
      "],\n",
      "\"faithfulness_justification\": \"All statements made by the answer are supported by the provided references, and accurately summarize the content of the references.\",\n",
      "\"faithfulness\": 1\n",
      "},\n",
      "\"answer_4\": {\n",
      "\"answer_only_asserts_no_document_answers\": false,\n",
      "\"content_analysis_sentence_by_sentence\": [\n",
      "{\n",
      "\"sentence\": \"Confounding effects of height: As mentioned in Passage 2, the BMI was introduced to eliminate the confounding effects of height on weight.\",\n",
      "\"criterion_1\": \"A reference is provided (Passage 2).\",\n",
      "\"criterion_2\": \"The reference is correct.\",\n",
      "\"criterion_3\": \"The sentence accurately summarizes the content of the reference.\"\n",
      "},\n",
      "...\n",
      "],\n",
      "\"faithfulness_justification\": \"All statements made by the answer are supported by the provided references, and accurately summarize the content of the references.\",\n",
      "\"faithfulness\": 1\n",
      "},\n",
      "\"answer_5\": {\n",
      "\"answer_only_asserts_no_document_answers\": false,\n",
      "\"content_analysis_sentence_by_sentence\": [\n",
      "{\n",
      "\"sentence\": \"Measurement errors: Inaccurate measurement of height and weight can lead to incorrect calculation of BMI and WHtR.\",\n",
      "\"criterion_1\": \"No reference is provided for this statement.\",\n",
      "\"criterion_2\": \"N/A\",\n",
      "\"criterion_3\": \"N/A\"\n",
      "},\n",
      "...\n",
      "],\n",
      "\"faithfulness_justification\": \"Some statements made by the answer are not supported by the provided references.\",\n",
      "\"faithfulness\": 0\n",
      "}\n",
      "}\n",
      "[\"If your Sperrys get wet, it's usually not a big deal. However, if they are light tan, water might stain them. If you washed your Sperrys with detergent, it's important to use a leather conditioner afterwards as detergent can dry the leather out. The conditioner helps to revitalize the leather by infusing moisture back into it. For stains, you can use a suede bar & leather brush.\", 'Passage 2 suggests that it is not a big deal if Sperry shoes get wet, but there might be a possibility of staining for light tan ones.', \"Based on the given passages, if your Sperry shoes get wet, it is recommended to use a leather conditioner to help revitalize the leather and infuse moisture back into it. This is especially important if you wash your shoes with detergent, as it tends to dry out the leather. If you don't have a leather conditioner on hand, you can use a suede bar or leather brush to clean the shoes. It's best to avoid getting light tan Sperry shoes wet, as water might stain them. However, if you do get them wet, using a suede bar or leather brush should help remove any stains.\", \"Based on the provided passages, if you got your Sperry shoes wet, here is what you can do:\\n\\nIf you have the regular, dark brown Sperry shoes, you don't need to worry about getting them wet as they won't be affected. However, if you have the light tan ones, there is a chance of water staining them, but it's unlikely. In either case, you can use a suede bar and leather brush to clean the shoes and remove any stains. These tools are available for purchase at a cost of $5-$10.\\n\\nUnable to answer based on given passages.\", 'Based on the given passages, here is the answer to the question:\\n\\nIf you get your Sperrys wet, you should use a leather conditioner to revitalize the leather and infuse moisture back into it. According to passage 1, using a leather conditioner is especially important if you washed your Sperry shoes with detergent, as detergent can dry out the leather. Additionally, passage 3 suggests using a suede bar and leather brush or a cleaning toothbrush to remove any stains from the shoes. However, if you have light tan Sperries, there may be a risk of water staining them, so be cautious.', \"Based on the given passages, here's a brief answer to the question:\\n\\nIf you got your Sperry shoes wet, you can use a leather conditioner to revitalize the leather and infuse moisture back into it. You can also use a suede bar and leather brush or a cleaning toothbrush to remove any stains or dirt. However, if you have the light tan ones, water might stain them, so be cautious.\"]\n"
     ]
    },
    {
     "name": "stderr",
     "output_type": "stream",
     "text": [
      "  2%|▏         | 23/989 [16:12<10:36:44, 39.55s/it]"
     ]
    },
    {
     "name": "stdout",
     "output_type": "stream",
     "text": [
      "{\n",
      "\"answer_0\": {\n",
      "\"answer_only_asserts_no_document_answers\": false,\n",
      "\"content_analysis_sentence_by_sentence\": [\n",
      "{\n",
      "\"sentence\": \"Republicans use a combination of winner-take-all and proportional allocation to allocate delegates in their presidential nominating procedure.\",\n",
      "\"criterion_1\": \"yes\",\n",
      "\"criterion_2\": \"passage 1\",\n",
      "\"criterion_3\": \"correct\"\n",
      "}\n",
      "],\n",
      "\"faithfulness_justification\": \"The response cites the correct passage and accurately summarizes the information.\",\n",
      "\"faithfulness\": 1\n",
      "},\n",
      "\"answer_1\": {\n",
      "\"answer_only_asserts_no_document_answers\": false,\n",
      "\"content_analysis_sentence_by_sentence\": [\n",
      "{\n",
      "\"sentence\": \"Republicans use a combination of winner-take-all and proportional allocation to allocate delegates in their presidential nominating procedure.\",\n",
      "\"criterion_1\": \"yes\",\n",
      "\"criterion_2\": \"passage 1\",\n",
      "\"criterion_3\": \"correct\"\n",
      "}\n",
      "],\n",
      "\"faithfulness_justification\": \"The response cites the correct passage and accurately summarizes the information.\",\n",
      "\"faithfulness\": 1\n",
      "},\n",
      "\"answer_2\": {\n",
      "\"answer_only_asserts_no_document_answers\": false,\n",
      "\"content_analysis_sentence_by_sentence\": [\n",
      "{\n",
      "\"sentence\": \"Republicans use \\\\\"winning the majority of delegates\\\\\" to allocate delegates in their presidential nominating procedure quizlet.\",\n",
      "\"criterion_1\": \"no\",\n",
      "\"criterion_2\": \"none\",\n",
      "\"criterion_3\": \"incorrect\"\n",
      "},\n",
      "{\n",
      "\"sentence\": \"Passage 2 and passage 3 both indicate that a candidate must win at least 1,191 delegates at the convention to become the nominee, and that winning the majority of delegates can achieve this.\",\n",
      "\"criterion_1\": \"yes\",\n",
      "\"criterion_2\": \"passage 2 and passage 3\",\n",
      "\"criterion_3\": \"correct\"\n",
      "},\n",
      "{\n",
      "\"sentence\": \"However, passage 1 also mentions \\\\\"proportionate allocation,\\\\\" which could suggest that delegates are allocated based on a candidate's performance in primaries rather than simply winning the popular vote.\",\n",
      "\"criterion_1\": \"yes\",\n",
      "\"criterion_2\": \"passage 1\",\n",
      "\"criterion_3\": \"correct\"\n",
      "}\n",
      "],\n",
      "\"faithfulness_justification\": \"The first sentence does not cite a reference and is incorrect. The remaining sentences cite the correct passages and accurately summarize the information.\",\n",
      "\"faithfulness\": 0\n",
      "},\n",
      "\"answer_3\": {\n",
      "\"answer_only_asserts_no_document_answers\": false,\n",
      "\"content_analysis_sentence_by_sentence\": [\n",
      "{\n",
      "\"sentence\": \"Based on the provided passages, Republicans use a proportional method to allocate delegates in their presidential nominating procedure.\",\n",
      "\"criterion_1\": \"no\",\n",
      "\"criterion_2\": \"none\",\n",
      "\"criterion_3\": \"incorrect\"\n",
      "},\n",
      "{\n",
      "\"sentence\": \"According to passage 1, some states award delegates to candidates on a winner-take-all basis, while others award delegates in proportion to each candidate's share of the primary vote.\",\n",
      "\"criterion_1\": \"yes\",\n",
      "\"criterion_2\": \"passage 1\",\n",
      "\"criterion_3\": \"correct\"\n",
      "},\n",
      "{\n",
      "\"sentence\": \"This suggests that the allocation of delegates is not solely determined by a simple majority vote, but rather takes into account the distribution of support among the various candidates.\",\n",
      "\"criterion_1\": \"no\",\n",
      "\"criterion_2\": \"none\",\n",
      "\"criterion_3\": \"correct, but not directly supported by the references\"\n",
      "},\n",
      "{\n",
      "\"sentence\": \"Therefore, the answer to the question is: Proportional.\",\n",
      "\"criterion_1\": \"no\",\n",
      "\"criterion_2\": \"none\",\n",
      "\"criterion_3\": \"incorrect\"\n",
      "}\n",
      "],\n",
      "\"faithfulness_justification\": \"Some sentences do not cite references and are incorrect or not directly supported by the references.\",\n",
      "\"faithfulness\": 0\n",
      "},\n",
      "\"answer_4\": {\n",
      "\"answer_only_asserts_no_document_answers\": false,\n",
      "\"content_analysis_sentence_by_sentence\": [\n",
      "{\n",
      "\"sentence\": \"Based on the provided passages, the correct answer is: Winner-take-all.\",\n",
      "\"criterion_1\": \"no\",\n",
      "\"criterion_2\": \"none\",\n",
      "\"criterion_3\": \"incorrect\"\n",
      "}\n",
      "],\n",
      "\"faithfulness_justification\": \"The response does not cite a reference and is incorrect.\",\n",
      "\"faithfulness\": 0\n",
      "},\n",
      "\"answer_5\": {\n",
      "\"answer_only_asserts_no_document_answers\": false,\n",
      "\"content_analysis_sentence_by_sentence\": [\n",
      "{\n",
      "\"sentence\": \"Based on the given passages, the answer to the question \\\\\"Republicans use __________ to allocate delegates in their presidential nominating procedure\\\\\" is:\",\n",
      "\"criterion_1\": \"no\",\n",
      "\"criterion_2\": \"none\",\n",
      "\"criterion_3\": \"correct\"\n",
      "},\n",
      "{\n",
      "\"sentence\": \"Proportional and winner-take-all methods.\",\n",
      "\"criterion_1\": \"no\",\n",
      "\"criterion_2\": \"none\",\n",
      "\"criterion_3\": \"correct\"\n",
      "},\n",
      "{\n",
      "\"sentence\": \"The first passage mentions that some states award delegates to candidates on a winner-take-all basis, while other states award delegates in proportion to each candidate's share of the primary vote.\",\n",
      "\"criterion_1\": \"yes\",\n",
      "\"criterion_2\": \"passage 1\",\n",
      "\"criterion_3\": \"correct\"\n",
      "},\n",
      "{\n",
      "\"sentence\": \"Therefore, the Republican Party uses both proportional and winner-take-all methods to allocate delegates in their presidential nominating procedure.\",\n",
      "\"criterion_1\": \"no\",\n",
      "\"criterion_2\": \"none\",\n",
      "\"criterion_3\": \"correct\"\n",
      "}\n",
      "],\n",
      "\"faithfulness_justification\": \"The response cites the correct passage and accurately summarizes the information.\",\n",
      "\"faithfulness\": 1\n",
      "}\n",
      "}\n",
      "['Unable to answer based on given passages.', 'Unable to answer based on given passages.', 'Based on the given passages, it is not explicitly stated what fruit is in season in Fruita, Utah. However, passage 2 mentions that Fruita was an old Mormon settlement surrounded by desert terrain and situated along the prone-to-flooding Fremont River, which thrived in the late 1800s and early 1900s. Passage 1 does mention that both sweet and sour (tart or pie) cherries are grown in Utah, but it does not specify if these cherries are in season in Fruita. Passage 3 provides information about Fruita being the heart and administrative center of Capitol Reef National Park, but again, it does not provide any information about the fruit that is in season in Fruita. Therefore, I am unable to answer based on the given passages.', 'Based on the provided passages, I am unable to determine what fruit is in season in Fruita, Utah. The passages do not provide information specifically on the fruit seasons in Fruita.', 'Based on the given passages, I am unable to answer the question about what fruit is in season in Fruita, Utah as there is no information about the specific fruits grown in Fruita or their seasons. The passages only provide information about cherry cultivation in Utah and the history of the town of Fruia.', \"Unable to answer based on given passages. The provided passages do not mention the current fruit production or seasonal availability of fruits in Fruita, Utah. They only provide historical information about the area's history and geography.\"]\n"
     ]
    },
    {
     "name": "stderr",
     "output_type": "stream",
     "text": [
      "  3%|▎         | 25/989 [17:06<8:36:51, 32.17s/it] "
     ]
    },
    {
     "name": "stdout",
     "output_type": "stream",
     "text": [
      "{\n",
      "  \"answer_0\": {\n",
      "    \"answer_only_asserts_no_document_answers\": true,\n",
      "    \"content_analysis_sentence_by_sentence\": [],\n",
      "    \"faithfulness_justification\": \"The answer only asserts that no document responds to the question without providing any related information.\",\n",
      "    \"faithfulness\": null\n",
      "  },\n",
      "  \"answer_1\": {\n",
      "    \"answer_only_asserts_no_document_answers\": true,\n",
      "    \"content_analysis_sentence_by_sentence\": [],\n",
      "    \"faithfulness_justification\": \"The answer only asserts that no document responds to the question without providing any related information.\",\n",
      "    \"faithfulness\": null\n",
      "  },\n",
      "  \"answer_2\": {\n",
      "    \"answer_only_asserts_no_document_answers\": false,\n",
      "    \"content_analysis_sentence_by_sentence\": [\n",
      "      {\n",
      "        \"sentence\": \"To tell if your camping gas bottle is empty, you can follow the instructions provided in passage 1: \\\\\"How to check how much gas is left in your gas bottle\\\\\".\",\n",
      "        \"criterion_1\": \"Yes, a reference follows the sentence.\",\n",
      "        \"criterion_2\": \"Yes, the reference is correct.\",\n",
      "        \"criterion_3\": \"Yes, the sentence does not distort or modify the content of the reference.\"\n",
      "      },\n",
      "      {\n",
      "        \"sentence\": \"This test will work with both 45kg home gas bottles and BBQ gas bottles.\",\n",
      "        \"criterion_1\": \"Yes, a reference follows the sentence.\",\n",
      "        \"criterion_2\": \"Yes, the reference is correct.\",\n",
      "        \"criterion_3\": \"Yes, the sentence does not distort or modify the content of the reference.\"\n",
      "      },\n",
      "      {\n",
      "        \"sentence\": \"You can use water from the hot water tap of your home instead of boiling water.\",\n",
      "        \"criterion_1\": \"Yes, a reference follows the sentence.\",\n",
      "        \"criterion_2\": \"Yes, the reference is correct.\",\n",
      "        \"criterion_3\": \"Yes, the sentence does not distort or modify the content of the reference.\"\n",
      "      },\n",
      "      {\n",
      "        \"sentence\": \"If you see a drop in pressure or hear a hissing sound when trying to turn on the stove, then your gas bottle is empty.\",\n",
      "        \"criterion_1\": \"No, a reference does not follow the sentence.\",\n",
      "        \"criterion_2\": \"Not applicable.\",\n",
      "        \"criterion_3\": \"Not applicable.\"\n",
      "      }\n",
      "    ],\n",
      "    \"faithfulness_justification\": \"The answer provides some information related to the question, but one sentence does not have a reference and seems to be an assumption.\",\n",
      "    \"faithfulness\": 0\n",
      "  },\n",
      "  \"answer_3\": {\n",
      "    \"answer_only_asserts_no_document_answers\": false,\n",
      "    \"content_analysis_sentence_by_sentence\": [\n",
      "      {\n",
      "        \"sentence\": \"Check the pressure gauge on the side of the bottle: Most gas bottles have a pressure gauge that indicates the pressure inside the bottle.\",\n",
      "        \"criterion_1\": \"No, a reference does not follow the sentence.\",\n",
      "        \"criterion_2\": \"Not applicable.\",\n",
      "        \"criterion_3\": \"Not applicable.\"\n",
      "      },\n",
      "      {\n",
      "        \"sentence\": \"Use cold water to test the gas level: Fill a container with cold water and submerge the gas bottle in it.\",\n",
      "        \"criterion_1\": \"No, a reference does not follow the sentence.\",\n",
      "        \"criterion_2\": \"Not applicable.\",\n",
      "        \"criterion_3\": \"Not applicable.\"\n",
      "      },\n",
      "      {\n",
      "        \"sentence\": \"Look for signs of depletion: Observe the bottle for any signs of depletion, such as a decrease in the amount of gas vapor escaping from the valve or a change in the color of the gas.\",\n",
      "        \"criterion_1\": \"No, a reference does not follow the sentence.\",\n",
      "        \"criterion_2\": \"Not applicable.\",\n",
      "        \"criterion_3\": \"Not applicable.\"\n",
      "      },\n",
      "      {\n",
      "        \"sentence\": \"Check the weight of the bottle: Camping gas bottles typically have a weight indicator on them.\",\n",
      "        \"criterion_1\": \"No, a reference does not follow the sentence.\",\n",
      "        \"criterion_2\": \"Not applicable.\",\n",
      "        \"criterion_3\": \"Not applicable.\"\n",
      "      }\n",
      "    ],\n",
      "    \"faithfulness_justification\": \"The answer provides several methods, but none of them are supported by the references provided.\",\n",
      "    \"faithfulness\": 0\n",
      "  },\n",
      "  \"answer_4\": {\n",
      "    \"answer_only_asserts_no_document_answers\": false,\n",
      "    \"content_analysis_sentence_by_sentence\": [\n",
      "      {\n",
      "        \"sentence\": \"To tell if your camping gas bottle is empty, you can use water from the hot water tap of your home to check the level of gas left in the bottle.\",\n",
      "        \"criterion_1\": \"Yes, a reference follows the sentence.\",\n",
      "        \"criterion_2\": \"Yes, the reference is correct.\",\n",
      "        \"criterion_3\": \"Yes, the sentence does not distort or modify the content of the reference.\"\n",
      "      },\n",
      "      {\n",
      "        \"sentence\": \"According to passage 1, using boiling water is not recommended as it may cause scalding.\",\n",
      "        \"criterion_1\": \"Yes, a reference follows the sentence.\",\n",
      "        \"criterion_2\": \"Yes, the reference is correct.\",\n",
      "        \"criterion_3\": \"Yes, the sentence does not distort or modify the content of the reference.\"\n",
      "      },\n",
      "      {\n",
      "        \"sentence\": \"Instead, simply fill a container with water from the hot water tap and place it in the gas bottle.\",\n",
      "        \"criterion_1\": \"No, a reference does not follow the sentence.\",\n",
      "        \"criterion_2\": \"Not applicable.\",\n",
      "        \"criterion_3\": \"Not applicable.\"\n",
      "      },\n",
      "      {\n",
      "        \"sentence\": \"If the water level does not change, then the gas bottle is empty.\",\n",
      "        \"criterion_1\": \"No, a reference does not follow the sentence.\",\n",
      "        \"criterion_2\": \"Not applicable.\",\n",
      "        \"criterion_3\": \"Not applicable.\"\n",
      "      }\n",
      "    ],\n",
      "    \"faithfulness_justification\": \"The answer provides some information related to the question, but some sentences do not have references and seem to be assumptions.\",\n",
      "    \"faithfulness\": 0\n",
      "  },\n",
      "  \"answer_5\": {\n",
      "    \"answer_only_asserts_no_document_answers\": true,\n",
      "    \"content_analysis_sentence_by_sentence\": [],\n",
      "    \"faithfulness_justification\": \"The answer only asserts that no document responds to the question without providing any related information, but it is correct in this case.\",\n",
      "    \"faithfulness\": 1\n",
      "  }\n",
      "}\n"
     ]
    },
    {
     "name": "stderr",
     "output_type": "stream",
     "text": [
      "  3%|▎         | 26/989 [17:30<7:57:26, 29.75s/it]"
     ]
    },
    {
     "name": "stdout",
     "output_type": "stream",
     "text": [
      "{\n",
      "    \"answer_0\": {\n",
      "        \"answer_only_asserts_no_document_answers\": true,\n",
      "        \"content_analysis_sentence_by_sentence\": [],\n",
      "        \"faithfulness_justification\": \"The answer only asserts that it is unable to answer based on the given passages without providing any related information.\",\n",
      "        \"faithfulness\": null\n",
      "    },\n",
      "    \"answer_1\": {\n",
      "        \"answer_only_asserts_no_document_answers\": false,\n",
      "        \"content_analysis_sentence_by_sentence\": [\n",
      "            {\n",
      "                \"sentence\": \"Based on the information provided in the passages, pasta is unable to be classified as masculine or feminine in Italian.\",\n",
      "                \"criterion_1\": \"Reference is not provided\",\n",
      "                \"criterion_2\": \"N/A\",\n",
      "                \"criterion_3\": \"N/A\"\n",
      "            }\n",
      "        ],\n",
      "        \"faithfulness_justification\": \"The answer does not provide any reference to support its claim.\",\n",
      "        \"faithfulness\": 0\n",
      "    },\n",
      "    \"answer_2\": {\n",
      "        \"answer_only_asserts_no_document_answers\": false,\n",
      "        \"content_analysis_sentence_by_sentence\": [\n",
      "            {\n",
      "                \"sentence\": \"Pasta is feminine in Italian.\",\n",
      "                \"criterion_1\": \"No reference is provided\",\n",
      "                \"criterion_2\": \"N/A\",\n",
      "                \"criterion_3\": \"N/A\"\n",
      "            }\n",
      "        ],\n",
      "        \"faithfulness_justification\": \"The answer does not provide any reference to support its claim.\",\n",
      "        \"faithfulness\": 0\n",
      "    },\n",
      "    \"answer_3\": {\n",
      "        \"answer_only_asserts_no_document_answers\": false,\n",
      "        \"content_analysis_sentence_by_sentence\": [\n",
      "            {\n",
      "                \"sentence\": \"Based on the provided passages, I can confirm that in Italian, pasta is a feminine noun.\",\n",
      "                \"criterion_1\": \"Reference is not provided\",\n",
      "                \"criterion_2\": \"N/A\",\n",
      "                \"criterion_3\": \"N/A\"\n",
      "            },\n",
      "            {\n",
      "                \"sentence\": \"According to passage 2, the article \\\\\"la\\\\\" is used to indicate feminine nouns, such as \\\\\"la piazz a\\\\\" or \\\\\"la casa\\\\\".\",\n",
      "                \"criterion_1\": \"Reference [2] is provided\",\n",
      "                \"criterion_2\": \"Correct reference\",\n",
      "                \"criterion_3\": \"Accurate representation of the reference content\"\n",
      "            },\n",
      "            {\n",
      "                \"sentence\": \"Since \\\\\"pasta\\\\\" ends in -a, it is considered a feminine noun in Italian.\",\n",
      "                \"criterion_1\": \"No reference is provided\",\n",
      "                \"criterion_2\": \"N/A\",\n",
      "                \"criterion_3\": \"N/A\"\n",
      "            },\n",
      "            {\n",
      "                \"sentence\": \"Therefore, the answer to the question is: Feminine.\",\n",
      "                \"criterion_1\": \"No reference is provided\",\n",
      "                \"criterion_2\": \"N/A\",\n",
      "                \"criterion_3\": \"N/A\"\n",
      "            }\n",
      "        ],\n",
      "        \"faithfulness_justification\": \"Some sentences lack references or do not accurately represent the reference content.\",\n",
      "        \"faithfulness\": 0\n",
      "    },\n",
      "    \"answer_4\": {\n",
      "        \"answer_only_asserts_no_document_answers\": false,\n",
      "        \"content_analysis_sentence_by_sentence\": [\n",
      "            {\n",
      "                \"sentence\": \"Based on the given passages, pasta is a feminine noun in Italian.\",\n",
      "                \"criterion_1\": \"No reference is provided\",\n",
      "                \"criterion_2\": \"N/A\",\n",
      "                \"criterion_3\": \"N/A\"\n",
      "            },\n",
      "            {\n",
      "                \"sentence\": \"Passage 2 states that the article \\\\\"la\\\\\" is used before feminine words, and since pasta is a feminine word, it would be referred to as \\\\\"la pasta\\\\\".\",\n",
      "                \"criterion_1\": \"Reference is not provided\",\n",
      "                \"criterion_2\": \"N/A\",\n",
      "                \"criterion_3\": \"N/A\"\n",
      "            }\n",
      "        ],\n",
      "        \"faithfulness_justification\": \"The answer does not provide accurate references to support its claims.\",\n",
      "        \"faithfulness\": 0\n",
      "    },\n",
      "    \"answer_5\": {\n",
      "        \"answer_only_asserts_no_document_answers\": false,\n",
      "        \"content_analysis_sentence_by_sentence\": [\n",
      "            {\n",
      "                \"sentence\": \"Based on the given passages, it appears that in Italian, pasta is a feminine noun.\",\n",
      "                \"criterion_1\": \"No reference is provided\",\n",
      "                \"criterion_2\": \"N/A\",\n",
      "                \"criterion_3\": \"N/A\"\n",
      "            },\n",
      "            {\n",
      "                \"sentence\": \"Passage 1 states that nouns ending in -a are generally feminine, and passage 2 shows the article \\\\\"la\\\\\" being used before the word \\\\\"piazza,\\\\\" which suggests that \\\\\"pasta\\\\\" is feminine.\",\n",
      "                \"criterion_1\": \"References [1] and [2] are provided\",\n",
      "                \"criterion_2\": \"Correct references\",\n",
      "                \"criterion_3\": \"Accurate representation of the reference content\"\n",
      "            },\n",
      "            {\n",
      "                \"sentence\": \"Therefore, the answer is: Feminine.\",\n",
      "                \"criterion_1\": \"No reference is provided\",\n",
      "                \"criterion_2\": \"N/A\",\n",
      "                \"criterion_3\": \"N/A\"\n",
      "            }\n",
      "        ],\n",
      "        \"faithfulness_justification\": \"Some sentences lack references or do not accurately represent the reference content.\",\n",
      "        \"faithfulness\": 0\n",
      "    }\n",
      "}\n",
      "[\"To write a medical case report, begin with a specific patient's unusual diagnosis or treatment complications. The report should communicate new clinical knowledge and is a great opportunity for medical students and junior doctors to develop their writing skills. It should follow a standard format: abstract, introduction, case presentation, discussion, conclusion, and references. Additional information outlined in the writer's guidelines for the specific publication should also be included.\", \"To write a medical case report, follow the standard format which includes an abstract, introduction, case presentation, discussion, conclusion, and references. Additionally, include any additional information specified in the publication's writer's guidelines.\", \"How to write a medical case report? A medical case study report is an article that describes a particular patient's diagnosis and treatment plan. It is a means of communicating something new that has been learned from clinical experience. Most of the cases chosen for medical case studies are of unusual diagnoses or include complications in treatment. To write a medical case study report, follow the standard format for the report, which includes an abstract, introduction, case presentation, discussion, conclusion, and references. Additionally, include any additional information outlined in the writer's guidelines for the publication to which you are submitting.\", \"Based on the provided passages, here is how to write a medical case report:\\n\\n1. Format: The report should follow the standard format, which includes an abstract, introduction, case presentation, discussion, conclusion, and references. (Passage 3)\\n2. Introduction: Introduce the case by providing essential background information, including the patient's demographics, symptoms, and medical history. (Passage 1)\\n3. Case Presentation: Provide a detailed description of the patient's condition, including the underlying disease, symptoms, diagnosis, and any relevant test results. (Passage 2)\\n4. Discussion: Outline the treatment plan and explain why it was chosen, highlighting any challenges or complications that arose during treatment. (Passage 1)\\n5. Conclusion: Summarize the main points of the case and draw conclusions about the patient's outcome. (Passage 2)\\n6. References: List all sources cited in the report, following the appropriate citation style. (Passage 3)\\n7. Additional Information: Depending on the publication to which the report is being submitted, additional information may be required, such as images or tables. (Passage 3)\\n\\nUnable to answer based on given passages. The passages do not provide sufficient guidance on how to write a medical case report beyond the basic structure and formatting requirements.\", \"Based on the given passages, here is how to write a medical case report:\\n\\n1. Follow the standard format for the report, which includes:\\n\\t* Abstract\\n\\t* Introduction\\n\\t* Case presentation\\n\\t* Discussion\\n\\t* Conclusion\\n\\t* References\\n2. Include additional information as outlined in the writer's guidelines for the publication to which you are submitting.\\n\\nUnable to answer based on given passages.\", \"To write a medical case report, follow these steps:\\n\\n1. Follow the standard format for a medical case study report, which includes:\\n\\t* Abstract\\n\\t* Introduction\\n\\t* Case presentation\\n\\t* Discussion\\n\\t* Conclusion\\n\\t* References\\n2. Include additional information as outlined in the writer's guidelines for the publication to which you are submitting.\\n\\nIt is important to note that medical case reports are used to communicate something new that has been learned from clinical practice, and they provide an opportunity for medical students and junior doctors to develop their writing skills. The case report should describe a particular patient's diagnosis and treatment plan, and most cases chosen for medical case studies are of unusual diagnoses or include complications in treatment.\"]\n"
     ]
    },
    {
     "name": "stderr",
     "output_type": "stream",
     "text": [
      "  3%|▎         | 27/989 [18:30<10:21:58, 38.79s/it]"
     ]
    },
    {
     "name": "stdout",
     "output_type": "stream",
     "text": [
      "['Unable to answer based on given passages.', 'Unable to answer based on given passages.', 'Unable to answer based on given passages.', \"Based on the provided passages, here are the three characteristics of Supreme Court nominees that are politically relevant during the appointment process:\\n\\nPassage 1:\\n\\n* Experience: Nominees' experience as a judge or lawyer has been a key factor in their confirmation. Senators often scrutinize a nominee's experience to determine their suitability for the position (Passage 1).\\n* Ideology: Nominees' legal philosophy and judicial approach have been highly influential in shaping their political relevance during the appointment process. Interest groups often try to identify nominees who share their ideological views and use this information to influence the Senate's decision (Passage 1).\\n* Diversity: The diversity of the nominee's background, including their race, gender, and personal history, has become an increasingly important factor in the appointment process (Passage 1).\\n\\nPassage 2:\\n\\n* Jurisprudence: Nominees' legal jurisprudence and approach to interpreting the law have been highly relevant during the appointment process (Passage 2).\\n* Integrity: The integrity and honesty of the nominee have been critical factors in determining their suitability for the position (Passage 2).\\n\\nPassage 3:\\n\\n* Intellectual ability: The intellectual abilities and legal knowledge of the nominee have been important considerations during the appointment process (Passage 3).\\n* Pragmatism: Nominees' willingness to apply legal principles in a pragmatic and practical manner has been viewed as an important quality during the appointment process (Passage 3).\\n\\nIn terms of methods used by interest groups to influence the appointment process, passage 1 mentions:\\n\\n* Lobbying Senators directly to support or oppose a nominee (Passage 1)\\n* Organizing campaigns to promote or undermine a nominee's confirmation (Passage 1)\\n\\nPassage 2 also mentions:\\n\\n* Using media outlets to shape public opinion about a nominee (Passage 2)\\n* Organizing grassroots efforts to pressure Senators to support or oppose a nominee (Passage 2)\", 'Based on the provided passages, the three characteristics of Supreme Court nominees that are politically relevant during the appointment process are:\\n\\n1. Ideology: The ideology of a nominee can be a major factor in their confirmation process. Passage 1 states that \"interest groups and political parties often focus on a nominee\\'s ideology as a key factor in their evaluation of the nominee.\"\\n2. Legal experience: The legal experience of a nominee can also play a significant role in their confirmation process. Passage 2 notes that \"Senators often scrutinize a nominee\\'s legal experience, including their record as a judge or lawyer, to assess their ability to interpret the law and apply it to cases before the Court.\"\\n3. Demographics: The demographics of a nominee, such as their gender, race, or ethnicity, can also be politically relevant during the appointment process. Passage 3 states that \"the appointment of federal judges, especially those on the appellate and Supreme Court, is one of the most important decisions a president can make,\" and that \"the demographics of the nominee can be a factor in the confirmation process.\"\\n\\nTwo methods that have been used by interest groups to influence the appointment process are:\\n\\n1. Lobbying: Interest groups may lobby Senators and the President to support or oppose a particular nominee based on their ideology, legal experience, or demographics. Passage 1 notes that \"interest groups and political parties often focus on a nominee\\'s ideology as a key factor in their evaluation of the nominee.\"\\n2. Public campaigns: Interest groups may also launch public campaigns to sway public opinion and pressure Senators to vote in favor of or against a particular nominee. Passage 2 states that \"Senators often scrutinize a nominee\\'s legal experience, including their record as a judge or lawyer, to assess their ability to interpret the law and apply it to cases before the Court.\"\\n\\nBased on the passages provided, I was able to answer the question.', \"Sure, here's my answer based on the given passages:\\n\\nThe three characteristics of Supreme Court nominees that are politically relevant during the appointment process are:\\n\\n1. Judicial philosophy: This refers to the nominee's beliefs and views on the role of the judiciary and the interpretation of the law. A nominee's judicial philosophy can be a key factor in determining their suitability for the position, as it can impact their decision-making and approach to cases. Interest groups often pay close attention to this characteristic when evaluating potential nominees and may advocate for or against certain individuals based on their perceived judicial philosophy.\\n2. Political affiliation: The political affiliation of a nominee can also play a significant role in the appointment process. Presidents typically choose nominees who share their political views and who are likely to be confirmed by the Senate. Interest groups may also consider a nominee's political affiliation when evaluating their suitability for the position.\\n3. Legal experience: The legal experience of a nominee can also be a factor in the appointment process. Nominees who have served as lower court judges or have extensive experience in private practice may be viewed as more qualified than those without such experience. Interest groups may consider a nominee's legal experience when assessing their ability to navigate complex legal issues and make informed decisions.\\n\\nInterest groups may use various methods to influence the appointment process, including lobbying Senators to support or oppose specific nominees and campaigning for or against nominees through media and public outreach efforts. They may also submit recommendations for potential nominees to the President or Senators, or provide input on the qualifications and suitability of nominated candidates.\"]\n"
     ]
    },
    {
     "name": "stderr",
     "output_type": "stream",
     "text": [
      "  3%|▎         | 28/989 [19:28<11:53:38, 44.56s/it]"
     ]
    },
    {
     "name": "stdout",
     "output_type": "stream",
     "text": [
      "['Shares ex dividend refers to a classification of trading shares when a declared dividend belongs to the seller rather than the buyer. This occurs when a person has been confirmed by the company to receive the dividend payment. In order to be entitled to the dividend, a shareholder must have purchased the shares before the ex dividend date. If shares are purchased on or after the ex dividend date, the previous owner of the shares is entitled to the dividend, not the new purchaser.', 'Shares ex dividend refers to a classification of trading shares where the seller, rather than the buyer, is entitled to receive a declared dividend. This designation is given to stocks when the company confirms that a person will receive the dividend payment. The ex dividend date is the date on or after which the stock trades ex-dividend, meaning if shares are purchased on or after this date, the previous owner is entitled to the dividend, not the new owner.', 'Shares ex dividend mean that the shares are not eligible for the upcoming dividend payment. The ex dividend date occurs two business days before the record date, and any shareholder who purchases the shares on or after that date will not be entitled to the dividend. Instead, it will go to the previous owner.', 'Based on the provided passages, the definition of \"ex dividend\" can be summarized as follows:\\n\\nEx dividend refers to a stock trading status where the dividend belonging to the previous owner, rather than the current buyer, is recognized. This means that if a shareholder purchases the shares after the ex-dividend date, they will not be eligible to receive the dividend payment. Instead, the previous owner of the shares will receive the dividend.\\n\\nTherefore, the answer to the question \"What does \\'shares ex dividend\\' mean?\" is:\\n\\nShares ex dividend refer to the stock trading status where the dividend belongs to the previous owner, rather than the current buyer.', 'Based on the provided passages, the definition of \"shares ex dividend\" can be summarized as follows:\\n\\nWhen a company declares a dividend, it sets an ex-dividend date, which is typically two business days before the record date. On or after this date, the seller of the shares (not the buyer) is entitled to the dividend payment, regardless of when the sale is settled. This is known as \"shares ex dividend.\" The shares are considered \"ex-dividend\" because the seller has already received the dividend payment, and the buyer does not receive any dividend payment.', 'Sure! Based on the given passages, here\\'s a brief answer to the question \"shares ex dividend meaning\":\\n\\nWhen a stock is listed as \"ex-dividend,\" it means that the seller of the stock, rather than the buyer, is entitled to receive the dividend payment. This is because the ex-dividend date, which is two business days before the record date, marks the cutoff point for who is eligible to receive the dividend. If you buy shares on or after the ex-dividend date, you will not receive the dividend payment; instead, the previous owner of the shares will receive it.']\n"
     ]
    },
    {
     "name": "stderr",
     "output_type": "stream",
     "text": [
      "  3%|▎         | 29/989 [20:19<12:22:31, 46.41s/it]"
     ]
    },
    {
     "name": "stdout",
     "output_type": "stream",
     "text": [
      "['Whether or not you have to file a tax return for 2015 depends on several factors: your filing status (such as single or married filing jointly), how much you earned in gross income, the source of that income, your age, and whether or not you are a dependent of your parents.', 'Based on the given passages, you need to consider your filing status, income, and age to determine if you have to file taxes in 2015.', \"Based on the given passages, it is difficult to definitively say whether or not someone has to file taxes for 2015. However, according to Passage 2, the main factors that generally determine whether someone needs to file taxes include their filing status, gross income, and whether they are a dependent of their parents. Passage 3 also mentions that a person's age may play a role in determining whether or not they are required to file a federal income tax return. It is recommended to consult with a tax professional or the IRS for more detailed guidance on this matter.\", \"Based on the provided passages, here is how you can determine if you have to file taxes in 2015:\\n\\nPassage 1 states that the factors that determine whether you have to file taxes as an employee include your filing status, how much you earn, and whether or not you are a dependent of your parents. If you are an employee, you may have to file taxes depending on these factors.\\n\\nPassage 2 provides a general overview of the factors that determine whether someone needs to file taxes. These factors include how you file (singular or jointly), your filing status, and your gross income. According to Passage 2, you may need to file taxes if you have a certain level of income and are filing a specific way (e.g., single versus jointly).\\n\\nPassage 3 specifically addresses the threshold for filing taxes based on gross income. It states that if you have a certain level of gross income ($10,300 or more in 2015, depending on your filing status), you may be required to file taxes.\\n\\nBased on these passages, if you are an employee and meet any of the following criteria, you may have to file taxes in 2015:\\n\\n* You are filing as a single person and had $10,300 or more in gross income.\\n* You are filing as a married couple filing jointly and had $20,600 or more in gross income.\\n* You are a dependent of your parents and had $4,050 or more in gross income.\\n\\nIf none of these criteria apply to you, then you may not have to file taxes in 2015. However, it's important to note that this is a general guide and there may be other factors that affect your tax filing requirements. It's always best to consult with a tax professional or use tax preparation software to ensure you are meeting all your tax obligations.\\n\\nUnable to answer based on given passages.\", 'Based on the provided passages, here is the answer to the question:\\n\\nTo determine if you have to file taxes for 2015, you should consider the following factors:\\n\\n1. Your filing status (single, married, etc.)\\n2. Your gross income\\n3. Your age\\n\\nIf you are unsure about whether you need to file taxes, it may be best to consult the IRS guidelines or consult with a tax professional.\\n\\nTherefore, the answer to the question \"How do I know if I have to file taxes 2015?\" is: Unable to answer based on the given passages.', 'Based on the given passages, the following conditions must be met to know whether you have to file taxes for the year 2015:\\n\\n* Your gross income is $10,300 or more, if single, under the age of 65, and not blind.\\n* Your gross income is $20,600 or more, if married filing jointly, both spouses under 65, and neither blind.\\n* Your gross income is $4,050 or more, if head of household, under 65, and not blind.\\n* You owe taxes on unemployment compensation.\\n* You owe taxes on a retirement account that was distributed.\\n* You owe Social Security benefits that were received.\\n* You sold your home.\\n* You received a bounty from the Affordable Care Act.\\n* You received reimbursements from a health savings account (HSA).\\n* You received reimbursements from a medical savings account (MSA).\\n* You owe alternative minimum tax.\\n\\nIf any of the above conditions apply to you, you are required to file taxes.']\n"
     ]
    },
    {
     "name": "stderr",
     "output_type": "stream",
     "text": [
      "  3%|▎         | 31/989 [21:41<11:18:42, 42.51s/it]"
     ]
    },
    {
     "name": "stdout",
     "output_type": "stream",
     "text": [
      "{\n",
      "  \"answer_0\": {\n",
      "    \"answer_only_asserts_no_document_answers\": false,\n",
      "    \"content_analysis_sentence_by_sentence\": [\n",
      "      {\n",
      "        \"sentence\": \"To write an email for leave, you should start with a clear subject line such as \\\\\"Application of leave for 10 days.\\\\\"\",\n",
      "        \"criterion_1\": \"Reference provided\",\n",
      "        \"criterion_2\": \"Reference correct (Passage 1)\",\n",
      "        \"criterion_3\": \"Accurate representation of reference\"\n",
      "      },\n",
      "      {\n",
      "        \"sentence\": \"The body of the email should be addressed respectfully, for example starting with \\\\\"Sir,\\\\\" or \\\\\"Dear [recipient's name].\\\\\"\",\n",
      "        \"criterion_1\": \"No reference provided\",\n",
      "        \"criterion_2\": \"Not applicable\",\n",
      "        \"criterion_3\": \"Not applicable\"\n",
      "      },\n",
      "      {\n",
      "        \"sentence\": \"In the email, specify the number of working days you wish to take off and the exact dates.\",\n",
      "        \"criterion_1\": \"No reference provided\",\n",
      "        \"criterion_2\": \"Not applicable\",\n",
      "        \"criterion_3\": \"Not applicable\"\n",
      "      },\n",
      "      {\n",
      "        \"sentence\": \"Also, include the reason for your leave.\",\n",
      "        \"criterion_1\": \"No reference provided\",\n",
      "        \"criterion_2\": \"Not applicable\",\n",
      "        \"criterion_3\": \"Not applicable\"\n",
      "      },\n",
      "      {\n",
      "        \"sentence\": \"For instance, if you're going on a family vacation, mention that.\",\n",
      "        \"criterion_1\": \"Reference provided\",\n",
      "        \"criterion_2\": \"Reference correct (Passage 1)\",\n",
      "        \"criterion_3\": \"Accurate representation of reference\"\n",
      "      },\n",
      "      {\n",
      "        \"sentence\": \"The format and writing style of a leave application email should be the same as a traditional leave application.\",\n",
      "        \"criterion_1\": \"Reference provided\",\n",
      "        \"criterion_2\": \"Reference correct (Passage 2)\",\n",
      "        \"criterion_3\": \"Accurate representation of reference\"\n",
      "      },\n",
      "      {\n",
      "        \"sentence\": \"It's important to remember that emails can reach your recipient instantly, so your leave could be approved quickly.\",\n",
      "        \"criterion_1\": \"Reference provided\",\n",
      "        \"criterion_2\": \"Reference correct (Passage 2)\",\n",
      "        \"criterion_3\": \"Accurate representation of reference\"\n",
      "      }\n",
      "    ],\n",
      "    \"faithfulness_justification\": \"Some sentences do not have references, but the ones that do are accurate and correctly attributed.\",\n",
      "    \"faithfulness\": 0\n",
      "  },\n",
      "  \"answer_1\": {\n",
      "    \"answer_only_asserts_no_document_answers\": false,\n",
      "    \"content_analysis_sentence_by_sentence\": [\n",
      "      {\n",
      "        \"sentence\": \"To write an email for leave, you should follow the same format and writing style as a traditional leave application.\",\n",
      "        \"criterion_1\": \"Reference provided\",\n",
      "        \"criterion_2\": \"Reference correct (Passage 2)\",\n",
      "        \"criterion_3\": \"Accurate representation of reference\"\n",
      "      },\n",
      "      {\n",
      "        \"sentence\": \"Start the email with a subject line stating the purpose, such as \\\\\"Application of leave for 10 days.\\\\\"\",\n",
      "        \"criterion_1\": \"Reference provided\",\n",
      "        \"criterion_2\": \"Reference correct (Passage 1)\",\n",
      "        \"criterion_3\": \"Accurate representation of reference\"\n",
      "      },\n",
      "      {\n",
      "        \"sentence\": \"In the body of the email, mention the duration of leave you are requesting, including specific dates.\",\n",
      "        \"criterion_1\": \"No reference provided\",\n",
      "        \"criterion_2\": \"Not applicable\",\n",
      "        \"criterion_3\": \"Not applicable\"\n",
      "      },\n",
      "      {\n",
      "        \"sentence\": \"Provide a brief reason for your leave, such as a family vacation.\",\n",
      "        \"criterion_1\": \"Reference provided\",\n",
      "        \"criterion_2\": \"Reference correct (Passage 1)\",\n",
      "        \"criterion_3\": \"Accurate representation of reference\"\n",
      "      },\n",
      "      {\n",
      "        \"sentence\": \"You can mention that the email allows for quick approval.\",\n",
      "        \"criterion_1\": \"Reference provided\",\n",
      "        \"criterion_2\": \"Reference correct (Passage 2)\",\n",
      "        \"criterion_3\": \"Accurate representation of reference\"\n",
      "      }\n",
      "    ],\n",
      "    \"faithfulness_justification\": \"Some sentences do not have references, but the ones that do are accurate and correctly attributed.\",\n",
      "    \"faithfulness\": 0\n",
      "  },\n",
      "  \"answer_2\": {\n",
      "    \"answer_only_asserts_no_document_answers\": false,\n",
      "    \"content_analysis_sentence_by_sentence\": [\n",
      "      {\n",
      "        \"sentence\": \"To write an email for leave, follow the example provided:\",\n",
      "        \"criterion_1\": \"No reference provided\",\n",
      "        \"criterion_2\": \"Not applicable\",\n",
      "        \"criterion_3\": \"Not applicable\"\n",
      "      },\n",
      "      {\n",
      "        \"sentence\": \"Subject: Application of leave for 10 days.\",\n",
      "        \"criterion_1\": \"Reference provided\",\n",
      "        \"criterion_2\": \"Reference correct (Passage 1)\",\n",
      "        \"criterion_3\": \"Accurate representation of reference\"\n",
      "      },\n",
      "      {\n",
      "        \"sentence\": \"Dear [Manager's Name],\",\n",
      "        \"criterion_1\": \"No reference provided\",\n",
      "        \"criterion_2\": \"Not applicable\",\n",
      "        \"criterion_3\": \"Not applicable\"\n",
      "      },\n",
      "      {\n",
      "        \"sentence\": \"I am writing to request 10 working days of leave from August 15th to August 30th, 2013.\",\n",
      "        \"criterion_1\": \"Reference provided\",\n",
      "        \"criterion_2\": \"Reference correct (Passage 1)\",\n",
      "        \"criterion_3\": \"Accurate representation of reference\"\n",
      "      },\n",
      "      {\n",
      "        \"sentence\": \"This is because I will be going on a family vacation during that time.\",\n",
      "        \"criterion_1\": \"Reference provided\",\n",
      "        \"criterion_2\": \"Reference correct (Passage 1)\",\n",
      "        \"criterion_3\": \"Accurate representation of reference\"\n",
      "      }\n",
      "    ],\n",
      "    \"faithfulness_justification\": \"Most sentences are accurate and correctly attributed, with some minor deviations.\",\n",
      "    \"faithfulness\": 1\n",
      "  },\n",
      "  \"answer_3\": {\n",
      "    \"answer_only_asserts_no_document_answers\": false,\n",
      "    \"content_analysis_sentence_by_sentence\": [\n",
      "      {\n",
      "        \"sentence\": \"Subject: Application of Leave for [Number of Days] Days\",\n",
      "        \"criterion_1\": \"Reference provided\",\n",
      "        \"criterion_2\": \"Reference correct (Passage 1)\",\n",
      "        \"criterion_3\": \"Accurate representation of reference\"\n",
      "      },\n",
      "      {\n",
      "        \"sentence\": \"Dear [Supervisor's Name],\",\n",
      "        \"criterion_1\": \"No reference provided\",\n",
      "        \"criterion_2\": \"Not applicable\",\n",
      "        \"criterion_3\": \"Not applicable\"\n",
      "      },\n",
      "      {\n",
      "        \"sentence\": \"I hope this email finds you well.\",\n",
      "        \"criterion_1\": \"No reference provided\",\n",
      "        \"criterion_2\": \"Not applicable\",\n",
      "        \"criterion_3\": \"Not applicable\"\n",
      "      },\n",
      "      {\n",
      "        \"sentence\": \"I am writing to request for [number of days] days of leave from [date] to [date].\",\n",
      "        \"criterion_1\": \"No reference provided\",\n",
      "        \"criterion_2\": \"Not applicable\",\n",
      "        \"criterion_3\": \"Not applicable\"\n",
      "      },\n",
      "      {\n",
      "        \"sentence\": \"As mentioned in the subject line, I would like to take this leave for my personal reasons.\",\n",
      "        \"criterion_1\": \"No reference provided\",\n",
      "        \"criterion_2\": \"Not applicable\",\n",
      "        \"criterion_3\": \"Not applicable\"\n",
      "      }\n",
      "    ],\n",
      "    \"faithfulness_justification\": \"Some sentences do not have references, and there are some minor deviations from the original passage.\",\n",
      "    \"faithfulness\": 0\n",
      "  },\n",
      "  \"answer_4\": {\n",
      "    \"answer_only_asserts_no_document_answers\": false,\n",
      "    \"content_analysis_sentence_by_sentence\": [\n",
      "      {\n",
      "        \"sentence\": \"To write an email for leave, you can follow this format:\",\n",
      "        \"criterion_1\": \"No reference provided\",\n",
      "        \"criterion_2\": \"Not applicable\",\n",
      "        \"criterion_3\": \"Not applicable\"\n",
      "      },\n",
      "      {\n",
      "        \"sentence\": \"Subject: Application of leave for [number of days] days\",\n",
      "        \"criterion_1\": \"Reference provided\",\n",
      "        \"criterion_2\": \"Reference correct (Passage 1)\",\n",
      "        \"criterion_3\": \"Accurate representation of reference\"\n",
      "      },\n",
      "      {\n",
      "        \"sentence\": \"Dear [Recipient's Name],\",\n",
      "        \"criterion_1\": \"No reference provided\",\n",
      "        \"criterion_2\": \"Not applicable\",\n",
      "        \"criterion_3\": \"Not applicable\"\n",
      "      },\n",
      "      {\n",
      "        \"sentence\": \"I wish to apply for [number of days] days leave from [start date] to [end date] as [state reason for leave, e.g., I am going on a family vacation].\",\n",
      "        \"criterion_1\": \"Reference provided\",\n",
      "        \"criterion_2\": \"Reference correct (Passage 1)\",\n",
      "        \"criterion_3\": \"Accurate representation of reference\"\n",
      "      }\n",
      "    ],\n",
      "    \"faithfulness_justification\": \"Some sentences do not have references, but the ones that do are accurate and correctly attributed.\",\n",
      "    \"faithfulness\": 0\n",
      "  },\n",
      "  \"answer_5\": {\n",
      "    \"answer_only_asserts_no_document_answers\": false,\n",
      "    \"content_analysis_sentence_by_sentence\": [\n",
      "      {\n",
      "        \"sentence\": \"To write an email for leave, follow these steps:\",\n",
      "        \"criterion_1\": \"No reference provided\",\n",
      "        \"criterion_2\": \"Not applicable\",\n",
      "        \"criterion_3\": \"Not applicable\"\n",
      "      },\n",
      "      {\n",
      "        \"sentence\": \"1. Start with a clear and concise subject line that states the purpose of the email, such as \\\\\"Application for 10 days leave.\\\\\"\",\n",
      "        \"criterion_1\": \"Reference provided\",\n",
      "        \"criterion_2\": \"Reference correct (Passage 1)\",\n",
      "        \"criterion_3\": \"Accurate representation of reference\"\n",
      "      },\n",
      "      {\n",
      "        \"sentence\": \"2. Address the email to the appropriate person, such as your supervisor or HR representative.\",\n",
      "        \"criterion_1\": \"No reference provided\",\n",
      "        \"criterion_2\": \"Not applicable\",\n",
      "        \"criterion_3\": \"Not applicable\"\n",
      "      },\n",
      "      {\n",
      "        \"sentence\": \"3. Introduce yourself and state the reason for your leave request.\",\n",
      "        \"criterion_1\": \"No reference provided\",\n",
      "        \"criterion_2\": \"Not applicable\",\n",
      "        \"criterion_3\": \"Not applicable\"\n",
      "      }\n",
      "    ],\n",
      "    \"faithfulness_justification\": \"Some sentences do not have references, but the ones that do are accurate and correctly attributed.\",\n",
      "    \"faithfulness\": 0\n",
      "  }\n",
      "}\n",
      "['The passages suggest that a blood test for Lyme disease in dogs detects antibodies to the bacteria Borrelia burgdorferi, which causes the disease. However, the passages do not provide specific information on the accuracy of this test.', 'Based on the given passages, it can be concluded that a blood test for antibodies to the Lyme disease bacteria is the preferred test for diagnosing Lyme disease in humans. However, there is no specific information mentioned about the accuracy of the blood test for dogs. Therefore, it is not possible to determine the accuracy of a dog Lyme blood test based on the given passages.', 'Based on the given passages, it is mentioned that the primary test used for diagnosing Lyme disease is a blood test for antibodies to the bacteria Borrelia burgdorferi. Therefore, a blood test for Lyme disease can accurately detect the presence or absence of the infection. However, if a person has central nervous system symptoms, additional tests like IgM, IgG, and western blot testing on cerebrospinal fluid may sometimes be required.', \"Based on the provided passages, the accuracy of a dog Lyme blood test can be inferred as follows:\\n\\nThe first passage states that a Lyme disease test detects antibodies to the Lyme disease bacteria Borrelia burgdorferi in the blood. This means that the test measures the presence of antibodies against the bacteria in the dog's bloodstream, which can indicate an infection. However, it does not provide information on the accuracy of the test.\\n\\nThe second passage notes that dogs can develop the Lyme disease rash, although not all do, which suggests that not all infected dogs will test positive for the infection using a blood test.\\n\\nThe third passage explains that a blood test for antibodies to the bacteria is the preferred test for the diagnosis of Lyme disease in dogs, but mentions that if a person has central nervous system symptoms, such as meningitis, then additional tests (IgM, IgG, and western blot testing) may be performed on cerebrospinal fluid (CSF). This suggests that the accuracy of a blood test for Lyme disease in dogs may vary depending on the specific symptoms and the location of the infection.\\n\\nTherefore, based on the provided passages, it cannot be concluded that a dog Lyme blood test is always accurate or reliable. Further information or context would be needed to make a more definitive statement about the accuracy of this test for dogs.\", \"Based on the given passages, the accuracy of a dog's blood test for Lyme disease is not explicitly stated. Passage 1 mentions that a blood test detects antibodies to the Lyme disease bacteria, but it does not provide any information about the accuracy of the test. Passage 2 explains that the cause of Lyme disease is the bacteria Borrelia burgdorferi, but it does not address the accuracy of the blood test. Passage 3 mentions that a blood test for antibodies to the bacteria is the preferred test for diagnosis, but again, there is no information about the accuracy of the test. Therefore, I am unable to answer the question based on the given passages.\", \"Based on the provided passages, it appears that a blood test can be used to detect antibodies to the Lyme disease bacteria in dogs. However, the accuracy of the blood test is not explicitly stated in the passages provided. Therefore, I cannot confidently say whether the dog Lyme disease blood test is accurate or not.\\n\\nIt's worth noting that passage 3 mentions that a blood test is the preferred test for diagnosing Lyme disease, but it does not provide information on the specific accuracy of the test. Additionally, passage 2 mentions that not all dogs develop the Lyme disease rash, which suggests that some dogs may not show symptoms even if they have been infected with Lyme disease, which could affect the accuracy of the blood test.\\n\\nTherefore, unable to answer based on given passages.\"]\n"
     ]
    },
    {
     "name": "stderr",
     "output_type": "stream",
     "text": [
      "  3%|▎         | 32/989 [23:25<11:40:41, 43.93s/it]\n"
     ]
    },
    {
     "ename": "APIConnectionError",
     "evalue": "Connection error.",
     "output_type": "error",
     "traceback": [
      "\u001b[1;31m---------------------------------------------------------------------------\u001b[0m",
      "\u001b[1;31mConnectError\u001b[0m                              Traceback (most recent call last)",
      "File \u001b[1;32mc:\\Users\\lcker\\miniconda3\\envs\\web_scrap\\Lib\\site-packages\\httpx\\_transports\\default.py:101\u001b[0m, in \u001b[0;36mmap_httpcore_exceptions\u001b[1;34m()\u001b[0m\n\u001b[0;32m    100\u001b[0m \u001b[38;5;28;01mtry\u001b[39;00m:\n\u001b[1;32m--> 101\u001b[0m     \u001b[38;5;28;01myield\u001b[39;00m\n\u001b[0;32m    102\u001b[0m \u001b[38;5;28;01mexcept\u001b[39;00m \u001b[38;5;167;01mException\u001b[39;00m \u001b[38;5;28;01mas\u001b[39;00m exc:\n",
      "File \u001b[1;32mc:\\Users\\lcker\\miniconda3\\envs\\web_scrap\\Lib\\site-packages\\httpx\\_transports\\default.py:250\u001b[0m, in \u001b[0;36mHTTPTransport.handle_request\u001b[1;34m(self, request)\u001b[0m\n\u001b[0;32m    249\u001b[0m \u001b[38;5;28;01mwith\u001b[39;00m map_httpcore_exceptions():\n\u001b[1;32m--> 250\u001b[0m     resp \u001b[38;5;241m=\u001b[39m \u001b[38;5;28;43mself\u001b[39;49m\u001b[38;5;241;43m.\u001b[39;49m\u001b[43m_pool\u001b[49m\u001b[38;5;241;43m.\u001b[39;49m\u001b[43mhandle_request\u001b[49m\u001b[43m(\u001b[49m\u001b[43mreq\u001b[49m\u001b[43m)\u001b[49m\n\u001b[0;32m    252\u001b[0m \u001b[38;5;28;01massert\u001b[39;00m \u001b[38;5;28misinstance\u001b[39m(resp\u001b[38;5;241m.\u001b[39mstream, typing\u001b[38;5;241m.\u001b[39mIterable)\n",
      "File \u001b[1;32mc:\\Users\\lcker\\miniconda3\\envs\\web_scrap\\Lib\\site-packages\\httpcore\\_sync\\connection_pool.py:256\u001b[0m, in \u001b[0;36mConnectionPool.handle_request\u001b[1;34m(self, request)\u001b[0m\n\u001b[0;32m    255\u001b[0m     \u001b[38;5;28mself\u001b[39m\u001b[38;5;241m.\u001b[39m_close_connections(closing)\n\u001b[1;32m--> 256\u001b[0m     \u001b[38;5;28;01mraise\u001b[39;00m exc \u001b[38;5;28;01mfrom\u001b[39;00m \u001b[38;5;28;01mNone\u001b[39;00m\n\u001b[0;32m    258\u001b[0m \u001b[38;5;66;03m# Return the response. Note that in this case we still have to manage\u001b[39;00m\n\u001b[0;32m    259\u001b[0m \u001b[38;5;66;03m# the point at which the response is closed.\u001b[39;00m\n",
      "File \u001b[1;32mc:\\Users\\lcker\\miniconda3\\envs\\web_scrap\\Lib\\site-packages\\httpcore\\_sync\\connection_pool.py:236\u001b[0m, in \u001b[0;36mConnectionPool.handle_request\u001b[1;34m(self, request)\u001b[0m\n\u001b[0;32m    234\u001b[0m \u001b[38;5;28;01mtry\u001b[39;00m:\n\u001b[0;32m    235\u001b[0m     \u001b[38;5;66;03m# Send the request on the assigned connection.\u001b[39;00m\n\u001b[1;32m--> 236\u001b[0m     response \u001b[38;5;241m=\u001b[39m \u001b[43mconnection\u001b[49m\u001b[38;5;241;43m.\u001b[39;49m\u001b[43mhandle_request\u001b[49m\u001b[43m(\u001b[49m\n\u001b[0;32m    237\u001b[0m \u001b[43m        \u001b[49m\u001b[43mpool_request\u001b[49m\u001b[38;5;241;43m.\u001b[39;49m\u001b[43mrequest\u001b[49m\n\u001b[0;32m    238\u001b[0m \u001b[43m    \u001b[49m\u001b[43m)\u001b[49m\n\u001b[0;32m    239\u001b[0m \u001b[38;5;28;01mexcept\u001b[39;00m ConnectionNotAvailable:\n\u001b[0;32m    240\u001b[0m     \u001b[38;5;66;03m# In some cases a connection may initially be available to\u001b[39;00m\n\u001b[0;32m    241\u001b[0m     \u001b[38;5;66;03m# handle a request, but then become unavailable.\u001b[39;00m\n\u001b[0;32m    242\u001b[0m     \u001b[38;5;66;03m#\u001b[39;00m\n\u001b[0;32m    243\u001b[0m     \u001b[38;5;66;03m# In this case we clear the connection and try again.\u001b[39;00m\n",
      "File \u001b[1;32mc:\\Users\\lcker\\miniconda3\\envs\\web_scrap\\Lib\\site-packages\\httpcore\\_sync\\connection.py:101\u001b[0m, in \u001b[0;36mHTTPConnection.handle_request\u001b[1;34m(self, request)\u001b[0m\n\u001b[0;32m    100\u001b[0m     \u001b[38;5;28mself\u001b[39m\u001b[38;5;241m.\u001b[39m_connect_failed \u001b[38;5;241m=\u001b[39m \u001b[38;5;28;01mTrue\u001b[39;00m\n\u001b[1;32m--> 101\u001b[0m     \u001b[38;5;28;01mraise\u001b[39;00m exc\n\u001b[0;32m    103\u001b[0m \u001b[38;5;28;01mreturn\u001b[39;00m \u001b[38;5;28mself\u001b[39m\u001b[38;5;241m.\u001b[39m_connection\u001b[38;5;241m.\u001b[39mhandle_request(request)\n",
      "File \u001b[1;32mc:\\Users\\lcker\\miniconda3\\envs\\web_scrap\\Lib\\site-packages\\httpcore\\_sync\\connection.py:78\u001b[0m, in \u001b[0;36mHTTPConnection.handle_request\u001b[1;34m(self, request)\u001b[0m\n\u001b[0;32m     77\u001b[0m \u001b[38;5;28;01mif\u001b[39;00m \u001b[38;5;28mself\u001b[39m\u001b[38;5;241m.\u001b[39m_connection \u001b[38;5;129;01mis\u001b[39;00m \u001b[38;5;28;01mNone\u001b[39;00m:\n\u001b[1;32m---> 78\u001b[0m     stream \u001b[38;5;241m=\u001b[39m \u001b[38;5;28;43mself\u001b[39;49m\u001b[38;5;241;43m.\u001b[39;49m\u001b[43m_connect\u001b[49m\u001b[43m(\u001b[49m\u001b[43mrequest\u001b[49m\u001b[43m)\u001b[49m\n\u001b[0;32m     80\u001b[0m     ssl_object \u001b[38;5;241m=\u001b[39m stream\u001b[38;5;241m.\u001b[39mget_extra_info(\u001b[38;5;124m\"\u001b[39m\u001b[38;5;124mssl_object\u001b[39m\u001b[38;5;124m\"\u001b[39m)\n",
      "File \u001b[1;32mc:\\Users\\lcker\\miniconda3\\envs\\web_scrap\\Lib\\site-packages\\httpcore\\_sync\\connection.py:124\u001b[0m, in \u001b[0;36mHTTPConnection._connect\u001b[1;34m(self, request)\u001b[0m\n\u001b[0;32m    123\u001b[0m \u001b[38;5;28;01mwith\u001b[39;00m Trace(\u001b[38;5;124m\"\u001b[39m\u001b[38;5;124mconnect_tcp\u001b[39m\u001b[38;5;124m\"\u001b[39m, logger, request, kwargs) \u001b[38;5;28;01mas\u001b[39;00m trace:\n\u001b[1;32m--> 124\u001b[0m     stream \u001b[38;5;241m=\u001b[39m \u001b[38;5;28;43mself\u001b[39;49m\u001b[38;5;241;43m.\u001b[39;49m\u001b[43m_network_backend\u001b[49m\u001b[38;5;241;43m.\u001b[39;49m\u001b[43mconnect_tcp\u001b[49m\u001b[43m(\u001b[49m\u001b[38;5;241;43m*\u001b[39;49m\u001b[38;5;241;43m*\u001b[39;49m\u001b[43mkwargs\u001b[49m\u001b[43m)\u001b[49m\n\u001b[0;32m    125\u001b[0m     trace\u001b[38;5;241m.\u001b[39mreturn_value \u001b[38;5;241m=\u001b[39m stream\n",
      "File \u001b[1;32mc:\\Users\\lcker\\miniconda3\\envs\\web_scrap\\Lib\\site-packages\\httpcore\\_backends\\sync.py:207\u001b[0m, in \u001b[0;36mSyncBackend.connect_tcp\u001b[1;34m(self, host, port, timeout, local_address, socket_options)\u001b[0m\n\u001b[0;32m    202\u001b[0m exc_map: ExceptionMapping \u001b[38;5;241m=\u001b[39m {\n\u001b[0;32m    203\u001b[0m     socket\u001b[38;5;241m.\u001b[39mtimeout: ConnectTimeout,\n\u001b[0;32m    204\u001b[0m     \u001b[38;5;167;01mOSError\u001b[39;00m: ConnectError,\n\u001b[0;32m    205\u001b[0m }\n\u001b[1;32m--> 207\u001b[0m \u001b[43m\u001b[49m\u001b[38;5;28;43;01mwith\u001b[39;49;00m\u001b[43m \u001b[49m\u001b[43mmap_exceptions\u001b[49m\u001b[43m(\u001b[49m\u001b[43mexc_map\u001b[49m\u001b[43m)\u001b[49m\u001b[43m:\u001b[49m\n\u001b[0;32m    208\u001b[0m \u001b[43m    \u001b[49m\u001b[43msock\u001b[49m\u001b[43m \u001b[49m\u001b[38;5;241;43m=\u001b[39;49m\u001b[43m \u001b[49m\u001b[43msocket\u001b[49m\u001b[38;5;241;43m.\u001b[39;49m\u001b[43mcreate_connection\u001b[49m\u001b[43m(\u001b[49m\n\u001b[0;32m    209\u001b[0m \u001b[43m        \u001b[49m\u001b[43maddress\u001b[49m\u001b[43m,\u001b[49m\n\u001b[0;32m    210\u001b[0m \u001b[43m        \u001b[49m\u001b[43mtimeout\u001b[49m\u001b[43m,\u001b[49m\n\u001b[0;32m    211\u001b[0m \u001b[43m        \u001b[49m\u001b[43msource_address\u001b[49m\u001b[38;5;241;43m=\u001b[39;49m\u001b[43msource_address\u001b[49m\u001b[43m,\u001b[49m\n\u001b[0;32m    212\u001b[0m \u001b[43m    \u001b[49m\u001b[43m)\u001b[49m\n",
      "File \u001b[1;32mc:\\Users\\lcker\\miniconda3\\envs\\web_scrap\\Lib\\contextlib.py:158\u001b[0m, in \u001b[0;36m_GeneratorContextManager.__exit__\u001b[1;34m(self, typ, value, traceback)\u001b[0m\n\u001b[0;32m    157\u001b[0m \u001b[38;5;28;01mtry\u001b[39;00m:\n\u001b[1;32m--> 158\u001b[0m     \u001b[38;5;28mself\u001b[39m\u001b[38;5;241m.\u001b[39mgen\u001b[38;5;241m.\u001b[39mthrow(typ, value, traceback)\n\u001b[0;32m    159\u001b[0m \u001b[38;5;28;01mexcept\u001b[39;00m \u001b[38;5;167;01mStopIteration\u001b[39;00m \u001b[38;5;28;01mas\u001b[39;00m exc:\n\u001b[0;32m    160\u001b[0m     \u001b[38;5;66;03m# Suppress StopIteration *unless* it's the same exception that\u001b[39;00m\n\u001b[0;32m    161\u001b[0m     \u001b[38;5;66;03m# was passed to throw().  This prevents a StopIteration\u001b[39;00m\n\u001b[0;32m    162\u001b[0m     \u001b[38;5;66;03m# raised inside the \"with\" statement from being suppressed.\u001b[39;00m\n",
      "File \u001b[1;32mc:\\Users\\lcker\\miniconda3\\envs\\web_scrap\\Lib\\site-packages\\httpcore\\_exceptions.py:14\u001b[0m, in \u001b[0;36mmap_exceptions\u001b[1;34m(map)\u001b[0m\n\u001b[0;32m     13\u001b[0m     \u001b[38;5;28;01mif\u001b[39;00m \u001b[38;5;28misinstance\u001b[39m(exc, from_exc):\n\u001b[1;32m---> 14\u001b[0m         \u001b[38;5;28;01mraise\u001b[39;00m to_exc(exc) \u001b[38;5;28;01mfrom\u001b[39;00m \u001b[38;5;21;01mexc\u001b[39;00m\n\u001b[0;32m     15\u001b[0m \u001b[38;5;28;01mraise\u001b[39;00m\n",
      "\u001b[1;31mConnectError\u001b[0m: [Errno 11001] getaddrinfo failed",
      "\nThe above exception was the direct cause of the following exception:\n",
      "\u001b[1;31mConnectError\u001b[0m                              Traceback (most recent call last)",
      "File \u001b[1;32mc:\\Users\\lcker\\miniconda3\\envs\\web_scrap\\Lib\\site-packages\\groq\\_base_client.py:994\u001b[0m, in \u001b[0;36mSyncAPIClient._request\u001b[1;34m(self, cast_to, options, retries_taken, stream, stream_cls)\u001b[0m\n\u001b[0;32m    993\u001b[0m \u001b[38;5;28;01mtry\u001b[39;00m:\n\u001b[1;32m--> 994\u001b[0m     response \u001b[38;5;241m=\u001b[39m \u001b[38;5;28;43mself\u001b[39;49m\u001b[38;5;241;43m.\u001b[39;49m\u001b[43m_client\u001b[49m\u001b[38;5;241;43m.\u001b[39;49m\u001b[43msend\u001b[49m\u001b[43m(\u001b[49m\n\u001b[0;32m    995\u001b[0m \u001b[43m        \u001b[49m\u001b[43mrequest\u001b[49m\u001b[43m,\u001b[49m\n\u001b[0;32m    996\u001b[0m \u001b[43m        \u001b[49m\u001b[43mstream\u001b[49m\u001b[38;5;241;43m=\u001b[39;49m\u001b[43mstream\u001b[49m\u001b[43m \u001b[49m\u001b[38;5;129;43;01mor\u001b[39;49;00m\u001b[43m \u001b[49m\u001b[38;5;28;43mself\u001b[39;49m\u001b[38;5;241;43m.\u001b[39;49m\u001b[43m_should_stream_response_body\u001b[49m\u001b[43m(\u001b[49m\u001b[43mrequest\u001b[49m\u001b[38;5;241;43m=\u001b[39;49m\u001b[43mrequest\u001b[49m\u001b[43m)\u001b[49m\u001b[43m,\u001b[49m\n\u001b[0;32m    997\u001b[0m \u001b[43m        \u001b[49m\u001b[38;5;241;43m*\u001b[39;49m\u001b[38;5;241;43m*\u001b[39;49m\u001b[43mkwargs\u001b[49m\u001b[43m,\u001b[49m\n\u001b[0;32m    998\u001b[0m \u001b[43m    \u001b[49m\u001b[43m)\u001b[49m\n\u001b[0;32m    999\u001b[0m \u001b[38;5;28;01mexcept\u001b[39;00m httpx\u001b[38;5;241m.\u001b[39mTimeoutException \u001b[38;5;28;01mas\u001b[39;00m err:\n",
      "File \u001b[1;32mc:\\Users\\lcker\\miniconda3\\envs\\web_scrap\\Lib\\site-packages\\httpx\\_client.py:914\u001b[0m, in \u001b[0;36mClient.send\u001b[1;34m(self, request, stream, auth, follow_redirects)\u001b[0m\n\u001b[0;32m    912\u001b[0m auth \u001b[38;5;241m=\u001b[39m \u001b[38;5;28mself\u001b[39m\u001b[38;5;241m.\u001b[39m_build_request_auth(request, auth)\n\u001b[1;32m--> 914\u001b[0m response \u001b[38;5;241m=\u001b[39m \u001b[38;5;28;43mself\u001b[39;49m\u001b[38;5;241;43m.\u001b[39;49m\u001b[43m_send_handling_auth\u001b[49m\u001b[43m(\u001b[49m\n\u001b[0;32m    915\u001b[0m \u001b[43m    \u001b[49m\u001b[43mrequest\u001b[49m\u001b[43m,\u001b[49m\n\u001b[0;32m    916\u001b[0m \u001b[43m    \u001b[49m\u001b[43mauth\u001b[49m\u001b[38;5;241;43m=\u001b[39;49m\u001b[43mauth\u001b[49m\u001b[43m,\u001b[49m\n\u001b[0;32m    917\u001b[0m \u001b[43m    \u001b[49m\u001b[43mfollow_redirects\u001b[49m\u001b[38;5;241;43m=\u001b[39;49m\u001b[43mfollow_redirects\u001b[49m\u001b[43m,\u001b[49m\n\u001b[0;32m    918\u001b[0m \u001b[43m    \u001b[49m\u001b[43mhistory\u001b[49m\u001b[38;5;241;43m=\u001b[39;49m\u001b[43m[\u001b[49m\u001b[43m]\u001b[49m\u001b[43m,\u001b[49m\n\u001b[0;32m    919\u001b[0m \u001b[43m\u001b[49m\u001b[43m)\u001b[49m\n\u001b[0;32m    920\u001b[0m \u001b[38;5;28;01mtry\u001b[39;00m:\n",
      "File \u001b[1;32mc:\\Users\\lcker\\miniconda3\\envs\\web_scrap\\Lib\\site-packages\\httpx\\_client.py:942\u001b[0m, in \u001b[0;36mClient._send_handling_auth\u001b[1;34m(self, request, auth, follow_redirects, history)\u001b[0m\n\u001b[0;32m    941\u001b[0m \u001b[38;5;28;01mwhile\u001b[39;00m \u001b[38;5;28;01mTrue\u001b[39;00m:\n\u001b[1;32m--> 942\u001b[0m     response \u001b[38;5;241m=\u001b[39m \u001b[38;5;28;43mself\u001b[39;49m\u001b[38;5;241;43m.\u001b[39;49m\u001b[43m_send_handling_redirects\u001b[49m\u001b[43m(\u001b[49m\n\u001b[0;32m    943\u001b[0m \u001b[43m        \u001b[49m\u001b[43mrequest\u001b[49m\u001b[43m,\u001b[49m\n\u001b[0;32m    944\u001b[0m \u001b[43m        \u001b[49m\u001b[43mfollow_redirects\u001b[49m\u001b[38;5;241;43m=\u001b[39;49m\u001b[43mfollow_redirects\u001b[49m\u001b[43m,\u001b[49m\n\u001b[0;32m    945\u001b[0m \u001b[43m        \u001b[49m\u001b[43mhistory\u001b[49m\u001b[38;5;241;43m=\u001b[39;49m\u001b[43mhistory\u001b[49m\u001b[43m,\u001b[49m\n\u001b[0;32m    946\u001b[0m \u001b[43m    \u001b[49m\u001b[43m)\u001b[49m\n\u001b[0;32m    947\u001b[0m     \u001b[38;5;28;01mtry\u001b[39;00m:\n",
      "File \u001b[1;32mc:\\Users\\lcker\\miniconda3\\envs\\web_scrap\\Lib\\site-packages\\httpx\\_client.py:979\u001b[0m, in \u001b[0;36mClient._send_handling_redirects\u001b[1;34m(self, request, follow_redirects, history)\u001b[0m\n\u001b[0;32m    977\u001b[0m     hook(request)\n\u001b[1;32m--> 979\u001b[0m response \u001b[38;5;241m=\u001b[39m \u001b[38;5;28;43mself\u001b[39;49m\u001b[38;5;241;43m.\u001b[39;49m\u001b[43m_send_single_request\u001b[49m\u001b[43m(\u001b[49m\u001b[43mrequest\u001b[49m\u001b[43m)\u001b[49m\n\u001b[0;32m    980\u001b[0m \u001b[38;5;28;01mtry\u001b[39;00m:\n",
      "File \u001b[1;32mc:\\Users\\lcker\\miniconda3\\envs\\web_scrap\\Lib\\site-packages\\httpx\\_client.py:1014\u001b[0m, in \u001b[0;36mClient._send_single_request\u001b[1;34m(self, request)\u001b[0m\n\u001b[0;32m   1013\u001b[0m \u001b[38;5;28;01mwith\u001b[39;00m request_context(request\u001b[38;5;241m=\u001b[39mrequest):\n\u001b[1;32m-> 1014\u001b[0m     response \u001b[38;5;241m=\u001b[39m \u001b[43mtransport\u001b[49m\u001b[38;5;241;43m.\u001b[39;49m\u001b[43mhandle_request\u001b[49m\u001b[43m(\u001b[49m\u001b[43mrequest\u001b[49m\u001b[43m)\u001b[49m\n\u001b[0;32m   1016\u001b[0m \u001b[38;5;28;01massert\u001b[39;00m \u001b[38;5;28misinstance\u001b[39m(response\u001b[38;5;241m.\u001b[39mstream, SyncByteStream)\n",
      "File \u001b[1;32mc:\\Users\\lcker\\miniconda3\\envs\\web_scrap\\Lib\\site-packages\\httpx\\_transports\\default.py:249\u001b[0m, in \u001b[0;36mHTTPTransport.handle_request\u001b[1;34m(self, request)\u001b[0m\n\u001b[0;32m    237\u001b[0m req \u001b[38;5;241m=\u001b[39m httpcore\u001b[38;5;241m.\u001b[39mRequest(\n\u001b[0;32m    238\u001b[0m     method\u001b[38;5;241m=\u001b[39mrequest\u001b[38;5;241m.\u001b[39mmethod,\n\u001b[0;32m    239\u001b[0m     url\u001b[38;5;241m=\u001b[39mhttpcore\u001b[38;5;241m.\u001b[39mURL(\n\u001b[1;32m   (...)\u001b[0m\n\u001b[0;32m    247\u001b[0m     extensions\u001b[38;5;241m=\u001b[39mrequest\u001b[38;5;241m.\u001b[39mextensions,\n\u001b[0;32m    248\u001b[0m )\n\u001b[1;32m--> 249\u001b[0m \u001b[43m\u001b[49m\u001b[38;5;28;43;01mwith\u001b[39;49;00m\u001b[43m \u001b[49m\u001b[43mmap_httpcore_exceptions\u001b[49m\u001b[43m(\u001b[49m\u001b[43m)\u001b[49m\u001b[43m:\u001b[49m\n\u001b[0;32m    250\u001b[0m \u001b[43m    \u001b[49m\u001b[43mresp\u001b[49m\u001b[43m \u001b[49m\u001b[38;5;241;43m=\u001b[39;49m\u001b[43m \u001b[49m\u001b[38;5;28;43mself\u001b[39;49m\u001b[38;5;241;43m.\u001b[39;49m\u001b[43m_pool\u001b[49m\u001b[38;5;241;43m.\u001b[39;49m\u001b[43mhandle_request\u001b[49m\u001b[43m(\u001b[49m\u001b[43mreq\u001b[49m\u001b[43m)\u001b[49m\n",
      "File \u001b[1;32mc:\\Users\\lcker\\miniconda3\\envs\\web_scrap\\Lib\\contextlib.py:158\u001b[0m, in \u001b[0;36m_GeneratorContextManager.__exit__\u001b[1;34m(self, typ, value, traceback)\u001b[0m\n\u001b[0;32m    157\u001b[0m \u001b[38;5;28;01mtry\u001b[39;00m:\n\u001b[1;32m--> 158\u001b[0m     \u001b[38;5;28mself\u001b[39m\u001b[38;5;241m.\u001b[39mgen\u001b[38;5;241m.\u001b[39mthrow(typ, value, traceback)\n\u001b[0;32m    159\u001b[0m \u001b[38;5;28;01mexcept\u001b[39;00m \u001b[38;5;167;01mStopIteration\u001b[39;00m \u001b[38;5;28;01mas\u001b[39;00m exc:\n\u001b[0;32m    160\u001b[0m     \u001b[38;5;66;03m# Suppress StopIteration *unless* it's the same exception that\u001b[39;00m\n\u001b[0;32m    161\u001b[0m     \u001b[38;5;66;03m# was passed to throw().  This prevents a StopIteration\u001b[39;00m\n\u001b[0;32m    162\u001b[0m     \u001b[38;5;66;03m# raised inside the \"with\" statement from being suppressed.\u001b[39;00m\n",
      "File \u001b[1;32mc:\\Users\\lcker\\miniconda3\\envs\\web_scrap\\Lib\\site-packages\\httpx\\_transports\\default.py:118\u001b[0m, in \u001b[0;36mmap_httpcore_exceptions\u001b[1;34m()\u001b[0m\n\u001b[0;32m    117\u001b[0m message \u001b[38;5;241m=\u001b[39m \u001b[38;5;28mstr\u001b[39m(exc)\n\u001b[1;32m--> 118\u001b[0m \u001b[38;5;28;01mraise\u001b[39;00m mapped_exc(message) \u001b[38;5;28;01mfrom\u001b[39;00m \u001b[38;5;21;01mexc\u001b[39;00m\n",
      "\u001b[1;31mConnectError\u001b[0m: [Errno 11001] getaddrinfo failed",
      "\nThe above exception was the direct cause of the following exception:\n",
      "\u001b[1;31mAPIConnectionError\u001b[0m                        Traceback (most recent call last)",
      "Cell \u001b[1;32mIn[16], line 16\u001b[0m\n\u001b[0;32m     13\u001b[0m temperatures \u001b[38;5;241m=\u001b[39m group[\u001b[38;5;124m\"\u001b[39m\u001b[38;5;124mtemperature\u001b[39m\u001b[38;5;124m\"\u001b[39m]\u001b[38;5;241m.\u001b[39mvalues\u001b[38;5;241m.\u001b[39mtolist()\n\u001b[0;32m     14\u001b[0m labels \u001b[38;5;241m=\u001b[39m group[\u001b[38;5;124m\"\u001b[39m\u001b[38;5;124mlabels\u001b[39m\u001b[38;5;124m\"\u001b[39m]\u001b[38;5;241m.\u001b[39mvalues\u001b[38;5;241m.\u001b[39mtolist()\n\u001b[1;32m---> 16\u001b[0m raw_json \u001b[38;5;241m=\u001b[39m \u001b[43mfaithfulness\u001b[49m\u001b[43m(\u001b[49m\u001b[43mclient\u001b[49m\u001b[43m,\u001b[49m\u001b[43m \u001b[49m\u001b[43mquestions\u001b[49m\u001b[43m,\u001b[49m\u001b[43m \u001b[49m\u001b[43mcontext\u001b[49m\u001b[43m,\u001b[49m\u001b[43m \u001b[49m\u001b[43mresponses\u001b[49m\u001b[43m)\u001b[49m\n\u001b[0;32m     17\u001b[0m raw_json \u001b[38;5;241m=\u001b[39m raw_json[raw_json\u001b[38;5;241m.\u001b[39mfind(\u001b[38;5;124m\"\u001b[39m\u001b[38;5;124m{\u001b[39m\u001b[38;5;124m\"\u001b[39m):raw_json\u001b[38;5;241m.\u001b[39mrfind(\u001b[38;5;124m\"\u001b[39m\u001b[38;5;124m}\u001b[39m\u001b[38;5;124m\"\u001b[39m)\u001b[38;5;241m+\u001b[39m\u001b[38;5;241m1\u001b[39m]\u001b[38;5;241m.\u001b[39mreplace(\u001b[38;5;124m\"\u001b[39m\u001b[38;5;130;01m\\\\\u001b[39;00m\u001b[38;5;124m\"\u001b[39m, \u001b[38;5;124m\"\u001b[39m\u001b[38;5;130;01m\\\\\u001b[39;00m\u001b[38;5;130;01m\\\\\u001b[39;00m\u001b[38;5;124m\"\u001b[39m)\n\u001b[0;32m     18\u001b[0m \u001b[38;5;28;01mtry\u001b[39;00m:\n",
      "Cell \u001b[1;32mIn[11], line 16\u001b[0m, in \u001b[0;36mfaithfulness\u001b[1;34m(judge, query, context, output)\u001b[0m\n\u001b[0;32m     15\u001b[0m \u001b[38;5;28;01mdef\u001b[39;00m \u001b[38;5;21mfaithfulness\u001b[39m(judge, query, context, output):\n\u001b[1;32m---> 16\u001b[0m     judge_statement \u001b[38;5;241m=\u001b[39m \u001b[43mjudge\u001b[49m\u001b[38;5;241;43m.\u001b[39;49m\u001b[43mchat\u001b[49m\u001b[38;5;241;43m.\u001b[39;49m\u001b[43mcompletions\u001b[49m\u001b[38;5;241;43m.\u001b[39;49m\u001b[43mcreate\u001b[49m\u001b[43m(\u001b[49m\n\u001b[0;32m     17\u001b[0m \u001b[43m        \u001b[49m\u001b[43mmessages\u001b[49m\u001b[38;5;241;43m=\u001b[39;49m\u001b[43mprompt_template\u001b[49m\u001b[43m(\u001b[49m\u001b[43mfaithfulness_prompt\u001b[49m\u001b[43m(\u001b[49m\u001b[43mcontext\u001b[49m\u001b[43m,\u001b[49m\u001b[43m \u001b[49m\u001b[43mquery\u001b[49m\u001b[43m,\u001b[49m\u001b[43m \u001b[49m\u001b[43moutput\u001b[49m\u001b[43m)\u001b[49m\u001b[43m)\u001b[49m\u001b[43m,\u001b[49m\n\u001b[0;32m     18\u001b[0m \u001b[43m        \u001b[49m\u001b[43mmodel\u001b[49m\u001b[38;5;241;43m=\u001b[39;49m\u001b[38;5;124;43m\"\u001b[39;49m\u001b[38;5;124;43mllama3-70b-8192\u001b[39;49m\u001b[38;5;124;43m\"\u001b[39;49m\u001b[43m,\u001b[49m\n\u001b[0;32m     19\u001b[0m \u001b[43m    \u001b[49m\u001b[43m)\u001b[49m\n\u001b[0;32m     20\u001b[0m     \u001b[38;5;28;01mreturn\u001b[39;00m judge_statement\u001b[38;5;241m.\u001b[39mchoices[\u001b[38;5;241m0\u001b[39m]\u001b[38;5;241m.\u001b[39mmessage\u001b[38;5;241m.\u001b[39mcontent\n",
      "File \u001b[1;32mc:\\Users\\lcker\\miniconda3\\envs\\web_scrap\\Lib\\site-packages\\groq\\resources\\chat\\completions.py:316\u001b[0m, in \u001b[0;36mCompletions.create\u001b[1;34m(self, messages, model, frequency_penalty, function_call, functions, logit_bias, logprobs, max_completion_tokens, max_tokens, n, parallel_tool_calls, presence_penalty, response_format, seed, service_tier, stop, stream, temperature, tool_choice, tools, top_logprobs, top_p, user, extra_headers, extra_query, extra_body, timeout)\u001b[0m\n\u001b[0;32m    163\u001b[0m \u001b[38;5;28;01mdef\u001b[39;00m \u001b[38;5;21mcreate\u001b[39m(\n\u001b[0;32m    164\u001b[0m     \u001b[38;5;28mself\u001b[39m,\n\u001b[0;32m    165\u001b[0m     \u001b[38;5;241m*\u001b[39m,\n\u001b[1;32m   (...)\u001b[0m\n\u001b[0;32m    194\u001b[0m     timeout: \u001b[38;5;28mfloat\u001b[39m \u001b[38;5;241m|\u001b[39m httpx\u001b[38;5;241m.\u001b[39mTimeout \u001b[38;5;241m|\u001b[39m \u001b[38;5;28;01mNone\u001b[39;00m \u001b[38;5;241m|\u001b[39m NotGiven \u001b[38;5;241m=\u001b[39m NOT_GIVEN,\n\u001b[0;32m    195\u001b[0m ) \u001b[38;5;241m-\u001b[39m\u001b[38;5;241m>\u001b[39m ChatCompletion \u001b[38;5;241m|\u001b[39m Stream[ChatCompletionChunk]:\n\u001b[0;32m    196\u001b[0m \u001b[38;5;250m    \u001b[39m\u001b[38;5;124;03m\"\"\"\u001b[39;00m\n\u001b[0;32m    197\u001b[0m \u001b[38;5;124;03m    Creates a model response for the given chat conversation.\u001b[39;00m\n\u001b[0;32m    198\u001b[0m \n\u001b[1;32m   (...)\u001b[0m\n\u001b[0;32m    314\u001b[0m \u001b[38;5;124;03m      timeout: Override the client-level default timeout for this request, in seconds\u001b[39;00m\n\u001b[0;32m    315\u001b[0m \u001b[38;5;124;03m    \"\"\"\u001b[39;00m\n\u001b[1;32m--> 316\u001b[0m     \u001b[38;5;28;01mreturn\u001b[39;00m \u001b[38;5;28;43mself\u001b[39;49m\u001b[38;5;241;43m.\u001b[39;49m\u001b[43m_post\u001b[49m\u001b[43m(\u001b[49m\n\u001b[0;32m    317\u001b[0m \u001b[43m        \u001b[49m\u001b[38;5;124;43m\"\u001b[39;49m\u001b[38;5;124;43m/openai/v1/chat/completions\u001b[39;49m\u001b[38;5;124;43m\"\u001b[39;49m\u001b[43m,\u001b[49m\n\u001b[0;32m    318\u001b[0m \u001b[43m        \u001b[49m\u001b[43mbody\u001b[49m\u001b[38;5;241;43m=\u001b[39;49m\u001b[43mmaybe_transform\u001b[49m\u001b[43m(\u001b[49m\n\u001b[0;32m    319\u001b[0m \u001b[43m            \u001b[49m\u001b[43m{\u001b[49m\n\u001b[0;32m    320\u001b[0m \u001b[43m                \u001b[49m\u001b[38;5;124;43m\"\u001b[39;49m\u001b[38;5;124;43mmessages\u001b[39;49m\u001b[38;5;124;43m\"\u001b[39;49m\u001b[43m:\u001b[49m\u001b[43m \u001b[49m\u001b[43mmessages\u001b[49m\u001b[43m,\u001b[49m\n\u001b[0;32m    321\u001b[0m \u001b[43m                \u001b[49m\u001b[38;5;124;43m\"\u001b[39;49m\u001b[38;5;124;43mmodel\u001b[39;49m\u001b[38;5;124;43m\"\u001b[39;49m\u001b[43m:\u001b[49m\u001b[43m \u001b[49m\u001b[43mmodel\u001b[49m\u001b[43m,\u001b[49m\n\u001b[0;32m    322\u001b[0m \u001b[43m                \u001b[49m\u001b[38;5;124;43m\"\u001b[39;49m\u001b[38;5;124;43mfrequency_penalty\u001b[39;49m\u001b[38;5;124;43m\"\u001b[39;49m\u001b[43m:\u001b[49m\u001b[43m \u001b[49m\u001b[43mfrequency_penalty\u001b[49m\u001b[43m,\u001b[49m\n\u001b[0;32m    323\u001b[0m \u001b[43m                \u001b[49m\u001b[38;5;124;43m\"\u001b[39;49m\u001b[38;5;124;43mfunction_call\u001b[39;49m\u001b[38;5;124;43m\"\u001b[39;49m\u001b[43m:\u001b[49m\u001b[43m \u001b[49m\u001b[43mfunction_call\u001b[49m\u001b[43m,\u001b[49m\n\u001b[0;32m    324\u001b[0m \u001b[43m                \u001b[49m\u001b[38;5;124;43m\"\u001b[39;49m\u001b[38;5;124;43mfunctions\u001b[39;49m\u001b[38;5;124;43m\"\u001b[39;49m\u001b[43m:\u001b[49m\u001b[43m \u001b[49m\u001b[43mfunctions\u001b[49m\u001b[43m,\u001b[49m\n\u001b[0;32m    325\u001b[0m \u001b[43m                \u001b[49m\u001b[38;5;124;43m\"\u001b[39;49m\u001b[38;5;124;43mlogit_bias\u001b[39;49m\u001b[38;5;124;43m\"\u001b[39;49m\u001b[43m:\u001b[49m\u001b[43m \u001b[49m\u001b[43mlogit_bias\u001b[49m\u001b[43m,\u001b[49m\n\u001b[0;32m    326\u001b[0m \u001b[43m                \u001b[49m\u001b[38;5;124;43m\"\u001b[39;49m\u001b[38;5;124;43mlogprobs\u001b[39;49m\u001b[38;5;124;43m\"\u001b[39;49m\u001b[43m:\u001b[49m\u001b[43m \u001b[49m\u001b[43mlogprobs\u001b[49m\u001b[43m,\u001b[49m\n\u001b[0;32m    327\u001b[0m \u001b[43m                \u001b[49m\u001b[38;5;124;43m\"\u001b[39;49m\u001b[38;5;124;43mmax_completion_tokens\u001b[39;49m\u001b[38;5;124;43m\"\u001b[39;49m\u001b[43m:\u001b[49m\u001b[43m \u001b[49m\u001b[43mmax_completion_tokens\u001b[49m\u001b[43m,\u001b[49m\n\u001b[0;32m    328\u001b[0m \u001b[43m                \u001b[49m\u001b[38;5;124;43m\"\u001b[39;49m\u001b[38;5;124;43mmax_tokens\u001b[39;49m\u001b[38;5;124;43m\"\u001b[39;49m\u001b[43m:\u001b[49m\u001b[43m \u001b[49m\u001b[43mmax_tokens\u001b[49m\u001b[43m,\u001b[49m\n\u001b[0;32m    329\u001b[0m \u001b[43m                \u001b[49m\u001b[38;5;124;43m\"\u001b[39;49m\u001b[38;5;124;43mn\u001b[39;49m\u001b[38;5;124;43m\"\u001b[39;49m\u001b[43m:\u001b[49m\u001b[43m \u001b[49m\u001b[43mn\u001b[49m\u001b[43m,\u001b[49m\n\u001b[0;32m    330\u001b[0m \u001b[43m                \u001b[49m\u001b[38;5;124;43m\"\u001b[39;49m\u001b[38;5;124;43mparallel_tool_calls\u001b[39;49m\u001b[38;5;124;43m\"\u001b[39;49m\u001b[43m:\u001b[49m\u001b[43m \u001b[49m\u001b[43mparallel_tool_calls\u001b[49m\u001b[43m,\u001b[49m\n\u001b[0;32m    331\u001b[0m \u001b[43m                \u001b[49m\u001b[38;5;124;43m\"\u001b[39;49m\u001b[38;5;124;43mpresence_penalty\u001b[39;49m\u001b[38;5;124;43m\"\u001b[39;49m\u001b[43m:\u001b[49m\u001b[43m \u001b[49m\u001b[43mpresence_penalty\u001b[49m\u001b[43m,\u001b[49m\n\u001b[0;32m    332\u001b[0m \u001b[43m                \u001b[49m\u001b[38;5;124;43m\"\u001b[39;49m\u001b[38;5;124;43mresponse_format\u001b[39;49m\u001b[38;5;124;43m\"\u001b[39;49m\u001b[43m:\u001b[49m\u001b[43m \u001b[49m\u001b[43mresponse_format\u001b[49m\u001b[43m,\u001b[49m\n\u001b[0;32m    333\u001b[0m \u001b[43m                \u001b[49m\u001b[38;5;124;43m\"\u001b[39;49m\u001b[38;5;124;43mseed\u001b[39;49m\u001b[38;5;124;43m\"\u001b[39;49m\u001b[43m:\u001b[49m\u001b[43m \u001b[49m\u001b[43mseed\u001b[49m\u001b[43m,\u001b[49m\n\u001b[0;32m    334\u001b[0m \u001b[43m                \u001b[49m\u001b[38;5;124;43m\"\u001b[39;49m\u001b[38;5;124;43mservice_tier\u001b[39;49m\u001b[38;5;124;43m\"\u001b[39;49m\u001b[43m:\u001b[49m\u001b[43m \u001b[49m\u001b[43mservice_tier\u001b[49m\u001b[43m,\u001b[49m\n\u001b[0;32m    335\u001b[0m \u001b[43m                \u001b[49m\u001b[38;5;124;43m\"\u001b[39;49m\u001b[38;5;124;43mstop\u001b[39;49m\u001b[38;5;124;43m\"\u001b[39;49m\u001b[43m:\u001b[49m\u001b[43m \u001b[49m\u001b[43mstop\u001b[49m\u001b[43m,\u001b[49m\n\u001b[0;32m    336\u001b[0m \u001b[43m                \u001b[49m\u001b[38;5;124;43m\"\u001b[39;49m\u001b[38;5;124;43mstream\u001b[39;49m\u001b[38;5;124;43m\"\u001b[39;49m\u001b[43m:\u001b[49m\u001b[43m \u001b[49m\u001b[43mstream\u001b[49m\u001b[43m,\u001b[49m\n\u001b[0;32m    337\u001b[0m \u001b[43m                \u001b[49m\u001b[38;5;124;43m\"\u001b[39;49m\u001b[38;5;124;43mtemperature\u001b[39;49m\u001b[38;5;124;43m\"\u001b[39;49m\u001b[43m:\u001b[49m\u001b[43m \u001b[49m\u001b[43mtemperature\u001b[49m\u001b[43m,\u001b[49m\n\u001b[0;32m    338\u001b[0m \u001b[43m                \u001b[49m\u001b[38;5;124;43m\"\u001b[39;49m\u001b[38;5;124;43mtool_choice\u001b[39;49m\u001b[38;5;124;43m\"\u001b[39;49m\u001b[43m:\u001b[49m\u001b[43m \u001b[49m\u001b[43mtool_choice\u001b[49m\u001b[43m,\u001b[49m\n\u001b[0;32m    339\u001b[0m \u001b[43m                \u001b[49m\u001b[38;5;124;43m\"\u001b[39;49m\u001b[38;5;124;43mtools\u001b[39;49m\u001b[38;5;124;43m\"\u001b[39;49m\u001b[43m:\u001b[49m\u001b[43m \u001b[49m\u001b[43mtools\u001b[49m\u001b[43m,\u001b[49m\n\u001b[0;32m    340\u001b[0m \u001b[43m                \u001b[49m\u001b[38;5;124;43m\"\u001b[39;49m\u001b[38;5;124;43mtop_logprobs\u001b[39;49m\u001b[38;5;124;43m\"\u001b[39;49m\u001b[43m:\u001b[49m\u001b[43m \u001b[49m\u001b[43mtop_logprobs\u001b[49m\u001b[43m,\u001b[49m\n\u001b[0;32m    341\u001b[0m \u001b[43m                \u001b[49m\u001b[38;5;124;43m\"\u001b[39;49m\u001b[38;5;124;43mtop_p\u001b[39;49m\u001b[38;5;124;43m\"\u001b[39;49m\u001b[43m:\u001b[49m\u001b[43m \u001b[49m\u001b[43mtop_p\u001b[49m\u001b[43m,\u001b[49m\n\u001b[0;32m    342\u001b[0m \u001b[43m                \u001b[49m\u001b[38;5;124;43m\"\u001b[39;49m\u001b[38;5;124;43muser\u001b[39;49m\u001b[38;5;124;43m\"\u001b[39;49m\u001b[43m:\u001b[49m\u001b[43m \u001b[49m\u001b[43muser\u001b[49m\u001b[43m,\u001b[49m\n\u001b[0;32m    343\u001b[0m \u001b[43m            \u001b[49m\u001b[43m}\u001b[49m\u001b[43m,\u001b[49m\n\u001b[0;32m    344\u001b[0m \u001b[43m            \u001b[49m\u001b[43mcompletion_create_params\u001b[49m\u001b[38;5;241;43m.\u001b[39;49m\u001b[43mCompletionCreateParams\u001b[49m\u001b[43m,\u001b[49m\n\u001b[0;32m    345\u001b[0m \u001b[43m        \u001b[49m\u001b[43m)\u001b[49m\u001b[43m,\u001b[49m\n\u001b[0;32m    346\u001b[0m \u001b[43m        \u001b[49m\u001b[43moptions\u001b[49m\u001b[38;5;241;43m=\u001b[39;49m\u001b[43mmake_request_options\u001b[49m\u001b[43m(\u001b[49m\n\u001b[0;32m    347\u001b[0m \u001b[43m            \u001b[49m\u001b[43mextra_headers\u001b[49m\u001b[38;5;241;43m=\u001b[39;49m\u001b[43mextra_headers\u001b[49m\u001b[43m,\u001b[49m\u001b[43m \u001b[49m\u001b[43mextra_query\u001b[49m\u001b[38;5;241;43m=\u001b[39;49m\u001b[43mextra_query\u001b[49m\u001b[43m,\u001b[49m\u001b[43m \u001b[49m\u001b[43mextra_body\u001b[49m\u001b[38;5;241;43m=\u001b[39;49m\u001b[43mextra_body\u001b[49m\u001b[43m,\u001b[49m\u001b[43m \u001b[49m\u001b[43mtimeout\u001b[49m\u001b[38;5;241;43m=\u001b[39;49m\u001b[43mtimeout\u001b[49m\n\u001b[0;32m    348\u001b[0m \u001b[43m        \u001b[49m\u001b[43m)\u001b[49m\u001b[43m,\u001b[49m\n\u001b[0;32m    349\u001b[0m \u001b[43m        \u001b[49m\u001b[43mcast_to\u001b[49m\u001b[38;5;241;43m=\u001b[39;49m\u001b[43mChatCompletion\u001b[49m\u001b[43m,\u001b[49m\n\u001b[0;32m    350\u001b[0m \u001b[43m        \u001b[49m\u001b[43mstream\u001b[49m\u001b[38;5;241;43m=\u001b[39;49m\u001b[43mstream\u001b[49m\u001b[43m \u001b[49m\u001b[38;5;129;43;01mor\u001b[39;49;00m\u001b[43m \u001b[49m\u001b[38;5;28;43;01mFalse\u001b[39;49;00m\u001b[43m,\u001b[49m\n\u001b[0;32m    351\u001b[0m \u001b[43m        \u001b[49m\u001b[43mstream_cls\u001b[49m\u001b[38;5;241;43m=\u001b[39;49m\u001b[43mStream\u001b[49m\u001b[43m[\u001b[49m\u001b[43mChatCompletionChunk\u001b[49m\u001b[43m]\u001b[49m\u001b[43m,\u001b[49m\n\u001b[0;32m    352\u001b[0m \u001b[43m    \u001b[49m\u001b[43m)\u001b[49m\n",
      "File \u001b[1;32mc:\\Users\\lcker\\miniconda3\\envs\\web_scrap\\Lib\\site-packages\\groq\\_base_client.py:1266\u001b[0m, in \u001b[0;36mSyncAPIClient.post\u001b[1;34m(self, path, cast_to, body, options, files, stream, stream_cls)\u001b[0m\n\u001b[0;32m   1252\u001b[0m \u001b[38;5;28;01mdef\u001b[39;00m \u001b[38;5;21mpost\u001b[39m(\n\u001b[0;32m   1253\u001b[0m     \u001b[38;5;28mself\u001b[39m,\n\u001b[0;32m   1254\u001b[0m     path: \u001b[38;5;28mstr\u001b[39m,\n\u001b[1;32m   (...)\u001b[0m\n\u001b[0;32m   1261\u001b[0m     stream_cls: \u001b[38;5;28mtype\u001b[39m[_StreamT] \u001b[38;5;241m|\u001b[39m \u001b[38;5;28;01mNone\u001b[39;00m \u001b[38;5;241m=\u001b[39m \u001b[38;5;28;01mNone\u001b[39;00m,\n\u001b[0;32m   1262\u001b[0m ) \u001b[38;5;241m-\u001b[39m\u001b[38;5;241m>\u001b[39m ResponseT \u001b[38;5;241m|\u001b[39m _StreamT:\n\u001b[0;32m   1263\u001b[0m     opts \u001b[38;5;241m=\u001b[39m FinalRequestOptions\u001b[38;5;241m.\u001b[39mconstruct(\n\u001b[0;32m   1264\u001b[0m         method\u001b[38;5;241m=\u001b[39m\u001b[38;5;124m\"\u001b[39m\u001b[38;5;124mpost\u001b[39m\u001b[38;5;124m\"\u001b[39m, url\u001b[38;5;241m=\u001b[39mpath, json_data\u001b[38;5;241m=\u001b[39mbody, files\u001b[38;5;241m=\u001b[39mto_httpx_files(files), \u001b[38;5;241m*\u001b[39m\u001b[38;5;241m*\u001b[39moptions\n\u001b[0;32m   1265\u001b[0m     )\n\u001b[1;32m-> 1266\u001b[0m     \u001b[38;5;28;01mreturn\u001b[39;00m cast(ResponseT, \u001b[38;5;28;43mself\u001b[39;49m\u001b[38;5;241;43m.\u001b[39;49m\u001b[43mrequest\u001b[49m\u001b[43m(\u001b[49m\u001b[43mcast_to\u001b[49m\u001b[43m,\u001b[49m\u001b[43m \u001b[49m\u001b[43mopts\u001b[49m\u001b[43m,\u001b[49m\u001b[43m \u001b[49m\u001b[43mstream\u001b[49m\u001b[38;5;241;43m=\u001b[39;49m\u001b[43mstream\u001b[49m\u001b[43m,\u001b[49m\u001b[43m \u001b[49m\u001b[43mstream_cls\u001b[49m\u001b[38;5;241;43m=\u001b[39;49m\u001b[43mstream_cls\u001b[49m\u001b[43m)\u001b[49m)\n",
      "File \u001b[1;32mc:\\Users\\lcker\\miniconda3\\envs\\web_scrap\\Lib\\site-packages\\groq\\_base_client.py:958\u001b[0m, in \u001b[0;36mSyncAPIClient.request\u001b[1;34m(self, cast_to, options, remaining_retries, stream, stream_cls)\u001b[0m\n\u001b[0;32m    955\u001b[0m \u001b[38;5;28;01melse\u001b[39;00m:\n\u001b[0;32m    956\u001b[0m     retries_taken \u001b[38;5;241m=\u001b[39m \u001b[38;5;241m0\u001b[39m\n\u001b[1;32m--> 958\u001b[0m \u001b[38;5;28;01mreturn\u001b[39;00m \u001b[38;5;28;43mself\u001b[39;49m\u001b[38;5;241;43m.\u001b[39;49m\u001b[43m_request\u001b[49m\u001b[43m(\u001b[49m\n\u001b[0;32m    959\u001b[0m \u001b[43m    \u001b[49m\u001b[43mcast_to\u001b[49m\u001b[38;5;241;43m=\u001b[39;49m\u001b[43mcast_to\u001b[49m\u001b[43m,\u001b[49m\n\u001b[0;32m    960\u001b[0m \u001b[43m    \u001b[49m\u001b[43moptions\u001b[49m\u001b[38;5;241;43m=\u001b[39;49m\u001b[43moptions\u001b[49m\u001b[43m,\u001b[49m\n\u001b[0;32m    961\u001b[0m \u001b[43m    \u001b[49m\u001b[43mstream\u001b[49m\u001b[38;5;241;43m=\u001b[39;49m\u001b[43mstream\u001b[49m\u001b[43m,\u001b[49m\n\u001b[0;32m    962\u001b[0m \u001b[43m    \u001b[49m\u001b[43mstream_cls\u001b[49m\u001b[38;5;241;43m=\u001b[39;49m\u001b[43mstream_cls\u001b[49m\u001b[43m,\u001b[49m\n\u001b[0;32m    963\u001b[0m \u001b[43m    \u001b[49m\u001b[43mretries_taken\u001b[49m\u001b[38;5;241;43m=\u001b[39;49m\u001b[43mretries_taken\u001b[49m\u001b[43m,\u001b[49m\n\u001b[0;32m    964\u001b[0m \u001b[43m\u001b[49m\u001b[43m)\u001b[49m\n",
      "File \u001b[1;32mc:\\Users\\lcker\\miniconda3\\envs\\web_scrap\\Lib\\site-packages\\groq\\_base_client.py:1046\u001b[0m, in \u001b[0;36mSyncAPIClient._request\u001b[1;34m(self, cast_to, options, retries_taken, stream, stream_cls)\u001b[0m\n\u001b[0;32m   1044\u001b[0m \u001b[38;5;28;01mif\u001b[39;00m remaining_retries \u001b[38;5;241m>\u001b[39m \u001b[38;5;241m0\u001b[39m \u001b[38;5;129;01mand\u001b[39;00m \u001b[38;5;28mself\u001b[39m\u001b[38;5;241m.\u001b[39m_should_retry(err\u001b[38;5;241m.\u001b[39mresponse):\n\u001b[0;32m   1045\u001b[0m     err\u001b[38;5;241m.\u001b[39mresponse\u001b[38;5;241m.\u001b[39mclose()\n\u001b[1;32m-> 1046\u001b[0m     \u001b[38;5;28;01mreturn\u001b[39;00m \u001b[38;5;28;43mself\u001b[39;49m\u001b[38;5;241;43m.\u001b[39;49m\u001b[43m_retry_request\u001b[49m\u001b[43m(\u001b[49m\n\u001b[0;32m   1047\u001b[0m \u001b[43m        \u001b[49m\u001b[43minput_options\u001b[49m\u001b[43m,\u001b[49m\n\u001b[0;32m   1048\u001b[0m \u001b[43m        \u001b[49m\u001b[43mcast_to\u001b[49m\u001b[43m,\u001b[49m\n\u001b[0;32m   1049\u001b[0m \u001b[43m        \u001b[49m\u001b[43mretries_taken\u001b[49m\u001b[38;5;241;43m=\u001b[39;49m\u001b[43mretries_taken\u001b[49m\u001b[43m,\u001b[49m\n\u001b[0;32m   1050\u001b[0m \u001b[43m        \u001b[49m\u001b[43mresponse_headers\u001b[49m\u001b[38;5;241;43m=\u001b[39;49m\u001b[43merr\u001b[49m\u001b[38;5;241;43m.\u001b[39;49m\u001b[43mresponse\u001b[49m\u001b[38;5;241;43m.\u001b[39;49m\u001b[43mheaders\u001b[49m\u001b[43m,\u001b[49m\n\u001b[0;32m   1051\u001b[0m \u001b[43m        \u001b[49m\u001b[43mstream\u001b[49m\u001b[38;5;241;43m=\u001b[39;49m\u001b[43mstream\u001b[49m\u001b[43m,\u001b[49m\n\u001b[0;32m   1052\u001b[0m \u001b[43m        \u001b[49m\u001b[43mstream_cls\u001b[49m\u001b[38;5;241;43m=\u001b[39;49m\u001b[43mstream_cls\u001b[49m\u001b[43m,\u001b[49m\n\u001b[0;32m   1053\u001b[0m \u001b[43m    \u001b[49m\u001b[43m)\u001b[49m\n\u001b[0;32m   1055\u001b[0m \u001b[38;5;66;03m# If the response is streamed then we need to explicitly read the response\u001b[39;00m\n\u001b[0;32m   1056\u001b[0m \u001b[38;5;66;03m# to completion before attempting to access the response text.\u001b[39;00m\n\u001b[0;32m   1057\u001b[0m \u001b[38;5;28;01mif\u001b[39;00m \u001b[38;5;129;01mnot\u001b[39;00m err\u001b[38;5;241m.\u001b[39mresponse\u001b[38;5;241m.\u001b[39mis_closed:\n",
      "File \u001b[1;32mc:\\Users\\lcker\\miniconda3\\envs\\web_scrap\\Lib\\site-packages\\groq\\_base_client.py:1095\u001b[0m, in \u001b[0;36mSyncAPIClient._retry_request\u001b[1;34m(self, options, cast_to, retries_taken, response_headers, stream, stream_cls)\u001b[0m\n\u001b[0;32m   1091\u001b[0m \u001b[38;5;66;03m# In a synchronous context we are blocking the entire thread. Up to the library user to run the client in a\u001b[39;00m\n\u001b[0;32m   1092\u001b[0m \u001b[38;5;66;03m# different thread if necessary.\u001b[39;00m\n\u001b[0;32m   1093\u001b[0m time\u001b[38;5;241m.\u001b[39msleep(timeout)\n\u001b[1;32m-> 1095\u001b[0m \u001b[38;5;28;01mreturn\u001b[39;00m \u001b[38;5;28;43mself\u001b[39;49m\u001b[38;5;241;43m.\u001b[39;49m\u001b[43m_request\u001b[49m\u001b[43m(\u001b[49m\n\u001b[0;32m   1096\u001b[0m \u001b[43m    \u001b[49m\u001b[43moptions\u001b[49m\u001b[38;5;241;43m=\u001b[39;49m\u001b[43moptions\u001b[49m\u001b[43m,\u001b[49m\n\u001b[0;32m   1097\u001b[0m \u001b[43m    \u001b[49m\u001b[43mcast_to\u001b[49m\u001b[38;5;241;43m=\u001b[39;49m\u001b[43mcast_to\u001b[49m\u001b[43m,\u001b[49m\n\u001b[0;32m   1098\u001b[0m \u001b[43m    \u001b[49m\u001b[43mretries_taken\u001b[49m\u001b[38;5;241;43m=\u001b[39;49m\u001b[43mretries_taken\u001b[49m\u001b[43m \u001b[49m\u001b[38;5;241;43m+\u001b[39;49m\u001b[43m \u001b[49m\u001b[38;5;241;43m1\u001b[39;49m\u001b[43m,\u001b[49m\n\u001b[0;32m   1099\u001b[0m \u001b[43m    \u001b[49m\u001b[43mstream\u001b[49m\u001b[38;5;241;43m=\u001b[39;49m\u001b[43mstream\u001b[49m\u001b[43m,\u001b[49m\n\u001b[0;32m   1100\u001b[0m \u001b[43m    \u001b[49m\u001b[43mstream_cls\u001b[49m\u001b[38;5;241;43m=\u001b[39;49m\u001b[43mstream_cls\u001b[49m\u001b[43m,\u001b[49m\n\u001b[0;32m   1101\u001b[0m \u001b[43m\u001b[49m\u001b[43m)\u001b[49m\n",
      "File \u001b[1;32mc:\\Users\\lcker\\miniconda3\\envs\\web_scrap\\Lib\\site-packages\\groq\\_base_client.py:1018\u001b[0m, in \u001b[0;36mSyncAPIClient._request\u001b[1;34m(self, cast_to, options, retries_taken, stream, stream_cls)\u001b[0m\n\u001b[0;32m   1015\u001b[0m log\u001b[38;5;241m.\u001b[39mdebug(\u001b[38;5;124m\"\u001b[39m\u001b[38;5;124mEncountered Exception\u001b[39m\u001b[38;5;124m\"\u001b[39m, exc_info\u001b[38;5;241m=\u001b[39m\u001b[38;5;28;01mTrue\u001b[39;00m)\n\u001b[0;32m   1017\u001b[0m \u001b[38;5;28;01mif\u001b[39;00m remaining_retries \u001b[38;5;241m>\u001b[39m \u001b[38;5;241m0\u001b[39m:\n\u001b[1;32m-> 1018\u001b[0m     \u001b[38;5;28;01mreturn\u001b[39;00m \u001b[38;5;28;43mself\u001b[39;49m\u001b[38;5;241;43m.\u001b[39;49m\u001b[43m_retry_request\u001b[49m\u001b[43m(\u001b[49m\n\u001b[0;32m   1019\u001b[0m \u001b[43m        \u001b[49m\u001b[43minput_options\u001b[49m\u001b[43m,\u001b[49m\n\u001b[0;32m   1020\u001b[0m \u001b[43m        \u001b[49m\u001b[43mcast_to\u001b[49m\u001b[43m,\u001b[49m\n\u001b[0;32m   1021\u001b[0m \u001b[43m        \u001b[49m\u001b[43mretries_taken\u001b[49m\u001b[38;5;241;43m=\u001b[39;49m\u001b[43mretries_taken\u001b[49m\u001b[43m,\u001b[49m\n\u001b[0;32m   1022\u001b[0m \u001b[43m        \u001b[49m\u001b[43mstream\u001b[49m\u001b[38;5;241;43m=\u001b[39;49m\u001b[43mstream\u001b[49m\u001b[43m,\u001b[49m\n\u001b[0;32m   1023\u001b[0m \u001b[43m        \u001b[49m\u001b[43mstream_cls\u001b[49m\u001b[38;5;241;43m=\u001b[39;49m\u001b[43mstream_cls\u001b[49m\u001b[43m,\u001b[49m\n\u001b[0;32m   1024\u001b[0m \u001b[43m        \u001b[49m\u001b[43mresponse_headers\u001b[49m\u001b[38;5;241;43m=\u001b[39;49m\u001b[38;5;28;43;01mNone\u001b[39;49;00m\u001b[43m,\u001b[49m\n\u001b[0;32m   1025\u001b[0m \u001b[43m    \u001b[49m\u001b[43m)\u001b[49m\n\u001b[0;32m   1027\u001b[0m log\u001b[38;5;241m.\u001b[39mdebug(\u001b[38;5;124m\"\u001b[39m\u001b[38;5;124mRaising connection error\u001b[39m\u001b[38;5;124m\"\u001b[39m)\n\u001b[0;32m   1028\u001b[0m \u001b[38;5;28;01mraise\u001b[39;00m APIConnectionError(request\u001b[38;5;241m=\u001b[39mrequest) \u001b[38;5;28;01mfrom\u001b[39;00m \u001b[38;5;21;01merr\u001b[39;00m\n",
      "File \u001b[1;32mc:\\Users\\lcker\\miniconda3\\envs\\web_scrap\\Lib\\site-packages\\groq\\_base_client.py:1095\u001b[0m, in \u001b[0;36mSyncAPIClient._retry_request\u001b[1;34m(self, options, cast_to, retries_taken, response_headers, stream, stream_cls)\u001b[0m\n\u001b[0;32m   1091\u001b[0m \u001b[38;5;66;03m# In a synchronous context we are blocking the entire thread. Up to the library user to run the client in a\u001b[39;00m\n\u001b[0;32m   1092\u001b[0m \u001b[38;5;66;03m# different thread if necessary.\u001b[39;00m\n\u001b[0;32m   1093\u001b[0m time\u001b[38;5;241m.\u001b[39msleep(timeout)\n\u001b[1;32m-> 1095\u001b[0m \u001b[38;5;28;01mreturn\u001b[39;00m \u001b[38;5;28;43mself\u001b[39;49m\u001b[38;5;241;43m.\u001b[39;49m\u001b[43m_request\u001b[49m\u001b[43m(\u001b[49m\n\u001b[0;32m   1096\u001b[0m \u001b[43m    \u001b[49m\u001b[43moptions\u001b[49m\u001b[38;5;241;43m=\u001b[39;49m\u001b[43moptions\u001b[49m\u001b[43m,\u001b[49m\n\u001b[0;32m   1097\u001b[0m \u001b[43m    \u001b[49m\u001b[43mcast_to\u001b[49m\u001b[38;5;241;43m=\u001b[39;49m\u001b[43mcast_to\u001b[49m\u001b[43m,\u001b[49m\n\u001b[0;32m   1098\u001b[0m \u001b[43m    \u001b[49m\u001b[43mretries_taken\u001b[49m\u001b[38;5;241;43m=\u001b[39;49m\u001b[43mretries_taken\u001b[49m\u001b[43m \u001b[49m\u001b[38;5;241;43m+\u001b[39;49m\u001b[43m \u001b[49m\u001b[38;5;241;43m1\u001b[39;49m\u001b[43m,\u001b[49m\n\u001b[0;32m   1099\u001b[0m \u001b[43m    \u001b[49m\u001b[43mstream\u001b[49m\u001b[38;5;241;43m=\u001b[39;49m\u001b[43mstream\u001b[49m\u001b[43m,\u001b[49m\n\u001b[0;32m   1100\u001b[0m \u001b[43m    \u001b[49m\u001b[43mstream_cls\u001b[49m\u001b[38;5;241;43m=\u001b[39;49m\u001b[43mstream_cls\u001b[49m\u001b[43m,\u001b[49m\n\u001b[0;32m   1101\u001b[0m \u001b[43m\u001b[49m\u001b[43m)\u001b[49m\n",
      "File \u001b[1;32mc:\\Users\\lcker\\miniconda3\\envs\\web_scrap\\Lib\\site-packages\\groq\\_base_client.py:1028\u001b[0m, in \u001b[0;36mSyncAPIClient._request\u001b[1;34m(self, cast_to, options, retries_taken, stream, stream_cls)\u001b[0m\n\u001b[0;32m   1018\u001b[0m         \u001b[38;5;28;01mreturn\u001b[39;00m \u001b[38;5;28mself\u001b[39m\u001b[38;5;241m.\u001b[39m_retry_request(\n\u001b[0;32m   1019\u001b[0m             input_options,\n\u001b[0;32m   1020\u001b[0m             cast_to,\n\u001b[1;32m   (...)\u001b[0m\n\u001b[0;32m   1024\u001b[0m             response_headers\u001b[38;5;241m=\u001b[39m\u001b[38;5;28;01mNone\u001b[39;00m,\n\u001b[0;32m   1025\u001b[0m         )\n\u001b[0;32m   1027\u001b[0m     log\u001b[38;5;241m.\u001b[39mdebug(\u001b[38;5;124m\"\u001b[39m\u001b[38;5;124mRaising connection error\u001b[39m\u001b[38;5;124m\"\u001b[39m)\n\u001b[1;32m-> 1028\u001b[0m     \u001b[38;5;28;01mraise\u001b[39;00m APIConnectionError(request\u001b[38;5;241m=\u001b[39mrequest) \u001b[38;5;28;01mfrom\u001b[39;00m \u001b[38;5;21;01merr\u001b[39;00m\n\u001b[0;32m   1030\u001b[0m log\u001b[38;5;241m.\u001b[39mdebug(\n\u001b[0;32m   1031\u001b[0m     \u001b[38;5;124m'\u001b[39m\u001b[38;5;124mHTTP Response: \u001b[39m\u001b[38;5;132;01m%s\u001b[39;00m\u001b[38;5;124m \u001b[39m\u001b[38;5;132;01m%s\u001b[39;00m\u001b[38;5;124m \u001b[39m\u001b[38;5;124m\"\u001b[39m\u001b[38;5;132;01m%i\u001b[39;00m\u001b[38;5;124m \u001b[39m\u001b[38;5;132;01m%s\u001b[39;00m\u001b[38;5;124m\"\u001b[39m\u001b[38;5;124m \u001b[39m\u001b[38;5;132;01m%s\u001b[39;00m\u001b[38;5;124m'\u001b[39m,\n\u001b[0;32m   1032\u001b[0m     request\u001b[38;5;241m.\u001b[39mmethod,\n\u001b[1;32m   (...)\u001b[0m\n\u001b[0;32m   1036\u001b[0m     response\u001b[38;5;241m.\u001b[39mheaders,\n\u001b[0;32m   1037\u001b[0m )\n\u001b[0;32m   1039\u001b[0m \u001b[38;5;28;01mtry\u001b[39;00m:\n",
      "\u001b[1;31mAPIConnectionError\u001b[0m: Connection error."
     ]
    }
   ],
   "source": [
    "import json\n",
    "from tqdm import tqdm\n",
    "\n",
    "\n",
    "STEP = 50\n",
    "faithful_values = []\n",
    "ar_values = []\n",
    "temperature_values = []\n",
    "ys = []\n",
    "\n",
    "for i, (source_id, group) in enumerate(tqdm(df.groupby(df.index))):\n",
    "    questions = group[\"question\"].values[0]\n",
    "    context = group[\"context\"].values[0]\n",
    "    responses = group[\"response\"].values.tolist()\n",
    "    temperatures = group[\"temperature\"].values.tolist()\n",
    "    labels = group[\"labels\"].values.tolist()\n",
    "\n",
    "    raw_json = faithfulness(client, questions, context, responses)\n",
    "    raw_json = raw_json[raw_json.find(\"{\"):raw_json.rfind(\"}\")+1].replace(\"\\\\\", \"\\\\\\\\\")\n",
    "    try:\n",
    "        parsed_json = json.loads(raw_json)\n",
    "    except json.JSONDecodeError:\n",
    "        print(raw_json)\n",
    "        continue\n",
    "    faithful_values.extend([parsed_json[f\"answer_{j}\"][\"faithfulness\"] for j in range(len(group))])\n",
    "    raw_json = answer_relevancy(client, questions, responses)\n",
    "    raw_json = raw_json[raw_json.find(\"{\"):raw_json.rfind(\"}\")+1].replace(\"\\\\\", \"\\\\\\\\\")\n",
    "    try:\n",
    "        parsed_json = json.loads(raw_json)\n",
    "    except json.JSONDecodeError:\n",
    "        print(raw_json)\n",
    "        continue\n",
    "    ar_values.extend([parsed_json[f\"answer_{j}\"][\"answer_relevancy\"] for j in range(len(group))])\n",
    "\n",
    "    temperature_values.extend(temperatures)\n",
    "    ys.extend(labels)\n",
    "    \n",
    "    if (i + 1) % STEP == 0:\n",
    "        pd.DataFrame([faithful_values, ar_values, temperatures, ys]).to_parquet(f\"data_{(i + 1) // STEP}.parquet\")\n"
   ]
  },
  {
   "cell_type": "code",
   "execution_count": 9,
   "metadata": {
    "execution": {
     "iopub.execute_input": "2025-01-21T16:21:48.012895Z",
     "iopub.status.busy": "2025-01-21T16:21:48.012451Z",
     "iopub.status.idle": "2025-01-21T17:14:07.803073Z",
     "shell.execute_reply": "2025-01-21T17:14:07.801864Z",
     "shell.execute_reply.started": "2025-01-21T16:21:48.012857Z"
    },
    "trusted": true
   },
   "outputs": [
    {
     "name": "stdout",
     "output_type": "stream",
     "text": [
      "4 th chunk\n",
      "faithfulness\n"
     ]
    },
    {
     "name": "stderr",
     "output_type": "stream",
     "text": [
      "2it [00:09,  4.35s/it]"
     ]
    },
    {
     "ename": "KeyboardInterrupt",
     "evalue": "",
     "output_type": "error",
     "traceback": [
      "\u001b[1;31m---------------------------------------------------------------------------\u001b[0m",
      "\u001b[1;31mHTTPStatusError\u001b[0m                           Traceback (most recent call last)",
      "File \u001b[1;32md:\\Documents\\AI\\RAG\\transformers\\lib\\site-packages\\groq\\_base_client.py:1040\u001b[0m, in \u001b[0;36mSyncAPIClient._request\u001b[1;34m(self, cast_to, options, retries_taken, stream, stream_cls)\u001b[0m\n\u001b[0;32m   1039\u001b[0m \u001b[38;5;28;01mtry\u001b[39;00m:\n\u001b[1;32m-> 1040\u001b[0m     \u001b[43mresponse\u001b[49m\u001b[38;5;241;43m.\u001b[39;49m\u001b[43mraise_for_status\u001b[49m\u001b[43m(\u001b[49m\u001b[43m)\u001b[49m\n\u001b[0;32m   1041\u001b[0m \u001b[38;5;28;01mexcept\u001b[39;00m httpx\u001b[38;5;241m.\u001b[39mHTTPStatusError \u001b[38;5;28;01mas\u001b[39;00m err:  \u001b[38;5;66;03m# thrown on 4xx and 5xx status code\u001b[39;00m\n",
      "File \u001b[1;32md:\\Documents\\AI\\RAG\\transformers\\lib\\site-packages\\httpx\\_models.py:829\u001b[0m, in \u001b[0;36mResponse.raise_for_status\u001b[1;34m(self)\u001b[0m\n\u001b[0;32m    828\u001b[0m message \u001b[38;5;241m=\u001b[39m message\u001b[38;5;241m.\u001b[39mformat(\u001b[38;5;28mself\u001b[39m, error_type\u001b[38;5;241m=\u001b[39merror_type)\n\u001b[1;32m--> 829\u001b[0m \u001b[38;5;28;01mraise\u001b[39;00m HTTPStatusError(message, request\u001b[38;5;241m=\u001b[39mrequest, response\u001b[38;5;241m=\u001b[39m\u001b[38;5;28mself\u001b[39m)\n",
      "\u001b[1;31mHTTPStatusError\u001b[0m: Client error '429 Too Many Requests' for url 'https://api.groq.com/openai/v1/chat/completions'\nFor more information check: https://developer.mozilla.org/en-US/docs/Web/HTTP/Status/429",
      "\nDuring handling of the above exception, another exception occurred:\n",
      "\u001b[1;31mKeyboardInterrupt\u001b[0m                         Traceback (most recent call last)",
      "Cell \u001b[1;32mIn[9], line 16\u001b[0m\n\u001b[0;32m     13\u001b[0m         chunks[key][\u001b[38;5;124m\"\u001b[39m\u001b[38;5;124mAR\u001b[39m\u001b[38;5;124m\"\u001b[39m] \u001b[38;5;241m=\u001b[39m [answer_relevancy(client, row[\u001b[38;5;124m\"\u001b[39m\u001b[38;5;124mquestion\u001b[39m\u001b[38;5;124m\"\u001b[39m], row[\u001b[38;5;124m\"\u001b[39m\u001b[38;5;124mcontext\u001b[39m\u001b[38;5;124m\"\u001b[39m], row[\u001b[38;5;124m\"\u001b[39m\u001b[38;5;124mresponse\u001b[39m\u001b[38;5;124m\"\u001b[39m]) \u001b[38;5;28;01mfor\u001b[39;00m ind, row \u001b[38;5;129;01min\u001b[39;00m tqdm(chunks[key]\u001b[38;5;241m.\u001b[39miterrows())]\n\u001b[0;32m     14\u001b[0m         pd\u001b[38;5;241m.\u001b[39mDataFrame(chunks[key][\u001b[38;5;124m\"\u001b[39m\u001b[38;5;124mAR\u001b[39m\u001b[38;5;124m\"\u001b[39m])\u001b[38;5;241m.\u001b[39mto_parquet(\u001b[38;5;124mf\u001b[39m\u001b[38;5;124m\"\u001b[39m\u001b[38;5;124mAR_\u001b[39m\u001b[38;5;132;01m{\u001b[39;00mkey\u001b[38;5;132;01m}\u001b[39;00m\u001b[38;5;124m_\u001b[39m\u001b[38;5;132;01m{\u001b[39;00mi\u001b[38;5;250m \u001b[39m\u001b[38;5;241m+\u001b[39m\u001b[38;5;250m \u001b[39m\u001b[38;5;241m1\u001b[39m\u001b[38;5;132;01m}\u001b[39;00m\u001b[38;5;124m.parquet\u001b[39m\u001b[38;5;124m\"\u001b[39m)\n\u001b[1;32m---> 16\u001b[0m \u001b[43mgenerate_df\u001b[49m\u001b[43m(\u001b[49m\u001b[43mkey\u001b[49m\u001b[43m,\u001b[49m\u001b[43m \u001b[49m\u001b[43mchunks\u001b[49m\u001b[43m)\u001b[49m\n",
      "Cell \u001b[1;32mIn[9], line 9\u001b[0m, in \u001b[0;36mgenerate_df\u001b[1;34m(key, chunks)\u001b[0m\n\u001b[0;32m      7\u001b[0m     \u001b[38;5;28mprint\u001b[39m(i, \u001b[38;5;124m\"\u001b[39m\u001b[38;5;124mth chunk\u001b[39m\u001b[38;5;124m\"\u001b[39m)\n\u001b[0;32m      8\u001b[0m     \u001b[38;5;28mprint\u001b[39m(\u001b[38;5;124m\"\u001b[39m\u001b[38;5;124mfaithfulness\u001b[39m\u001b[38;5;124m\"\u001b[39m)\n\u001b[1;32m----> 9\u001b[0m     chunks[key][\u001b[38;5;124m\"\u001b[39m\u001b[38;5;124mfaithfulness\u001b[39m\u001b[38;5;124m\"\u001b[39m] \u001b[38;5;241m=\u001b[39m [faithfulness(client, row[\u001b[38;5;124m\"\u001b[39m\u001b[38;5;124mquestion\u001b[39m\u001b[38;5;124m\"\u001b[39m], row[\u001b[38;5;124m\"\u001b[39m\u001b[38;5;124mcontext\u001b[39m\u001b[38;5;124m\"\u001b[39m], row[\u001b[38;5;124m\"\u001b[39m\u001b[38;5;124mresponse\u001b[39m\u001b[38;5;124m\"\u001b[39m]) \u001b[38;5;28;01mfor\u001b[39;00m ind, row \u001b[38;5;129;01min\u001b[39;00m tqdm(chunks[key]\u001b[38;5;241m.\u001b[39miterrows())]\n\u001b[0;32m     10\u001b[0m     pd\u001b[38;5;241m.\u001b[39mDataFrame(chunks[key][\u001b[38;5;124m\"\u001b[39m\u001b[38;5;124mfaithfulness\u001b[39m\u001b[38;5;124m\"\u001b[39m])\u001b[38;5;241m.\u001b[39mto_parquet(\u001b[38;5;124mf\u001b[39m\u001b[38;5;124m\"\u001b[39m\u001b[38;5;124mfaithful_\u001b[39m\u001b[38;5;132;01m{\u001b[39;00mkey\u001b[38;5;132;01m}\u001b[39;00m\u001b[38;5;124m_\u001b[39m\u001b[38;5;132;01m{\u001b[39;00mi\u001b[38;5;250m \u001b[39m\u001b[38;5;241m+\u001b[39m\u001b[38;5;250m \u001b[39m\u001b[38;5;241m1\u001b[39m\u001b[38;5;132;01m}\u001b[39;00m\u001b[38;5;124m.parquet\u001b[39m\u001b[38;5;124m\"\u001b[39m)\n\u001b[0;32m     11\u001b[0m \u001b[38;5;28;01mfor\u001b[39;00m i \u001b[38;5;129;01min\u001b[39;00m \u001b[38;5;28mrange\u001b[39m(\u001b[38;5;241m5\u001b[39m, \u001b[38;5;241m6\u001b[39m):\n",
      "Cell \u001b[1;32mIn[9], line 9\u001b[0m, in \u001b[0;36m<listcomp>\u001b[1;34m(.0)\u001b[0m\n\u001b[0;32m      7\u001b[0m     \u001b[38;5;28mprint\u001b[39m(i, \u001b[38;5;124m\"\u001b[39m\u001b[38;5;124mth chunk\u001b[39m\u001b[38;5;124m\"\u001b[39m)\n\u001b[0;32m      8\u001b[0m     \u001b[38;5;28mprint\u001b[39m(\u001b[38;5;124m\"\u001b[39m\u001b[38;5;124mfaithfulness\u001b[39m\u001b[38;5;124m\"\u001b[39m)\n\u001b[1;32m----> 9\u001b[0m     chunks[key][\u001b[38;5;124m\"\u001b[39m\u001b[38;5;124mfaithfulness\u001b[39m\u001b[38;5;124m\"\u001b[39m] \u001b[38;5;241m=\u001b[39m [\u001b[43mfaithfulness\u001b[49m\u001b[43m(\u001b[49m\u001b[43mclient\u001b[49m\u001b[43m,\u001b[49m\u001b[43m \u001b[49m\u001b[43mrow\u001b[49m\u001b[43m[\u001b[49m\u001b[38;5;124;43m\"\u001b[39;49m\u001b[38;5;124;43mquestion\u001b[39;49m\u001b[38;5;124;43m\"\u001b[39;49m\u001b[43m]\u001b[49m\u001b[43m,\u001b[49m\u001b[43m \u001b[49m\u001b[43mrow\u001b[49m\u001b[43m[\u001b[49m\u001b[38;5;124;43m\"\u001b[39;49m\u001b[38;5;124;43mcontext\u001b[39;49m\u001b[38;5;124;43m\"\u001b[39;49m\u001b[43m]\u001b[49m\u001b[43m,\u001b[49m\u001b[43m \u001b[49m\u001b[43mrow\u001b[49m\u001b[43m[\u001b[49m\u001b[38;5;124;43m\"\u001b[39;49m\u001b[38;5;124;43mresponse\u001b[39;49m\u001b[38;5;124;43m\"\u001b[39;49m\u001b[43m]\u001b[49m\u001b[43m)\u001b[49m \u001b[38;5;28;01mfor\u001b[39;00m ind, row \u001b[38;5;129;01min\u001b[39;00m tqdm(chunks[key]\u001b[38;5;241m.\u001b[39miterrows())]\n\u001b[0;32m     10\u001b[0m     pd\u001b[38;5;241m.\u001b[39mDataFrame(chunks[key][\u001b[38;5;124m\"\u001b[39m\u001b[38;5;124mfaithfulness\u001b[39m\u001b[38;5;124m\"\u001b[39m])\u001b[38;5;241m.\u001b[39mto_parquet(\u001b[38;5;124mf\u001b[39m\u001b[38;5;124m\"\u001b[39m\u001b[38;5;124mfaithful_\u001b[39m\u001b[38;5;132;01m{\u001b[39;00mkey\u001b[38;5;132;01m}\u001b[39;00m\u001b[38;5;124m_\u001b[39m\u001b[38;5;132;01m{\u001b[39;00mi\u001b[38;5;250m \u001b[39m\u001b[38;5;241m+\u001b[39m\u001b[38;5;250m \u001b[39m\u001b[38;5;241m1\u001b[39m\u001b[38;5;132;01m}\u001b[39;00m\u001b[38;5;124m.parquet\u001b[39m\u001b[38;5;124m\"\u001b[39m)\n\u001b[0;32m     11\u001b[0m \u001b[38;5;28;01mfor\u001b[39;00m i \u001b[38;5;129;01min\u001b[39;00m \u001b[38;5;28mrange\u001b[39m(\u001b[38;5;241m5\u001b[39m, \u001b[38;5;241m6\u001b[39m):\n",
      "Cell \u001b[1;32mIn[4], line 23\u001b[0m, in \u001b[0;36mfaithfulness\u001b[1;34m(judge, query, context, output)\u001b[0m\n\u001b[0;32m     22\u001b[0m \u001b[38;5;28;01mdef\u001b[39;00m\u001b[38;5;250m \u001b[39m\u001b[38;5;21mfaithfulness\u001b[39m(judge, query, context, output):\n\u001b[1;32m---> 23\u001b[0m     judge_statement \u001b[38;5;241m=\u001b[39m \u001b[43mjudge\u001b[49m\u001b[38;5;241;43m.\u001b[39;49m\u001b[43mchat\u001b[49m\u001b[38;5;241;43m.\u001b[39;49m\u001b[43mcompletions\u001b[49m\u001b[38;5;241;43m.\u001b[39;49m\u001b[43mcreate\u001b[49m\u001b[43m(\u001b[49m\n\u001b[0;32m     24\u001b[0m \u001b[43m        \u001b[49m\u001b[43mmessages\u001b[49m\u001b[38;5;241;43m=\u001b[39;49m\u001b[43mprompt_template\u001b[49m\u001b[43m(\u001b[49m\u001b[43mfaithfulness_prompt\u001b[49m\u001b[43m(\u001b[49m\u001b[43mcontext\u001b[49m\u001b[43m,\u001b[49m\u001b[43m \u001b[49m\u001b[43mquery\u001b[49m\u001b[43m,\u001b[49m\u001b[43m \u001b[49m\u001b[43moutput\u001b[49m\u001b[43m)\u001b[49m\u001b[43m)\u001b[49m\u001b[43m,\u001b[49m\n\u001b[0;32m     25\u001b[0m \u001b[43m        \u001b[49m\u001b[43mmodel\u001b[49m\u001b[38;5;241;43m=\u001b[39;49m\u001b[38;5;124;43m\"\u001b[39;49m\u001b[38;5;124;43mllama3-70b-8192\u001b[39;49m\u001b[38;5;124;43m\"\u001b[39;49m\u001b[43m,\u001b[49m\n\u001b[0;32m     26\u001b[0m \u001b[43m    \u001b[49m\u001b[43m)\u001b[49m\n\u001b[0;32m     28\u001b[0m     \u001b[38;5;66;03m# statement = list(\u001b[39;00m\n\u001b[0;32m     29\u001b[0m     \u001b[38;5;66;03m#     filter(None, judge_statement.choices[0].message.content.split(\"Statement:\"))\u001b[39;00m\n\u001b[0;32m     30\u001b[0m     \u001b[38;5;66;03m# )\u001b[39;00m\n\u001b[1;32m   (...)\u001b[0m\n\u001b[0;32m     36\u001b[0m     \u001b[38;5;66;03m#     .message.content\u001b[39;00m\n\u001b[0;32m     37\u001b[0m     \u001b[38;5;66;03m# )\u001b[39;00m\n\u001b[0;32m     38\u001b[0m     \u001b[38;5;28;01mreturn\u001b[39;00m judge_statement\u001b[38;5;241m.\u001b[39mchoices[\u001b[38;5;241m0\u001b[39m]\u001b[38;5;241m.\u001b[39mmessage\u001b[38;5;241m.\u001b[39mcontent\n",
      "File \u001b[1;32md:\\Documents\\AI\\RAG\\transformers\\lib\\site-packages\\groq\\resources\\chat\\completions.py:316\u001b[0m, in \u001b[0;36mCompletions.create\u001b[1;34m(self, messages, model, frequency_penalty, function_call, functions, logit_bias, logprobs, max_completion_tokens, max_tokens, n, parallel_tool_calls, presence_penalty, response_format, seed, service_tier, stop, stream, temperature, tool_choice, tools, top_logprobs, top_p, user, extra_headers, extra_query, extra_body, timeout)\u001b[0m\n\u001b[0;32m    163\u001b[0m \u001b[38;5;28;01mdef\u001b[39;00m\u001b[38;5;250m \u001b[39m\u001b[38;5;21mcreate\u001b[39m(\n\u001b[0;32m    164\u001b[0m     \u001b[38;5;28mself\u001b[39m,\n\u001b[0;32m    165\u001b[0m     \u001b[38;5;241m*\u001b[39m,\n\u001b[1;32m   (...)\u001b[0m\n\u001b[0;32m    194\u001b[0m     timeout: \u001b[38;5;28mfloat\u001b[39m \u001b[38;5;241m|\u001b[39m httpx\u001b[38;5;241m.\u001b[39mTimeout \u001b[38;5;241m|\u001b[39m \u001b[38;5;28;01mNone\u001b[39;00m \u001b[38;5;241m|\u001b[39m NotGiven \u001b[38;5;241m=\u001b[39m NOT_GIVEN,\n\u001b[0;32m    195\u001b[0m ) \u001b[38;5;241m-\u001b[39m\u001b[38;5;241m>\u001b[39m ChatCompletion \u001b[38;5;241m|\u001b[39m Stream[ChatCompletionChunk]:\n\u001b[0;32m    196\u001b[0m \u001b[38;5;250m    \u001b[39m\u001b[38;5;124;03m\"\"\"\u001b[39;00m\n\u001b[0;32m    197\u001b[0m \u001b[38;5;124;03m    Creates a model response for the given chat conversation.\u001b[39;00m\n\u001b[0;32m    198\u001b[0m \n\u001b[1;32m   (...)\u001b[0m\n\u001b[0;32m    314\u001b[0m \u001b[38;5;124;03m      timeout: Override the client-level default timeout for this request, in seconds\u001b[39;00m\n\u001b[0;32m    315\u001b[0m \u001b[38;5;124;03m    \"\"\"\u001b[39;00m\n\u001b[1;32m--> 316\u001b[0m     \u001b[38;5;28;01mreturn\u001b[39;00m \u001b[38;5;28;43mself\u001b[39;49m\u001b[38;5;241;43m.\u001b[39;49m\u001b[43m_post\u001b[49m\u001b[43m(\u001b[49m\n\u001b[0;32m    317\u001b[0m \u001b[43m        \u001b[49m\u001b[38;5;124;43m\"\u001b[39;49m\u001b[38;5;124;43m/openai/v1/chat/completions\u001b[39;49m\u001b[38;5;124;43m\"\u001b[39;49m\u001b[43m,\u001b[49m\n\u001b[0;32m    318\u001b[0m \u001b[43m        \u001b[49m\u001b[43mbody\u001b[49m\u001b[38;5;241;43m=\u001b[39;49m\u001b[43mmaybe_transform\u001b[49m\u001b[43m(\u001b[49m\n\u001b[0;32m    319\u001b[0m \u001b[43m            \u001b[49m\u001b[43m{\u001b[49m\n\u001b[0;32m    320\u001b[0m \u001b[43m                \u001b[49m\u001b[38;5;124;43m\"\u001b[39;49m\u001b[38;5;124;43mmessages\u001b[39;49m\u001b[38;5;124;43m\"\u001b[39;49m\u001b[43m:\u001b[49m\u001b[43m \u001b[49m\u001b[43mmessages\u001b[49m\u001b[43m,\u001b[49m\n\u001b[0;32m    321\u001b[0m \u001b[43m                \u001b[49m\u001b[38;5;124;43m\"\u001b[39;49m\u001b[38;5;124;43mmodel\u001b[39;49m\u001b[38;5;124;43m\"\u001b[39;49m\u001b[43m:\u001b[49m\u001b[43m \u001b[49m\u001b[43mmodel\u001b[49m\u001b[43m,\u001b[49m\n\u001b[0;32m    322\u001b[0m \u001b[43m                \u001b[49m\u001b[38;5;124;43m\"\u001b[39;49m\u001b[38;5;124;43mfrequency_penalty\u001b[39;49m\u001b[38;5;124;43m\"\u001b[39;49m\u001b[43m:\u001b[49m\u001b[43m \u001b[49m\u001b[43mfrequency_penalty\u001b[49m\u001b[43m,\u001b[49m\n\u001b[0;32m    323\u001b[0m \u001b[43m                \u001b[49m\u001b[38;5;124;43m\"\u001b[39;49m\u001b[38;5;124;43mfunction_call\u001b[39;49m\u001b[38;5;124;43m\"\u001b[39;49m\u001b[43m:\u001b[49m\u001b[43m \u001b[49m\u001b[43mfunction_call\u001b[49m\u001b[43m,\u001b[49m\n\u001b[0;32m    324\u001b[0m \u001b[43m                \u001b[49m\u001b[38;5;124;43m\"\u001b[39;49m\u001b[38;5;124;43mfunctions\u001b[39;49m\u001b[38;5;124;43m\"\u001b[39;49m\u001b[43m:\u001b[49m\u001b[43m \u001b[49m\u001b[43mfunctions\u001b[49m\u001b[43m,\u001b[49m\n\u001b[0;32m    325\u001b[0m \u001b[43m                \u001b[49m\u001b[38;5;124;43m\"\u001b[39;49m\u001b[38;5;124;43mlogit_bias\u001b[39;49m\u001b[38;5;124;43m\"\u001b[39;49m\u001b[43m:\u001b[49m\u001b[43m \u001b[49m\u001b[43mlogit_bias\u001b[49m\u001b[43m,\u001b[49m\n\u001b[0;32m    326\u001b[0m \u001b[43m                \u001b[49m\u001b[38;5;124;43m\"\u001b[39;49m\u001b[38;5;124;43mlogprobs\u001b[39;49m\u001b[38;5;124;43m\"\u001b[39;49m\u001b[43m:\u001b[49m\u001b[43m \u001b[49m\u001b[43mlogprobs\u001b[49m\u001b[43m,\u001b[49m\n\u001b[0;32m    327\u001b[0m \u001b[43m                \u001b[49m\u001b[38;5;124;43m\"\u001b[39;49m\u001b[38;5;124;43mmax_completion_tokens\u001b[39;49m\u001b[38;5;124;43m\"\u001b[39;49m\u001b[43m:\u001b[49m\u001b[43m \u001b[49m\u001b[43mmax_completion_tokens\u001b[49m\u001b[43m,\u001b[49m\n\u001b[0;32m    328\u001b[0m \u001b[43m                \u001b[49m\u001b[38;5;124;43m\"\u001b[39;49m\u001b[38;5;124;43mmax_tokens\u001b[39;49m\u001b[38;5;124;43m\"\u001b[39;49m\u001b[43m:\u001b[49m\u001b[43m \u001b[49m\u001b[43mmax_tokens\u001b[49m\u001b[43m,\u001b[49m\n\u001b[0;32m    329\u001b[0m \u001b[43m                \u001b[49m\u001b[38;5;124;43m\"\u001b[39;49m\u001b[38;5;124;43mn\u001b[39;49m\u001b[38;5;124;43m\"\u001b[39;49m\u001b[43m:\u001b[49m\u001b[43m \u001b[49m\u001b[43mn\u001b[49m\u001b[43m,\u001b[49m\n\u001b[0;32m    330\u001b[0m \u001b[43m                \u001b[49m\u001b[38;5;124;43m\"\u001b[39;49m\u001b[38;5;124;43mparallel_tool_calls\u001b[39;49m\u001b[38;5;124;43m\"\u001b[39;49m\u001b[43m:\u001b[49m\u001b[43m \u001b[49m\u001b[43mparallel_tool_calls\u001b[49m\u001b[43m,\u001b[49m\n\u001b[0;32m    331\u001b[0m \u001b[43m                \u001b[49m\u001b[38;5;124;43m\"\u001b[39;49m\u001b[38;5;124;43mpresence_penalty\u001b[39;49m\u001b[38;5;124;43m\"\u001b[39;49m\u001b[43m:\u001b[49m\u001b[43m \u001b[49m\u001b[43mpresence_penalty\u001b[49m\u001b[43m,\u001b[49m\n\u001b[0;32m    332\u001b[0m \u001b[43m                \u001b[49m\u001b[38;5;124;43m\"\u001b[39;49m\u001b[38;5;124;43mresponse_format\u001b[39;49m\u001b[38;5;124;43m\"\u001b[39;49m\u001b[43m:\u001b[49m\u001b[43m \u001b[49m\u001b[43mresponse_format\u001b[49m\u001b[43m,\u001b[49m\n\u001b[0;32m    333\u001b[0m \u001b[43m                \u001b[49m\u001b[38;5;124;43m\"\u001b[39;49m\u001b[38;5;124;43mseed\u001b[39;49m\u001b[38;5;124;43m\"\u001b[39;49m\u001b[43m:\u001b[49m\u001b[43m \u001b[49m\u001b[43mseed\u001b[49m\u001b[43m,\u001b[49m\n\u001b[0;32m    334\u001b[0m \u001b[43m                \u001b[49m\u001b[38;5;124;43m\"\u001b[39;49m\u001b[38;5;124;43mservice_tier\u001b[39;49m\u001b[38;5;124;43m\"\u001b[39;49m\u001b[43m:\u001b[49m\u001b[43m \u001b[49m\u001b[43mservice_tier\u001b[49m\u001b[43m,\u001b[49m\n\u001b[0;32m    335\u001b[0m \u001b[43m                \u001b[49m\u001b[38;5;124;43m\"\u001b[39;49m\u001b[38;5;124;43mstop\u001b[39;49m\u001b[38;5;124;43m\"\u001b[39;49m\u001b[43m:\u001b[49m\u001b[43m \u001b[49m\u001b[43mstop\u001b[49m\u001b[43m,\u001b[49m\n\u001b[0;32m    336\u001b[0m \u001b[43m                \u001b[49m\u001b[38;5;124;43m\"\u001b[39;49m\u001b[38;5;124;43mstream\u001b[39;49m\u001b[38;5;124;43m\"\u001b[39;49m\u001b[43m:\u001b[49m\u001b[43m \u001b[49m\u001b[43mstream\u001b[49m\u001b[43m,\u001b[49m\n\u001b[0;32m    337\u001b[0m \u001b[43m                \u001b[49m\u001b[38;5;124;43m\"\u001b[39;49m\u001b[38;5;124;43mtemperature\u001b[39;49m\u001b[38;5;124;43m\"\u001b[39;49m\u001b[43m:\u001b[49m\u001b[43m \u001b[49m\u001b[43mtemperature\u001b[49m\u001b[43m,\u001b[49m\n\u001b[0;32m    338\u001b[0m \u001b[43m                \u001b[49m\u001b[38;5;124;43m\"\u001b[39;49m\u001b[38;5;124;43mtool_choice\u001b[39;49m\u001b[38;5;124;43m\"\u001b[39;49m\u001b[43m:\u001b[49m\u001b[43m \u001b[49m\u001b[43mtool_choice\u001b[49m\u001b[43m,\u001b[49m\n\u001b[0;32m    339\u001b[0m \u001b[43m                \u001b[49m\u001b[38;5;124;43m\"\u001b[39;49m\u001b[38;5;124;43mtools\u001b[39;49m\u001b[38;5;124;43m\"\u001b[39;49m\u001b[43m:\u001b[49m\u001b[43m \u001b[49m\u001b[43mtools\u001b[49m\u001b[43m,\u001b[49m\n\u001b[0;32m    340\u001b[0m \u001b[43m                \u001b[49m\u001b[38;5;124;43m\"\u001b[39;49m\u001b[38;5;124;43mtop_logprobs\u001b[39;49m\u001b[38;5;124;43m\"\u001b[39;49m\u001b[43m:\u001b[49m\u001b[43m \u001b[49m\u001b[43mtop_logprobs\u001b[49m\u001b[43m,\u001b[49m\n\u001b[0;32m    341\u001b[0m \u001b[43m                \u001b[49m\u001b[38;5;124;43m\"\u001b[39;49m\u001b[38;5;124;43mtop_p\u001b[39;49m\u001b[38;5;124;43m\"\u001b[39;49m\u001b[43m:\u001b[49m\u001b[43m \u001b[49m\u001b[43mtop_p\u001b[49m\u001b[43m,\u001b[49m\n\u001b[0;32m    342\u001b[0m \u001b[43m                \u001b[49m\u001b[38;5;124;43m\"\u001b[39;49m\u001b[38;5;124;43muser\u001b[39;49m\u001b[38;5;124;43m\"\u001b[39;49m\u001b[43m:\u001b[49m\u001b[43m \u001b[49m\u001b[43muser\u001b[49m\u001b[43m,\u001b[49m\n\u001b[0;32m    343\u001b[0m \u001b[43m            \u001b[49m\u001b[43m}\u001b[49m\u001b[43m,\u001b[49m\n\u001b[0;32m    344\u001b[0m \u001b[43m            \u001b[49m\u001b[43mcompletion_create_params\u001b[49m\u001b[38;5;241;43m.\u001b[39;49m\u001b[43mCompletionCreateParams\u001b[49m\u001b[43m,\u001b[49m\n\u001b[0;32m    345\u001b[0m \u001b[43m        \u001b[49m\u001b[43m)\u001b[49m\u001b[43m,\u001b[49m\n\u001b[0;32m    346\u001b[0m \u001b[43m        \u001b[49m\u001b[43moptions\u001b[49m\u001b[38;5;241;43m=\u001b[39;49m\u001b[43mmake_request_options\u001b[49m\u001b[43m(\u001b[49m\n\u001b[0;32m    347\u001b[0m \u001b[43m            \u001b[49m\u001b[43mextra_headers\u001b[49m\u001b[38;5;241;43m=\u001b[39;49m\u001b[43mextra_headers\u001b[49m\u001b[43m,\u001b[49m\u001b[43m \u001b[49m\u001b[43mextra_query\u001b[49m\u001b[38;5;241;43m=\u001b[39;49m\u001b[43mextra_query\u001b[49m\u001b[43m,\u001b[49m\u001b[43m \u001b[49m\u001b[43mextra_body\u001b[49m\u001b[38;5;241;43m=\u001b[39;49m\u001b[43mextra_body\u001b[49m\u001b[43m,\u001b[49m\u001b[43m \u001b[49m\u001b[43mtimeout\u001b[49m\u001b[38;5;241;43m=\u001b[39;49m\u001b[43mtimeout\u001b[49m\n\u001b[0;32m    348\u001b[0m \u001b[43m        \u001b[49m\u001b[43m)\u001b[49m\u001b[43m,\u001b[49m\n\u001b[0;32m    349\u001b[0m \u001b[43m        \u001b[49m\u001b[43mcast_to\u001b[49m\u001b[38;5;241;43m=\u001b[39;49m\u001b[43mChatCompletion\u001b[49m\u001b[43m,\u001b[49m\n\u001b[0;32m    350\u001b[0m \u001b[43m        \u001b[49m\u001b[43mstream\u001b[49m\u001b[38;5;241;43m=\u001b[39;49m\u001b[43mstream\u001b[49m\u001b[43m \u001b[49m\u001b[38;5;129;43;01mor\u001b[39;49;00m\u001b[43m \u001b[49m\u001b[38;5;28;43;01mFalse\u001b[39;49;00m\u001b[43m,\u001b[49m\n\u001b[0;32m    351\u001b[0m \u001b[43m        \u001b[49m\u001b[43mstream_cls\u001b[49m\u001b[38;5;241;43m=\u001b[39;49m\u001b[43mStream\u001b[49m\u001b[43m[\u001b[49m\u001b[43mChatCompletionChunk\u001b[49m\u001b[43m]\u001b[49m\u001b[43m,\u001b[49m\n\u001b[0;32m    352\u001b[0m \u001b[43m    \u001b[49m\u001b[43m)\u001b[49m\n",
      "File \u001b[1;32md:\\Documents\\AI\\RAG\\transformers\\lib\\site-packages\\groq\\_base_client.py:1266\u001b[0m, in \u001b[0;36mSyncAPIClient.post\u001b[1;34m(self, path, cast_to, body, options, files, stream, stream_cls)\u001b[0m\n\u001b[0;32m   1252\u001b[0m \u001b[38;5;28;01mdef\u001b[39;00m\u001b[38;5;250m \u001b[39m\u001b[38;5;21mpost\u001b[39m(\n\u001b[0;32m   1253\u001b[0m     \u001b[38;5;28mself\u001b[39m,\n\u001b[0;32m   1254\u001b[0m     path: \u001b[38;5;28mstr\u001b[39m,\n\u001b[1;32m   (...)\u001b[0m\n\u001b[0;32m   1261\u001b[0m     stream_cls: \u001b[38;5;28mtype\u001b[39m[_StreamT] \u001b[38;5;241m|\u001b[39m \u001b[38;5;28;01mNone\u001b[39;00m \u001b[38;5;241m=\u001b[39m \u001b[38;5;28;01mNone\u001b[39;00m,\n\u001b[0;32m   1262\u001b[0m ) \u001b[38;5;241m-\u001b[39m\u001b[38;5;241m>\u001b[39m ResponseT \u001b[38;5;241m|\u001b[39m _StreamT:\n\u001b[0;32m   1263\u001b[0m     opts \u001b[38;5;241m=\u001b[39m FinalRequestOptions\u001b[38;5;241m.\u001b[39mconstruct(\n\u001b[0;32m   1264\u001b[0m         method\u001b[38;5;241m=\u001b[39m\u001b[38;5;124m\"\u001b[39m\u001b[38;5;124mpost\u001b[39m\u001b[38;5;124m\"\u001b[39m, url\u001b[38;5;241m=\u001b[39mpath, json_data\u001b[38;5;241m=\u001b[39mbody, files\u001b[38;5;241m=\u001b[39mto_httpx_files(files), \u001b[38;5;241m*\u001b[39m\u001b[38;5;241m*\u001b[39moptions\n\u001b[0;32m   1265\u001b[0m     )\n\u001b[1;32m-> 1266\u001b[0m     \u001b[38;5;28;01mreturn\u001b[39;00m cast(ResponseT, \u001b[38;5;28;43mself\u001b[39;49m\u001b[38;5;241;43m.\u001b[39;49m\u001b[43mrequest\u001b[49m\u001b[43m(\u001b[49m\u001b[43mcast_to\u001b[49m\u001b[43m,\u001b[49m\u001b[43m \u001b[49m\u001b[43mopts\u001b[49m\u001b[43m,\u001b[49m\u001b[43m \u001b[49m\u001b[43mstream\u001b[49m\u001b[38;5;241;43m=\u001b[39;49m\u001b[43mstream\u001b[49m\u001b[43m,\u001b[49m\u001b[43m \u001b[49m\u001b[43mstream_cls\u001b[49m\u001b[38;5;241;43m=\u001b[39;49m\u001b[43mstream_cls\u001b[49m\u001b[43m)\u001b[49m)\n",
      "File \u001b[1;32md:\\Documents\\AI\\RAG\\transformers\\lib\\site-packages\\groq\\_base_client.py:958\u001b[0m, in \u001b[0;36mSyncAPIClient.request\u001b[1;34m(self, cast_to, options, remaining_retries, stream, stream_cls)\u001b[0m\n\u001b[0;32m    955\u001b[0m \u001b[38;5;28;01melse\u001b[39;00m:\n\u001b[0;32m    956\u001b[0m     retries_taken \u001b[38;5;241m=\u001b[39m \u001b[38;5;241m0\u001b[39m\n\u001b[1;32m--> 958\u001b[0m \u001b[38;5;28;01mreturn\u001b[39;00m \u001b[38;5;28;43mself\u001b[39;49m\u001b[38;5;241;43m.\u001b[39;49m\u001b[43m_request\u001b[49m\u001b[43m(\u001b[49m\n\u001b[0;32m    959\u001b[0m \u001b[43m    \u001b[49m\u001b[43mcast_to\u001b[49m\u001b[38;5;241;43m=\u001b[39;49m\u001b[43mcast_to\u001b[49m\u001b[43m,\u001b[49m\n\u001b[0;32m    960\u001b[0m \u001b[43m    \u001b[49m\u001b[43moptions\u001b[49m\u001b[38;5;241;43m=\u001b[39;49m\u001b[43moptions\u001b[49m\u001b[43m,\u001b[49m\n\u001b[0;32m    961\u001b[0m \u001b[43m    \u001b[49m\u001b[43mstream\u001b[49m\u001b[38;5;241;43m=\u001b[39;49m\u001b[43mstream\u001b[49m\u001b[43m,\u001b[49m\n\u001b[0;32m    962\u001b[0m \u001b[43m    \u001b[49m\u001b[43mstream_cls\u001b[49m\u001b[38;5;241;43m=\u001b[39;49m\u001b[43mstream_cls\u001b[49m\u001b[43m,\u001b[49m\n\u001b[0;32m    963\u001b[0m \u001b[43m    \u001b[49m\u001b[43mretries_taken\u001b[49m\u001b[38;5;241;43m=\u001b[39;49m\u001b[43mretries_taken\u001b[49m\u001b[43m,\u001b[49m\n\u001b[0;32m    964\u001b[0m \u001b[43m\u001b[49m\u001b[43m)\u001b[49m\n",
      "File \u001b[1;32md:\\Documents\\AI\\RAG\\transformers\\lib\\site-packages\\groq\\_base_client.py:1046\u001b[0m, in \u001b[0;36mSyncAPIClient._request\u001b[1;34m(self, cast_to, options, retries_taken, stream, stream_cls)\u001b[0m\n\u001b[0;32m   1044\u001b[0m \u001b[38;5;28;01mif\u001b[39;00m remaining_retries \u001b[38;5;241m>\u001b[39m \u001b[38;5;241m0\u001b[39m \u001b[38;5;129;01mand\u001b[39;00m \u001b[38;5;28mself\u001b[39m\u001b[38;5;241m.\u001b[39m_should_retry(err\u001b[38;5;241m.\u001b[39mresponse):\n\u001b[0;32m   1045\u001b[0m     err\u001b[38;5;241m.\u001b[39mresponse\u001b[38;5;241m.\u001b[39mclose()\n\u001b[1;32m-> 1046\u001b[0m     \u001b[38;5;28;01mreturn\u001b[39;00m \u001b[38;5;28;43mself\u001b[39;49m\u001b[38;5;241;43m.\u001b[39;49m\u001b[43m_retry_request\u001b[49m\u001b[43m(\u001b[49m\n\u001b[0;32m   1047\u001b[0m \u001b[43m        \u001b[49m\u001b[43minput_options\u001b[49m\u001b[43m,\u001b[49m\n\u001b[0;32m   1048\u001b[0m \u001b[43m        \u001b[49m\u001b[43mcast_to\u001b[49m\u001b[43m,\u001b[49m\n\u001b[0;32m   1049\u001b[0m \u001b[43m        \u001b[49m\u001b[43mretries_taken\u001b[49m\u001b[38;5;241;43m=\u001b[39;49m\u001b[43mretries_taken\u001b[49m\u001b[43m,\u001b[49m\n\u001b[0;32m   1050\u001b[0m \u001b[43m        \u001b[49m\u001b[43mresponse_headers\u001b[49m\u001b[38;5;241;43m=\u001b[39;49m\u001b[43merr\u001b[49m\u001b[38;5;241;43m.\u001b[39;49m\u001b[43mresponse\u001b[49m\u001b[38;5;241;43m.\u001b[39;49m\u001b[43mheaders\u001b[49m\u001b[43m,\u001b[49m\n\u001b[0;32m   1051\u001b[0m \u001b[43m        \u001b[49m\u001b[43mstream\u001b[49m\u001b[38;5;241;43m=\u001b[39;49m\u001b[43mstream\u001b[49m\u001b[43m,\u001b[49m\n\u001b[0;32m   1052\u001b[0m \u001b[43m        \u001b[49m\u001b[43mstream_cls\u001b[49m\u001b[38;5;241;43m=\u001b[39;49m\u001b[43mstream_cls\u001b[49m\u001b[43m,\u001b[49m\n\u001b[0;32m   1053\u001b[0m \u001b[43m    \u001b[49m\u001b[43m)\u001b[49m\n\u001b[0;32m   1055\u001b[0m \u001b[38;5;66;03m# If the response is streamed then we need to explicitly read the response\u001b[39;00m\n\u001b[0;32m   1056\u001b[0m \u001b[38;5;66;03m# to completion before attempting to access the response text.\u001b[39;00m\n\u001b[0;32m   1057\u001b[0m \u001b[38;5;28;01mif\u001b[39;00m \u001b[38;5;129;01mnot\u001b[39;00m err\u001b[38;5;241m.\u001b[39mresponse\u001b[38;5;241m.\u001b[39mis_closed:\n",
      "File \u001b[1;32md:\\Documents\\AI\\RAG\\transformers\\lib\\site-packages\\groq\\_base_client.py:1093\u001b[0m, in \u001b[0;36mSyncAPIClient._retry_request\u001b[1;34m(self, options, cast_to, retries_taken, response_headers, stream, stream_cls)\u001b[0m\n\u001b[0;32m   1089\u001b[0m log\u001b[38;5;241m.\u001b[39minfo(\u001b[38;5;124m\"\u001b[39m\u001b[38;5;124mRetrying request to \u001b[39m\u001b[38;5;132;01m%s\u001b[39;00m\u001b[38;5;124m in \u001b[39m\u001b[38;5;132;01m%f\u001b[39;00m\u001b[38;5;124m seconds\u001b[39m\u001b[38;5;124m\"\u001b[39m, options\u001b[38;5;241m.\u001b[39murl, timeout)\n\u001b[0;32m   1091\u001b[0m \u001b[38;5;66;03m# In a synchronous context we are blocking the entire thread. Up to the library user to run the client in a\u001b[39;00m\n\u001b[0;32m   1092\u001b[0m \u001b[38;5;66;03m# different thread if necessary.\u001b[39;00m\n\u001b[1;32m-> 1093\u001b[0m \u001b[43mtime\u001b[49m\u001b[38;5;241;43m.\u001b[39;49m\u001b[43msleep\u001b[49m\u001b[43m(\u001b[49m\u001b[43mtimeout\u001b[49m\u001b[43m)\u001b[49m\n\u001b[0;32m   1095\u001b[0m \u001b[38;5;28;01mreturn\u001b[39;00m \u001b[38;5;28mself\u001b[39m\u001b[38;5;241m.\u001b[39m_request(\n\u001b[0;32m   1096\u001b[0m     options\u001b[38;5;241m=\u001b[39moptions,\n\u001b[0;32m   1097\u001b[0m     cast_to\u001b[38;5;241m=\u001b[39mcast_to,\n\u001b[1;32m   (...)\u001b[0m\n\u001b[0;32m   1100\u001b[0m     stream_cls\u001b[38;5;241m=\u001b[39mstream_cls,\n\u001b[0;32m   1101\u001b[0m )\n",
      "\u001b[1;31mKeyboardInterrupt\u001b[0m: "
     ]
    }
   ],
   "source": [
    "from tqdm import tqdm\n",
    "\n",
    "key = 16\n",
    "\n",
    "def generate_df(key, chunks):\n",
    "    for i in range(4, 6):\n",
    "        print(i, \"th chunk\")\n",
    "        print(\"faithfulness\")\n",
    "        chunks[key][\"faithfulness\"] = [faithfulness(client, row[\"question\"], row[\"context\"], row[\"response\"]) for ind, row in tqdm(chunks[key].iterrows())]\n",
    "        pd.DataFrame(chunks[key][\"faithfulness\"]).to_parquet(f\"faithful_{key}_{i + 1}.parquet\")\n",
    "    for i in range(5, 6):\n",
    "        print(\"answer relevancy\")\n",
    "        chunks[key][\"AR\"] = [answer_relevancy(client, row[\"question\"], row[\"context\"], row[\"response\"]) for ind, row in tqdm(chunks[key].iterrows())]\n",
    "        pd.DataFrame(chunks[key][\"AR\"]).to_parquet(f\"AR_{key}_{i + 1}.parquet\")\n",
    "\n",
    "generate_df(key, chunks)"
   ]
  },
  {
   "cell_type": "code",
   "execution_count": 15,
   "metadata": {
    "execution": {
     "iopub.execute_input": "2025-01-16T09:12:11.945208Z",
     "iopub.status.busy": "2025-01-16T09:12:11.944361Z",
     "iopub.status.idle": "2025-01-16T10:02:09.855981Z",
     "shell.execute_reply": "2025-01-16T10:02:09.854539Z",
     "shell.execute_reply.started": "2025-01-16T09:12:11.945173Z"
    },
    "trusted": true
   },
   "outputs": [
    {
     "name": "stdout",
     "output_type": "stream",
     "text": [
      "5 th chunk\n",
      "faithfulness\n"
     ]
    },
    {
     "name": "stderr",
     "output_type": "stream",
     "text": [
      "\n",
      "\n",
      "\n",
      "0it [00:00, ?it/s]\u001b[A\u001b[A\u001b[A\n",
      "\n",
      "\n",
      "1it [00:02,  2.73s/it]\u001b[A\u001b[A\u001b[A\n",
      "\n",
      "\n",
      "2it [00:05,  2.67s/it]\u001b[A\u001b[A\u001b[A\n",
      "\n",
      "\n",
      "3it [00:06,  2.19s/it]\u001b[A\u001b[A\u001b[A\n",
      "\n",
      "\n",
      "4it [00:08,  1.94s/it]\u001b[A\u001b[A\u001b[A\n",
      "\n",
      "\n",
      "5it [00:11,  2.39s/it]\u001b[A\u001b[A\u001b[A\n",
      "\n",
      "\n",
      "6it [00:27,  6.96s/it]\u001b[A\u001b[A\u001b[A\n",
      "\n",
      "\n",
      "7it [00:46, 10.73s/it]\u001b[A\u001b[A\u001b[A\n",
      "\n",
      "\n",
      "8it [00:59, 11.55s/it]\u001b[A\u001b[A\u001b[A\n",
      "\n",
      "\n",
      "9it [01:13, 12.42s/it]\u001b[A\u001b[A\u001b[A\n",
      "\n",
      "\n",
      "10it [01:25, 12.24s/it]\u001b[A\u001b[A\u001b[A\n",
      "\n",
      "\n",
      "11it [01:34, 11.14s/it]\u001b[A\u001b[A\u001b[A\n",
      "\n",
      "\n",
      "12it [01:45, 11.12s/it]\u001b[A\u001b[A\u001b[A\n",
      "\n",
      "\n",
      "13it [01:59, 12.06s/it]\u001b[A\u001b[A\u001b[A\n",
      "\n",
      "\n",
      "14it [02:11, 12.03s/it]\u001b[A\u001b[A\u001b[A\n",
      "\n",
      "\n",
      "15it [02:22, 11.70s/it]\u001b[A\u001b[A\u001b[A\n",
      "\n",
      "\n",
      "16it [02:35, 12.02s/it]\u001b[A\u001b[A\u001b[A\n",
      "\n",
      "\n",
      "17it [02:47, 12.10s/it]\u001b[A\u001b[A\u001b[A\n",
      "\n",
      "\n",
      "18it [03:02, 12.86s/it]\u001b[A\u001b[A\u001b[A\n",
      "\n",
      "\n",
      "19it [03:20, 14.42s/it]\u001b[A\u001b[A\u001b[A\n",
      "\n",
      "\n",
      "20it [03:35, 14.58s/it]\u001b[A\u001b[A\u001b[A\n",
      "\n",
      "\n",
      "21it [03:48, 14.12s/it]\u001b[A\u001b[A\u001b[A\n",
      "\n",
      "\n",
      "22it [04:05, 15.09s/it]\u001b[A\u001b[A\u001b[A\n",
      "\n",
      "\n",
      "23it [04:21, 15.44s/it]\u001b[A\u001b[A\u001b[A\n",
      "\n",
      "\n",
      "24it [04:35, 15.02s/it]\u001b[A\u001b[A\u001b[A\n",
      "\n",
      "\n",
      "25it [04:50, 14.82s/it]\u001b[A\u001b[A\u001b[A\n",
      "\n",
      "\n",
      "26it [05:03, 14.28s/it]\u001b[A\u001b[A\u001b[A\n",
      "\n",
      "\n",
      "27it [05:19, 14.95s/it]\u001b[A\u001b[A\u001b[A\n",
      "\n",
      "\n",
      "28it [05:37, 15.84s/it]\u001b[A\u001b[A\u001b[A\n",
      "\n",
      "\n",
      "29it [05:53, 15.81s/it]\u001b[A\u001b[A\u001b[A\n",
      "\n",
      "\n",
      "30it [06:04, 14.40s/it]\u001b[A\u001b[A\u001b[A\n",
      "\n",
      "\n",
      "31it [06:21, 15.06s/it]\u001b[A\u001b[A\u001b[A\n",
      "\n",
      "\n",
      "32it [06:32, 14.06s/it]\u001b[A\u001b[A\u001b[A\n",
      "\n",
      "\n",
      "33it [06:47, 14.15s/it]\u001b[A\u001b[A\u001b[A\n",
      "\n",
      "\n",
      "34it [06:59, 13.75s/it]\u001b[A\u001b[A\u001b[A\n",
      "\n",
      "\n",
      "35it [07:15, 14.26s/it]\u001b[A\u001b[A\u001b[A\n",
      "\n",
      "\n",
      "36it [07:23, 12.47s/it]\u001b[A\u001b[A\u001b[A\n",
      "\n",
      "\n",
      "37it [07:32, 11.26s/it]\u001b[A\u001b[A\u001b[A\n",
      "\n",
      "\n",
      "38it [07:40, 10.49s/it]\u001b[A\u001b[A\u001b[A\n",
      "\n",
      "\n",
      "39it [07:54, 11.34s/it]\u001b[A\u001b[A\u001b[A\n",
      "\n",
      "\n",
      "40it [08:09, 12.57s/it]\u001b[A\u001b[A\u001b[A\n",
      "\n",
      "\n",
      "41it [08:26, 13.91s/it]\u001b[A\u001b[A\u001b[A\n",
      "\n",
      "\n",
      "42it [08:39, 13.60s/it]\u001b[A\u001b[A\u001b[A\n",
      "\n",
      "\n",
      "43it [08:53, 13.73s/it]\u001b[A\u001b[A\u001b[A\n",
      "\n",
      "\n",
      "44it [09:08, 14.17s/it]\u001b[A\u001b[A\u001b[A\n",
      "\n",
      "\n",
      "45it [09:25, 15.05s/it]\u001b[A\u001b[A\u001b[A\n",
      "\n",
      "\n",
      "46it [09:42, 15.55s/it]\u001b[A\u001b[A\u001b[A\n",
      "\n",
      "\n",
      "47it [10:02, 16.95s/it]\u001b[A\u001b[A\u001b[A\n",
      "\n",
      "\n",
      "48it [10:19, 17.04s/it]\u001b[A\u001b[A\u001b[A\n",
      "\n",
      "\n",
      "49it [10:30, 15.20s/it]\u001b[A\u001b[A\u001b[A\n",
      "\n",
      "\n",
      "50it [10:45, 15.02s/it]\u001b[A\u001b[A\u001b[A\n",
      "\n",
      "\n",
      "51it [11:01, 15.32s/it]\u001b[A\u001b[A\u001b[A\n",
      "\n",
      "\n",
      "52it [11:15, 14.88s/it]\u001b[A\u001b[A\u001b[A\n",
      "\n",
      "\n",
      "53it [11:30, 14.97s/it]\u001b[A\u001b[A\u001b[A\n",
      "\n",
      "\n",
      "54it [11:43, 14.43s/it]\u001b[A\u001b[A\u001b[A\n",
      "\n",
      "\n",
      "55it [11:57, 14.36s/it]\u001b[A\u001b[A\u001b[A\n",
      "\n",
      "\n",
      "56it [12:11, 14.27s/it]\u001b[A\u001b[A\u001b[A\n",
      "\n",
      "\n",
      "57it [12:27, 14.53s/it]\u001b[A\u001b[A\u001b[A\n",
      "\n",
      "\n",
      "58it [12:41, 14.42s/it]\u001b[A\u001b[A\u001b[A\n",
      "\n",
      "\n",
      "59it [12:55, 14.39s/it]\u001b[A\u001b[A\u001b[A\n",
      "\n",
      "\n",
      "60it [13:08, 13.84s/it]\u001b[A\u001b[A\u001b[A\n",
      "\n",
      "\n",
      "61it [13:19, 13.12s/it]\u001b[A\u001b[A\u001b[A\n",
      "\n",
      "\n",
      "62it [13:32, 12.95s/it]\u001b[A\u001b[A\u001b[A\n",
      "\n",
      "\n",
      "63it [13:48, 13.92s/it]\u001b[A\u001b[A\u001b[A\n",
      "\n",
      "\n",
      "64it [14:04, 14.48s/it]\u001b[A\u001b[A\u001b[A\n",
      "\n",
      "\n",
      "65it [14:21, 15.35s/it]\u001b[A\u001b[A\u001b[A\n",
      "\n",
      "\n",
      "66it [14:39, 16.02s/it]\u001b[A\u001b[A\u001b[A\n",
      "\n",
      "\n",
      "67it [14:50, 14.73s/it]\u001b[A\u001b[A\u001b[A\n",
      "\n",
      "\n",
      "68it [15:05, 14.74s/it]\u001b[A\u001b[A\u001b[A\n",
      "\n",
      "\n",
      "69it [15:22, 15.29s/it]\u001b[A\u001b[A\u001b[A\n",
      "\n",
      "\n",
      "70it [15:36, 15.05s/it]\u001b[A\u001b[A\u001b[A\n",
      "\n",
      "\n",
      "71it [15:47, 13.66s/it]\u001b[A\u001b[A\u001b[A\n",
      "\n",
      "\n",
      "72it [15:55, 12.06s/it]\u001b[A\u001b[A\u001b[A\n",
      "\n",
      "\n",
      "73it [16:02, 10.49s/it]\u001b[A\u001b[A\u001b[A\n",
      "\n",
      "\n",
      "74it [16:10,  9.82s/it]\u001b[A\u001b[A\u001b[A\n",
      "\n",
      "\n",
      "75it [16:19,  9.72s/it]\u001b[A\u001b[A\u001b[A\n",
      "\n",
      "\n",
      "76it [16:31, 10.37s/it]\u001b[A\u001b[A\u001b[A\n",
      "\n",
      "\n",
      "77it [16:44, 11.09s/it]\u001b[A\u001b[A\u001b[A\n",
      "\n",
      "\n",
      "78it [16:58, 11.82s/it]\u001b[A\u001b[A\u001b[A\n",
      "\n",
      "\n",
      "79it [17:11, 12.24s/it]\u001b[A\u001b[A\u001b[A\n",
      "\n",
      "\n",
      "80it [17:23, 12.22s/it]\u001b[A\u001b[A\u001b[A\n",
      "\n",
      "\n",
      "81it [17:37, 12.67s/it]\u001b[A\u001b[A\u001b[A\n",
      "\n",
      "\n",
      "82it [17:52, 13.53s/it]\u001b[A\u001b[A\u001b[A\n",
      "\n",
      "\n",
      "83it [18:06, 13.57s/it]\u001b[A\u001b[A\u001b[A\n",
      "\n",
      "\n",
      "84it [18:19, 13.37s/it]\u001b[A\u001b[A\u001b[A\n",
      "\n",
      "\n",
      "85it [18:31, 13.03s/it]\u001b[A\u001b[A\u001b[A\n",
      "\n",
      "\n",
      "86it [18:44, 12.99s/it]\u001b[A\u001b[A\u001b[A\n",
      "\n",
      "\n",
      "87it [18:55, 12.44s/it]\u001b[A\u001b[A\u001b[A\n",
      "\n",
      "\n",
      "88it [19:06, 11.97s/it]\u001b[A\u001b[A\u001b[A\n",
      "\n",
      "\n",
      "89it [19:19, 12.41s/it]\u001b[A\u001b[A\u001b[A\n",
      "\n",
      "\n",
      "90it [19:32, 12.36s/it]\u001b[A\u001b[A\u001b[A\n",
      "\n",
      "\n",
      "91it [19:44, 12.26s/it]\u001b[A\u001b[A\u001b[A\n",
      "\n",
      "\n",
      "92it [19:57, 12.60s/it]\u001b[A\u001b[A\u001b[A\n",
      "\n",
      "\n",
      "93it [20:12, 13.23s/it]\u001b[A\u001b[A\u001b[A\n",
      "\n",
      "\n",
      "94it [20:25, 13.24s/it]\u001b[A\u001b[A\u001b[A\n",
      "\n",
      "\n",
      "95it [20:40, 13.79s/it]\u001b[A\u001b[A\u001b[A\n",
      "\n",
      "\n",
      "96it [20:55, 14.22s/it]\u001b[A\u001b[A\u001b[A\n",
      "\n",
      "\n",
      "97it [21:10, 14.25s/it]\u001b[A\u001b[A\u001b[A\n",
      "\n",
      "\n",
      "98it [21:26, 14.78s/it]\u001b[A\u001b[A\u001b[A\n",
      "\n",
      "\n",
      "99it [21:46, 16.35s/it]\u001b[A\u001b[A\u001b[A\n",
      "\n",
      "\n",
      "100it [22:00, 13.21s/it]\u001b[A\u001b[A\u001b[A\n",
      "/tmp/ipykernel_23/3590083628.py:7: SettingWithCopyWarning: \n",
      "A value is trying to be set on a copy of a slice from a DataFrame.\n",
      "Try using .loc[row_indexer,col_indexer] = value instead\n",
      "\n",
      "See the caveats in the documentation: https://pandas.pydata.org/pandas-docs/stable/user_guide/indexing.html#returning-a-view-versus-a-copy\n",
      "  chunk[\"faithfulness\"] = [faithfulness(client, row[\"question\"], row[\"context\"], row[\"response\"]) for ind, row in tqdm(chunk.iterrows())]\n"
     ]
    },
    {
     "name": "stdout",
     "output_type": "stream",
     "text": [
      "answer relevancy\n"
     ]
    },
    {
     "name": "stderr",
     "output_type": "stream",
     "text": [
      "\n",
      "\n",
      "\n",
      "0it [00:00, ?it/s]\u001b[A\u001b[A\u001b[A"
     ]
    },
    {
     "data": {
      "application/vnd.jupyter.widget-view+json": {
       "model_id": "d99d98c6c5504d44a7b612d5e6b8bd25",
       "version_major": 2,
       "version_minor": 0
      },
      "text/plain": [
       "Batches:   0%|          | 0/1 [00:00<?, ?it/s]"
      ]
     },
     "metadata": {},
     "output_type": "display_data"
    },
    {
     "data": {
      "application/vnd.jupyter.widget-view+json": {
       "model_id": "611aa7f1f45246c99e3c7e4d6f45afea",
       "version_major": 2,
       "version_minor": 0
      },
      "text/plain": [
       "Batches:   0%|          | 0/1 [00:00<?, ?it/s]"
      ]
     },
     "metadata": {},
     "output_type": "display_data"
    },
    {
     "name": "stderr",
     "output_type": "stream",
     "text": [
      "\n",
      "\n",
      "\n",
      "1it [00:06,  6.58s/it]\u001b[A\u001b[A\u001b[A"
     ]
    },
    {
     "data": {
      "application/vnd.jupyter.widget-view+json": {
       "model_id": "3a66453a9bf84729a3448f0cdd4cb1f1",
       "version_major": 2,
       "version_minor": 0
      },
      "text/plain": [
       "Batches:   0%|          | 0/1 [00:00<?, ?it/s]"
      ]
     },
     "metadata": {},
     "output_type": "display_data"
    },
    {
     "data": {
      "application/vnd.jupyter.widget-view+json": {
       "model_id": "ff68c00adc034f459e6e88b7733952b0",
       "version_major": 2,
       "version_minor": 0
      },
      "text/plain": [
       "Batches:   0%|          | 0/1 [00:00<?, ?it/s]"
      ]
     },
     "metadata": {},
     "output_type": "display_data"
    },
    {
     "name": "stderr",
     "output_type": "stream",
     "text": [
      "\n",
      "\n",
      "\n",
      "2it [00:10,  4.93s/it]\u001b[A\u001b[A\u001b[A"
     ]
    },
    {
     "data": {
      "application/vnd.jupyter.widget-view+json": {
       "model_id": "6564cc78feb24d3caf6fb26661a46917",
       "version_major": 2,
       "version_minor": 0
      },
      "text/plain": [
       "Batches:   0%|          | 0/1 [00:00<?, ?it/s]"
      ]
     },
     "metadata": {},
     "output_type": "display_data"
    },
    {
     "data": {
      "application/vnd.jupyter.widget-view+json": {
       "model_id": "612cdbb3c2b34a358f332aa8b7a5790e",
       "version_major": 2,
       "version_minor": 0
      },
      "text/plain": [
       "Batches:   0%|          | 0/1 [00:00<?, ?it/s]"
      ]
     },
     "metadata": {},
     "output_type": "display_data"
    },
    {
     "name": "stderr",
     "output_type": "stream",
     "text": [
      "\n",
      "\n",
      "\n",
      "3it [00:13,  3.97s/it]\u001b[A\u001b[A\u001b[A"
     ]
    },
    {
     "data": {
      "application/vnd.jupyter.widget-view+json": {
       "model_id": "a0c6402b73bc4178a119a803e127687e",
       "version_major": 2,
       "version_minor": 0
      },
      "text/plain": [
       "Batches:   0%|          | 0/1 [00:00<?, ?it/s]"
      ]
     },
     "metadata": {},
     "output_type": "display_data"
    },
    {
     "data": {
      "application/vnd.jupyter.widget-view+json": {
       "model_id": "03d2558e7fb944648d91ea56450d6782",
       "version_major": 2,
       "version_minor": 0
      },
      "text/plain": [
       "Batches:   0%|          | 0/1 [00:00<?, ?it/s]"
      ]
     },
     "metadata": {},
     "output_type": "display_data"
    },
    {
     "name": "stderr",
     "output_type": "stream",
     "text": [
      "\n",
      "\n",
      "\n",
      "4it [00:17,  4.28s/it]\u001b[A\u001b[A\u001b[A"
     ]
    },
    {
     "data": {
      "application/vnd.jupyter.widget-view+json": {
       "model_id": "0ab87eda91b743cc9d6f3431d8ee5539",
       "version_major": 2,
       "version_minor": 0
      },
      "text/plain": [
       "Batches:   0%|          | 0/1 [00:00<?, ?it/s]"
      ]
     },
     "metadata": {},
     "output_type": "display_data"
    },
    {
     "data": {
      "application/vnd.jupyter.widget-view+json": {
       "model_id": "1139e667b28545a1a5226fda759e56ad",
       "version_major": 2,
       "version_minor": 0
      },
      "text/plain": [
       "Batches:   0%|          | 0/1 [00:00<?, ?it/s]"
      ]
     },
     "metadata": {},
     "output_type": "display_data"
    },
    {
     "name": "stderr",
     "output_type": "stream",
     "text": [
      "\n",
      "\n",
      "\n",
      "5it [00:21,  4.09s/it]\u001b[A\u001b[A\u001b[A"
     ]
    },
    {
     "data": {
      "application/vnd.jupyter.widget-view+json": {
       "model_id": "415f01e103164df1bd2d6d6e22f0e98c",
       "version_major": 2,
       "version_minor": 0
      },
      "text/plain": [
       "Batches:   0%|          | 0/1 [00:00<?, ?it/s]"
      ]
     },
     "metadata": {},
     "output_type": "display_data"
    },
    {
     "data": {
      "application/vnd.jupyter.widget-view+json": {
       "model_id": "3532b0aa4fc245a0bfb023b08e946a20",
       "version_major": 2,
       "version_minor": 0
      },
      "text/plain": [
       "Batches:   0%|          | 0/1 [00:00<?, ?it/s]"
      ]
     },
     "metadata": {},
     "output_type": "display_data"
    },
    {
     "name": "stderr",
     "output_type": "stream",
     "text": [
      "\n",
      "\n",
      "\n",
      "6it [00:25,  3.98s/it]\u001b[A\u001b[A\u001b[A"
     ]
    },
    {
     "data": {
      "application/vnd.jupyter.widget-view+json": {
       "model_id": "a1118ea8b8294f9e8923d4db49fde74c",
       "version_major": 2,
       "version_minor": 0
      },
      "text/plain": [
       "Batches:   0%|          | 0/1 [00:00<?, ?it/s]"
      ]
     },
     "metadata": {},
     "output_type": "display_data"
    },
    {
     "data": {
      "application/vnd.jupyter.widget-view+json": {
       "model_id": "8fb24003a8294749b3bdd4ab71fa89ed",
       "version_major": 2,
       "version_minor": 0
      },
      "text/plain": [
       "Batches:   0%|          | 0/1 [00:00<?, ?it/s]"
      ]
     },
     "metadata": {},
     "output_type": "display_data"
    },
    {
     "name": "stderr",
     "output_type": "stream",
     "text": [
      "\n",
      "\n",
      "\n",
      "7it [00:31,  4.59s/it]\u001b[A\u001b[A\u001b[A"
     ]
    },
    {
     "data": {
      "application/vnd.jupyter.widget-view+json": {
       "model_id": "cffdc3dbcd594654945a466750a88ae5",
       "version_major": 2,
       "version_minor": 0
      },
      "text/plain": [
       "Batches:   0%|          | 0/1 [00:00<?, ?it/s]"
      ]
     },
     "metadata": {},
     "output_type": "display_data"
    },
    {
     "data": {
      "application/vnd.jupyter.widget-view+json": {
       "model_id": "b99bb91a3c5840afb506e9a48b6f6cb2",
       "version_major": 2,
       "version_minor": 0
      },
      "text/plain": [
       "Batches:   0%|          | 0/1 [00:00<?, ?it/s]"
      ]
     },
     "metadata": {},
     "output_type": "display_data"
    },
    {
     "name": "stderr",
     "output_type": "stream",
     "text": [
      "\n",
      "\n",
      "\n",
      "8it [00:34,  4.30s/it]\u001b[A\u001b[A\u001b[A"
     ]
    },
    {
     "data": {
      "application/vnd.jupyter.widget-view+json": {
       "model_id": "dbdbc47c3aca41eaa2515a100cda4322",
       "version_major": 2,
       "version_minor": 0
      },
      "text/plain": [
       "Batches:   0%|          | 0/1 [00:00<?, ?it/s]"
      ]
     },
     "metadata": {},
     "output_type": "display_data"
    },
    {
     "data": {
      "application/vnd.jupyter.widget-view+json": {
       "model_id": "dc4d2346366f4d479cf5b390efbd5e03",
       "version_major": 2,
       "version_minor": 0
      },
      "text/plain": [
       "Batches:   0%|          | 0/1 [00:00<?, ?it/s]"
      ]
     },
     "metadata": {},
     "output_type": "display_data"
    },
    {
     "name": "stderr",
     "output_type": "stream",
     "text": [
      "\n",
      "\n",
      "\n",
      "9it [00:39,  4.39s/it]\u001b[A\u001b[A\u001b[A"
     ]
    },
    {
     "data": {
      "application/vnd.jupyter.widget-view+json": {
       "model_id": "48cfac3b57504121a37f9ac2febb85cb",
       "version_major": 2,
       "version_minor": 0
      },
      "text/plain": [
       "Batches:   0%|          | 0/1 [00:00<?, ?it/s]"
      ]
     },
     "metadata": {},
     "output_type": "display_data"
    },
    {
     "data": {
      "application/vnd.jupyter.widget-view+json": {
       "model_id": "77050ce8a97f4ce6a7b79d9dd5110aa7",
       "version_major": 2,
       "version_minor": 0
      },
      "text/plain": [
       "Batches:   0%|          | 0/1 [00:00<?, ?it/s]"
      ]
     },
     "metadata": {},
     "output_type": "display_data"
    },
    {
     "name": "stderr",
     "output_type": "stream",
     "text": [
      "\n",
      "\n",
      "\n",
      "10it [00:42,  3.86s/it]\u001b[A\u001b[A\u001b[A"
     ]
    },
    {
     "data": {
      "application/vnd.jupyter.widget-view+json": {
       "model_id": "c0710288d9a641feb4229815cbea7a9e",
       "version_major": 2,
       "version_minor": 0
      },
      "text/plain": [
       "Batches:   0%|          | 0/1 [00:00<?, ?it/s]"
      ]
     },
     "metadata": {},
     "output_type": "display_data"
    },
    {
     "data": {
      "application/vnd.jupyter.widget-view+json": {
       "model_id": "eef7e24a38fa4601881a388fc7e09b9c",
       "version_major": 2,
       "version_minor": 0
      },
      "text/plain": [
       "Batches:   0%|          | 0/1 [00:00<?, ?it/s]"
      ]
     },
     "metadata": {},
     "output_type": "display_data"
    },
    {
     "name": "stderr",
     "output_type": "stream",
     "text": [
      "\n",
      "\n",
      "\n",
      "11it [00:43,  3.17s/it]\u001b[A\u001b[A\u001b[A"
     ]
    },
    {
     "data": {
      "application/vnd.jupyter.widget-view+json": {
       "model_id": "80541b7d341242ea991eca0e3cd1d1bd",
       "version_major": 2,
       "version_minor": 0
      },
      "text/plain": [
       "Batches:   0%|          | 0/1 [00:00<?, ?it/s]"
      ]
     },
     "metadata": {},
     "output_type": "display_data"
    },
    {
     "data": {
      "application/vnd.jupyter.widget-view+json": {
       "model_id": "93b66a7bdae542218543f200db6a0220",
       "version_major": 2,
       "version_minor": 0
      },
      "text/plain": [
       "Batches:   0%|          | 0/1 [00:00<?, ?it/s]"
      ]
     },
     "metadata": {},
     "output_type": "display_data"
    },
    {
     "name": "stderr",
     "output_type": "stream",
     "text": [
      "\n",
      "\n",
      "\n",
      "12it [00:47,  3.32s/it]\u001b[A\u001b[A\u001b[A"
     ]
    },
    {
     "data": {
      "application/vnd.jupyter.widget-view+json": {
       "model_id": "3b590b6929494474ac33c511ecca68cb",
       "version_major": 2,
       "version_minor": 0
      },
      "text/plain": [
       "Batches:   0%|          | 0/1 [00:00<?, ?it/s]"
      ]
     },
     "metadata": {},
     "output_type": "display_data"
    },
    {
     "data": {
      "application/vnd.jupyter.widget-view+json": {
       "model_id": "41d45f1ff31a4da6a749be2ab7f063d1",
       "version_major": 2,
       "version_minor": 0
      },
      "text/plain": [
       "Batches:   0%|          | 0/1 [00:00<?, ?it/s]"
      ]
     },
     "metadata": {},
     "output_type": "display_data"
    },
    {
     "name": "stderr",
     "output_type": "stream",
     "text": [
      "\n",
      "\n",
      "\n",
      "13it [00:52,  3.73s/it]\u001b[A\u001b[A\u001b[A"
     ]
    },
    {
     "data": {
      "application/vnd.jupyter.widget-view+json": {
       "model_id": "bc491e802cc947b786b21d5bf826a4af",
       "version_major": 2,
       "version_minor": 0
      },
      "text/plain": [
       "Batches:   0%|          | 0/1 [00:00<?, ?it/s]"
      ]
     },
     "metadata": {},
     "output_type": "display_data"
    },
    {
     "data": {
      "application/vnd.jupyter.widget-view+json": {
       "model_id": "a98c97e27dfb4b18ab79c0d2a95a55dd",
       "version_major": 2,
       "version_minor": 0
      },
      "text/plain": [
       "Batches:   0%|          | 0/1 [00:00<?, ?it/s]"
      ]
     },
     "metadata": {},
     "output_type": "display_data"
    },
    {
     "name": "stderr",
     "output_type": "stream",
     "text": [
      "\n",
      "\n",
      "\n",
      "14it [00:56,  4.04s/it]\u001b[A\u001b[A\u001b[A"
     ]
    },
    {
     "data": {
      "application/vnd.jupyter.widget-view+json": {
       "model_id": "0ed80b3ce2f44815adc8a1ce09f947a8",
       "version_major": 2,
       "version_minor": 0
      },
      "text/plain": [
       "Batches:   0%|          | 0/1 [00:00<?, ?it/s]"
      ]
     },
     "metadata": {},
     "output_type": "display_data"
    },
    {
     "data": {
      "application/vnd.jupyter.widget-view+json": {
       "model_id": "9196b6dfef604455a9f0720709eac646",
       "version_major": 2,
       "version_minor": 0
      },
      "text/plain": [
       "Batches:   0%|          | 0/1 [00:00<?, ?it/s]"
      ]
     },
     "metadata": {},
     "output_type": "display_data"
    },
    {
     "name": "stderr",
     "output_type": "stream",
     "text": [
      "\n",
      "\n",
      "\n",
      "15it [00:59,  3.61s/it]\u001b[A\u001b[A\u001b[A"
     ]
    },
    {
     "data": {
      "application/vnd.jupyter.widget-view+json": {
       "model_id": "a4e60fe616394012a057fda8fd4b10ea",
       "version_major": 2,
       "version_minor": 0
      },
      "text/plain": [
       "Batches:   0%|          | 0/1 [00:00<?, ?it/s]"
      ]
     },
     "metadata": {},
     "output_type": "display_data"
    },
    {
     "data": {
      "application/vnd.jupyter.widget-view+json": {
       "model_id": "0587a26fe1eb4dbe8e46ef8e985796b8",
       "version_major": 2,
       "version_minor": 0
      },
      "text/plain": [
       "Batches:   0%|          | 0/1 [00:00<?, ?it/s]"
      ]
     },
     "metadata": {},
     "output_type": "display_data"
    },
    {
     "name": "stderr",
     "output_type": "stream",
     "text": [
      "\n",
      "\n",
      "\n",
      "16it [01:02,  3.29s/it]\u001b[A\u001b[A\u001b[A"
     ]
    },
    {
     "data": {
      "application/vnd.jupyter.widget-view+json": {
       "model_id": "e24a162b6e6249ee873275454e01d2bc",
       "version_major": 2,
       "version_minor": 0
      },
      "text/plain": [
       "Batches:   0%|          | 0/1 [00:00<?, ?it/s]"
      ]
     },
     "metadata": {},
     "output_type": "display_data"
    },
    {
     "data": {
      "application/vnd.jupyter.widget-view+json": {
       "model_id": "6f17c51d11d14fcd8fcf97acdf0ccaa8",
       "version_major": 2,
       "version_minor": 0
      },
      "text/plain": [
       "Batches:   0%|          | 0/1 [00:00<?, ?it/s]"
      ]
     },
     "metadata": {},
     "output_type": "display_data"
    },
    {
     "name": "stderr",
     "output_type": "stream",
     "text": [
      "\n",
      "\n",
      "\n",
      "17it [01:04,  3.08s/it]\u001b[A\u001b[A\u001b[A"
     ]
    },
    {
     "data": {
      "application/vnd.jupyter.widget-view+json": {
       "model_id": "94408449951c44fd8883c2f6a1017dbe",
       "version_major": 2,
       "version_minor": 0
      },
      "text/plain": [
       "Batches:   0%|          | 0/1 [00:00<?, ?it/s]"
      ]
     },
     "metadata": {},
     "output_type": "display_data"
    },
    {
     "data": {
      "application/vnd.jupyter.widget-view+json": {
       "model_id": "28ced73258f6447ebb55562335eb6721",
       "version_major": 2,
       "version_minor": 0
      },
      "text/plain": [
       "Batches:   0%|          | 0/1 [00:00<?, ?it/s]"
      ]
     },
     "metadata": {},
     "output_type": "display_data"
    },
    {
     "name": "stderr",
     "output_type": "stream",
     "text": [
      "\n",
      "\n",
      "\n",
      "18it [01:08,  3.28s/it]\u001b[A\u001b[A\u001b[A"
     ]
    },
    {
     "data": {
      "application/vnd.jupyter.widget-view+json": {
       "model_id": "f48c624eed564f968d5e7bc390393447",
       "version_major": 2,
       "version_minor": 0
      },
      "text/plain": [
       "Batches:   0%|          | 0/1 [00:00<?, ?it/s]"
      ]
     },
     "metadata": {},
     "output_type": "display_data"
    },
    {
     "data": {
      "application/vnd.jupyter.widget-view+json": {
       "model_id": "4a55552641364cdc8561a777b8f31f54",
       "version_major": 2,
       "version_minor": 0
      },
      "text/plain": [
       "Batches:   0%|          | 0/1 [00:00<?, ?it/s]"
      ]
     },
     "metadata": {},
     "output_type": "display_data"
    },
    {
     "name": "stderr",
     "output_type": "stream",
     "text": [
      "\n",
      "\n",
      "\n",
      "19it [01:14,  4.06s/it]\u001b[A\u001b[A\u001b[A"
     ]
    },
    {
     "data": {
      "application/vnd.jupyter.widget-view+json": {
       "model_id": "af9234edea784ca1b39d04d3fbea9ea6",
       "version_major": 2,
       "version_minor": 0
      },
      "text/plain": [
       "Batches:   0%|          | 0/1 [00:00<?, ?it/s]"
      ]
     },
     "metadata": {},
     "output_type": "display_data"
    },
    {
     "data": {
      "application/vnd.jupyter.widget-view+json": {
       "model_id": "5a727ce0007d4d65988c4f3401d0adea",
       "version_major": 2,
       "version_minor": 0
      },
      "text/plain": [
       "Batches:   0%|          | 0/1 [00:00<?, ?it/s]"
      ]
     },
     "metadata": {},
     "output_type": "display_data"
    },
    {
     "name": "stderr",
     "output_type": "stream",
     "text": [
      "\n",
      "\n",
      "\n",
      "20it [01:17,  3.90s/it]\u001b[A\u001b[A\u001b[A"
     ]
    },
    {
     "data": {
      "application/vnd.jupyter.widget-view+json": {
       "model_id": "b6fd616cbf164e338d5a4a1fae453d48",
       "version_major": 2,
       "version_minor": 0
      },
      "text/plain": [
       "Batches:   0%|          | 0/1 [00:00<?, ?it/s]"
      ]
     },
     "metadata": {},
     "output_type": "display_data"
    },
    {
     "data": {
      "application/vnd.jupyter.widget-view+json": {
       "model_id": "5729715b8b8a4fb4b3c44d454ed09922",
       "version_major": 2,
       "version_minor": 0
      },
      "text/plain": [
       "Batches:   0%|          | 0/1 [00:00<?, ?it/s]"
      ]
     },
     "metadata": {},
     "output_type": "display_data"
    },
    {
     "name": "stderr",
     "output_type": "stream",
     "text": [
      "\n",
      "\n",
      "\n",
      "21it [01:20,  3.53s/it]\u001b[A\u001b[A\u001b[A"
     ]
    },
    {
     "data": {
      "application/vnd.jupyter.widget-view+json": {
       "model_id": "9057db8cfdb34626abf1362d4ce6ecb9",
       "version_major": 2,
       "version_minor": 0
      },
      "text/plain": [
       "Batches:   0%|          | 0/1 [00:00<?, ?it/s]"
      ]
     },
     "metadata": {},
     "output_type": "display_data"
    },
    {
     "data": {
      "application/vnd.jupyter.widget-view+json": {
       "model_id": "5debec94e95744169638fe140dc3669b",
       "version_major": 2,
       "version_minor": 0
      },
      "text/plain": [
       "Batches:   0%|          | 0/1 [00:00<?, ?it/s]"
      ]
     },
     "metadata": {},
     "output_type": "display_data"
    },
    {
     "name": "stderr",
     "output_type": "stream",
     "text": [
      "\n",
      "\n",
      "\n",
      "22it [01:24,  3.60s/it]\u001b[A\u001b[A\u001b[A"
     ]
    },
    {
     "data": {
      "application/vnd.jupyter.widget-view+json": {
       "model_id": "5a0197b298254dc5a38d62b1c95f7c1c",
       "version_major": 2,
       "version_minor": 0
      },
      "text/plain": [
       "Batches:   0%|          | 0/1 [00:00<?, ?it/s]"
      ]
     },
     "metadata": {},
     "output_type": "display_data"
    },
    {
     "data": {
      "application/vnd.jupyter.widget-view+json": {
       "model_id": "c2bf6f222b6341d4bde645431f9526cc",
       "version_major": 2,
       "version_minor": 0
      },
      "text/plain": [
       "Batches:   0%|          | 0/1 [00:00<?, ?it/s]"
      ]
     },
     "metadata": {},
     "output_type": "display_data"
    },
    {
     "name": "stderr",
     "output_type": "stream",
     "text": [
      "\n",
      "\n",
      "\n",
      "23it [01:29,  3.95s/it]\u001b[A\u001b[A\u001b[A"
     ]
    },
    {
     "data": {
      "application/vnd.jupyter.widget-view+json": {
       "model_id": "1ade74d34dac425baf3327ab2b3fead5",
       "version_major": 2,
       "version_minor": 0
      },
      "text/plain": [
       "Batches:   0%|          | 0/1 [00:00<?, ?it/s]"
      ]
     },
     "metadata": {},
     "output_type": "display_data"
    },
    {
     "data": {
      "application/vnd.jupyter.widget-view+json": {
       "model_id": "54e71b04f707499c8601fcc004a423ba",
       "version_major": 2,
       "version_minor": 0
      },
      "text/plain": [
       "Batches:   0%|          | 0/1 [00:00<?, ?it/s]"
      ]
     },
     "metadata": {},
     "output_type": "display_data"
    },
    {
     "name": "stderr",
     "output_type": "stream",
     "text": [
      "\n",
      "\n",
      "\n",
      "24it [01:32,  3.85s/it]\u001b[A\u001b[A\u001b[A"
     ]
    },
    {
     "data": {
      "application/vnd.jupyter.widget-view+json": {
       "model_id": "9fa682e82c134dd795e74a02f3283220",
       "version_major": 2,
       "version_minor": 0
      },
      "text/plain": [
       "Batches:   0%|          | 0/1 [00:00<?, ?it/s]"
      ]
     },
     "metadata": {},
     "output_type": "display_data"
    },
    {
     "data": {
      "application/vnd.jupyter.widget-view+json": {
       "model_id": "67d35d02c5ba4c5ba489533f912ac2df",
       "version_major": 2,
       "version_minor": 0
      },
      "text/plain": [
       "Batches:   0%|          | 0/1 [00:00<?, ?it/s]"
      ]
     },
     "metadata": {},
     "output_type": "display_data"
    },
    {
     "name": "stderr",
     "output_type": "stream",
     "text": [
      "\n",
      "\n",
      "\n",
      "25it [01:36,  3.78s/it]\u001b[A\u001b[A\u001b[A"
     ]
    },
    {
     "data": {
      "application/vnd.jupyter.widget-view+json": {
       "model_id": "b10bc25622cb4a6b821039f3689df43f",
       "version_major": 2,
       "version_minor": 0
      },
      "text/plain": [
       "Batches:   0%|          | 0/1 [00:00<?, ?it/s]"
      ]
     },
     "metadata": {},
     "output_type": "display_data"
    },
    {
     "data": {
      "application/vnd.jupyter.widget-view+json": {
       "model_id": "f227fd21cbd34614904a1a44b9f4ea9e",
       "version_major": 2,
       "version_minor": 0
      },
      "text/plain": [
       "Batches:   0%|          | 0/1 [00:00<?, ?it/s]"
      ]
     },
     "metadata": {},
     "output_type": "display_data"
    },
    {
     "name": "stderr",
     "output_type": "stream",
     "text": [
      "\n",
      "\n",
      "\n",
      "26it [01:38,  3.45s/it]\u001b[A\u001b[A\u001b[A"
     ]
    },
    {
     "data": {
      "application/vnd.jupyter.widget-view+json": {
       "model_id": "d92a1cca586c4c01bd50e08a7cd99a06",
       "version_major": 2,
       "version_minor": 0
      },
      "text/plain": [
       "Batches:   0%|          | 0/1 [00:00<?, ?it/s]"
      ]
     },
     "metadata": {},
     "output_type": "display_data"
    },
    {
     "data": {
      "application/vnd.jupyter.widget-view+json": {
       "model_id": "357b034111cf42959ba4ee8b3910c41f",
       "version_major": 2,
       "version_minor": 0
      },
      "text/plain": [
       "Batches:   0%|          | 0/1 [00:00<?, ?it/s]"
      ]
     },
     "metadata": {},
     "output_type": "display_data"
    },
    {
     "name": "stderr",
     "output_type": "stream",
     "text": [
      "\n",
      "\n",
      "\n",
      "27it [01:43,  3.80s/it]\u001b[A\u001b[A\u001b[A"
     ]
    },
    {
     "data": {
      "application/vnd.jupyter.widget-view+json": {
       "model_id": "b894ec5b4d93449cb27bec5d6ccde09f",
       "version_major": 2,
       "version_minor": 0
      },
      "text/plain": [
       "Batches:   0%|          | 0/1 [00:00<?, ?it/s]"
      ]
     },
     "metadata": {},
     "output_type": "display_data"
    },
    {
     "data": {
      "application/vnd.jupyter.widget-view+json": {
       "model_id": "2045afdc91a24601a84fbc0c31915031",
       "version_major": 2,
       "version_minor": 0
      },
      "text/plain": [
       "Batches:   0%|          | 0/1 [00:00<?, ?it/s]"
      ]
     },
     "metadata": {},
     "output_type": "display_data"
    },
    {
     "name": "stderr",
     "output_type": "stream",
     "text": [
      "\n",
      "\n",
      "\n",
      "28it [01:47,  3.79s/it]\u001b[A\u001b[A\u001b[A"
     ]
    },
    {
     "data": {
      "application/vnd.jupyter.widget-view+json": {
       "model_id": "887010538d6347c2b3b8b00daf973be0",
       "version_major": 2,
       "version_minor": 0
      },
      "text/plain": [
       "Batches:   0%|          | 0/1 [00:00<?, ?it/s]"
      ]
     },
     "metadata": {},
     "output_type": "display_data"
    },
    {
     "data": {
      "application/vnd.jupyter.widget-view+json": {
       "model_id": "385cdb4cd11941cb86cd031e8650258f",
       "version_major": 2,
       "version_minor": 0
      },
      "text/plain": [
       "Batches:   0%|          | 0/1 [00:00<?, ?it/s]"
      ]
     },
     "metadata": {},
     "output_type": "display_data"
    },
    {
     "name": "stderr",
     "output_type": "stream",
     "text": [
      "\n",
      "\n",
      "\n",
      "29it [01:52,  4.09s/it]\u001b[A\u001b[A\u001b[A"
     ]
    },
    {
     "data": {
      "application/vnd.jupyter.widget-view+json": {
       "model_id": "5e45fbca30a1400da96ad2c69e319522",
       "version_major": 2,
       "version_minor": 0
      },
      "text/plain": [
       "Batches:   0%|          | 0/1 [00:00<?, ?it/s]"
      ]
     },
     "metadata": {},
     "output_type": "display_data"
    },
    {
     "data": {
      "application/vnd.jupyter.widget-view+json": {
       "model_id": "7c57e8b221f84cbf905d3487bc314547",
       "version_major": 2,
       "version_minor": 0
      },
      "text/plain": [
       "Batches:   0%|          | 0/1 [00:00<?, ?it/s]"
      ]
     },
     "metadata": {},
     "output_type": "display_data"
    },
    {
     "name": "stderr",
     "output_type": "stream",
     "text": [
      "\n",
      "\n",
      "\n",
      "30it [01:54,  3.62s/it]\u001b[A\u001b[A\u001b[A"
     ]
    },
    {
     "data": {
      "application/vnd.jupyter.widget-view+json": {
       "model_id": "191e4d0ba48448ecbad009295c74d8f8",
       "version_major": 2,
       "version_minor": 0
      },
      "text/plain": [
       "Batches:   0%|          | 0/1 [00:00<?, ?it/s]"
      ]
     },
     "metadata": {},
     "output_type": "display_data"
    },
    {
     "data": {
      "application/vnd.jupyter.widget-view+json": {
       "model_id": "e3f946f99cfc437d96fcb1802a182d9a",
       "version_major": 2,
       "version_minor": 0
      },
      "text/plain": [
       "Batches:   0%|          | 0/1 [00:00<?, ?it/s]"
      ]
     },
     "metadata": {},
     "output_type": "display_data"
    },
    {
     "name": "stderr",
     "output_type": "stream",
     "text": [
      "\n",
      "\n",
      "\n",
      "31it [03:20, 28.40s/it]\u001b[A\u001b[A\u001b[A"
     ]
    },
    {
     "data": {
      "application/vnd.jupyter.widget-view+json": {
       "model_id": "c3c7f1a1a1d24f34aea6c19c5320fb40",
       "version_major": 2,
       "version_minor": 0
      },
      "text/plain": [
       "Batches:   0%|          | 0/1 [00:00<?, ?it/s]"
      ]
     },
     "metadata": {},
     "output_type": "display_data"
    },
    {
     "data": {
      "application/vnd.jupyter.widget-view+json": {
       "model_id": "6102d268d4ac4f05bbcf51a3720b32d0",
       "version_major": 2,
       "version_minor": 0
      },
      "text/plain": [
       "Batches:   0%|          | 0/1 [00:00<?, ?it/s]"
      ]
     },
     "metadata": {},
     "output_type": "display_data"
    },
    {
     "name": "stderr",
     "output_type": "stream",
     "text": [
      "\n",
      "\n",
      "\n",
      "32it [03:21, 20.03s/it]\u001b[A\u001b[A\u001b[A"
     ]
    },
    {
     "data": {
      "application/vnd.jupyter.widget-view+json": {
       "model_id": "c007f992dde5497ab822c7459a1abccc",
       "version_major": 2,
       "version_minor": 0
      },
      "text/plain": [
       "Batches:   0%|          | 0/1 [00:00<?, ?it/s]"
      ]
     },
     "metadata": {},
     "output_type": "display_data"
    },
    {
     "data": {
      "application/vnd.jupyter.widget-view+json": {
       "model_id": "8f2358a0c4264b1cb94b243e9ac8df9e",
       "version_major": 2,
       "version_minor": 0
      },
      "text/plain": [
       "Batches:   0%|          | 0/1 [00:00<?, ?it/s]"
      ]
     },
     "metadata": {},
     "output_type": "display_data"
    },
    {
     "name": "stderr",
     "output_type": "stream",
     "text": [
      "\n",
      "\n",
      "\n",
      "33it [03:21, 14.19s/it]\u001b[A\u001b[A\u001b[A"
     ]
    },
    {
     "data": {
      "application/vnd.jupyter.widget-view+json": {
       "model_id": "652021900b4b409999db498b3ebffcd1",
       "version_major": 2,
       "version_minor": 0
      },
      "text/plain": [
       "Batches:   0%|          | 0/1 [00:00<?, ?it/s]"
      ]
     },
     "metadata": {},
     "output_type": "display_data"
    },
    {
     "data": {
      "application/vnd.jupyter.widget-view+json": {
       "model_id": "2d5a0965777445ecbd3d2e95cc99fbb0",
       "version_major": 2,
       "version_minor": 0
      },
      "text/plain": [
       "Batches:   0%|          | 0/1 [00:00<?, ?it/s]"
      ]
     },
     "metadata": {},
     "output_type": "display_data"
    },
    {
     "name": "stderr",
     "output_type": "stream",
     "text": [
      "\n",
      "\n",
      "\n",
      "34it [03:22, 10.08s/it]\u001b[A\u001b[A\u001b[A"
     ]
    },
    {
     "data": {
      "application/vnd.jupyter.widget-view+json": {
       "model_id": "a82a25e7392e44b39c232912aeea8c76",
       "version_major": 2,
       "version_minor": 0
      },
      "text/plain": [
       "Batches:   0%|          | 0/1 [00:00<?, ?it/s]"
      ]
     },
     "metadata": {},
     "output_type": "display_data"
    },
    {
     "data": {
      "application/vnd.jupyter.widget-view+json": {
       "model_id": "938e1ef31a4147eea32e9a66d10e8143",
       "version_major": 2,
       "version_minor": 0
      },
      "text/plain": [
       "Batches:   0%|          | 0/1 [00:00<?, ?it/s]"
      ]
     },
     "metadata": {},
     "output_type": "display_data"
    },
    {
     "name": "stderr",
     "output_type": "stream",
     "text": [
      "\n",
      "\n",
      "\n",
      "35it [03:23,  7.23s/it]\u001b[A\u001b[A\u001b[A"
     ]
    },
    {
     "data": {
      "application/vnd.jupyter.widget-view+json": {
       "model_id": "3c74d106985e4efdaa750f95034a5534",
       "version_major": 2,
       "version_minor": 0
      },
      "text/plain": [
       "Batches:   0%|          | 0/1 [00:00<?, ?it/s]"
      ]
     },
     "metadata": {},
     "output_type": "display_data"
    },
    {
     "data": {
      "application/vnd.jupyter.widget-view+json": {
       "model_id": "edd1c26caa9d4f8ba700d3f1f4db32ff",
       "version_major": 2,
       "version_minor": 0
      },
      "text/plain": [
       "Batches:   0%|          | 0/1 [00:00<?, ?it/s]"
      ]
     },
     "metadata": {},
     "output_type": "display_data"
    },
    {
     "name": "stderr",
     "output_type": "stream",
     "text": [
      "\n",
      "\n",
      "\n",
      "36it [03:23,  5.28s/it]\u001b[A\u001b[A\u001b[A"
     ]
    },
    {
     "data": {
      "application/vnd.jupyter.widget-view+json": {
       "model_id": "993ef9b456e047e1aef0aa94f798ee2e",
       "version_major": 2,
       "version_minor": 0
      },
      "text/plain": [
       "Batches:   0%|          | 0/1 [00:00<?, ?it/s]"
      ]
     },
     "metadata": {},
     "output_type": "display_data"
    },
    {
     "data": {
      "application/vnd.jupyter.widget-view+json": {
       "model_id": "b4da3da126ee438aa41f295535e06358",
       "version_major": 2,
       "version_minor": 0
      },
      "text/plain": [
       "Batches:   0%|          | 0/1 [00:00<?, ?it/s]"
      ]
     },
     "metadata": {},
     "output_type": "display_data"
    },
    {
     "name": "stderr",
     "output_type": "stream",
     "text": [
      "\n",
      "\n",
      "\n",
      "37it [03:24,  3.85s/it]\u001b[A\u001b[A\u001b[A"
     ]
    },
    {
     "data": {
      "application/vnd.jupyter.widget-view+json": {
       "model_id": "d239a05ec4bf4e6d99236958a2c91696",
       "version_major": 2,
       "version_minor": 0
      },
      "text/plain": [
       "Batches:   0%|          | 0/1 [00:00<?, ?it/s]"
      ]
     },
     "metadata": {},
     "output_type": "display_data"
    },
    {
     "data": {
      "application/vnd.jupyter.widget-view+json": {
       "model_id": "4e382009181a4cadafe8577f54fa7153",
       "version_major": 2,
       "version_minor": 0
      },
      "text/plain": [
       "Batches:   0%|          | 0/1 [00:00<?, ?it/s]"
      ]
     },
     "metadata": {},
     "output_type": "display_data"
    },
    {
     "name": "stderr",
     "output_type": "stream",
     "text": [
      "\n",
      "\n",
      "\n",
      "38it [03:24,  2.82s/it]\u001b[A\u001b[A\u001b[A"
     ]
    },
    {
     "data": {
      "application/vnd.jupyter.widget-view+json": {
       "model_id": "0562068fb83b43399ed394450adc6b75",
       "version_major": 2,
       "version_minor": 0
      },
      "text/plain": [
       "Batches:   0%|          | 0/1 [00:00<?, ?it/s]"
      ]
     },
     "metadata": {},
     "output_type": "display_data"
    },
    {
     "data": {
      "application/vnd.jupyter.widget-view+json": {
       "model_id": "66ae0b34e65a4e03bdda64785ac3a174",
       "version_major": 2,
       "version_minor": 0
      },
      "text/plain": [
       "Batches:   0%|          | 0/1 [00:00<?, ?it/s]"
      ]
     },
     "metadata": {},
     "output_type": "display_data"
    },
    {
     "name": "stderr",
     "output_type": "stream",
     "text": [
      "\n",
      "\n",
      "\n",
      "39it [03:25,  2.11s/it]\u001b[A\u001b[A\u001b[A"
     ]
    },
    {
     "data": {
      "application/vnd.jupyter.widget-view+json": {
       "model_id": "4891ecccbd794378a89e50dfd20828da",
       "version_major": 2,
       "version_minor": 0
      },
      "text/plain": [
       "Batches:   0%|          | 0/1 [00:00<?, ?it/s]"
      ]
     },
     "metadata": {},
     "output_type": "display_data"
    },
    {
     "data": {
      "application/vnd.jupyter.widget-view+json": {
       "model_id": "ac3626ce2c15452a94e95f8184f1f159",
       "version_major": 2,
       "version_minor": 0
      },
      "text/plain": [
       "Batches:   0%|          | 0/1 [00:00<?, ?it/s]"
      ]
     },
     "metadata": {},
     "output_type": "display_data"
    },
    {
     "name": "stderr",
     "output_type": "stream",
     "text": [
      "\n",
      "\n",
      "\n",
      "40it [03:25,  1.68s/it]\u001b[A\u001b[A\u001b[A"
     ]
    },
    {
     "data": {
      "application/vnd.jupyter.widget-view+json": {
       "model_id": "6873bd2f99c7412eb2eca52ec6ba76cc",
       "version_major": 2,
       "version_minor": 0
      },
      "text/plain": [
       "Batches:   0%|          | 0/1 [00:00<?, ?it/s]"
      ]
     },
     "metadata": {},
     "output_type": "display_data"
    },
    {
     "data": {
      "application/vnd.jupyter.widget-view+json": {
       "model_id": "c1a04582003b46d585ddd73b4b07e339",
       "version_major": 2,
       "version_minor": 0
      },
      "text/plain": [
       "Batches:   0%|          | 0/1 [00:00<?, ?it/s]"
      ]
     },
     "metadata": {},
     "output_type": "display_data"
    },
    {
     "name": "stderr",
     "output_type": "stream",
     "text": [
      "\n",
      "\n",
      "\n",
      "41it [03:26,  1.36s/it]\u001b[A\u001b[A\u001b[A"
     ]
    },
    {
     "data": {
      "application/vnd.jupyter.widget-view+json": {
       "model_id": "aae52406874a4048b69e7d275d4e87a6",
       "version_major": 2,
       "version_minor": 0
      },
      "text/plain": [
       "Batches:   0%|          | 0/1 [00:00<?, ?it/s]"
      ]
     },
     "metadata": {},
     "output_type": "display_data"
    },
    {
     "data": {
      "application/vnd.jupyter.widget-view+json": {
       "model_id": "ad6f13d0566e40a5aea96138f36e9e50",
       "version_major": 2,
       "version_minor": 0
      },
      "text/plain": [
       "Batches:   0%|          | 0/1 [00:00<?, ?it/s]"
      ]
     },
     "metadata": {},
     "output_type": "display_data"
    },
    {
     "name": "stderr",
     "output_type": "stream",
     "text": [
      "\n",
      "\n",
      "\n",
      "42it [03:27,  1.16s/it]\u001b[A\u001b[A\u001b[A"
     ]
    },
    {
     "data": {
      "application/vnd.jupyter.widget-view+json": {
       "model_id": "029e2dce98ce43a1a66777130e33d2be",
       "version_major": 2,
       "version_minor": 0
      },
      "text/plain": [
       "Batches:   0%|          | 0/1 [00:00<?, ?it/s]"
      ]
     },
     "metadata": {},
     "output_type": "display_data"
    },
    {
     "data": {
      "application/vnd.jupyter.widget-view+json": {
       "model_id": "deb824be7e614ca79cbb795d2902d5a5",
       "version_major": 2,
       "version_minor": 0
      },
      "text/plain": [
       "Batches:   0%|          | 0/1 [00:00<?, ?it/s]"
      ]
     },
     "metadata": {},
     "output_type": "display_data"
    },
    {
     "name": "stderr",
     "output_type": "stream",
     "text": [
      "\n",
      "\n",
      "\n",
      "43it [03:27,  1.02it/s]\u001b[A\u001b[A\u001b[A"
     ]
    },
    {
     "data": {
      "application/vnd.jupyter.widget-view+json": {
       "model_id": "157fe573dce74bd49464fce7347f2070",
       "version_major": 2,
       "version_minor": 0
      },
      "text/plain": [
       "Batches:   0%|          | 0/1 [00:00<?, ?it/s]"
      ]
     },
     "metadata": {},
     "output_type": "display_data"
    },
    {
     "data": {
      "application/vnd.jupyter.widget-view+json": {
       "model_id": "aea3b6368c794ea8b810c0cf32f64ca5",
       "version_major": 2,
       "version_minor": 0
      },
      "text/plain": [
       "Batches:   0%|          | 0/1 [00:00<?, ?it/s]"
      ]
     },
     "metadata": {},
     "output_type": "display_data"
    },
    {
     "name": "stderr",
     "output_type": "stream",
     "text": [
      "\n",
      "\n",
      "\n",
      "44it [03:28,  1.13it/s]\u001b[A\u001b[A\u001b[A"
     ]
    },
    {
     "data": {
      "application/vnd.jupyter.widget-view+json": {
       "model_id": "6cfd4085a12a4b11809607a0e967ee19",
       "version_major": 2,
       "version_minor": 0
      },
      "text/plain": [
       "Batches:   0%|          | 0/1 [00:00<?, ?it/s]"
      ]
     },
     "metadata": {},
     "output_type": "display_data"
    },
    {
     "data": {
      "application/vnd.jupyter.widget-view+json": {
       "model_id": "fa933a390b8b4fb9b5c87edd9ebd4706",
       "version_major": 2,
       "version_minor": 0
      },
      "text/plain": [
       "Batches:   0%|          | 0/1 [00:00<?, ?it/s]"
      ]
     },
     "metadata": {},
     "output_type": "display_data"
    },
    {
     "name": "stderr",
     "output_type": "stream",
     "text": [
      "\n",
      "\n",
      "\n",
      "45it [03:28,  1.24it/s]\u001b[A\u001b[A\u001b[A"
     ]
    },
    {
     "data": {
      "application/vnd.jupyter.widget-view+json": {
       "model_id": "cc7c7e2ea69648eb9e66baf44c6fd61a",
       "version_major": 2,
       "version_minor": 0
      },
      "text/plain": [
       "Batches:   0%|          | 0/1 [00:00<?, ?it/s]"
      ]
     },
     "metadata": {},
     "output_type": "display_data"
    },
    {
     "data": {
      "application/vnd.jupyter.widget-view+json": {
       "model_id": "bdebf18de983467baf6a18d68d3498f4",
       "version_major": 2,
       "version_minor": 0
      },
      "text/plain": [
       "Batches:   0%|          | 0/1 [00:00<?, ?it/s]"
      ]
     },
     "metadata": {},
     "output_type": "display_data"
    },
    {
     "name": "stderr",
     "output_type": "stream",
     "text": [
      "\n",
      "\n",
      "\n",
      "46it [03:29,  1.36it/s]\u001b[A\u001b[A\u001b[A"
     ]
    },
    {
     "data": {
      "application/vnd.jupyter.widget-view+json": {
       "model_id": "34afd20c1f80473dba7f23b68a44554b",
       "version_major": 2,
       "version_minor": 0
      },
      "text/plain": [
       "Batches:   0%|          | 0/1 [00:00<?, ?it/s]"
      ]
     },
     "metadata": {},
     "output_type": "display_data"
    },
    {
     "data": {
      "application/vnd.jupyter.widget-view+json": {
       "model_id": "79a8e0f6da0b47059821cca93dd5a9cd",
       "version_major": 2,
       "version_minor": 0
      },
      "text/plain": [
       "Batches:   0%|          | 0/1 [00:00<?, ?it/s]"
      ]
     },
     "metadata": {},
     "output_type": "display_data"
    },
    {
     "name": "stderr",
     "output_type": "stream",
     "text": [
      "\n",
      "\n",
      "\n",
      "47it [03:30,  1.48it/s]\u001b[A\u001b[A\u001b[A"
     ]
    },
    {
     "data": {
      "application/vnd.jupyter.widget-view+json": {
       "model_id": "cf21171f7daa43149203484433d1c9ca",
       "version_major": 2,
       "version_minor": 0
      },
      "text/plain": [
       "Batches:   0%|          | 0/1 [00:00<?, ?it/s]"
      ]
     },
     "metadata": {},
     "output_type": "display_data"
    },
    {
     "data": {
      "application/vnd.jupyter.widget-view+json": {
       "model_id": "f26fd8b8a7454211ac340b380436cf3e",
       "version_major": 2,
       "version_minor": 0
      },
      "text/plain": [
       "Batches:   0%|          | 0/1 [00:00<?, ?it/s]"
      ]
     },
     "metadata": {},
     "output_type": "display_data"
    },
    {
     "name": "stderr",
     "output_type": "stream",
     "text": [
      "\n",
      "\n",
      "\n",
      "48it [03:30,  1.56it/s]\u001b[A\u001b[A\u001b[A"
     ]
    },
    {
     "data": {
      "application/vnd.jupyter.widget-view+json": {
       "model_id": "0b5a15bf60074b57b290e10791cbe5df",
       "version_major": 2,
       "version_minor": 0
      },
      "text/plain": [
       "Batches:   0%|          | 0/1 [00:00<?, ?it/s]"
      ]
     },
     "metadata": {},
     "output_type": "display_data"
    },
    {
     "data": {
      "application/vnd.jupyter.widget-view+json": {
       "model_id": "8fcd4dceeccd482c8d08ba187f28238e",
       "version_major": 2,
       "version_minor": 0
      },
      "text/plain": [
       "Batches:   0%|          | 0/1 [00:00<?, ?it/s]"
      ]
     },
     "metadata": {},
     "output_type": "display_data"
    },
    {
     "name": "stderr",
     "output_type": "stream",
     "text": [
      "\n",
      "\n",
      "\n",
      "49it [03:32,  1.04it/s]\u001b[A\u001b[A\u001b[A"
     ]
    },
    {
     "data": {
      "application/vnd.jupyter.widget-view+json": {
       "model_id": "07b4c3938d594e43aa2c5fb268174da3",
       "version_major": 2,
       "version_minor": 0
      },
      "text/plain": [
       "Batches:   0%|          | 0/1 [00:00<?, ?it/s]"
      ]
     },
     "metadata": {},
     "output_type": "display_data"
    },
    {
     "data": {
      "application/vnd.jupyter.widget-view+json": {
       "model_id": "7951f6acdc194be4aa25c10ba1d7cef5",
       "version_major": 2,
       "version_minor": 0
      },
      "text/plain": [
       "Batches:   0%|          | 0/1 [00:00<?, ?it/s]"
      ]
     },
     "metadata": {},
     "output_type": "display_data"
    },
    {
     "name": "stderr",
     "output_type": "stream",
     "text": [
      "\n",
      "\n",
      "\n",
      "50it [03:37,  2.09s/it]\u001b[A\u001b[A\u001b[A"
     ]
    },
    {
     "data": {
      "application/vnd.jupyter.widget-view+json": {
       "model_id": "db3f4065fa8e479bbbcbfeb4130a5b22",
       "version_major": 2,
       "version_minor": 0
      },
      "text/plain": [
       "Batches:   0%|          | 0/1 [00:00<?, ?it/s]"
      ]
     },
     "metadata": {},
     "output_type": "display_data"
    },
    {
     "data": {
      "application/vnd.jupyter.widget-view+json": {
       "model_id": "e26b093d6d5d4f06922b6f427519eec1",
       "version_major": 2,
       "version_minor": 0
      },
      "text/plain": [
       "Batches:   0%|          | 0/1 [00:00<?, ?it/s]"
      ]
     },
     "metadata": {},
     "output_type": "display_data"
    },
    {
     "name": "stderr",
     "output_type": "stream",
     "text": [
      "\n",
      "\n",
      "\n",
      "51it [03:40,  2.59s/it]\u001b[A\u001b[A\u001b[A"
     ]
    },
    {
     "data": {
      "application/vnd.jupyter.widget-view+json": {
       "model_id": "593af1dc28d2481293e09cf80ad3e1a0",
       "version_major": 2,
       "version_minor": 0
      },
      "text/plain": [
       "Batches:   0%|          | 0/1 [00:00<?, ?it/s]"
      ]
     },
     "metadata": {},
     "output_type": "display_data"
    },
    {
     "data": {
      "application/vnd.jupyter.widget-view+json": {
       "model_id": "b5ea5869741e4a849341f8c541d5d0a5",
       "version_major": 2,
       "version_minor": 0
      },
      "text/plain": [
       "Batches:   0%|          | 0/1 [00:00<?, ?it/s]"
      ]
     },
     "metadata": {},
     "output_type": "display_data"
    },
    {
     "name": "stderr",
     "output_type": "stream",
     "text": [
      "\n",
      "\n",
      "\n",
      "52it [03:43,  2.66s/it]\u001b[A\u001b[A\u001b[A"
     ]
    },
    {
     "data": {
      "application/vnd.jupyter.widget-view+json": {
       "model_id": "9565f6ee71b74c158afe49562098bf26",
       "version_major": 2,
       "version_minor": 0
      },
      "text/plain": [
       "Batches:   0%|          | 0/1 [00:00<?, ?it/s]"
      ]
     },
     "metadata": {},
     "output_type": "display_data"
    },
    {
     "data": {
      "application/vnd.jupyter.widget-view+json": {
       "model_id": "2771802b088547dab4e74c280e2cf5ed",
       "version_major": 2,
       "version_minor": 0
      },
      "text/plain": [
       "Batches:   0%|          | 0/1 [00:00<?, ?it/s]"
      ]
     },
     "metadata": {},
     "output_type": "display_data"
    },
    {
     "name": "stderr",
     "output_type": "stream",
     "text": [
      "\n",
      "\n",
      "\n",
      "53it [03:47,  2.95s/it]\u001b[A\u001b[A\u001b[A"
     ]
    },
    {
     "data": {
      "application/vnd.jupyter.widget-view+json": {
       "model_id": "6f5238d11ae94a3b93f6428d4fcf72af",
       "version_major": 2,
       "version_minor": 0
      },
      "text/plain": [
       "Batches:   0%|          | 0/1 [00:00<?, ?it/s]"
      ]
     },
     "metadata": {},
     "output_type": "display_data"
    },
    {
     "data": {
      "application/vnd.jupyter.widget-view+json": {
       "model_id": "5c370bd57dd2433abcd2357b79bda232",
       "version_major": 2,
       "version_minor": 0
      },
      "text/plain": [
       "Batches:   0%|          | 0/1 [00:00<?, ?it/s]"
      ]
     },
     "metadata": {},
     "output_type": "display_data"
    },
    {
     "name": "stderr",
     "output_type": "stream",
     "text": [
      "\n",
      "\n",
      "\n",
      "54it [03:50,  3.17s/it]\u001b[A\u001b[A\u001b[A"
     ]
    },
    {
     "data": {
      "application/vnd.jupyter.widget-view+json": {
       "model_id": "c2b427c7d4ab4e2dae5e008c9c124ae0",
       "version_major": 2,
       "version_minor": 0
      },
      "text/plain": [
       "Batches:   0%|          | 0/1 [00:00<?, ?it/s]"
      ]
     },
     "metadata": {},
     "output_type": "display_data"
    },
    {
     "data": {
      "application/vnd.jupyter.widget-view+json": {
       "model_id": "9e0ba1b407c74c95bf389a0bcf547443",
       "version_major": 2,
       "version_minor": 0
      },
      "text/plain": [
       "Batches:   0%|          | 0/1 [00:00<?, ?it/s]"
      ]
     },
     "metadata": {},
     "output_type": "display_data"
    },
    {
     "name": "stderr",
     "output_type": "stream",
     "text": [
      "\n",
      "\n",
      "\n",
      "55it [03:54,  3.32s/it]\u001b[A\u001b[A\u001b[A"
     ]
    },
    {
     "data": {
      "application/vnd.jupyter.widget-view+json": {
       "model_id": "e0f9b3f37f434f5dac8d8b25c8762ed1",
       "version_major": 2,
       "version_minor": 0
      },
      "text/plain": [
       "Batches:   0%|          | 0/1 [00:00<?, ?it/s]"
      ]
     },
     "metadata": {},
     "output_type": "display_data"
    },
    {
     "data": {
      "application/vnd.jupyter.widget-view+json": {
       "model_id": "732d62e9a7cb4f2ebc0d913f74a8b9ae",
       "version_major": 2,
       "version_minor": 0
      },
      "text/plain": [
       "Batches:   0%|          | 0/1 [00:00<?, ?it/s]"
      ]
     },
     "metadata": {},
     "output_type": "display_data"
    },
    {
     "name": "stderr",
     "output_type": "stream",
     "text": [
      "\n",
      "\n",
      "\n",
      "56it [03:58,  3.43s/it]\u001b[A\u001b[A\u001b[A"
     ]
    },
    {
     "data": {
      "application/vnd.jupyter.widget-view+json": {
       "model_id": "c4d09f4e3b46448c959f85a10d06369a",
       "version_major": 2,
       "version_minor": 0
      },
      "text/plain": [
       "Batches:   0%|          | 0/1 [00:00<?, ?it/s]"
      ]
     },
     "metadata": {},
     "output_type": "display_data"
    },
    {
     "data": {
      "application/vnd.jupyter.widget-view+json": {
       "model_id": "46bd364e72bf456382426c9c8c5b38ec",
       "version_major": 2,
       "version_minor": 0
      },
      "text/plain": [
       "Batches:   0%|          | 0/1 [00:00<?, ?it/s]"
      ]
     },
     "metadata": {},
     "output_type": "display_data"
    },
    {
     "name": "stderr",
     "output_type": "stream",
     "text": [
      "\n",
      "\n",
      "\n",
      "57it [04:02,  3.56s/it]\u001b[A\u001b[A\u001b[A"
     ]
    },
    {
     "data": {
      "application/vnd.jupyter.widget-view+json": {
       "model_id": "4ae98f00417a415994b661fe9328b7d2",
       "version_major": 2,
       "version_minor": 0
      },
      "text/plain": [
       "Batches:   0%|          | 0/1 [00:00<?, ?it/s]"
      ]
     },
     "metadata": {},
     "output_type": "display_data"
    },
    {
     "data": {
      "application/vnd.jupyter.widget-view+json": {
       "model_id": "84778d802288489a8b1feee7256bb727",
       "version_major": 2,
       "version_minor": 0
      },
      "text/plain": [
       "Batches:   0%|          | 0/1 [00:00<?, ?it/s]"
      ]
     },
     "metadata": {},
     "output_type": "display_data"
    },
    {
     "name": "stderr",
     "output_type": "stream",
     "text": [
      "\n",
      "\n",
      "\n",
      "58it [04:05,  3.60s/it]\u001b[A\u001b[A\u001b[A"
     ]
    },
    {
     "data": {
      "application/vnd.jupyter.widget-view+json": {
       "model_id": "8e47865b45a74d96995269daf09a65ef",
       "version_major": 2,
       "version_minor": 0
      },
      "text/plain": [
       "Batches:   0%|          | 0/1 [00:00<?, ?it/s]"
      ]
     },
     "metadata": {},
     "output_type": "display_data"
    },
    {
     "data": {
      "application/vnd.jupyter.widget-view+json": {
       "model_id": "e2dc6e36c82c4e868ae5d67549d7e6ff",
       "version_major": 2,
       "version_minor": 0
      },
      "text/plain": [
       "Batches:   0%|          | 0/1 [00:00<?, ?it/s]"
      ]
     },
     "metadata": {},
     "output_type": "display_data"
    },
    {
     "name": "stderr",
     "output_type": "stream",
     "text": [
      "\n",
      "\n",
      "\n",
      "59it [04:09,  3.63s/it]\u001b[A\u001b[A\u001b[A"
     ]
    },
    {
     "data": {
      "application/vnd.jupyter.widget-view+json": {
       "model_id": "4bd6ce429e814241a83448668ca88cf0",
       "version_major": 2,
       "version_minor": 0
      },
      "text/plain": [
       "Batches:   0%|          | 0/1 [00:00<?, ?it/s]"
      ]
     },
     "metadata": {},
     "output_type": "display_data"
    },
    {
     "data": {
      "application/vnd.jupyter.widget-view+json": {
       "model_id": "4d5ac52c71f7486b9486751ded8b280e",
       "version_major": 2,
       "version_minor": 0
      },
      "text/plain": [
       "Batches:   0%|          | 0/1 [00:00<?, ?it/s]"
      ]
     },
     "metadata": {},
     "output_type": "display_data"
    },
    {
     "name": "stderr",
     "output_type": "stream",
     "text": [
      "\n",
      "\n",
      "\n",
      "60it [04:12,  3.34s/it]\u001b[A\u001b[A\u001b[A"
     ]
    },
    {
     "data": {
      "application/vnd.jupyter.widget-view+json": {
       "model_id": "87f9978a3d7b4124965c374336ee3f25",
       "version_major": 2,
       "version_minor": 0
      },
      "text/plain": [
       "Batches:   0%|          | 0/1 [00:00<?, ?it/s]"
      ]
     },
     "metadata": {},
     "output_type": "display_data"
    },
    {
     "data": {
      "application/vnd.jupyter.widget-view+json": {
       "model_id": "646b7ee6740c4a338b40ea09186a28fa",
       "version_major": 2,
       "version_minor": 0
      },
      "text/plain": [
       "Batches:   0%|          | 0/1 [00:00<?, ?it/s]"
      ]
     },
     "metadata": {},
     "output_type": "display_data"
    },
    {
     "name": "stderr",
     "output_type": "stream",
     "text": [
      "\n",
      "\n",
      "\n",
      "61it [06:40, 46.86s/it]\u001b[A\u001b[A\u001b[A"
     ]
    },
    {
     "data": {
      "application/vnd.jupyter.widget-view+json": {
       "model_id": "11949ddd4f0c4d19b30923eb8aafa27d",
       "version_major": 2,
       "version_minor": 0
      },
      "text/plain": [
       "Batches:   0%|          | 0/1 [00:00<?, ?it/s]"
      ]
     },
     "metadata": {},
     "output_type": "display_data"
    },
    {
     "data": {
      "application/vnd.jupyter.widget-view+json": {
       "model_id": "849c8845c5bb4cc0b3f70c3125cee631",
       "version_major": 2,
       "version_minor": 0
      },
      "text/plain": [
       "Batches:   0%|          | 0/1 [00:00<?, ?it/s]"
      ]
     },
     "metadata": {},
     "output_type": "display_data"
    },
    {
     "name": "stderr",
     "output_type": "stream",
     "text": [
      "\n",
      "\n",
      "\n",
      "62it [06:41, 32.97s/it]\u001b[A\u001b[A\u001b[A"
     ]
    },
    {
     "data": {
      "application/vnd.jupyter.widget-view+json": {
       "model_id": "f5e58b8bf62d4c1b9670607733989cc1",
       "version_major": 2,
       "version_minor": 0
      },
      "text/plain": [
       "Batches:   0%|          | 0/1 [00:00<?, ?it/s]"
      ]
     },
     "metadata": {},
     "output_type": "display_data"
    },
    {
     "data": {
      "application/vnd.jupyter.widget-view+json": {
       "model_id": "9732209a5fc947899425e18900f8c312",
       "version_major": 2,
       "version_minor": 0
      },
      "text/plain": [
       "Batches:   0%|          | 0/1 [00:00<?, ?it/s]"
      ]
     },
     "metadata": {},
     "output_type": "display_data"
    },
    {
     "name": "stderr",
     "output_type": "stream",
     "text": [
      "\n",
      "\n",
      "\n",
      "63it [06:41, 23.27s/it]\u001b[A\u001b[A\u001b[A"
     ]
    },
    {
     "data": {
      "application/vnd.jupyter.widget-view+json": {
       "model_id": "0998fb7caa9442dd969fbfea920781de",
       "version_major": 2,
       "version_minor": 0
      },
      "text/plain": [
       "Batches:   0%|          | 0/1 [00:00<?, ?it/s]"
      ]
     },
     "metadata": {},
     "output_type": "display_data"
    },
    {
     "data": {
      "application/vnd.jupyter.widget-view+json": {
       "model_id": "7e2c9db9895c4b1ebbd84a0bb5d89e99",
       "version_major": 2,
       "version_minor": 0
      },
      "text/plain": [
       "Batches:   0%|          | 0/1 [00:00<?, ?it/s]"
      ]
     },
     "metadata": {},
     "output_type": "display_data"
    },
    {
     "name": "stderr",
     "output_type": "stream",
     "text": [
      "\n",
      "\n",
      "\n",
      "64it [06:42, 16.49s/it]\u001b[A\u001b[A\u001b[A"
     ]
    },
    {
     "data": {
      "application/vnd.jupyter.widget-view+json": {
       "model_id": "5c0acb64a4a8459cb308dbe02a47865f",
       "version_major": 2,
       "version_minor": 0
      },
      "text/plain": [
       "Batches:   0%|          | 0/1 [00:00<?, ?it/s]"
      ]
     },
     "metadata": {},
     "output_type": "display_data"
    },
    {
     "data": {
      "application/vnd.jupyter.widget-view+json": {
       "model_id": "3065ae78141b4399a2dc519bbce82005",
       "version_major": 2,
       "version_minor": 0
      },
      "text/plain": [
       "Batches:   0%|          | 0/1 [00:00<?, ?it/s]"
      ]
     },
     "metadata": {},
     "output_type": "display_data"
    },
    {
     "name": "stderr",
     "output_type": "stream",
     "text": [
      "\n",
      "\n",
      "\n",
      "65it [06:43, 11.72s/it]\u001b[A\u001b[A\u001b[A"
     ]
    },
    {
     "data": {
      "application/vnd.jupyter.widget-view+json": {
       "model_id": "f892177b521a490a90999722c18cb2ba",
       "version_major": 2,
       "version_minor": 0
      },
      "text/plain": [
       "Batches:   0%|          | 0/1 [00:00<?, ?it/s]"
      ]
     },
     "metadata": {},
     "output_type": "display_data"
    },
    {
     "data": {
      "application/vnd.jupyter.widget-view+json": {
       "model_id": "38d797bcf9c54e5f8e8bc8431ce8064d",
       "version_major": 2,
       "version_minor": 0
      },
      "text/plain": [
       "Batches:   0%|          | 0/1 [00:00<?, ?it/s]"
      ]
     },
     "metadata": {},
     "output_type": "display_data"
    },
    {
     "name": "stderr",
     "output_type": "stream",
     "text": [
      "\n",
      "\n",
      "\n",
      "66it [06:43,  8.44s/it]\u001b[A\u001b[A\u001b[A"
     ]
    },
    {
     "data": {
      "application/vnd.jupyter.widget-view+json": {
       "model_id": "cd58c401862344a08926eaa8124f5842",
       "version_major": 2,
       "version_minor": 0
      },
      "text/plain": [
       "Batches:   0%|          | 0/1 [00:00<?, ?it/s]"
      ]
     },
     "metadata": {},
     "output_type": "display_data"
    },
    {
     "data": {
      "application/vnd.jupyter.widget-view+json": {
       "model_id": "9b88c54445cf4ed199b082cb237c4b4b",
       "version_major": 2,
       "version_minor": 0
      },
      "text/plain": [
       "Batches:   0%|          | 0/1 [00:00<?, ?it/s]"
      ]
     },
     "metadata": {},
     "output_type": "display_data"
    },
    {
     "name": "stderr",
     "output_type": "stream",
     "text": [
      "\n",
      "\n",
      "\n",
      "67it [06:44,  6.08s/it]\u001b[A\u001b[A\u001b[A"
     ]
    },
    {
     "data": {
      "application/vnd.jupyter.widget-view+json": {
       "model_id": "2b9796785f784e3082c3a70000cd0d6f",
       "version_major": 2,
       "version_minor": 0
      },
      "text/plain": [
       "Batches:   0%|          | 0/1 [00:00<?, ?it/s]"
      ]
     },
     "metadata": {},
     "output_type": "display_data"
    },
    {
     "data": {
      "application/vnd.jupyter.widget-view+json": {
       "model_id": "8004feb313314760abe09d1b3104a823",
       "version_major": 2,
       "version_minor": 0
      },
      "text/plain": [
       "Batches:   0%|          | 0/1 [00:00<?, ?it/s]"
      ]
     },
     "metadata": {},
     "output_type": "display_data"
    },
    {
     "name": "stderr",
     "output_type": "stream",
     "text": [
      "\n",
      "\n",
      "\n",
      "68it [06:45,  4.47s/it]\u001b[A\u001b[A\u001b[A"
     ]
    },
    {
     "data": {
      "application/vnd.jupyter.widget-view+json": {
       "model_id": "e8666c8b3a5a4a4185870f5ce26a5b23",
       "version_major": 2,
       "version_minor": 0
      },
      "text/plain": [
       "Batches:   0%|          | 0/1 [00:00<?, ?it/s]"
      ]
     },
     "metadata": {},
     "output_type": "display_data"
    },
    {
     "data": {
      "application/vnd.jupyter.widget-view+json": {
       "model_id": "b55a2d93552445c4b4e7c491c5621602",
       "version_major": 2,
       "version_minor": 0
      },
      "text/plain": [
       "Batches:   0%|          | 0/1 [00:00<?, ?it/s]"
      ]
     },
     "metadata": {},
     "output_type": "display_data"
    },
    {
     "name": "stderr",
     "output_type": "stream",
     "text": [
      "\n",
      "\n",
      "\n",
      "69it [06:45,  3.32s/it]\u001b[A\u001b[A\u001b[A"
     ]
    },
    {
     "data": {
      "application/vnd.jupyter.widget-view+json": {
       "model_id": "6723d851b7064e8bae9ad0feb3ef7557",
       "version_major": 2,
       "version_minor": 0
      },
      "text/plain": [
       "Batches:   0%|          | 0/1 [00:00<?, ?it/s]"
      ]
     },
     "metadata": {},
     "output_type": "display_data"
    },
    {
     "data": {
      "application/vnd.jupyter.widget-view+json": {
       "model_id": "404fef243df04ab4860270cc4fe66db9",
       "version_major": 2,
       "version_minor": 0
      },
      "text/plain": [
       "Batches:   0%|          | 0/1 [00:00<?, ?it/s]"
      ]
     },
     "metadata": {},
     "output_type": "display_data"
    },
    {
     "name": "stderr",
     "output_type": "stream",
     "text": [
      "\n",
      "\n",
      "\n",
      "70it [06:46,  2.46s/it]\u001b[A\u001b[A\u001b[A"
     ]
    },
    {
     "data": {
      "application/vnd.jupyter.widget-view+json": {
       "model_id": "193305eba328428daa293f749775d528",
       "version_major": 2,
       "version_minor": 0
      },
      "text/plain": [
       "Batches:   0%|          | 0/1 [00:00<?, ?it/s]"
      ]
     },
     "metadata": {},
     "output_type": "display_data"
    },
    {
     "data": {
      "application/vnd.jupyter.widget-view+json": {
       "model_id": "20fb0dc5d85543f382c9bb3ae6070826",
       "version_major": 2,
       "version_minor": 0
      },
      "text/plain": [
       "Batches:   0%|          | 0/1 [00:00<?, ?it/s]"
      ]
     },
     "metadata": {},
     "output_type": "display_data"
    },
    {
     "name": "stderr",
     "output_type": "stream",
     "text": [
      "\n",
      "\n",
      "\n",
      "71it [06:46,  1.88s/it]\u001b[A\u001b[A\u001b[A"
     ]
    },
    {
     "data": {
      "application/vnd.jupyter.widget-view+json": {
       "model_id": "a38d3f572efe416ab5b5cb3d16fdd54d",
       "version_major": 2,
       "version_minor": 0
      },
      "text/plain": [
       "Batches:   0%|          | 0/1 [00:00<?, ?it/s]"
      ]
     },
     "metadata": {},
     "output_type": "display_data"
    },
    {
     "data": {
      "application/vnd.jupyter.widget-view+json": {
       "model_id": "2fa1b5a4a0724b33a4f11271530d8b5c",
       "version_major": 2,
       "version_minor": 0
      },
      "text/plain": [
       "Batches:   0%|          | 0/1 [00:00<?, ?it/s]"
      ]
     },
     "metadata": {},
     "output_type": "display_data"
    },
    {
     "name": "stderr",
     "output_type": "stream",
     "text": [
      "\n",
      "\n",
      "\n",
      "72it [06:47,  1.51s/it]\u001b[A\u001b[A\u001b[A"
     ]
    },
    {
     "data": {
      "application/vnd.jupyter.widget-view+json": {
       "model_id": "b03054048324400ebdd9341dbdd31ebe",
       "version_major": 2,
       "version_minor": 0
      },
      "text/plain": [
       "Batches:   0%|          | 0/1 [00:00<?, ?it/s]"
      ]
     },
     "metadata": {},
     "output_type": "display_data"
    },
    {
     "data": {
      "application/vnd.jupyter.widget-view+json": {
       "model_id": "951fe54cfc424e71b4a4040b2bae446f",
       "version_major": 2,
       "version_minor": 0
      },
      "text/plain": [
       "Batches:   0%|          | 0/1 [00:00<?, ?it/s]"
      ]
     },
     "metadata": {},
     "output_type": "display_data"
    },
    {
     "name": "stderr",
     "output_type": "stream",
     "text": [
      "\n",
      "\n",
      "\n",
      "73it [06:47,  1.19s/it]\u001b[A\u001b[A\u001b[A"
     ]
    },
    {
     "data": {
      "application/vnd.jupyter.widget-view+json": {
       "model_id": "53d5afc3406244a28f751f11f4d5aa8c",
       "version_major": 2,
       "version_minor": 0
      },
      "text/plain": [
       "Batches:   0%|          | 0/1 [00:00<?, ?it/s]"
      ]
     },
     "metadata": {},
     "output_type": "display_data"
    },
    {
     "data": {
      "application/vnd.jupyter.widget-view+json": {
       "model_id": "04172c93c32e4366bd99b2a525816baa",
       "version_major": 2,
       "version_minor": 0
      },
      "text/plain": [
       "Batches:   0%|          | 0/1 [00:00<?, ?it/s]"
      ]
     },
     "metadata": {},
     "output_type": "display_data"
    },
    {
     "name": "stderr",
     "output_type": "stream",
     "text": [
      "\n",
      "\n",
      "\n",
      "74it [06:48,  1.02it/s]\u001b[A\u001b[A\u001b[A"
     ]
    },
    {
     "data": {
      "application/vnd.jupyter.widget-view+json": {
       "model_id": "c9c0e58f25c94a9bb00d717c53622559",
       "version_major": 2,
       "version_minor": 0
      },
      "text/plain": [
       "Batches:   0%|          | 0/1 [00:00<?, ?it/s]"
      ]
     },
     "metadata": {},
     "output_type": "display_data"
    },
    {
     "data": {
      "application/vnd.jupyter.widget-view+json": {
       "model_id": "86b1c375b4414f7bbd9ab93b24a5ae9e",
       "version_major": 2,
       "version_minor": 0
      },
      "text/plain": [
       "Batches:   0%|          | 0/1 [00:00<?, ?it/s]"
      ]
     },
     "metadata": {},
     "output_type": "display_data"
    },
    {
     "name": "stderr",
     "output_type": "stream",
     "text": [
      "\n",
      "\n",
      "\n",
      "75it [06:48,  1.22it/s]\u001b[A\u001b[A\u001b[A"
     ]
    },
    {
     "data": {
      "application/vnd.jupyter.widget-view+json": {
       "model_id": "81d3b6d10b8a48879d2c4fe37c28feda",
       "version_major": 2,
       "version_minor": 0
      },
      "text/plain": [
       "Batches:   0%|          | 0/1 [00:00<?, ?it/s]"
      ]
     },
     "metadata": {},
     "output_type": "display_data"
    },
    {
     "data": {
      "application/vnd.jupyter.widget-view+json": {
       "model_id": "ba1bc3dc1a41448b8497bbdc8fb6efba",
       "version_major": 2,
       "version_minor": 0
      },
      "text/plain": [
       "Batches:   0%|          | 0/1 [00:00<?, ?it/s]"
      ]
     },
     "metadata": {},
     "output_type": "display_data"
    },
    {
     "name": "stderr",
     "output_type": "stream",
     "text": [
      "\n",
      "\n",
      "\n",
      "76it [06:49,  1.29it/s]\u001b[A\u001b[A\u001b[A"
     ]
    },
    {
     "data": {
      "application/vnd.jupyter.widget-view+json": {
       "model_id": "91956916f9cd4fe7b0a87cb32c55577c",
       "version_major": 2,
       "version_minor": 0
      },
      "text/plain": [
       "Batches:   0%|          | 0/1 [00:00<?, ?it/s]"
      ]
     },
     "metadata": {},
     "output_type": "display_data"
    },
    {
     "data": {
      "application/vnd.jupyter.widget-view+json": {
       "model_id": "c6534f45de414fd699d8afbd50c7deae",
       "version_major": 2,
       "version_minor": 0
      },
      "text/plain": [
       "Batches:   0%|          | 0/1 [00:00<?, ?it/s]"
      ]
     },
     "metadata": {},
     "output_type": "display_data"
    },
    {
     "name": "stderr",
     "output_type": "stream",
     "text": [
      "\n",
      "\n",
      "\n",
      "77it [06:50,  1.42it/s]\u001b[A\u001b[A\u001b[A"
     ]
    },
    {
     "data": {
      "application/vnd.jupyter.widget-view+json": {
       "model_id": "86161b1b2a2844f09ccafd508546a464",
       "version_major": 2,
       "version_minor": 0
      },
      "text/plain": [
       "Batches:   0%|          | 0/1 [00:00<?, ?it/s]"
      ]
     },
     "metadata": {},
     "output_type": "display_data"
    },
    {
     "data": {
      "application/vnd.jupyter.widget-view+json": {
       "model_id": "1fb0cde938da43dcb878fb2865e057ba",
       "version_major": 2,
       "version_minor": 0
      },
      "text/plain": [
       "Batches:   0%|          | 0/1 [00:00<?, ?it/s]"
      ]
     },
     "metadata": {},
     "output_type": "display_data"
    },
    {
     "name": "stderr",
     "output_type": "stream",
     "text": [
      "\n",
      "\n",
      "\n",
      "78it [06:50,  1.38it/s]\u001b[A\u001b[A\u001b[A"
     ]
    },
    {
     "data": {
      "application/vnd.jupyter.widget-view+json": {
       "model_id": "f9df0325d1814977abbd31b13987ecb0",
       "version_major": 2,
       "version_minor": 0
      },
      "text/plain": [
       "Batches:   0%|          | 0/1 [00:00<?, ?it/s]"
      ]
     },
     "metadata": {},
     "output_type": "display_data"
    },
    {
     "data": {
      "application/vnd.jupyter.widget-view+json": {
       "model_id": "d2d0eac7aaa94cea9b143c5ca7b3b58d",
       "version_major": 2,
       "version_minor": 0
      },
      "text/plain": [
       "Batches:   0%|          | 0/1 [00:00<?, ?it/s]"
      ]
     },
     "metadata": {},
     "output_type": "display_data"
    },
    {
     "name": "stderr",
     "output_type": "stream",
     "text": [
      "\n",
      "\n",
      "\n",
      "79it [06:51,  1.52it/s]\u001b[A\u001b[A\u001b[A"
     ]
    },
    {
     "data": {
      "application/vnd.jupyter.widget-view+json": {
       "model_id": "b87bc382b19946deae82ee96a63ba38c",
       "version_major": 2,
       "version_minor": 0
      },
      "text/plain": [
       "Batches:   0%|          | 0/1 [00:00<?, ?it/s]"
      ]
     },
     "metadata": {},
     "output_type": "display_data"
    },
    {
     "data": {
      "application/vnd.jupyter.widget-view+json": {
       "model_id": "dfd565ec6b6a4aad92c3f1dbd9d32fbe",
       "version_major": 2,
       "version_minor": 0
      },
      "text/plain": [
       "Batches:   0%|          | 0/1 [00:00<?, ?it/s]"
      ]
     },
     "metadata": {},
     "output_type": "display_data"
    },
    {
     "name": "stderr",
     "output_type": "stream",
     "text": [
      "\n",
      "\n",
      "\n",
      "80it [06:53,  1.27s/it]\u001b[A\u001b[A\u001b[A"
     ]
    },
    {
     "data": {
      "application/vnd.jupyter.widget-view+json": {
       "model_id": "42e81609b13f40bbbcdbfa15ea6cb0ef",
       "version_major": 2,
       "version_minor": 0
      },
      "text/plain": [
       "Batches:   0%|          | 0/1 [00:00<?, ?it/s]"
      ]
     },
     "metadata": {},
     "output_type": "display_data"
    },
    {
     "data": {
      "application/vnd.jupyter.widget-view+json": {
       "model_id": "391c1fa18138418687fbab0eb982faf2",
       "version_major": 2,
       "version_minor": 0
      },
      "text/plain": [
       "Batches:   0%|          | 0/1 [00:00<?, ?it/s]"
      ]
     },
     "metadata": {},
     "output_type": "display_data"
    },
    {
     "name": "stderr",
     "output_type": "stream",
     "text": [
      "\n",
      "\n",
      "\n",
      "81it [06:57,  2.07s/it]\u001b[A\u001b[A\u001b[A"
     ]
    },
    {
     "data": {
      "application/vnd.jupyter.widget-view+json": {
       "model_id": "a80e843838d649e18f17986fbd1dd395",
       "version_major": 2,
       "version_minor": 0
      },
      "text/plain": [
       "Batches:   0%|          | 0/1 [00:00<?, ?it/s]"
      ]
     },
     "metadata": {},
     "output_type": "display_data"
    },
    {
     "data": {
      "application/vnd.jupyter.widget-view+json": {
       "model_id": "697d28619fb44d199e93b23429cc39dc",
       "version_major": 2,
       "version_minor": 0
      },
      "text/plain": [
       "Batches:   0%|          | 0/1 [00:00<?, ?it/s]"
      ]
     },
     "metadata": {},
     "output_type": "display_data"
    },
    {
     "name": "stderr",
     "output_type": "stream",
     "text": [
      "\n",
      "\n",
      "\n",
      "82it [07:01,  2.55s/it]\u001b[A\u001b[A\u001b[A"
     ]
    },
    {
     "data": {
      "application/vnd.jupyter.widget-view+json": {
       "model_id": "2ed7d3a3c0904b708d0a06c728dc169d",
       "version_major": 2,
       "version_minor": 0
      },
      "text/plain": [
       "Batches:   0%|          | 0/1 [00:00<?, ?it/s]"
      ]
     },
     "metadata": {},
     "output_type": "display_data"
    },
    {
     "data": {
      "application/vnd.jupyter.widget-view+json": {
       "model_id": "a960097f3ffe4461945d59619cdf5723",
       "version_major": 2,
       "version_minor": 0
      },
      "text/plain": [
       "Batches:   0%|          | 0/1 [00:00<?, ?it/s]"
      ]
     },
     "metadata": {},
     "output_type": "display_data"
    },
    {
     "name": "stderr",
     "output_type": "stream",
     "text": [
      "\n",
      "\n",
      "\n",
      "83it [07:06,  3.16s/it]\u001b[A\u001b[A\u001b[A"
     ]
    },
    {
     "data": {
      "application/vnd.jupyter.widget-view+json": {
       "model_id": "b4b11d4daccc4c5289a02a77cbd078b5",
       "version_major": 2,
       "version_minor": 0
      },
      "text/plain": [
       "Batches:   0%|          | 0/1 [00:00<?, ?it/s]"
      ]
     },
     "metadata": {},
     "output_type": "display_data"
    },
    {
     "data": {
      "application/vnd.jupyter.widget-view+json": {
       "model_id": "fe30633bc18248738a99ac64f138e94f",
       "version_major": 2,
       "version_minor": 0
      },
      "text/plain": [
       "Batches:   0%|          | 0/1 [00:00<?, ?it/s]"
      ]
     },
     "metadata": {},
     "output_type": "display_data"
    },
    {
     "name": "stderr",
     "output_type": "stream",
     "text": [
      "\n",
      "\n",
      "\n",
      "84it [07:08,  3.01s/it]\u001b[A\u001b[A\u001b[A"
     ]
    },
    {
     "data": {
      "application/vnd.jupyter.widget-view+json": {
       "model_id": "db5f15c4333e4ddeacb4099107637fc4",
       "version_major": 2,
       "version_minor": 0
      },
      "text/plain": [
       "Batches:   0%|          | 0/1 [00:00<?, ?it/s]"
      ]
     },
     "metadata": {},
     "output_type": "display_data"
    },
    {
     "data": {
      "application/vnd.jupyter.widget-view+json": {
       "model_id": "7faacfdd4cb04d91a0a7e6ab8f23bb95",
       "version_major": 2,
       "version_minor": 0
      },
      "text/plain": [
       "Batches:   0%|          | 0/1 [00:00<?, ?it/s]"
      ]
     },
     "metadata": {},
     "output_type": "display_data"
    },
    {
     "name": "stderr",
     "output_type": "stream",
     "text": [
      "\n",
      "\n",
      "\n",
      "85it [07:11,  2.92s/it]\u001b[A\u001b[A\u001b[A"
     ]
    },
    {
     "data": {
      "application/vnd.jupyter.widget-view+json": {
       "model_id": "1a0da04e19974bc7ac5ccbf5d6a3b7a7",
       "version_major": 2,
       "version_minor": 0
      },
      "text/plain": [
       "Batches:   0%|          | 0/1 [00:00<?, ?it/s]"
      ]
     },
     "metadata": {},
     "output_type": "display_data"
    },
    {
     "data": {
      "application/vnd.jupyter.widget-view+json": {
       "model_id": "10c908cdfcc443fcb8a5e5dc35d80ae3",
       "version_major": 2,
       "version_minor": 0
      },
      "text/plain": [
       "Batches:   0%|          | 0/1 [00:00<?, ?it/s]"
      ]
     },
     "metadata": {},
     "output_type": "display_data"
    },
    {
     "name": "stderr",
     "output_type": "stream",
     "text": [
      "\n",
      "\n",
      "\n",
      "86it [07:15,  3.15s/it]\u001b[A\u001b[A\u001b[A"
     ]
    },
    {
     "data": {
      "application/vnd.jupyter.widget-view+json": {
       "model_id": "6339c366c48e426ea359e9e404560e36",
       "version_major": 2,
       "version_minor": 0
      },
      "text/plain": [
       "Batches:   0%|          | 0/1 [00:00<?, ?it/s]"
      ]
     },
     "metadata": {},
     "output_type": "display_data"
    },
    {
     "data": {
      "application/vnd.jupyter.widget-view+json": {
       "model_id": "113c294f829d41a4b1267f914fe27e7b",
       "version_major": 2,
       "version_minor": 0
      },
      "text/plain": [
       "Batches:   0%|          | 0/1 [00:00<?, ?it/s]"
      ]
     },
     "metadata": {},
     "output_type": "display_data"
    },
    {
     "name": "stderr",
     "output_type": "stream",
     "text": [
      "\n",
      "\n",
      "\n",
      "87it [07:17,  2.96s/it]\u001b[A\u001b[A\u001b[A"
     ]
    },
    {
     "data": {
      "application/vnd.jupyter.widget-view+json": {
       "model_id": "7c786da0cc9b4a0fb64430537a4e53d1",
       "version_major": 2,
       "version_minor": 0
      },
      "text/plain": [
       "Batches:   0%|          | 0/1 [00:00<?, ?it/s]"
      ]
     },
     "metadata": {},
     "output_type": "display_data"
    },
    {
     "data": {
      "application/vnd.jupyter.widget-view+json": {
       "model_id": "de84e93813de48c0a6be2aaac9a5bcbe",
       "version_major": 2,
       "version_minor": 0
      },
      "text/plain": [
       "Batches:   0%|          | 0/1 [00:00<?, ?it/s]"
      ]
     },
     "metadata": {},
     "output_type": "display_data"
    },
    {
     "name": "stderr",
     "output_type": "stream",
     "text": [
      "\n",
      "\n",
      "\n",
      "88it [07:20,  2.86s/it]\u001b[A\u001b[A\u001b[A"
     ]
    },
    {
     "data": {
      "application/vnd.jupyter.widget-view+json": {
       "model_id": "0ab0fcbc922e42df99183b23fc626d91",
       "version_major": 2,
       "version_minor": 0
      },
      "text/plain": [
       "Batches:   0%|          | 0/1 [00:00<?, ?it/s]"
      ]
     },
     "metadata": {},
     "output_type": "display_data"
    },
    {
     "data": {
      "application/vnd.jupyter.widget-view+json": {
       "model_id": "65ccbb2dd0504f7696df42de2fa70e5b",
       "version_major": 2,
       "version_minor": 0
      },
      "text/plain": [
       "Batches:   0%|          | 0/1 [00:00<?, ?it/s]"
      ]
     },
     "metadata": {},
     "output_type": "display_data"
    },
    {
     "name": "stderr",
     "output_type": "stream",
     "text": [
      "\n",
      "\n",
      "\n",
      "89it [07:23,  3.07s/it]\u001b[A\u001b[A\u001b[A"
     ]
    },
    {
     "data": {
      "application/vnd.jupyter.widget-view+json": {
       "model_id": "bc7044434ba04f28914c3f4d738e3f3c",
       "version_major": 2,
       "version_minor": 0
      },
      "text/plain": [
       "Batches:   0%|          | 0/1 [00:00<?, ?it/s]"
      ]
     },
     "metadata": {},
     "output_type": "display_data"
    },
    {
     "data": {
      "application/vnd.jupyter.widget-view+json": {
       "model_id": "39dedf95b54943169ea095d101a4de46",
       "version_major": 2,
       "version_minor": 0
      },
      "text/plain": [
       "Batches:   0%|          | 0/1 [00:00<?, ?it/s]"
      ]
     },
     "metadata": {},
     "output_type": "display_data"
    },
    {
     "name": "stderr",
     "output_type": "stream",
     "text": [
      "\n",
      "\n",
      "\n",
      "90it [07:26,  2.95s/it]\u001b[A\u001b[A\u001b[A"
     ]
    },
    {
     "data": {
      "application/vnd.jupyter.widget-view+json": {
       "model_id": "3495dfb0a2c340588c7522a68baf368b",
       "version_major": 2,
       "version_minor": 0
      },
      "text/plain": [
       "Batches:   0%|          | 0/1 [00:00<?, ?it/s]"
      ]
     },
     "metadata": {},
     "output_type": "display_data"
    },
    {
     "data": {
      "application/vnd.jupyter.widget-view+json": {
       "model_id": "c1306b5166144e41b536ca893874ccee",
       "version_major": 2,
       "version_minor": 0
      },
      "text/plain": [
       "Batches:   0%|          | 0/1 [00:00<?, ?it/s]"
      ]
     },
     "metadata": {},
     "output_type": "display_data"
    },
    {
     "name": "stderr",
     "output_type": "stream",
     "text": [
      "\n",
      "\n",
      "\n",
      "91it [10:00, 48.31s/it]\u001b[A\u001b[A\u001b[A"
     ]
    },
    {
     "data": {
      "application/vnd.jupyter.widget-view+json": {
       "model_id": "d2d79620fa9745cf9565a1f39dca382d",
       "version_major": 2,
       "version_minor": 0
      },
      "text/plain": [
       "Batches:   0%|          | 0/1 [00:00<?, ?it/s]"
      ]
     },
     "metadata": {},
     "output_type": "display_data"
    },
    {
     "data": {
      "application/vnd.jupyter.widget-view+json": {
       "model_id": "cd14edace2d4458199671c626281d39d",
       "version_major": 2,
       "version_minor": 0
      },
      "text/plain": [
       "Batches:   0%|          | 0/1 [00:00<?, ?it/s]"
      ]
     },
     "metadata": {},
     "output_type": "display_data"
    },
    {
     "name": "stderr",
     "output_type": "stream",
     "text": [
      "\n",
      "\n",
      "\n",
      "92it [10:01, 34.03s/it]\u001b[A\u001b[A\u001b[A"
     ]
    },
    {
     "data": {
      "application/vnd.jupyter.widget-view+json": {
       "model_id": "e7c85c8ec9fc456e91b8fae0e5c72c88",
       "version_major": 2,
       "version_minor": 0
      },
      "text/plain": [
       "Batches:   0%|          | 0/1 [00:00<?, ?it/s]"
      ]
     },
     "metadata": {},
     "output_type": "display_data"
    },
    {
     "data": {
      "application/vnd.jupyter.widget-view+json": {
       "model_id": "a9d98b4f3d64436384a46953a4fc2a3c",
       "version_major": 2,
       "version_minor": 0
      },
      "text/plain": [
       "Batches:   0%|          | 0/1 [00:00<?, ?it/s]"
      ]
     },
     "metadata": {},
     "output_type": "display_data"
    },
    {
     "name": "stderr",
     "output_type": "stream",
     "text": [
      "\n",
      "\n",
      "\n",
      "93it [10:02, 23.99s/it]\u001b[A\u001b[A\u001b[A"
     ]
    },
    {
     "data": {
      "application/vnd.jupyter.widget-view+json": {
       "model_id": "1c0c591662e94e1a9c5ce5821bb184bb",
       "version_major": 2,
       "version_minor": 0
      },
      "text/plain": [
       "Batches:   0%|          | 0/1 [00:00<?, ?it/s]"
      ]
     },
     "metadata": {},
     "output_type": "display_data"
    },
    {
     "data": {
      "application/vnd.jupyter.widget-view+json": {
       "model_id": "695e6a1ef52e43b88e3ddf42ce69a7f0",
       "version_major": 2,
       "version_minor": 0
      },
      "text/plain": [
       "Batches:   0%|          | 0/1 [00:00<?, ?it/s]"
      ]
     },
     "metadata": {},
     "output_type": "display_data"
    },
    {
     "name": "stderr",
     "output_type": "stream",
     "text": [
      "\n",
      "\n",
      "\n",
      "94it [10:02, 16.98s/it]\u001b[A\u001b[A\u001b[A"
     ]
    },
    {
     "data": {
      "application/vnd.jupyter.widget-view+json": {
       "model_id": "10eab0eab6034ce888c377dbcb26c405",
       "version_major": 2,
       "version_minor": 0
      },
      "text/plain": [
       "Batches:   0%|          | 0/1 [00:00<?, ?it/s]"
      ]
     },
     "metadata": {},
     "output_type": "display_data"
    },
    {
     "data": {
      "application/vnd.jupyter.widget-view+json": {
       "model_id": "e6856dda3def41c0a8091dee6665e6e1",
       "version_major": 2,
       "version_minor": 0
      },
      "text/plain": [
       "Batches:   0%|          | 0/1 [00:00<?, ?it/s]"
      ]
     },
     "metadata": {},
     "output_type": "display_data"
    },
    {
     "name": "stderr",
     "output_type": "stream",
     "text": [
      "\n",
      "\n",
      "\n",
      "95it [10:03, 12.04s/it]\u001b[A\u001b[A\u001b[A"
     ]
    },
    {
     "data": {
      "application/vnd.jupyter.widget-view+json": {
       "model_id": "62e9829b63e448f086129060be6b518f",
       "version_major": 2,
       "version_minor": 0
      },
      "text/plain": [
       "Batches:   0%|          | 0/1 [00:00<?, ?it/s]"
      ]
     },
     "metadata": {},
     "output_type": "display_data"
    },
    {
     "data": {
      "application/vnd.jupyter.widget-view+json": {
       "model_id": "686b10560ac94151a97888a194c13583",
       "version_major": 2,
       "version_minor": 0
      },
      "text/plain": [
       "Batches:   0%|          | 0/1 [00:00<?, ?it/s]"
      ]
     },
     "metadata": {},
     "output_type": "display_data"
    },
    {
     "name": "stderr",
     "output_type": "stream",
     "text": [
      "\n",
      "\n",
      "\n",
      "96it [10:03,  8.65s/it]\u001b[A\u001b[A\u001b[A"
     ]
    },
    {
     "data": {
      "application/vnd.jupyter.widget-view+json": {
       "model_id": "a7a3c19bb4444d98972aea66aead9fc5",
       "version_major": 2,
       "version_minor": 0
      },
      "text/plain": [
       "Batches:   0%|          | 0/1 [00:00<?, ?it/s]"
      ]
     },
     "metadata": {},
     "output_type": "display_data"
    },
    {
     "data": {
      "application/vnd.jupyter.widget-view+json": {
       "model_id": "174849b244b14ee5898d564f6cfc94d1",
       "version_major": 2,
       "version_minor": 0
      },
      "text/plain": [
       "Batches:   0%|          | 0/1 [00:00<?, ?it/s]"
      ]
     },
     "metadata": {},
     "output_type": "display_data"
    },
    {
     "name": "stderr",
     "output_type": "stream",
     "text": [
      "\n",
      "\n",
      "\n",
      "97it [10:04,  6.23s/it]\u001b[A\u001b[A\u001b[A"
     ]
    },
    {
     "data": {
      "application/vnd.jupyter.widget-view+json": {
       "model_id": "08ec945a96144e559e825b308e05fd9a",
       "version_major": 2,
       "version_minor": 0
      },
      "text/plain": [
       "Batches:   0%|          | 0/1 [00:00<?, ?it/s]"
      ]
     },
     "metadata": {},
     "output_type": "display_data"
    },
    {
     "data": {
      "application/vnd.jupyter.widget-view+json": {
       "model_id": "3f5d62a178014f66ab40dfc17343f45a",
       "version_major": 2,
       "version_minor": 0
      },
      "text/plain": [
       "Batches:   0%|          | 0/1 [00:00<?, ?it/s]"
      ]
     },
     "metadata": {},
     "output_type": "display_data"
    },
    {
     "name": "stderr",
     "output_type": "stream",
     "text": [
      "\n",
      "\n",
      "\n",
      "98it [10:05,  4.55s/it]\u001b[A\u001b[A\u001b[A"
     ]
    },
    {
     "data": {
      "application/vnd.jupyter.widget-view+json": {
       "model_id": "871299a2f533467bb35ca82e8b49f5f7",
       "version_major": 2,
       "version_minor": 0
      },
      "text/plain": [
       "Batches:   0%|          | 0/1 [00:00<?, ?it/s]"
      ]
     },
     "metadata": {},
     "output_type": "display_data"
    },
    {
     "data": {
      "application/vnd.jupyter.widget-view+json": {
       "model_id": "3778e3d227ae47e3b49d5d1f609c8360",
       "version_major": 2,
       "version_minor": 0
      },
      "text/plain": [
       "Batches:   0%|          | 0/1 [00:00<?, ?it/s]"
      ]
     },
     "metadata": {},
     "output_type": "display_data"
    },
    {
     "name": "stderr",
     "output_type": "stream",
     "text": [
      "\n",
      "\n",
      "\n",
      "99it [10:05,  3.38s/it]\u001b[A\u001b[A\u001b[A"
     ]
    },
    {
     "data": {
      "application/vnd.jupyter.widget-view+json": {
       "model_id": "638d8a144c4247319d6b53d571d6a90f",
       "version_major": 2,
       "version_minor": 0
      },
      "text/plain": [
       "Batches:   0%|          | 0/1 [00:00<?, ?it/s]"
      ]
     },
     "metadata": {},
     "output_type": "display_data"
    },
    {
     "data": {
      "application/vnd.jupyter.widget-view+json": {
       "model_id": "537cca00ad0b409482994f8db4c13c38",
       "version_major": 2,
       "version_minor": 0
      },
      "text/plain": [
       "Batches:   0%|          | 0/1 [00:00<?, ?it/s]"
      ]
     },
     "metadata": {},
     "output_type": "display_data"
    },
    {
     "name": "stderr",
     "output_type": "stream",
     "text": [
      "\n",
      "\n",
      "\n",
      "100it [10:06,  6.06s/it]\u001b[A\u001b[A\u001b[A\n",
      "/tmp/ipykernel_23/3590083628.py:10: SettingWithCopyWarning: \n",
      "A value is trying to be set on a copy of a slice from a DataFrame.\n",
      "Try using .loc[row_indexer,col_indexer] = value instead\n",
      "\n",
      "See the caveats in the documentation: https://pandas.pydata.org/pandas-docs/stable/user_guide/indexing.html#returning-a-view-versus-a-copy\n",
      "  chunk[\"AR\"] = [answer_relevancy(client, row[\"question\"], row[\"context\"], row[\"response\"]) for ind, row in tqdm(chunk.iterrows())]\n"
     ]
    },
    {
     "name": "stdout",
     "output_type": "stream",
     "text": [
      "6 th chunk\n",
      "faithfulness\n"
     ]
    },
    {
     "name": "stderr",
     "output_type": "stream",
     "text": [
      "\n",
      "\n",
      "\n",
      "0it [00:00, ?it/s]\u001b[A\u001b[A\u001b[A\n",
      "\n",
      "\n",
      "1it [00:01,  1.92s/it]\u001b[A\u001b[A\u001b[A\n",
      "\n",
      "\n",
      "2it [00:03,  1.98s/it]\u001b[A\u001b[A\u001b[A\n",
      "\n",
      "\n",
      "3it [00:13,  5.47s/it]\u001b[A\u001b[A\u001b[A\n",
      "\n",
      "\n",
      "4it [00:23,  7.23s/it]\u001b[A\u001b[A\u001b[A\n",
      "\n",
      "\n",
      "5it [00:36,  9.19s/it]\u001b[A\u001b[A\u001b[A\n",
      "\n",
      "\n",
      "6it [00:51, 11.38s/it]\u001b[A\u001b[A\u001b[A\n",
      "\n",
      "\n",
      "7it [01:05, 12.25s/it]\u001b[A\u001b[A\u001b[A\n",
      "\n",
      "\n",
      "8it [01:17, 12.07s/it]\u001b[A\u001b[A\u001b[A\n",
      "\n",
      "\n",
      "9it [01:30, 12.31s/it]\u001b[A\u001b[A\u001b[A\n",
      "\n",
      "\n",
      "10it [01:42, 12.23s/it]\u001b[A\u001b[A\u001b[A\n",
      "\n",
      "\n",
      "11it [01:55, 12.41s/it]\u001b[A\u001b[A\u001b[A\n",
      "\n",
      "\n",
      "12it [02:04, 11.59s/it]\u001b[A\u001b[A\u001b[A\n",
      "\n",
      "\n",
      "13it [02:17, 11.74s/it]\u001b[A\u001b[A\u001b[A\n",
      "\n",
      "\n",
      "14it [02:30, 12.17s/it]\u001b[A\u001b[A\u001b[A\n",
      "\n",
      "\n",
      "15it [02:42, 12.19s/it]\u001b[A\u001b[A\u001b[A\n",
      "\n",
      "\n",
      "16it [02:55, 12.34s/it]\u001b[A\u001b[A\u001b[A\n",
      "\n",
      "\n",
      "17it [03:05, 11.78s/it]\u001b[A\u001b[A\u001b[A\n",
      "\n",
      "\n",
      "18it [03:18, 12.19s/it]\u001b[A\u001b[A\u001b[A\n",
      "\n",
      "\n",
      "19it [03:32, 12.71s/it]\u001b[A\u001b[A\u001b[A\n",
      "\n",
      "\n",
      "20it [03:46, 13.14s/it]\u001b[A\u001b[A\u001b[A\n",
      "\n",
      "\n",
      "21it [04:01, 13.67s/it]\u001b[A\u001b[A\u001b[A\n",
      "\n",
      "\n",
      "22it [04:16, 13.92s/it]\u001b[A\u001b[A\u001b[A\n",
      "\n",
      "\n",
      "23it [04:28, 13.36s/it]\u001b[A\u001b[A\u001b[A\n",
      "\n",
      "\n",
      "24it [04:39, 12.85s/it]\u001b[A\u001b[A\u001b[A\n",
      "\n",
      "\n",
      "25it [04:52, 12.66s/it]\u001b[A\u001b[A\u001b[A\n",
      "\n",
      "\n",
      "26it [05:05, 12.73s/it]\u001b[A\u001b[A\u001b[A\n",
      "\n",
      "\n",
      "27it [05:17, 12.65s/it]\u001b[A\u001b[A\u001b[A\n",
      "\n",
      "\n",
      "28it [05:33, 13.53s/it]\u001b[A\u001b[A\u001b[A\n",
      "\n",
      "\n",
      "29it [05:48, 14.03s/it]\u001b[A\u001b[A\u001b[A\n",
      "\n",
      "\n",
      "30it [06:06, 15.16s/it]\u001b[A\u001b[A\u001b[A\n",
      "\n",
      "\n",
      "31it [06:19, 14.59s/it]\u001b[A\u001b[A\u001b[A\n",
      "\n",
      "\n",
      "32it [06:34, 14.75s/it]\u001b[A\u001b[A\u001b[A\n",
      "\n",
      "\n",
      "33it [06:48, 14.56s/it]\u001b[A\u001b[A\u001b[A\n",
      "\n",
      "\n",
      "34it [07:07, 15.84s/it]\u001b[A\u001b[A\u001b[A\n",
      "\n",
      "\n",
      "35it [07:25, 16.42s/it]\u001b[A\u001b[A\u001b[A\n",
      "\n",
      "\n",
      "36it [07:39, 15.94s/it]\u001b[A\u001b[A\u001b[A\n",
      "\n",
      "\n",
      "37it [07:55, 15.83s/it]\u001b[A\u001b[A\u001b[A\n",
      "\n",
      "\n",
      "38it [08:09, 15.39s/it]\u001b[A\u001b[A\u001b[A\n",
      "\n",
      "\n",
      "39it [08:25, 15.34s/it]\u001b[A\u001b[A\u001b[A\n",
      "\n",
      "\n",
      "40it [08:46, 17.24s/it]\u001b[A\u001b[A\u001b[A\n",
      "\n",
      "\n",
      "41it [09:12, 19.66s/it]\u001b[A\u001b[A\u001b[A\n",
      "\n",
      "\n",
      "42it [09:32, 19.94s/it]\u001b[A\u001b[A\u001b[A\n",
      "\n",
      "\n",
      "43it [09:48, 18.61s/it]\u001b[A\u001b[A\u001b[A\n",
      "\n",
      "\n",
      "44it [10:02, 17.26s/it]\u001b[A\u001b[A\u001b[A\n",
      "\n",
      "\n",
      "45it [10:16, 16.46s/it]\u001b[A\u001b[A\u001b[A\n",
      "\n",
      "\n",
      "46it [10:32, 16.11s/it]\u001b[A\u001b[A\u001b[A\n",
      "\n",
      "\n",
      "47it [10:44, 14.87s/it]\u001b[A\u001b[A\u001b[A\n",
      "\n",
      "\n",
      "48it [10:56, 14.13s/it]\u001b[A\u001b[A\u001b[A\n",
      "\n",
      "\n",
      "49it [11:09, 13.82s/it]\u001b[A\u001b[A\u001b[A\n",
      "\n",
      "\n",
      "50it [11:18, 12.19s/it]\u001b[A\u001b[A\u001b[A\n",
      "\n",
      "\n",
      "51it [11:29, 11.91s/it]\u001b[A\u001b[A\u001b[A\n",
      "\n",
      "\n",
      "52it [11:41, 11.92s/it]\u001b[A\u001b[A\u001b[A\n",
      "\n",
      "\n",
      "53it [11:52, 11.60s/it]\u001b[A\u001b[A\u001b[A\n",
      "\n",
      "\n",
      "54it [12:05, 12.05s/it]\u001b[A\u001b[A\u001b[A\n",
      "\n",
      "\n",
      "55it [12:18, 12.40s/it]\u001b[A\u001b[A\u001b[A\n",
      "\n",
      "\n",
      "56it [12:32, 12.93s/it]\u001b[A\u001b[A\u001b[A\n",
      "\n",
      "\n",
      "57it [12:48, 13.70s/it]\u001b[A\u001b[A\u001b[A\n",
      "\n",
      "\n",
      "58it [13:02, 13.84s/it]\u001b[A\u001b[A\u001b[A\n",
      "\n",
      "\n",
      "59it [13:16, 14.05s/it]\u001b[A\u001b[A\u001b[A\n",
      "\n",
      "\n",
      "60it [13:28, 13.45s/it]\u001b[A\u001b[A\u001b[A\n",
      "\n",
      "\n",
      "61it [13:40, 13.01s/it]\u001b[A\u001b[A\u001b[A\n",
      "\n",
      "\n",
      "62it [13:51, 12.44s/it]\u001b[A\u001b[A\u001b[A\n",
      "\n",
      "\n",
      "63it [14:06, 13.02s/it]\u001b[A\u001b[A\u001b[A\n",
      "\n",
      "\n",
      "64it [14:20, 13.46s/it]\u001b[A\u001b[A\u001b[A\n",
      "\n",
      "\n",
      "65it [14:38, 14.79s/it]\u001b[A\u001b[A\u001b[A\n",
      "\n",
      "\n",
      "66it [14:57, 15.98s/it]\u001b[A\u001b[A\u001b[A\n",
      "\n",
      "\n",
      "67it [15:10, 14.97s/it]\u001b[A\u001b[A\u001b[A\n",
      "\n",
      "\n",
      "68it [15:24, 14.72s/it]\u001b[A\u001b[A\u001b[A\n",
      "\n",
      "\n",
      "69it [15:41, 15.54s/it]\u001b[A\u001b[A\u001b[A\n",
      "\n",
      "\n",
      "70it [15:58, 16.05s/it]\u001b[A\u001b[A\u001b[A\n",
      "\n",
      "\n",
      "71it [16:13, 15.51s/it]\u001b[A\u001b[A\u001b[A\n",
      "\n",
      "\n",
      "72it [16:30, 15.91s/it]\u001b[A\u001b[A\u001b[A\n",
      "\n",
      "\n",
      "73it [16:42, 14.80s/it]\u001b[A\u001b[A\u001b[A\n",
      "\n",
      "\n",
      "74it [16:55, 14.40s/it]\u001b[A\u001b[A\u001b[A\n",
      "\n",
      "\n",
      "75it [17:06, 13.31s/it]\u001b[A\u001b[A\u001b[A\n",
      "\n",
      "\n",
      "76it [17:18, 12.99s/it]\u001b[A\u001b[A\u001b[A\n",
      "\n",
      "\n",
      "77it [17:32, 13.18s/it]\u001b[A\u001b[A\u001b[A\n",
      "\n",
      "\n",
      "78it [17:50, 14.65s/it]\u001b[A\u001b[A\u001b[A"
     ]
    },
    {
     "ename": "RateLimitError",
     "evalue": "Error code: 429 - {'error': {'message': 'Rate limit reached for model `llama3-70b-8192` in organization `org_01jhapc3wsf4htzcx0vvmm7k5j` service tier `on_demand` on : Limit 500000, Used 500206, Requested 431. Please try again in 1m50.129399999s. Visit https://console.groq.com/docs/rate-limits for more information.', 'type': '', 'code': 'rate_limit_exceeded'}}",
     "output_type": "error",
     "traceback": [
      "\u001b[0;31m---------------------------------------------------------------------------\u001b[0m",
      "\u001b[0;31mRateLimitError\u001b[0m                            Traceback (most recent call last)",
      "Cell \u001b[0;32mIn[15], line 7\u001b[0m\n\u001b[1;32m      5\u001b[0m \u001b[38;5;28mprint\u001b[39m(i \u001b[38;5;241m+\u001b[39m start, \u001b[38;5;124m\"\u001b[39m\u001b[38;5;124mth chunk\u001b[39m\u001b[38;5;124m\"\u001b[39m)\n\u001b[1;32m      6\u001b[0m \u001b[38;5;28mprint\u001b[39m(\u001b[38;5;124m\"\u001b[39m\u001b[38;5;124mfaithfulness\u001b[39m\u001b[38;5;124m\"\u001b[39m)\n\u001b[0;32m----> 7\u001b[0m chunk[\u001b[38;5;124m\"\u001b[39m\u001b[38;5;124mfaithfulness\u001b[39m\u001b[38;5;124m\"\u001b[39m] \u001b[38;5;241m=\u001b[39m [faithfulness(client, row[\u001b[38;5;124m\"\u001b[39m\u001b[38;5;124mquestion\u001b[39m\u001b[38;5;124m\"\u001b[39m], row[\u001b[38;5;124m\"\u001b[39m\u001b[38;5;124mcontext\u001b[39m\u001b[38;5;124m\"\u001b[39m], row[\u001b[38;5;124m\"\u001b[39m\u001b[38;5;124mresponse\u001b[39m\u001b[38;5;124m\"\u001b[39m]) \u001b[38;5;28;01mfor\u001b[39;00m ind, row \u001b[38;5;129;01min\u001b[39;00m tqdm(chunk\u001b[38;5;241m.\u001b[39miterrows())]\n\u001b[1;32m      8\u001b[0m pd\u001b[38;5;241m.\u001b[39mDataFrame(chunk[\u001b[38;5;124m\"\u001b[39m\u001b[38;5;124mfaithfulness\u001b[39m\u001b[38;5;124m\"\u001b[39m])\u001b[38;5;241m.\u001b[39mto_parquet(\u001b[38;5;124mf\u001b[39m\u001b[38;5;124m\"\u001b[39m\u001b[38;5;124mfaithful_\u001b[39m\u001b[38;5;132;01m{\u001b[39;00mi\u001b[38;5;250m \u001b[39m\u001b[38;5;241m+\u001b[39m\u001b[38;5;250m \u001b[39mstart\u001b[38;5;132;01m}\u001b[39;00m\u001b[38;5;124m.parquet\u001b[39m\u001b[38;5;124m\"\u001b[39m)\n\u001b[1;32m      9\u001b[0m \u001b[38;5;28mprint\u001b[39m(\u001b[38;5;124m\"\u001b[39m\u001b[38;5;124manswer relevancy\u001b[39m\u001b[38;5;124m\"\u001b[39m)\n",
      "Cell \u001b[0;32mIn[15], line 7\u001b[0m, in \u001b[0;36m<listcomp>\u001b[0;34m(.0)\u001b[0m\n\u001b[1;32m      5\u001b[0m \u001b[38;5;28mprint\u001b[39m(i \u001b[38;5;241m+\u001b[39m start, \u001b[38;5;124m\"\u001b[39m\u001b[38;5;124mth chunk\u001b[39m\u001b[38;5;124m\"\u001b[39m)\n\u001b[1;32m      6\u001b[0m \u001b[38;5;28mprint\u001b[39m(\u001b[38;5;124m\"\u001b[39m\u001b[38;5;124mfaithfulness\u001b[39m\u001b[38;5;124m\"\u001b[39m)\n\u001b[0;32m----> 7\u001b[0m chunk[\u001b[38;5;124m\"\u001b[39m\u001b[38;5;124mfaithfulness\u001b[39m\u001b[38;5;124m\"\u001b[39m] \u001b[38;5;241m=\u001b[39m [\u001b[43mfaithfulness\u001b[49m\u001b[43m(\u001b[49m\u001b[43mclient\u001b[49m\u001b[43m,\u001b[49m\u001b[43m \u001b[49m\u001b[43mrow\u001b[49m\u001b[43m[\u001b[49m\u001b[38;5;124;43m\"\u001b[39;49m\u001b[38;5;124;43mquestion\u001b[39;49m\u001b[38;5;124;43m\"\u001b[39;49m\u001b[43m]\u001b[49m\u001b[43m,\u001b[49m\u001b[43m \u001b[49m\u001b[43mrow\u001b[49m\u001b[43m[\u001b[49m\u001b[38;5;124;43m\"\u001b[39;49m\u001b[38;5;124;43mcontext\u001b[39;49m\u001b[38;5;124;43m\"\u001b[39;49m\u001b[43m]\u001b[49m\u001b[43m,\u001b[49m\u001b[43m \u001b[49m\u001b[43mrow\u001b[49m\u001b[43m[\u001b[49m\u001b[38;5;124;43m\"\u001b[39;49m\u001b[38;5;124;43mresponse\u001b[39;49m\u001b[38;5;124;43m\"\u001b[39;49m\u001b[43m]\u001b[49m\u001b[43m)\u001b[49m \u001b[38;5;28;01mfor\u001b[39;00m ind, row \u001b[38;5;129;01min\u001b[39;00m tqdm(chunk\u001b[38;5;241m.\u001b[39miterrows())]\n\u001b[1;32m      8\u001b[0m pd\u001b[38;5;241m.\u001b[39mDataFrame(chunk[\u001b[38;5;124m\"\u001b[39m\u001b[38;5;124mfaithfulness\u001b[39m\u001b[38;5;124m\"\u001b[39m])\u001b[38;5;241m.\u001b[39mto_parquet(\u001b[38;5;124mf\u001b[39m\u001b[38;5;124m\"\u001b[39m\u001b[38;5;124mfaithful_\u001b[39m\u001b[38;5;132;01m{\u001b[39;00mi\u001b[38;5;250m \u001b[39m\u001b[38;5;241m+\u001b[39m\u001b[38;5;250m \u001b[39mstart\u001b[38;5;132;01m}\u001b[39;00m\u001b[38;5;124m.parquet\u001b[39m\u001b[38;5;124m\"\u001b[39m)\n\u001b[1;32m      9\u001b[0m \u001b[38;5;28mprint\u001b[39m(\u001b[38;5;124m\"\u001b[39m\u001b[38;5;124manswer relevancy\u001b[39m\u001b[38;5;124m\"\u001b[39m)\n",
      "Cell \u001b[0;32mIn[11], line 22\u001b[0m, in \u001b[0;36mfaithfulness\u001b[0;34m(judge, query, context, output)\u001b[0m\n\u001b[1;32m     21\u001b[0m \u001b[38;5;28;01mdef\u001b[39;00m \u001b[38;5;21mfaithfulness\u001b[39m(judge, query, context, output):\n\u001b[0;32m---> 22\u001b[0m     judge_statement \u001b[38;5;241m=\u001b[39m \u001b[43mjudge\u001b[49m\u001b[38;5;241;43m.\u001b[39;49m\u001b[43mchat\u001b[49m\u001b[38;5;241;43m.\u001b[39;49m\u001b[43mcompletions\u001b[49m\u001b[38;5;241;43m.\u001b[39;49m\u001b[43mcreate\u001b[49m\u001b[43m(\u001b[49m\n\u001b[1;32m     23\u001b[0m \u001b[43m        \u001b[49m\u001b[43mmessages\u001b[49m\u001b[38;5;241;43m=\u001b[39;49m\u001b[43mstatement_prompt\u001b[49m\u001b[43m(\u001b[49m\u001b[43mquery\u001b[49m\u001b[43m,\u001b[49m\u001b[43m \u001b[49m\u001b[43moutput\u001b[49m\u001b[43m)\u001b[49m\u001b[43m,\u001b[49m\n\u001b[1;32m     24\u001b[0m \u001b[43m        \u001b[49m\u001b[43mmodel\u001b[49m\u001b[38;5;241;43m=\u001b[39;49m\u001b[38;5;124;43m\"\u001b[39;49m\u001b[38;5;124;43mllama3-70b-8192\u001b[39;49m\u001b[38;5;124;43m\"\u001b[39;49m\u001b[43m,\u001b[49m\n\u001b[1;32m     25\u001b[0m \u001b[43m    \u001b[49m\u001b[43m)\u001b[49m\n\u001b[1;32m     26\u001b[0m     statement \u001b[38;5;241m=\u001b[39m \u001b[38;5;28mlist\u001b[39m(\n\u001b[1;32m     27\u001b[0m         \u001b[38;5;28mfilter\u001b[39m(\u001b[38;5;28;01mNone\u001b[39;00m, judge_statement\u001b[38;5;241m.\u001b[39mchoices[\u001b[38;5;241m0\u001b[39m]\u001b[38;5;241m.\u001b[39mmessage\u001b[38;5;241m.\u001b[39mcontent\u001b[38;5;241m.\u001b[39msplit(\u001b[38;5;124m\"\u001b[39m\u001b[38;5;124mStatement:\u001b[39m\u001b[38;5;124m\"\u001b[39m))\n\u001b[1;32m     28\u001b[0m     )\n\u001b[1;32m     29\u001b[0m     faithfulness \u001b[38;5;241m=\u001b[39m (\n\u001b[1;32m     30\u001b[0m         judge\u001b[38;5;241m.\u001b[39mchat\u001b[38;5;241m.\u001b[39mcompletions\u001b[38;5;241m.\u001b[39mcreate(\n\u001b[1;32m     31\u001b[0m             messages\u001b[38;5;241m=\u001b[39mfaithfulness_prompt(statement, context), model\u001b[38;5;241m=\u001b[39m\u001b[38;5;124m\"\u001b[39m\u001b[38;5;124mllama3-70b-8192\u001b[39m\u001b[38;5;124m\"\u001b[39m\n\u001b[0;32m   (...)\u001b[0m\n\u001b[1;32m     34\u001b[0m         \u001b[38;5;241m.\u001b[39mmessage\u001b[38;5;241m.\u001b[39mcontent\n\u001b[1;32m     35\u001b[0m     )\n",
      "File \u001b[0;32m/opt/conda/lib/python3.10/site-packages/groq/resources/chat/completions.py:316\u001b[0m, in \u001b[0;36mCompletions.create\u001b[0;34m(self, messages, model, frequency_penalty, function_call, functions, logit_bias, logprobs, max_completion_tokens, max_tokens, n, parallel_tool_calls, presence_penalty, response_format, seed, service_tier, stop, stream, temperature, tool_choice, tools, top_logprobs, top_p, user, extra_headers, extra_query, extra_body, timeout)\u001b[0m\n\u001b[1;32m    163\u001b[0m \u001b[38;5;28;01mdef\u001b[39;00m \u001b[38;5;21mcreate\u001b[39m(\n\u001b[1;32m    164\u001b[0m     \u001b[38;5;28mself\u001b[39m,\n\u001b[1;32m    165\u001b[0m     \u001b[38;5;241m*\u001b[39m,\n\u001b[0;32m   (...)\u001b[0m\n\u001b[1;32m    194\u001b[0m     timeout: \u001b[38;5;28mfloat\u001b[39m \u001b[38;5;241m|\u001b[39m httpx\u001b[38;5;241m.\u001b[39mTimeout \u001b[38;5;241m|\u001b[39m \u001b[38;5;28;01mNone\u001b[39;00m \u001b[38;5;241m|\u001b[39m NotGiven \u001b[38;5;241m=\u001b[39m NOT_GIVEN,\n\u001b[1;32m    195\u001b[0m ) \u001b[38;5;241m-\u001b[39m\u001b[38;5;241m>\u001b[39m ChatCompletion \u001b[38;5;241m|\u001b[39m Stream[ChatCompletionChunk]:\n\u001b[1;32m    196\u001b[0m \u001b[38;5;250m    \u001b[39m\u001b[38;5;124;03m\"\"\"\u001b[39;00m\n\u001b[1;32m    197\u001b[0m \u001b[38;5;124;03m    Creates a model response for the given chat conversation.\u001b[39;00m\n\u001b[1;32m    198\u001b[0m \n\u001b[0;32m   (...)\u001b[0m\n\u001b[1;32m    314\u001b[0m \u001b[38;5;124;03m      timeout: Override the client-level default timeout for this request, in seconds\u001b[39;00m\n\u001b[1;32m    315\u001b[0m \u001b[38;5;124;03m    \"\"\"\u001b[39;00m\n\u001b[0;32m--> 316\u001b[0m     \u001b[38;5;28;01mreturn\u001b[39;00m \u001b[38;5;28;43mself\u001b[39;49m\u001b[38;5;241;43m.\u001b[39;49m\u001b[43m_post\u001b[49m\u001b[43m(\u001b[49m\n\u001b[1;32m    317\u001b[0m \u001b[43m        \u001b[49m\u001b[38;5;124;43m\"\u001b[39;49m\u001b[38;5;124;43m/openai/v1/chat/completions\u001b[39;49m\u001b[38;5;124;43m\"\u001b[39;49m\u001b[43m,\u001b[49m\n\u001b[1;32m    318\u001b[0m \u001b[43m        \u001b[49m\u001b[43mbody\u001b[49m\u001b[38;5;241;43m=\u001b[39;49m\u001b[43mmaybe_transform\u001b[49m\u001b[43m(\u001b[49m\n\u001b[1;32m    319\u001b[0m \u001b[43m            \u001b[49m\u001b[43m{\u001b[49m\n\u001b[1;32m    320\u001b[0m \u001b[43m                \u001b[49m\u001b[38;5;124;43m\"\u001b[39;49m\u001b[38;5;124;43mmessages\u001b[39;49m\u001b[38;5;124;43m\"\u001b[39;49m\u001b[43m:\u001b[49m\u001b[43m \u001b[49m\u001b[43mmessages\u001b[49m\u001b[43m,\u001b[49m\n\u001b[1;32m    321\u001b[0m \u001b[43m                \u001b[49m\u001b[38;5;124;43m\"\u001b[39;49m\u001b[38;5;124;43mmodel\u001b[39;49m\u001b[38;5;124;43m\"\u001b[39;49m\u001b[43m:\u001b[49m\u001b[43m \u001b[49m\u001b[43mmodel\u001b[49m\u001b[43m,\u001b[49m\n\u001b[1;32m    322\u001b[0m \u001b[43m                \u001b[49m\u001b[38;5;124;43m\"\u001b[39;49m\u001b[38;5;124;43mfrequency_penalty\u001b[39;49m\u001b[38;5;124;43m\"\u001b[39;49m\u001b[43m:\u001b[49m\u001b[43m \u001b[49m\u001b[43mfrequency_penalty\u001b[49m\u001b[43m,\u001b[49m\n\u001b[1;32m    323\u001b[0m \u001b[43m                \u001b[49m\u001b[38;5;124;43m\"\u001b[39;49m\u001b[38;5;124;43mfunction_call\u001b[39;49m\u001b[38;5;124;43m\"\u001b[39;49m\u001b[43m:\u001b[49m\u001b[43m \u001b[49m\u001b[43mfunction_call\u001b[49m\u001b[43m,\u001b[49m\n\u001b[1;32m    324\u001b[0m \u001b[43m                \u001b[49m\u001b[38;5;124;43m\"\u001b[39;49m\u001b[38;5;124;43mfunctions\u001b[39;49m\u001b[38;5;124;43m\"\u001b[39;49m\u001b[43m:\u001b[49m\u001b[43m \u001b[49m\u001b[43mfunctions\u001b[49m\u001b[43m,\u001b[49m\n\u001b[1;32m    325\u001b[0m \u001b[43m                \u001b[49m\u001b[38;5;124;43m\"\u001b[39;49m\u001b[38;5;124;43mlogit_bias\u001b[39;49m\u001b[38;5;124;43m\"\u001b[39;49m\u001b[43m:\u001b[49m\u001b[43m \u001b[49m\u001b[43mlogit_bias\u001b[49m\u001b[43m,\u001b[49m\n\u001b[1;32m    326\u001b[0m \u001b[43m                \u001b[49m\u001b[38;5;124;43m\"\u001b[39;49m\u001b[38;5;124;43mlogprobs\u001b[39;49m\u001b[38;5;124;43m\"\u001b[39;49m\u001b[43m:\u001b[49m\u001b[43m \u001b[49m\u001b[43mlogprobs\u001b[49m\u001b[43m,\u001b[49m\n\u001b[1;32m    327\u001b[0m \u001b[43m                \u001b[49m\u001b[38;5;124;43m\"\u001b[39;49m\u001b[38;5;124;43mmax_completion_tokens\u001b[39;49m\u001b[38;5;124;43m\"\u001b[39;49m\u001b[43m:\u001b[49m\u001b[43m \u001b[49m\u001b[43mmax_completion_tokens\u001b[49m\u001b[43m,\u001b[49m\n\u001b[1;32m    328\u001b[0m \u001b[43m                \u001b[49m\u001b[38;5;124;43m\"\u001b[39;49m\u001b[38;5;124;43mmax_tokens\u001b[39;49m\u001b[38;5;124;43m\"\u001b[39;49m\u001b[43m:\u001b[49m\u001b[43m \u001b[49m\u001b[43mmax_tokens\u001b[49m\u001b[43m,\u001b[49m\n\u001b[1;32m    329\u001b[0m \u001b[43m                \u001b[49m\u001b[38;5;124;43m\"\u001b[39;49m\u001b[38;5;124;43mn\u001b[39;49m\u001b[38;5;124;43m\"\u001b[39;49m\u001b[43m:\u001b[49m\u001b[43m \u001b[49m\u001b[43mn\u001b[49m\u001b[43m,\u001b[49m\n\u001b[1;32m    330\u001b[0m \u001b[43m                \u001b[49m\u001b[38;5;124;43m\"\u001b[39;49m\u001b[38;5;124;43mparallel_tool_calls\u001b[39;49m\u001b[38;5;124;43m\"\u001b[39;49m\u001b[43m:\u001b[49m\u001b[43m \u001b[49m\u001b[43mparallel_tool_calls\u001b[49m\u001b[43m,\u001b[49m\n\u001b[1;32m    331\u001b[0m \u001b[43m                \u001b[49m\u001b[38;5;124;43m\"\u001b[39;49m\u001b[38;5;124;43mpresence_penalty\u001b[39;49m\u001b[38;5;124;43m\"\u001b[39;49m\u001b[43m:\u001b[49m\u001b[43m \u001b[49m\u001b[43mpresence_penalty\u001b[49m\u001b[43m,\u001b[49m\n\u001b[1;32m    332\u001b[0m \u001b[43m                \u001b[49m\u001b[38;5;124;43m\"\u001b[39;49m\u001b[38;5;124;43mresponse_format\u001b[39;49m\u001b[38;5;124;43m\"\u001b[39;49m\u001b[43m:\u001b[49m\u001b[43m \u001b[49m\u001b[43mresponse_format\u001b[49m\u001b[43m,\u001b[49m\n\u001b[1;32m    333\u001b[0m \u001b[43m                \u001b[49m\u001b[38;5;124;43m\"\u001b[39;49m\u001b[38;5;124;43mseed\u001b[39;49m\u001b[38;5;124;43m\"\u001b[39;49m\u001b[43m:\u001b[49m\u001b[43m \u001b[49m\u001b[43mseed\u001b[49m\u001b[43m,\u001b[49m\n\u001b[1;32m    334\u001b[0m \u001b[43m                \u001b[49m\u001b[38;5;124;43m\"\u001b[39;49m\u001b[38;5;124;43mservice_tier\u001b[39;49m\u001b[38;5;124;43m\"\u001b[39;49m\u001b[43m:\u001b[49m\u001b[43m \u001b[49m\u001b[43mservice_tier\u001b[49m\u001b[43m,\u001b[49m\n\u001b[1;32m    335\u001b[0m \u001b[43m                \u001b[49m\u001b[38;5;124;43m\"\u001b[39;49m\u001b[38;5;124;43mstop\u001b[39;49m\u001b[38;5;124;43m\"\u001b[39;49m\u001b[43m:\u001b[49m\u001b[43m \u001b[49m\u001b[43mstop\u001b[49m\u001b[43m,\u001b[49m\n\u001b[1;32m    336\u001b[0m \u001b[43m                \u001b[49m\u001b[38;5;124;43m\"\u001b[39;49m\u001b[38;5;124;43mstream\u001b[39;49m\u001b[38;5;124;43m\"\u001b[39;49m\u001b[43m:\u001b[49m\u001b[43m \u001b[49m\u001b[43mstream\u001b[49m\u001b[43m,\u001b[49m\n\u001b[1;32m    337\u001b[0m \u001b[43m                \u001b[49m\u001b[38;5;124;43m\"\u001b[39;49m\u001b[38;5;124;43mtemperature\u001b[39;49m\u001b[38;5;124;43m\"\u001b[39;49m\u001b[43m:\u001b[49m\u001b[43m \u001b[49m\u001b[43mtemperature\u001b[49m\u001b[43m,\u001b[49m\n\u001b[1;32m    338\u001b[0m \u001b[43m                \u001b[49m\u001b[38;5;124;43m\"\u001b[39;49m\u001b[38;5;124;43mtool_choice\u001b[39;49m\u001b[38;5;124;43m\"\u001b[39;49m\u001b[43m:\u001b[49m\u001b[43m \u001b[49m\u001b[43mtool_choice\u001b[49m\u001b[43m,\u001b[49m\n\u001b[1;32m    339\u001b[0m \u001b[43m                \u001b[49m\u001b[38;5;124;43m\"\u001b[39;49m\u001b[38;5;124;43mtools\u001b[39;49m\u001b[38;5;124;43m\"\u001b[39;49m\u001b[43m:\u001b[49m\u001b[43m \u001b[49m\u001b[43mtools\u001b[49m\u001b[43m,\u001b[49m\n\u001b[1;32m    340\u001b[0m \u001b[43m                \u001b[49m\u001b[38;5;124;43m\"\u001b[39;49m\u001b[38;5;124;43mtop_logprobs\u001b[39;49m\u001b[38;5;124;43m\"\u001b[39;49m\u001b[43m:\u001b[49m\u001b[43m \u001b[49m\u001b[43mtop_logprobs\u001b[49m\u001b[43m,\u001b[49m\n\u001b[1;32m    341\u001b[0m \u001b[43m                \u001b[49m\u001b[38;5;124;43m\"\u001b[39;49m\u001b[38;5;124;43mtop_p\u001b[39;49m\u001b[38;5;124;43m\"\u001b[39;49m\u001b[43m:\u001b[49m\u001b[43m \u001b[49m\u001b[43mtop_p\u001b[49m\u001b[43m,\u001b[49m\n\u001b[1;32m    342\u001b[0m \u001b[43m                \u001b[49m\u001b[38;5;124;43m\"\u001b[39;49m\u001b[38;5;124;43muser\u001b[39;49m\u001b[38;5;124;43m\"\u001b[39;49m\u001b[43m:\u001b[49m\u001b[43m \u001b[49m\u001b[43muser\u001b[49m\u001b[43m,\u001b[49m\n\u001b[1;32m    343\u001b[0m \u001b[43m            \u001b[49m\u001b[43m}\u001b[49m\u001b[43m,\u001b[49m\n\u001b[1;32m    344\u001b[0m \u001b[43m            \u001b[49m\u001b[43mcompletion_create_params\u001b[49m\u001b[38;5;241;43m.\u001b[39;49m\u001b[43mCompletionCreateParams\u001b[49m\u001b[43m,\u001b[49m\n\u001b[1;32m    345\u001b[0m \u001b[43m        \u001b[49m\u001b[43m)\u001b[49m\u001b[43m,\u001b[49m\n\u001b[1;32m    346\u001b[0m \u001b[43m        \u001b[49m\u001b[43moptions\u001b[49m\u001b[38;5;241;43m=\u001b[39;49m\u001b[43mmake_request_options\u001b[49m\u001b[43m(\u001b[49m\n\u001b[1;32m    347\u001b[0m \u001b[43m            \u001b[49m\u001b[43mextra_headers\u001b[49m\u001b[38;5;241;43m=\u001b[39;49m\u001b[43mextra_headers\u001b[49m\u001b[43m,\u001b[49m\u001b[43m \u001b[49m\u001b[43mextra_query\u001b[49m\u001b[38;5;241;43m=\u001b[39;49m\u001b[43mextra_query\u001b[49m\u001b[43m,\u001b[49m\u001b[43m \u001b[49m\u001b[43mextra_body\u001b[49m\u001b[38;5;241;43m=\u001b[39;49m\u001b[43mextra_body\u001b[49m\u001b[43m,\u001b[49m\u001b[43m \u001b[49m\u001b[43mtimeout\u001b[49m\u001b[38;5;241;43m=\u001b[39;49m\u001b[43mtimeout\u001b[49m\n\u001b[1;32m    348\u001b[0m \u001b[43m        \u001b[49m\u001b[43m)\u001b[49m\u001b[43m,\u001b[49m\n\u001b[1;32m    349\u001b[0m \u001b[43m        \u001b[49m\u001b[43mcast_to\u001b[49m\u001b[38;5;241;43m=\u001b[39;49m\u001b[43mChatCompletion\u001b[49m\u001b[43m,\u001b[49m\n\u001b[1;32m    350\u001b[0m \u001b[43m        \u001b[49m\u001b[43mstream\u001b[49m\u001b[38;5;241;43m=\u001b[39;49m\u001b[43mstream\u001b[49m\u001b[43m \u001b[49m\u001b[38;5;129;43;01mor\u001b[39;49;00m\u001b[43m \u001b[49m\u001b[38;5;28;43;01mFalse\u001b[39;49;00m\u001b[43m,\u001b[49m\n\u001b[1;32m    351\u001b[0m \u001b[43m        \u001b[49m\u001b[43mstream_cls\u001b[49m\u001b[38;5;241;43m=\u001b[39;49m\u001b[43mStream\u001b[49m\u001b[43m[\u001b[49m\u001b[43mChatCompletionChunk\u001b[49m\u001b[43m]\u001b[49m\u001b[43m,\u001b[49m\n\u001b[1;32m    352\u001b[0m \u001b[43m    \u001b[49m\u001b[43m)\u001b[49m\n",
      "File \u001b[0;32m/opt/conda/lib/python3.10/site-packages/groq/_base_client.py:1266\u001b[0m, in \u001b[0;36mSyncAPIClient.post\u001b[0;34m(self, path, cast_to, body, options, files, stream, stream_cls)\u001b[0m\n\u001b[1;32m   1252\u001b[0m \u001b[38;5;28;01mdef\u001b[39;00m \u001b[38;5;21mpost\u001b[39m(\n\u001b[1;32m   1253\u001b[0m     \u001b[38;5;28mself\u001b[39m,\n\u001b[1;32m   1254\u001b[0m     path: \u001b[38;5;28mstr\u001b[39m,\n\u001b[0;32m   (...)\u001b[0m\n\u001b[1;32m   1261\u001b[0m     stream_cls: \u001b[38;5;28mtype\u001b[39m[_StreamT] \u001b[38;5;241m|\u001b[39m \u001b[38;5;28;01mNone\u001b[39;00m \u001b[38;5;241m=\u001b[39m \u001b[38;5;28;01mNone\u001b[39;00m,\n\u001b[1;32m   1262\u001b[0m ) \u001b[38;5;241m-\u001b[39m\u001b[38;5;241m>\u001b[39m ResponseT \u001b[38;5;241m|\u001b[39m _StreamT:\n\u001b[1;32m   1263\u001b[0m     opts \u001b[38;5;241m=\u001b[39m FinalRequestOptions\u001b[38;5;241m.\u001b[39mconstruct(\n\u001b[1;32m   1264\u001b[0m         method\u001b[38;5;241m=\u001b[39m\u001b[38;5;124m\"\u001b[39m\u001b[38;5;124mpost\u001b[39m\u001b[38;5;124m\"\u001b[39m, url\u001b[38;5;241m=\u001b[39mpath, json_data\u001b[38;5;241m=\u001b[39mbody, files\u001b[38;5;241m=\u001b[39mto_httpx_files(files), \u001b[38;5;241m*\u001b[39m\u001b[38;5;241m*\u001b[39moptions\n\u001b[1;32m   1265\u001b[0m     )\n\u001b[0;32m-> 1266\u001b[0m     \u001b[38;5;28;01mreturn\u001b[39;00m cast(ResponseT, \u001b[38;5;28;43mself\u001b[39;49m\u001b[38;5;241;43m.\u001b[39;49m\u001b[43mrequest\u001b[49m\u001b[43m(\u001b[49m\u001b[43mcast_to\u001b[49m\u001b[43m,\u001b[49m\u001b[43m \u001b[49m\u001b[43mopts\u001b[49m\u001b[43m,\u001b[49m\u001b[43m \u001b[49m\u001b[43mstream\u001b[49m\u001b[38;5;241;43m=\u001b[39;49m\u001b[43mstream\u001b[49m\u001b[43m,\u001b[49m\u001b[43m \u001b[49m\u001b[43mstream_cls\u001b[49m\u001b[38;5;241;43m=\u001b[39;49m\u001b[43mstream_cls\u001b[49m\u001b[43m)\u001b[49m)\n",
      "File \u001b[0;32m/opt/conda/lib/python3.10/site-packages/groq/_base_client.py:958\u001b[0m, in \u001b[0;36mSyncAPIClient.request\u001b[0;34m(self, cast_to, options, remaining_retries, stream, stream_cls)\u001b[0m\n\u001b[1;32m    955\u001b[0m \u001b[38;5;28;01melse\u001b[39;00m:\n\u001b[1;32m    956\u001b[0m     retries_taken \u001b[38;5;241m=\u001b[39m \u001b[38;5;241m0\u001b[39m\n\u001b[0;32m--> 958\u001b[0m \u001b[38;5;28;01mreturn\u001b[39;00m \u001b[38;5;28;43mself\u001b[39;49m\u001b[38;5;241;43m.\u001b[39;49m\u001b[43m_request\u001b[49m\u001b[43m(\u001b[49m\n\u001b[1;32m    959\u001b[0m \u001b[43m    \u001b[49m\u001b[43mcast_to\u001b[49m\u001b[38;5;241;43m=\u001b[39;49m\u001b[43mcast_to\u001b[49m\u001b[43m,\u001b[49m\n\u001b[1;32m    960\u001b[0m \u001b[43m    \u001b[49m\u001b[43moptions\u001b[49m\u001b[38;5;241;43m=\u001b[39;49m\u001b[43moptions\u001b[49m\u001b[43m,\u001b[49m\n\u001b[1;32m    961\u001b[0m \u001b[43m    \u001b[49m\u001b[43mstream\u001b[49m\u001b[38;5;241;43m=\u001b[39;49m\u001b[43mstream\u001b[49m\u001b[43m,\u001b[49m\n\u001b[1;32m    962\u001b[0m \u001b[43m    \u001b[49m\u001b[43mstream_cls\u001b[49m\u001b[38;5;241;43m=\u001b[39;49m\u001b[43mstream_cls\u001b[49m\u001b[43m,\u001b[49m\n\u001b[1;32m    963\u001b[0m \u001b[43m    \u001b[49m\u001b[43mretries_taken\u001b[49m\u001b[38;5;241;43m=\u001b[39;49m\u001b[43mretries_taken\u001b[49m\u001b[43m,\u001b[49m\n\u001b[1;32m    964\u001b[0m \u001b[43m\u001b[49m\u001b[43m)\u001b[49m\n",
      "File \u001b[0;32m/opt/conda/lib/python3.10/site-packages/groq/_base_client.py:1061\u001b[0m, in \u001b[0;36mSyncAPIClient._request\u001b[0;34m(self, cast_to, options, retries_taken, stream, stream_cls)\u001b[0m\n\u001b[1;32m   1058\u001b[0m         err\u001b[38;5;241m.\u001b[39mresponse\u001b[38;5;241m.\u001b[39mread()\n\u001b[1;32m   1060\u001b[0m     log\u001b[38;5;241m.\u001b[39mdebug(\u001b[38;5;124m\"\u001b[39m\u001b[38;5;124mRe-raising status error\u001b[39m\u001b[38;5;124m\"\u001b[39m)\n\u001b[0;32m-> 1061\u001b[0m     \u001b[38;5;28;01mraise\u001b[39;00m \u001b[38;5;28mself\u001b[39m\u001b[38;5;241m.\u001b[39m_make_status_error_from_response(err\u001b[38;5;241m.\u001b[39mresponse) \u001b[38;5;28;01mfrom\u001b[39;00m \u001b[38;5;28;01mNone\u001b[39;00m\n\u001b[1;32m   1063\u001b[0m \u001b[38;5;28;01mreturn\u001b[39;00m \u001b[38;5;28mself\u001b[39m\u001b[38;5;241m.\u001b[39m_process_response(\n\u001b[1;32m   1064\u001b[0m     cast_to\u001b[38;5;241m=\u001b[39mcast_to,\n\u001b[1;32m   1065\u001b[0m     options\u001b[38;5;241m=\u001b[39moptions,\n\u001b[0;32m   (...)\u001b[0m\n\u001b[1;32m   1069\u001b[0m     retries_taken\u001b[38;5;241m=\u001b[39mretries_taken,\n\u001b[1;32m   1070\u001b[0m )\n",
      "\u001b[0;31mRateLimitError\u001b[0m: Error code: 429 - {'error': {'message': 'Rate limit reached for model `llama3-70b-8192` in organization `org_01jhapc3wsf4htzcx0vvmm7k5j` service tier `on_demand` on : Limit 500000, Used 500206, Requested 431. Please try again in 1m50.129399999s. Visit https://console.groq.com/docs/rate-limits for more information.', 'type': '', 'code': 'rate_limit_exceeded'}}"
     ]
    }
   ],
   "source": [
    "from tqdm import tqdm\n",
    "\n",
    "start = 5\n",
    "for i, chunk in enumerate(chunks[start:]):\n",
    "    print(i + start, \"th chunk\")\n",
    "    print(\"faithfulness\")\n",
    "    chunk[\"faithfulness\"] = [faithfulness(client, row[\"question\"], row[\"context\"], row[\"response\"]) for ind, row in tqdm(chunk.iterrows())]\n",
    "    pd.DataFrame(chunk[\"faithfulness\"]).to_parquet(f\"faithful_{i + start}.parquet\")\n",
    "    print(\"answer relevancy\")\n",
    "    chunk[\"AR\"] = [answer_relevancy(client, row[\"question\"], row[\"context\"], row[\"response\"]) for ind, row in tqdm(chunk.iterrows())]\n",
    "    pd.DataFrame(chunk[\"AR\"]).to_parquet(f\"AR_{i + start}.parquet\")\n"
   ]
  },
  {
   "cell_type": "code",
   "execution_count": 19,
   "metadata": {
    "execution": {
     "iopub.execute_input": "2025-01-14T15:04:17.238010Z",
     "iopub.status.busy": "2025-01-14T15:04:17.237565Z",
     "iopub.status.idle": "2025-01-14T15:04:17.245246Z",
     "shell.execute_reply": "2025-01-14T15:04:17.244374Z",
     "shell.execute_reply.started": "2025-01-14T15:04:17.237968Z"
    },
    "trusted": true
   },
   "outputs": [],
   "source": [
    " pd.DataFrame(chunks[0][\"AR\"]).to_parquet(f\"AR_{i}.parquet\")"
   ]
  },
  {
   "cell_type": "code",
   "execution_count": 57,
   "metadata": {
    "execution": {
     "iopub.execute_input": "2025-01-11T14:35:27.567560Z",
     "iopub.status.busy": "2025-01-11T14:35:27.567154Z",
     "iopub.status.idle": "2025-01-11T14:35:32.507170Z",
     "shell.execute_reply": "2025-01-11T14:35:32.506046Z",
     "shell.execute_reply.started": "2025-01-11T14:35:27.567520Z"
    },
    "trusted": true
   },
   "outputs": [],
   "source": [
    "\n",
    "judge_statement = client.chat.completions.create(\n",
    "    messages=[\n",
    "        statement_prompt(query, output)[0]\n",
    "        for query, output in statements\n",
    "    ],\n",
    "    model=\"llama3-70b-8192\",\n",
    ")\n"
   ]
  },
  {
   "cell_type": "code",
   "execution_count": 4,
   "metadata": {
    "execution": {
     "iopub.execute_input": "2024-12-25T17:34:07.869678Z",
     "iopub.status.busy": "2024-12-25T17:34:07.869020Z",
     "iopub.status.idle": "2024-12-25T17:34:07.873831Z",
     "shell.execute_reply": "2024-12-25T17:34:07.872918Z",
     "shell.execute_reply.started": "2024-12-25T17:34:07.869641Z"
    },
    "trusted": true
   },
   "outputs": [],
   "source": [
    "judge = InferenceClient(\"meta-llama/Meta-Llama-3-8B-Instruct\", token=HUGGING_FACE_TOKEN)\n"
   ]
  },
  {
   "cell_type": "markdown",
   "metadata": {},
   "source": [
    "## Loading RAGTruth"
   ]
  },
  {
   "cell_type": "code",
   "execution_count": 4,
   "metadata": {
    "execution": {
     "iopub.execute_input": "2025-01-17T08:46:38.530682Z",
     "iopub.status.busy": "2025-01-17T08:46:38.529726Z",
     "iopub.status.idle": "2025-01-17T08:46:38.534423Z",
     "shell.execute_reply": "2025-01-17T08:46:38.533559Z",
     "shell.execute_reply.started": "2025-01-17T08:46:38.530648Z"
    },
    "trusted": true
   },
   "outputs": [],
   "source": [
    "def roBERTa_prompt(question, answer, context):\n",
    "    return f\"Based on the question {question}, and the {context}, determine whether the {answer} hallucinates\""
   ]
  },
  {
   "cell_type": "code",
   "execution_count": 2,
   "metadata": {
    "execution": {
     "iopub.execute_input": "2025-01-17T08:42:58.471105Z",
     "iopub.status.busy": "2025-01-17T08:42:58.470796Z",
     "iopub.status.idle": "2025-01-17T08:43:00.929240Z",
     "shell.execute_reply": "2025-01-17T08:43:00.928318Z",
     "shell.execute_reply.started": "2025-01-17T08:42:58.471079Z"
    },
    "trusted": true
   },
   "outputs": [],
   "source": [
    "from transformers import RobertaTokenizer\n",
    "from torch.utils.data import Dataset, DataLoader\n",
    "\n",
    "class RAGTruthDataset(Dataset):\n",
    "    def __init__(self, texts, labels, tokenizer, max_length):\n",
    "        self.texts = texts\n",
    "        self.labels = labels\n",
    "        self.tokenizer = tokenizer\n",
    "        self.max_length = max_length\n",
    "\n",
    "    def __len__(self):\n",
    "        return len(self.texts)\n",
    "\n",
    "    def __getitem__(self, idx):\n",
    "        text = self.texts[idx]\n",
    "        label = self.labels[idx]\n",
    "        encoding = self.tokenizer(\n",
    "            text,\n",
    "            max_length=self.max_length,\n",
    "            padding=\"max_length\",\n",
    "            truncation=True,\n",
    "            return_tensors=\"pt\",\n",
    "        )\n",
    "        return {\n",
    "            \"input_ids\": encoding[\"input_ids\"].squeeze(0),\n",
    "            \"attention_mask\": encoding[\"attention_mask\"].squeeze(0),\n",
    "            \"label\": torch.tensor(label, dtype=torch.long),\n",
    "        }"
   ]
  },
  {
   "cell_type": "code",
   "execution_count": 11,
   "metadata": {
    "execution": {
     "iopub.execute_input": "2025-01-17T08:53:50.011892Z",
     "iopub.status.busy": "2025-01-17T08:53:50.011527Z",
     "iopub.status.idle": "2025-01-17T08:53:50.082014Z",
     "shell.execute_reply": "2025-01-17T08:53:50.081067Z",
     "shell.execute_reply.started": "2025-01-17T08:53:50.011859Z"
    },
    "trusted": true
   },
   "outputs": [],
   "source": [
    "df[\"roBERTa\"] = df.apply(lambda x: roBERTa_prompt(x[\"question\"], x[\"response\"], x[\"context\"]), axis=1)\n",
    "y = df[\"labels\"]\n",
    "label_mapping = {label: idx for idx, label in enumerate(y.unique())}\n",
    "y = y.map(label_mapping)"
   ]
  },
  {
   "cell_type": "code",
   "execution_count": 13,
   "metadata": {
    "execution": {
     "iopub.execute_input": "2025-01-17T08:53:58.550662Z",
     "iopub.status.busy": "2025-01-17T08:53:58.550319Z",
     "iopub.status.idle": "2025-01-17T08:53:58.863312Z",
     "shell.execute_reply": "2025-01-17T08:53:58.862624Z",
     "shell.execute_reply.started": "2025-01-17T08:53:58.550630Z"
    },
    "trusted": true
   },
   "outputs": [],
   "source": [
    "tokenizer = RobertaTokenizer.from_pretrained(\"roberta-base\")\n",
    "\n",
    "\n",
    "dataset = RAGTruthDataset(df[\"roBERTa\"].to_numpy(), y.to_numpy(), tokenizer, max_length=128)\n",
    "dataloader = DataLoader(dataset, batch_size=16, shuffle=True)"
   ]
  },
  {
   "cell_type": "code",
   "execution_count": 6,
   "metadata": {
    "execution": {
     "iopub.execute_input": "2025-01-17T08:48:05.632342Z",
     "iopub.status.busy": "2025-01-17T08:48:05.631723Z",
     "iopub.status.idle": "2025-01-17T08:48:05.654706Z",
     "shell.execute_reply": "2025-01-17T08:48:05.653933Z",
     "shell.execute_reply.started": "2025-01-17T08:48:05.632307Z"
    },
    "trusted": true
   },
   "outputs": [
    {
     "data": {
      "text/html": [
       "<div>\n",
       "<style scoped>\n",
       "    .dataframe tbody tr th:only-of-type {\n",
       "        vertical-align: middle;\n",
       "    }\n",
       "\n",
       "    .dataframe tbody tr th {\n",
       "        vertical-align: top;\n",
       "    }\n",
       "\n",
       "    .dataframe thead th {\n",
       "        text-align: right;\n",
       "    }\n",
       "</style>\n",
       "<table border=\"1\" class=\"dataframe\">\n",
       "  <thead>\n",
       "    <tr style=\"text-align: right;\">\n",
       "      <th></th>\n",
       "      <th>task_type</th>\n",
       "      <th>source</th>\n",
       "      <th>prompt</th>\n",
       "      <th>id</th>\n",
       "      <th>model</th>\n",
       "      <th>temperature</th>\n",
       "      <th>labels</th>\n",
       "      <th>split</th>\n",
       "      <th>quality</th>\n",
       "      <th>response</th>\n",
       "      <th>question</th>\n",
       "      <th>context</th>\n",
       "    </tr>\n",
       "    <tr>\n",
       "      <th>source_id</th>\n",
       "      <th></th>\n",
       "      <th></th>\n",
       "      <th></th>\n",
       "      <th></th>\n",
       "      <th></th>\n",
       "      <th></th>\n",
       "      <th></th>\n",
       "      <th></th>\n",
       "      <th></th>\n",
       "      <th></th>\n",
       "      <th></th>\n",
       "      <th></th>\n",
       "    </tr>\n",
       "  </thead>\n",
       "  <tbody>\n",
       "    <tr>\n",
       "      <th>14292</th>\n",
       "      <td>QA</td>\n",
       "      <td>MARCO</td>\n",
       "      <td>Briefly answer the following question:\\nbutche...</td>\n",
       "      <td>11856</td>\n",
       "      <td>gpt-4-0613</td>\n",
       "      <td>0.70</td>\n",
       "      <td>False</td>\n",
       "      <td>train</td>\n",
       "      <td>good</td>\n",
       "      <td>The phone numbers for several butcher shops ar...</td>\n",
       "      <td>butcher shop phone number</td>\n",
       "      <td>passage 1:Butcher Shop - Hayward 826 B Street,...</td>\n",
       "    </tr>\n",
       "    <tr>\n",
       "      <th>14292</th>\n",
       "      <td>QA</td>\n",
       "      <td>MARCO</td>\n",
       "      <td>Briefly answer the following question:\\nbutche...</td>\n",
       "      <td>11857</td>\n",
       "      <td>gpt-3.5-turbo-0613</td>\n",
       "      <td>0.70</td>\n",
       "      <td>False</td>\n",
       "      <td>train</td>\n",
       "      <td>good</td>\n",
       "      <td>Butcher Shop - Hayward phone number: (510) 889...</td>\n",
       "      <td>butcher shop phone number</td>\n",
       "      <td>passage 1:Butcher Shop - Hayward 826 B Street,...</td>\n",
       "    </tr>\n",
       "    <tr>\n",
       "      <th>14292</th>\n",
       "      <td>QA</td>\n",
       "      <td>MARCO</td>\n",
       "      <td>Briefly answer the following question:\\nbutche...</td>\n",
       "      <td>11858</td>\n",
       "      <td>mistral-7B-instruct</td>\n",
       "      <td>0.70</td>\n",
       "      <td>Evident Baseless Info</td>\n",
       "      <td>train</td>\n",
       "      <td>good</td>\n",
       "      <td>Based on the given passages, there are several...</td>\n",
       "      <td>butcher shop phone number</td>\n",
       "      <td>passage 1:Butcher Shop - Hayward 826 B Street,...</td>\n",
       "    </tr>\n",
       "    <tr>\n",
       "      <th>14292</th>\n",
       "      <td>QA</td>\n",
       "      <td>MARCO</td>\n",
       "      <td>Briefly answer the following question:\\nbutche...</td>\n",
       "      <td>11859</td>\n",
       "      <td>llama-2-7b-chat</td>\n",
       "      <td>0.85</td>\n",
       "      <td>False</td>\n",
       "      <td>train</td>\n",
       "      <td>good</td>\n",
       "      <td>Based on the provided passages, the butcher sh...</td>\n",
       "      <td>butcher shop phone number</td>\n",
       "      <td>passage 1:Butcher Shop - Hayward 826 B Street,...</td>\n",
       "    </tr>\n",
       "    <tr>\n",
       "      <th>14292</th>\n",
       "      <td>QA</td>\n",
       "      <td>MARCO</td>\n",
       "      <td>Briefly answer the following question:\\nbutche...</td>\n",
       "      <td>11860</td>\n",
       "      <td>llama-2-13b-chat</td>\n",
       "      <td>0.70</td>\n",
       "      <td>False</td>\n",
       "      <td>train</td>\n",
       "      <td>good</td>\n",
       "      <td>Based on the given passages, the butcher shop ...</td>\n",
       "      <td>butcher shop phone number</td>\n",
       "      <td>passage 1:Butcher Shop - Hayward 826 B Street,...</td>\n",
       "    </tr>\n",
       "    <tr>\n",
       "      <th>...</th>\n",
       "      <td>...</td>\n",
       "      <td>...</td>\n",
       "      <td>...</td>\n",
       "      <td>...</td>\n",
       "      <td>...</td>\n",
       "      <td>...</td>\n",
       "      <td>...</td>\n",
       "      <td>...</td>\n",
       "      <td>...</td>\n",
       "      <td>...</td>\n",
       "      <td>...</td>\n",
       "      <td>...</td>\n",
       "    </tr>\n",
       "    <tr>\n",
       "      <th>12460</th>\n",
       "      <td>QA</td>\n",
       "      <td>MARCO</td>\n",
       "      <td>Briefly answer the following question:\\nwhat a...</td>\n",
       "      <td>17785</td>\n",
       "      <td>gpt-3.5-turbo-0613</td>\n",
       "      <td>0.70</td>\n",
       "      <td>False</td>\n",
       "      <td>train</td>\n",
       "      <td>good</td>\n",
       "      <td>Eating tomatoes can provide nutrition benefits...</td>\n",
       "      <td>what are nutrition benefits eating tomatoes</td>\n",
       "      <td>passage 1:2. Prevent DNA Damage. Tomatoes are ...</td>\n",
       "    </tr>\n",
       "    <tr>\n",
       "      <th>12460</th>\n",
       "      <td>QA</td>\n",
       "      <td>MARCO</td>\n",
       "      <td>Briefly answer the following question:\\nwhat a...</td>\n",
       "      <td>17786</td>\n",
       "      <td>mistral-7B-instruct</td>\n",
       "      <td>0.70</td>\n",
       "      <td>Evident Baseless Info</td>\n",
       "      <td>train</td>\n",
       "      <td>good</td>\n",
       "      <td>Based on the given passages, it appears that e...</td>\n",
       "      <td>what are nutrition benefits eating tomatoes</td>\n",
       "      <td>passage 1:2. Prevent DNA Damage. Tomatoes are ...</td>\n",
       "    </tr>\n",
       "    <tr>\n",
       "      <th>12460</th>\n",
       "      <td>QA</td>\n",
       "      <td>MARCO</td>\n",
       "      <td>Briefly answer the following question:\\nwhat a...</td>\n",
       "      <td>17787</td>\n",
       "      <td>llama-2-7b-chat</td>\n",
       "      <td>0.70</td>\n",
       "      <td>Evident Baseless Info</td>\n",
       "      <td>train</td>\n",
       "      <td>good</td>\n",
       "      <td>Based on the provided passages, here are the n...</td>\n",
       "      <td>what are nutrition benefits eating tomatoes</td>\n",
       "      <td>passage 1:2. Prevent DNA Damage. Tomatoes are ...</td>\n",
       "    </tr>\n",
       "    <tr>\n",
       "      <th>12460</th>\n",
       "      <td>QA</td>\n",
       "      <td>MARCO</td>\n",
       "      <td>Briefly answer the following question:\\nwhat a...</td>\n",
       "      <td>17788</td>\n",
       "      <td>llama-2-13b-chat</td>\n",
       "      <td>1.00</td>\n",
       "      <td>False</td>\n",
       "      <td>train</td>\n",
       "      <td>good</td>\n",
       "      <td>Based on the provided passages, here are the n...</td>\n",
       "      <td>what are nutrition benefits eating tomatoes</td>\n",
       "      <td>passage 1:2. Prevent DNA Damage. Tomatoes are ...</td>\n",
       "    </tr>\n",
       "    <tr>\n",
       "      <th>12460</th>\n",
       "      <td>QA</td>\n",
       "      <td>MARCO</td>\n",
       "      <td>Briefly answer the following question:\\nwhat a...</td>\n",
       "      <td>17789</td>\n",
       "      <td>llama-2-70b-chat</td>\n",
       "      <td>0.85</td>\n",
       "      <td>False</td>\n",
       "      <td>train</td>\n",
       "      <td>good</td>\n",
       "      <td>Based on the given passages, here are some of ...</td>\n",
       "      <td>what are nutrition benefits eating tomatoes</td>\n",
       "      <td>passage 1:2. Prevent DNA Damage. Tomatoes are ...</td>\n",
       "    </tr>\n",
       "  </tbody>\n",
       "</table>\n",
       "<p>5934 rows × 12 columns</p>\n",
       "</div>"
      ],
      "text/plain": [
       "          task_type source                                             prompt  \\\n",
       "source_id                                                                       \n",
       "14292            QA  MARCO  Briefly answer the following question:\\nbutche...   \n",
       "14292            QA  MARCO  Briefly answer the following question:\\nbutche...   \n",
       "14292            QA  MARCO  Briefly answer the following question:\\nbutche...   \n",
       "14292            QA  MARCO  Briefly answer the following question:\\nbutche...   \n",
       "14292            QA  MARCO  Briefly answer the following question:\\nbutche...   \n",
       "...             ...    ...                                                ...   \n",
       "12460            QA  MARCO  Briefly answer the following question:\\nwhat a...   \n",
       "12460            QA  MARCO  Briefly answer the following question:\\nwhat a...   \n",
       "12460            QA  MARCO  Briefly answer the following question:\\nwhat a...   \n",
       "12460            QA  MARCO  Briefly answer the following question:\\nwhat a...   \n",
       "12460            QA  MARCO  Briefly answer the following question:\\nwhat a...   \n",
       "\n",
       "              id                model  temperature                 labels  \\\n",
       "source_id                                                                   \n",
       "14292      11856           gpt-4-0613         0.70                  False   \n",
       "14292      11857   gpt-3.5-turbo-0613         0.70                  False   \n",
       "14292      11858  mistral-7B-instruct         0.70  Evident Baseless Info   \n",
       "14292      11859      llama-2-7b-chat         0.85                  False   \n",
       "14292      11860     llama-2-13b-chat         0.70                  False   \n",
       "...          ...                  ...          ...                    ...   \n",
       "12460      17785   gpt-3.5-turbo-0613         0.70                  False   \n",
       "12460      17786  mistral-7B-instruct         0.70  Evident Baseless Info   \n",
       "12460      17787      llama-2-7b-chat         0.70  Evident Baseless Info   \n",
       "12460      17788     llama-2-13b-chat         1.00                  False   \n",
       "12460      17789     llama-2-70b-chat         0.85                  False   \n",
       "\n",
       "           split quality                                           response  \\\n",
       "source_id                                                                     \n",
       "14292      train    good  The phone numbers for several butcher shops ar...   \n",
       "14292      train    good  Butcher Shop - Hayward phone number: (510) 889...   \n",
       "14292      train    good  Based on the given passages, there are several...   \n",
       "14292      train    good  Based on the provided passages, the butcher sh...   \n",
       "14292      train    good  Based on the given passages, the butcher shop ...   \n",
       "...          ...     ...                                                ...   \n",
       "12460      train    good  Eating tomatoes can provide nutrition benefits...   \n",
       "12460      train    good  Based on the given passages, it appears that e...   \n",
       "12460      train    good  Based on the provided passages, here are the n...   \n",
       "12460      train    good  Based on the provided passages, here are the n...   \n",
       "12460      train    good  Based on the given passages, here are some of ...   \n",
       "\n",
       "                                              question  \\\n",
       "source_id                                                \n",
       "14292                        butcher shop phone number   \n",
       "14292                        butcher shop phone number   \n",
       "14292                        butcher shop phone number   \n",
       "14292                        butcher shop phone number   \n",
       "14292                        butcher shop phone number   \n",
       "...                                                ...   \n",
       "12460      what are nutrition benefits eating tomatoes   \n",
       "12460      what are nutrition benefits eating tomatoes   \n",
       "12460      what are nutrition benefits eating tomatoes   \n",
       "12460      what are nutrition benefits eating tomatoes   \n",
       "12460      what are nutrition benefits eating tomatoes   \n",
       "\n",
       "                                                     context  \n",
       "source_id                                                     \n",
       "14292      passage 1:Butcher Shop - Hayward 826 B Street,...  \n",
       "14292      passage 1:Butcher Shop - Hayward 826 B Street,...  \n",
       "14292      passage 1:Butcher Shop - Hayward 826 B Street,...  \n",
       "14292      passage 1:Butcher Shop - Hayward 826 B Street,...  \n",
       "14292      passage 1:Butcher Shop - Hayward 826 B Street,...  \n",
       "...                                                      ...  \n",
       "12460      passage 1:2. Prevent DNA Damage. Tomatoes are ...  \n",
       "12460      passage 1:2. Prevent DNA Damage. Tomatoes are ...  \n",
       "12460      passage 1:2. Prevent DNA Damage. Tomatoes are ...  \n",
       "12460      passage 1:2. Prevent DNA Damage. Tomatoes are ...  \n",
       "12460      passage 1:2. Prevent DNA Damage. Tomatoes are ...  \n",
       "\n",
       "[5934 rows x 12 columns]"
      ]
     },
     "execution_count": 6,
     "metadata": {},
     "output_type": "execute_result"
    }
   ],
   "source": [
    "from transformers import RobertaForSequenceClassification\n",
    "from torch.optim import AdamW\n",
    "from transformers import get_scheduler\n",
    "\n",
    "num_labels = len(np.unique(y))\n",
    "model = RobertaForSequenceClassification.from_pretrained(\"roberta-base\", num_labels=num_labels)\n",
    "\n",
    "optimizer = AdamW(model.parameters(), lr=5e-5)\n",
    "num_training_steps = len(dataloader) * num_epochs\n",
    "lr_scheduler = get_scheduler(\n",
    "    \"linear\", optimizer=optimizer, num_warmup_steps=0, num_training_steps=num_training_steps\n",
    ")"
   ]
  },
  {
   "cell_type": "code",
   "execution_count": null,
   "metadata": {
    "trusted": true
   },
   "outputs": [],
   "source": [
    "from torch.nn import CrossEntropyLoss\n",
    "from tqdm import tqdm\n",
    "\n",
    "device = torch.device(\"cuda\") if torch.cuda.is_available() else torch.device(\"cpu\")\n",
    "model.to(device)\n",
    "\n",
    "num_epochs = 3\n",
    "loss_fn = CrossEntropyLoss()\n",
    "\n",
    "for epoch in range(num_epochs):\n",
    "    model.train()\n",
    "    loop = tqdm(dataloader, leave=True)\n",
    "    for batch in loop:\n",
    "        input_ids = batch[\"input_ids\"].to(device)\n",
    "        attention_mask = batch[\"attention_mask\"].to(device)\n",
    "        labels = batch[\"label\"].to(device)\n",
    "\n",
    "        outputs = model(input_ids, attention_mask=attention_mask, labels=labels)\n",
    "        loss = outputs.loss\n",
    "        logits = outputs.logits\n",
    "\n",
    "        optimizer.zero_grad()\n",
    "        loss.backward()\n",
    "        optimizer.step()\n",
    "\n",
    "        loop.set_description(f\"Epoch {epoch}\")\n",
    "        loop.set_postfix(loss=loss.item())"
   ]
  },
  {
   "cell_type": "code",
   "execution_count": null,
   "metadata": {
    "trusted": true
   },
   "outputs": [],
   "source": [
    "model.save_pretrained(\"fine_tuned_roberta\")\n",
    "tokenizer.save_pretrained(\"fine_tuned_roberta\")\n",
    "\n",
    "# Evaluate\n",
    "model.eval()"
   ]
  },
  {
   "cell_type": "code",
   "execution_count": null,
   "metadata": {},
   "outputs": [],
   "source": [
    "from transformers import RobertaTokenizer, RobertaForSequenceClassification\n",
    "\n",
    "# Load the fine-tuned model and tokenizer\n",
    "model_path = \"fine_tuned_roberta\"\n",
    "tokenizer = RobertaTokenizer.from_pretrained(model_path)\n",
    "model = RobertaForSequenceClassification.from_pretrained(model_path)\n",
    "\n",
    "# Move model to device\n",
    "device = \"cuda\" if torch.cuda.is_available() else \"cpu\"\n",
    "model.to(device)\n",
    "model.eval()"
   ]
  },
  {
   "cell_type": "code",
   "execution_count": null,
   "metadata": {},
   "outputs": [],
   "source": [
    "def preprocess_text(text, tokenizer, max_length=128):\n",
    "    encoding = tokenizer(\n",
    "        text,\n",
    "        max_length=max_length,\n",
    "        padding=\"max_length\",\n",
    "        truncation=True,\n",
    "        return_tensors=\"pt\"\n",
    "    )\n",
    "    return encoding"
   ]
  },
  {
   "cell_type": "code",
   "execution_count": null,
   "metadata": {},
   "outputs": [],
   "source": [
    "import torch\n",
    "\n",
    "def predict(text, model, tokenizer, max_length=128):\n",
    "    # Preprocess the text\n",
    "    encoding = preprocess_text(text, tokenizer, max_length)\n",
    "\n",
    "    # Move tensors to device\n",
    "    input_ids = encoding[\"input_ids\"].to(device)\n",
    "    attention_mask = encoding[\"attention_mask\"].to(device)\n",
    "\n",
    "    # Forward pass through the model\n",
    "    with torch.no_grad():\n",
    "        outputs = model(input_ids, attention_mask=attention_mask)\n",
    "    \n",
    "    # Get logits and convert to probabilities\n",
    "    logits = outputs.logits\n",
    "    probabilities = torch.nn.functional.softmax(logits, dim=-1)\n",
    "\n",
    "    # Get the predicted class\n",
    "    predicted_class = torch.argmax(probabilities, dim=-1).item()\n",
    "\n",
    "    return predicted_class, probabilities.cpu().numpy()\n",
    "\n",
    "# Example usage\n",
    "text = \"This is a sample text for inference.\"\n",
    "predicted_class, probabilities = predict(text, model, tokenizer)\n",
    "\n",
    "print(f\"Predicted class: {predicted_class}\")\n",
    "print(f\"Probabilities: {probabilities}\")"
   ]
  },
  {
   "cell_type": "code",
   "execution_count": 22,
   "metadata": {
    "execution": {
     "iopub.execute_input": "2024-12-25T16:21:30.872476Z",
     "iopub.status.busy": "2024-12-25T16:21:30.871669Z",
     "iopub.status.idle": "2024-12-25T16:21:31.400968Z",
     "shell.execute_reply": "2024-12-25T16:21:31.400058Z",
     "shell.execute_reply.started": "2024-12-25T16:21:30.872440Z"
    },
    "trusted": true
   },
   "outputs": [],
   "source": [
    "from sklearn.model_selection import train_test_split\n",
    "\n",
    "X_train, X_test, y_train, y_test = train_test_split(X, y, test_size=0.33)"
   ]
  },
  {
   "cell_type": "code",
   "execution_count": 44,
   "metadata": {
    "execution": {
     "iopub.execute_input": "2024-12-25T16:25:48.577318Z",
     "iopub.status.busy": "2024-12-25T16:25:48.576968Z",
     "iopub.status.idle": "2024-12-25T16:25:48.582711Z",
     "shell.execute_reply": "2024-12-25T16:25:48.581735Z",
     "shell.execute_reply.started": "2024-12-25T16:25:48.577287Z"
    },
    "trusted": true
   },
   "outputs": [],
   "source": [
    "import torch.nn as nn\n",
    "import torch.nn.functional as F\n",
    "\n",
    "class BasicMLP(nn.Module):\n",
    "    def __init__(self):\n",
    "        super(BasicMLP, self).__init__()\n",
    "        self.ffnn = nn.Sequential(\n",
    "            nn.Linear(2, 12),\n",
    "            nn.ReLU(),\n",
    "            nn.Linear(12, 4),\n",
    "            nn.ReLU(),\n",
    "            nn.Linear(4, len(index)),\n",
    "        )\n",
    "    def forward(self, x):\n",
    "        return self.ffnn(x)"
   ]
  },
  {
   "cell_type": "code",
   "execution_count": 31,
   "metadata": {
    "execution": {
     "iopub.execute_input": "2024-12-25T16:22:54.294160Z",
     "iopub.status.busy": "2024-12-25T16:22:54.293580Z",
     "iopub.status.idle": "2024-12-25T16:22:54.299503Z",
     "shell.execute_reply": "2024-12-25T16:22:54.298586Z",
     "shell.execute_reply.started": "2024-12-25T16:22:54.294124Z"
    },
    "trusted": true
   },
   "outputs": [],
   "source": [
    "import torch.optim as optim\n",
    "\n",
    "model = BasicMLP()\n",
    "optimizer = optim.Adam(model.parameters(),)\n",
    "loss_fn = nn.CrossEntropyLoss()"
   ]
  },
  {
   "cell_type": "code",
   "execution_count": 45,
   "metadata": {
    "execution": {
     "iopub.execute_input": "2024-12-25T16:25:53.722698Z",
     "iopub.status.busy": "2024-12-25T16:25:53.722384Z",
     "iopub.status.idle": "2024-12-25T16:25:53.728391Z",
     "shell.execute_reply": "2024-12-25T16:25:53.727570Z",
     "shell.execute_reply.started": "2024-12-25T16:25:53.722672Z"
    },
    "trusted": true
   },
   "outputs": [],
   "source": [
    "from torch.utils.data import TensorDataset, DataLoader\n",
    "import torch\n",
    "\n",
    "x_tensor = torch.tensor(X_train.to_numpy(), dtype=torch.float32, requires_grad=True)\n",
    "y_tensor = torch.tensor(y_train, dtype=torch.long)\n",
    "\n",
    "# Create a TensorDataset\n",
    "dataset = TensorDataset(x_tensor, y_tensor)\n",
    "\n",
    "train_loader = torch.utils.data.DataLoader(dataset, batch_size=128, shuffle=True)"
   ]
  },
  {
   "cell_type": "code",
   "execution_count": 46,
   "metadata": {
    "execution": {
     "iopub.execute_input": "2024-12-25T16:25:55.001652Z",
     "iopub.status.busy": "2024-12-25T16:25:55.001315Z",
     "iopub.status.idle": "2024-12-25T16:25:55.852853Z",
     "shell.execute_reply": "2024-12-25T16:25:55.851981Z",
     "shell.execute_reply.started": "2024-12-25T16:25:55.001623Z"
    },
    "trusted": true
   },
   "outputs": [
    {
     "name": "stdout",
     "output_type": "stream",
     "text": [
      "EPOCH 1:\n",
      "3.11735337972641\n",
      "EPOCH 6:\n",
      "3.1196709871292114\n",
      "EPOCH 11:\n",
      "3.215919852256775\n",
      "EPOCH 16:\n",
      "3.586550533771515\n",
      "EPOCH 21:\n",
      "3.2034358978271484\n",
      "EPOCH 26:\n",
      "3.355764091014862\n",
      "EPOCH 31:\n",
      "3.2376062870025635\n",
      "EPOCH 36:\n",
      "3.7988849878311157\n",
      "EPOCH 41:\n",
      "3.2641862630844116\n",
      "EPOCH 46:\n",
      "2.888943374156952\n",
      "EPOCH 51:\n",
      "2.7804263830184937\n",
      "EPOCH 56:\n",
      "3.0602681040763855\n",
      "EPOCH 61:\n",
      "3.324139714241028\n",
      "EPOCH 66:\n",
      "3.0205820202827454\n",
      "EPOCH 71:\n",
      "2.8311057686805725\n",
      "EPOCH 76:\n",
      "3.3463022708892822\n",
      "EPOCH 81:\n",
      "3.1722772121429443\n",
      "EPOCH 86:\n",
      "2.8814147114753723\n",
      "EPOCH 91:\n",
      "2.77474308013916\n",
      "EPOCH 96:\n",
      "3.1973016262054443\n"
     ]
    }
   ],
   "source": [
    "EPOCHS = 100\n",
    "\n",
    "for epoch in range(EPOCHS):\n",
    "    running_loss = 0.\n",
    "    last_loss = 0.\n",
    "\n",
    "    model.train()\n",
    "    for i, data in enumerate(train_loader):\n",
    "        inputs, labels = data\n",
    "        optimizer.zero_grad()\n",
    "        outputs = model(inputs)\n",
    "        loss = loss_fn(outputs, labels)\n",
    "        loss.backward()\n",
    "        optimizer.step()\n",
    "        running_loss += loss.item()\n",
    "    if epoch % 5 == 0:\n",
    "        print('EPOCH {}:'.format(epoch + 1))\n",
    "        print(running_loss)"
   ]
  },
  {
   "cell_type": "code",
   "execution_count": 52,
   "metadata": {
    "execution": {
     "iopub.execute_input": "2024-12-25T16:36:36.320398Z",
     "iopub.status.busy": "2024-12-25T16:36:36.320027Z",
     "iopub.status.idle": "2024-12-25T16:36:36.646097Z",
     "shell.execute_reply": "2024-12-25T16:36:36.645240Z",
     "shell.execute_reply.started": "2024-12-25T16:36:36.320364Z"
    },
    "trusted": true
   },
   "outputs": [
    {
     "data": {
      "text/html": [
       "<style>#sk-container-id-1 {color: black;background-color: white;}#sk-container-id-1 pre{padding: 0;}#sk-container-id-1 div.sk-toggleable {background-color: white;}#sk-container-id-1 label.sk-toggleable__label {cursor: pointer;display: block;width: 100%;margin-bottom: 0;padding: 0.3em;box-sizing: border-box;text-align: center;}#sk-container-id-1 label.sk-toggleable__label-arrow:before {content: \"▸\";float: left;margin-right: 0.25em;color: #696969;}#sk-container-id-1 label.sk-toggleable__label-arrow:hover:before {color: black;}#sk-container-id-1 div.sk-estimator:hover label.sk-toggleable__label-arrow:before {color: black;}#sk-container-id-1 div.sk-toggleable__content {max-height: 0;max-width: 0;overflow: hidden;text-align: left;background-color: #f0f8ff;}#sk-container-id-1 div.sk-toggleable__content pre {margin: 0.2em;color: black;border-radius: 0.25em;background-color: #f0f8ff;}#sk-container-id-1 input.sk-toggleable__control:checked~div.sk-toggleable__content {max-height: 200px;max-width: 100%;overflow: auto;}#sk-container-id-1 input.sk-toggleable__control:checked~label.sk-toggleable__label-arrow:before {content: \"▾\";}#sk-container-id-1 div.sk-estimator input.sk-toggleable__control:checked~label.sk-toggleable__label {background-color: #d4ebff;}#sk-container-id-1 div.sk-label input.sk-toggleable__control:checked~label.sk-toggleable__label {background-color: #d4ebff;}#sk-container-id-1 input.sk-hidden--visually {border: 0;clip: rect(1px 1px 1px 1px);clip: rect(1px, 1px, 1px, 1px);height: 1px;margin: -1px;overflow: hidden;padding: 0;position: absolute;width: 1px;}#sk-container-id-1 div.sk-estimator {font-family: monospace;background-color: #f0f8ff;border: 1px dotted black;border-radius: 0.25em;box-sizing: border-box;margin-bottom: 0.5em;}#sk-container-id-1 div.sk-estimator:hover {background-color: #d4ebff;}#sk-container-id-1 div.sk-parallel-item::after {content: \"\";width: 100%;border-bottom: 1px solid gray;flex-grow: 1;}#sk-container-id-1 div.sk-label:hover label.sk-toggleable__label {background-color: #d4ebff;}#sk-container-id-1 div.sk-serial::before {content: \"\";position: absolute;border-left: 1px solid gray;box-sizing: border-box;top: 0;bottom: 0;left: 50%;z-index: 0;}#sk-container-id-1 div.sk-serial {display: flex;flex-direction: column;align-items: center;background-color: white;padding-right: 0.2em;padding-left: 0.2em;position: relative;}#sk-container-id-1 div.sk-item {position: relative;z-index: 1;}#sk-container-id-1 div.sk-parallel {display: flex;align-items: stretch;justify-content: center;background-color: white;position: relative;}#sk-container-id-1 div.sk-item::before, #sk-container-id-1 div.sk-parallel-item::before {content: \"\";position: absolute;border-left: 1px solid gray;box-sizing: border-box;top: 0;bottom: 0;left: 50%;z-index: -1;}#sk-container-id-1 div.sk-parallel-item {display: flex;flex-direction: column;z-index: 1;position: relative;background-color: white;}#sk-container-id-1 div.sk-parallel-item:first-child::after {align-self: flex-end;width: 50%;}#sk-container-id-1 div.sk-parallel-item:last-child::after {align-self: flex-start;width: 50%;}#sk-container-id-1 div.sk-parallel-item:only-child::after {width: 0;}#sk-container-id-1 div.sk-dashed-wrapped {border: 1px dashed gray;margin: 0 0.4em 0.5em 0.4em;box-sizing: border-box;padding-bottom: 0.4em;background-color: white;}#sk-container-id-1 div.sk-label label {font-family: monospace;font-weight: bold;display: inline-block;line-height: 1.2em;}#sk-container-id-1 div.sk-label-container {text-align: center;}#sk-container-id-1 div.sk-container {/* jupyter's `normalize.less` sets `[hidden] { display: none; }` but bootstrap.min.css set `[hidden] { display: none !important; }` so we also need the `!important` here to be able to override the default hidden behavior on the sphinx rendered scikit-learn.org. See: https://github.com/scikit-learn/scikit-learn/issues/21755 */display: inline-block !important;position: relative;}#sk-container-id-1 div.sk-text-repr-fallback {display: none;}</style><div id=\"sk-container-id-1\" class=\"sk-top-container\"><div class=\"sk-text-repr-fallback\"><pre>LogisticRegression()</pre><b>In a Jupyter environment, please rerun this cell to show the HTML representation or trust the notebook. <br />On GitHub, the HTML representation is unable to render, please try loading this page with nbviewer.org.</b></div><div class=\"sk-container\" hidden><div class=\"sk-item\"><div class=\"sk-estimator sk-toggleable\"><input class=\"sk-toggleable__control sk-hidden--visually\" id=\"sk-estimator-id-1\" type=\"checkbox\" checked><label for=\"sk-estimator-id-1\" class=\"sk-toggleable__label sk-toggleable__label-arrow\">LogisticRegression</label><div class=\"sk-toggleable__content\"><pre>LogisticRegression()</pre></div></div></div></div></div>"
      ],
      "text/plain": [
       "LogisticRegression()"
      ]
     },
     "execution_count": 52,
     "metadata": {},
     "output_type": "execute_result"
    }
   ],
   "source": [
    "from sklearn.linear_model import LogisticRegression\n",
    "\n",
    "log = LogisticRegression(penalty='l2')\n",
    "\n",
    "log.fit(X_train, y_train)"
   ]
  },
  {
   "cell_type": "code",
   "execution_count": 53,
   "metadata": {
    "execution": {
     "iopub.execute_input": "2024-12-25T16:37:37.977571Z",
     "iopub.status.busy": "2024-12-25T16:37:37.977160Z",
     "iopub.status.idle": "2024-12-25T16:37:38.284216Z",
     "shell.execute_reply": "2024-12-25T16:37:38.283188Z",
     "shell.execute_reply.started": "2024-12-25T16:37:37.977538Z"
    },
    "trusted": true
   },
   "outputs": [
    {
     "data": {
      "image/png": "[encoded data removed]",
      "text/plain": [
       "<Figure size 640x480 with 2 Axes>"
      ]
     },
     "metadata": {},
     "output_type": "display_data"
    }
   ],
   "source": [
    "cm = confusion_matrix(y_test, log.predict(X_test))\n",
    "\n",
    "# Display confusion matrix\n",
    "display = ConfusionMatrixDisplay(confusion_matrix=cm, display_labels=np.unique(y_test))\n",
    "display.plot(cmap=plt.cm.Blues)\n",
    "plt.title(\"Confusion Matrix\")\n",
    "\n",
    "plt.show()"
   ]
  },
  {
   "cell_type": "code",
   "execution_count": 47,
   "metadata": {
    "execution": {
     "iopub.execute_input": "2024-12-25T16:26:01.552897Z",
     "iopub.status.busy": "2024-12-25T16:26:01.552183Z",
     "iopub.status.idle": "2024-12-25T16:26:01.558618Z",
     "shell.execute_reply": "2024-12-25T16:26:01.557583Z",
     "shell.execute_reply.started": "2024-12-25T16:26:01.552863Z"
    },
    "trusted": true
   },
   "outputs": [],
   "source": [
    "x_tensor_test = torch.tensor(X_test.to_numpy(), dtype=torch.float32)\n",
    "y_tensor_test = torch.tensor(y_test, dtype=torch.long)\n",
    "dataset = TensorDataset(x_tensor_test, y_tensor_test)\n",
    "test_loader = torch.utils.data.DataLoader(dataset, batch_size=128, shuffle=True)"
   ]
  },
  {
   "cell_type": "code",
   "execution_count": 48,
   "metadata": {
    "execution": {
     "iopub.execute_input": "2024-12-25T16:26:02.288863Z",
     "iopub.status.busy": "2024-12-25T16:26:02.288510Z",
     "iopub.status.idle": "2024-12-25T16:26:02.296445Z",
     "shell.execute_reply": "2024-12-25T16:26:02.295524Z",
     "shell.execute_reply.started": "2024-12-25T16:26:02.288834Z"
    },
    "trusted": true
   },
   "outputs": [],
   "source": [
    "with torch.no_grad():\n",
    "    running_vloss = 0.\n",
    "    avg_loss = 0.\n",
    "    for i, vdata in enumerate(test_loader):\n",
    "        vinputs, vlabels = vdata\n",
    "        voutputs = model(vinputs)\n",
    "        vloss = loss_fn(voutputs, vlabels)\n",
    "        running_vloss += vloss\n",
    "    \n",
    "        avg_vloss = running_vloss / (i + 1)"
   ]
  },
  {
   "cell_type": "code",
   "execution_count": 49,
   "metadata": {
    "execution": {
     "iopub.execute_input": "2024-12-25T16:26:03.521654Z",
     "iopub.status.busy": "2024-12-25T16:26:03.520828Z",
     "iopub.status.idle": "2024-12-25T16:26:03.824923Z",
     "shell.execute_reply": "2024-12-25T16:26:03.824016Z",
     "shell.execute_reply.started": "2024-12-25T16:26:03.521618Z"
    },
    "trusted": true
   },
   "outputs": [
    {
     "data": {
      "image/png": "[encoded data removed]",
      "text/plain": [
       "<Figure size 640x480 with 2 Axes>"
      ]
     },
     "metadata": {},
     "output_type": "display_data"
    }
   ],
   "source": [
    "import numpy as np\n",
    "from sklearn.metrics import confusion_matrix, ConfusionMatrixDisplay\n",
    "import matplotlib.pyplot as plt\n",
    "\n",
    "true_labels = []\n",
    "predicted_labels = []\n",
    "\n",
    "# Set model to evaluation mode\n",
    "model.eval()\n",
    "\n",
    "with torch.no_grad():\n",
    "    for inputs, labels in test_loader:\n",
    "        # Get model outputs\n",
    "        outputs = model(inputs)  # Raw logits\n",
    "        \n",
    "        # Apply sigmoid activation\n",
    "        probabilities = torch.sigmoid(outputs)\n",
    "        \n",
    "        # Compute argmax for class prediction\n",
    "        predictions = torch.argmax(probabilities, dim=1)\n",
    "        \n",
    "        # Store true and predicted labels\n",
    "        true_labels.extend(labels.cpu().numpy())\n",
    "        predicted_labels.extend(predictions.cpu().numpy())\n",
    "\n",
    "# Convert to NumPy arrays\n",
    "true_labels = np.array(true_labels)\n",
    "predicted_labels = np.array(predicted_labels)\n",
    "\n",
    "# Compute confusion matrix\n",
    "cm = confusion_matrix(true_labels, predicted_labels)\n",
    "\n",
    "# Plot confusion matrix\n",
    "disp = ConfusionMatrixDisplay(confusion_matrix=cm)\n",
    "disp.plot(cmap=plt.cm.Blues)\n",
    "plt.title(\"Confusion Matrix\")\n",
    "plt.savefig(\"dl.png\")\n",
    "plt.show()"
   ]
  },
  {
   "cell_type": "markdown",
   "metadata": {},
   "source": [
    "## Completeness"
   ]
  },
  {
   "cell_type": "code",
   "execution_count": null,
   "metadata": {
    "execution": {
     "iopub.status.busy": "2024-12-18T19:30:39.162900Z",
     "iopub.status.idle": "2024-12-18T19:30:39.163162Z",
     "shell.execute_reply": "2024-12-18T19:30:39.163046Z",
     "shell.execute_reply.started": "2024-12-18T19:30:39.163033Z"
    },
    "trusted": true
   },
   "outputs": [],
   "source": [
    "completeness = (\n",
    "    judge.chat_completion(\n",
    "        completeness_prompt(output, inputs[\"question\"], inputs[\"context\"]),\n",
    "        max_tokens=300,\n",
    "    )\n",
    "    .choices[0]\n",
    "    .message.content.lower()\n",
    ")\n",
    "completeness_val = int(completeness.split('\"completeness\": ')[-1][0]) / 5\n",
    "completeness_val, completeness"
   ]
  },
  {
   "cell_type": "code",
   "execution_count": null,
   "metadata": {
    "execution": {
     "iopub.status.busy": "2024-12-18T19:30:39.164620Z",
     "iopub.status.idle": "2024-12-18T19:30:39.164887Z",
     "shell.execute_reply": "2024-12-18T19:30:39.164772Z",
     "shell.execute_reply.started": "2024-12-18T19:30:39.164758Z"
    },
    "trusted": true
   },
   "outputs": [],
   "source": [
    "context_relevance = list(\n",
    "    filter(\n",
    "        None,\n",
    "        judge.chat_completion(\n",
    "            context_statements(inputs[\"context\"], inputs[\"question\"]), max_tokens=400\n",
    "        )\n",
    "        .choices[0]\n",
    "        .message.content.lower()\n",
    "        .split(\"statement:\"),\n",
    "    )\n",
    ")\n",
    "context_summarized = list(\n",
    "    filter(\n",
    "        None,\n",
    "        judge.chat_completion(summarize_context(inputs[\"context\"]), max_tokens=1000)\n",
    "        .choices[0]\n",
    "        .message.content.lower()\n",
    "        .split(\"statement:\"),\n",
    "    )\n",
    ")"
   ]
  },
  {
   "cell_type": "code",
   "execution_count": null,
   "metadata": {
    "execution": {
     "iopub.status.busy": "2024-12-18T19:30:39.166534Z",
     "iopub.status.idle": "2024-12-18T19:30:39.166805Z",
     "shell.execute_reply": "2024-12-18T19:30:39.166688Z",
     "shell.execute_reply.started": "2024-12-18T19:30:39.166674Z"
    },
    "trusted": true
   },
   "outputs": [],
   "source": [
    "len(context_relevance) / summarized_length(judge, inputs[\"context\"])"
   ]
  },
  {
   "cell_type": "code",
   "execution_count": null,
   "metadata": {
    "execution": {
     "iopub.status.busy": "2024-12-18T19:30:39.168216Z",
     "iopub.status.idle": "2024-12-18T19:30:39.168596Z",
     "shell.execute_reply": "2024-12-18T19:30:39.168425Z",
     "shell.execute_reply.started": "2024-12-18T19:30:39.168400Z"
    },
    "trusted": true
   },
   "outputs": [],
   "source": [
    "context_relevance"
   ]
  },
  {
   "cell_type": "code",
   "execution_count": null,
   "metadata": {
    "trusted": true
   },
   "outputs": [],
   "source": []
  }
 ],
 "metadata": {
  "kaggle": {
   "accelerator": "none",
   "dataSources": [
    {
     "datasetId": 6321207,
     "sourceId": 10224826,
     "sourceType": "datasetVersion"
    },
    {
     "datasetId": 6321916,
     "sourceId": 10225719,
     "sourceType": "datasetVersion"
    },
    {
     "datasetId": 6362975,
     "sourceId": 10282645,
     "sourceType": "datasetVersion"
    }
   ],
   "dockerImageVersionId": 30805,
   "isGpuEnabled": false,
   "isInternetEnabled": true,
   "language": "python",
   "sourceType": "notebook"
  },
  "kernelspec": {
   "display_name": "web_scrap",
   "language": "python",
   "name": "python3"
  },
  "language_info": {
   "codemirror_mode": {
    "name": "ipython",
    "version": 3
   },
   "file_extension": ".py",
   "mimetype": "text/x-python",
   "name": "python",
   "nbconvert_exporter": "python",
   "pygments_lexer": "ipython3",
   "version": "3.11.9"
  }
 },
 "nbformat": 4,
 "nbformat_minor": 4
}
