{
 "cells": [
  {
   "cell_type": "code",
   "execution_count": 1,
   "metadata": {
    "execution": {
     "iopub.execute_input": "2025-01-21T16:17:28.745723Z",
     "iopub.status.busy": "2025-01-21T16:17:28.745273Z",
     "iopub.status.idle": "2025-01-21T16:17:28.751804Z",
     "shell.execute_reply": "2025-01-21T16:17:28.750435Z",
     "shell.execute_reply.started": "2025-01-21T16:17:28.745682Z"
    },
    "trusted": true
   },
   "outputs": [],
   "source": [
    "from dotenv import load_dotenv\n",
    "import os\n",
    "\n",
    "load_dotenv()\n",
    "\n",
    "api_key = os.getenv('GROQ_API_KEY')"
   ]
  },
  {
   "cell_type": "code",
   "execution_count": 2,
   "metadata": {
    "execution": {
     "iopub.execute_input": "2025-01-21T16:20:57.064974Z",
     "iopub.status.busy": "2025-01-21T16:20:57.064579Z",
     "iopub.status.idle": "2025-01-21T16:20:57.083946Z",
     "shell.execute_reply": "2025-01-21T16:20:57.082761Z",
     "shell.execute_reply.started": "2025-01-21T16:20:57.064942Z"
    },
    "trusted": true
   },
   "outputs": [],
   "source": [
    "from groq import Client\n",
    "\n",
    "client = Client(api_key=api_key)"
   ]
  },
  {
   "cell_type": "code",
   "execution_count": 3,
   "metadata": {
    "execution": {
     "iopub.execute_input": "2025-01-21T14:08:16.318886Z",
     "iopub.status.busy": "2025-01-21T14:08:16.318103Z",
     "iopub.status.idle": "2025-01-21T14:08:16.335797Z",
     "shell.execute_reply": "2025-01-21T14:08:16.334444Z",
     "shell.execute_reply.started": "2025-01-21T14:08:16.318839Z"
    },
    "trusted": true
   },
   "outputs": [],
   "source": [
    "def prompt_template(content):\n",
    "    return [{\"role\": \"user\", \"content\": content}]"
   ]
  },
  {
   "cell_type": "code",
   "execution_count": 4,
   "metadata": {
    "execution": {
     "iopub.execute_input": "2025-01-21T14:08:20.106215Z",
     "iopub.status.busy": "2025-01-21T14:08:20.105816Z",
     "iopub.status.idle": "2025-01-21T14:08:52.722477Z",
     "shell.execute_reply": "2025-01-21T14:08:52.721139Z",
     "shell.execute_reply.started": "2025-01-21T14:08:20.106180Z"
    },
    "trusted": true
   },
   "outputs": [],
   "source": [
    "from metric_prompts.faithfulness import faithfulness_prompt\n",
    "from metric_prompts.answer_relevancy import answer_relevancy_prompt\n",
    "from ratelimit import limits, sleep_and_retry\n",
    "\n",
    "RATE_LIMIT = 30\n",
    "TIME_PERIOD = 180\n",
    "\n",
    "@sleep_and_retry\n",
    "@limits(calls=RATE_LIMIT, period=TIME_PERIOD)\n",
    "def api_call(client, message, model):\n",
    "    response = client.chat.completions.create(messages=message, model=model)\n",
    "    return response.choices[0].message.content\n",
    "\n",
    "\n",
    "def faithfulness(judge, query, context, output):\n",
    "    judge_statement = judge.chat.completions.create(\n",
    "        messages=prompt_template(faithfulness_prompt(context, query, output)),\n",
    "        model=\"llama3-70b-8192\",\n",
    "        temperature=0.2,\n",
    "    )\n",
    "    return judge_statement.choices[0].message.content\n",
    "\n",
    "def answer_relevancy(judge, query, output):\n",
    "    judge_statement = judge.chat.completions.create(\n",
    "        messages=prompt_template(answer_relevancy_prompt(query, output)),\n",
    "        model=\"llama3-70b-8192\",\n",
    "        temperature=0.2,\n",
    "    )\n",
    "    return judge_statement.choices[0].message.content"
   ]
  },
  {
   "cell_type": "code",
   "execution_count": 5,
   "metadata": {
    "execution": {
     "iopub.execute_input": "2025-01-21T14:08:52.725341Z",
     "iopub.status.busy": "2025-01-21T14:08:52.724456Z",
     "iopub.status.idle": "2025-01-21T14:08:53.388724Z",
     "shell.execute_reply": "2025-01-21T14:08:53.387468Z",
     "shell.execute_reply.started": "2025-01-21T14:08:52.725296Z"
    },
    "trusted": true
   },
   "outputs": [],
   "source": [
    "import pandas as pd\n",
    "df = pd.read_parquet(\"../RAGtruth/data.parquet\")\n",
    "df = df[df[\"task_type\"] == \"QA\"]\n",
    "\n",
    "df[\"labels\"] = df[\"labels\"].apply(lambda x: False if len(x) == 0 else x)\n",
    "df[\"labels\"] = df[\"labels\"].apply(lambda x: x[0][\"label_type\"] if type(x) != bool else x)\n",
    "\n",
    "# Filter rows where labels are not False\n",
    "positive = df[df[\"labels\"] != False]\n",
    "\n",
    "def split_dataframe(df, chunk_size = 10000): \n",
    "    chunks = list()\n",
    "    num_chunks = len(df) // chunk_size + 1\n",
    "    for i in range(num_chunks):\n",
    "        chunks.append(df[i*chunk_size:(i+1)*chunk_size])\n",
    "    return chunks\n",
    "chunks_l = split_dataframe(positive, chunk_size=100)"
   ]
  },
  {
   "cell_type": "code",
   "execution_count": 6,
   "metadata": {
    "execution": {
     "iopub.execute_input": "2025-01-21T14:08:53.390625Z",
     "iopub.status.busy": "2025-01-21T14:08:53.390172Z",
     "iopub.status.idle": "2025-01-21T14:08:53.673919Z",
     "shell.execute_reply": "2025-01-21T14:08:53.672399Z",
     "shell.execute_reply.started": "2025-01-21T14:08:53.390579Z"
    },
    "trusted": true
   },
   "outputs": [],
   "source": [
    "chunks = split_dataframe(df, chunk_size=100)"
   ]
  },
  {
   "cell_type": "code",
   "execution_count": 7,
   "metadata": {},
   "outputs": [],
   "source": [
    "label_mapping = {label: idx for idx, label in enumerate(df[\"labels\"].unique())}\n",
    "df[\"labels\"] = df[\"labels\"].map(label_mapping)"
   ]
  },
  {
   "cell_type": "code",
   "execution_count": 9,
   "metadata": {},
   "outputs": [
    {
     "name": "stderr",
     "output_type": "stream",
     "text": [
      "  0%|          | 0/989 [00:00<?, ?it/s]\n"
     ]
    },
    {
     "ename": "BadRequestError",
     "evalue": "Error code: 400 - {'error': {'message': 'Organization has been restricted. Please reach out to support if you believe this was in error.', 'type': 'invalid_request_error', 'code': 'organization_restricted'}}",
     "output_type": "error",
     "traceback": [
      "\u001b[1;31m---------------------------------------------------------------------------\u001b[0m",
      "\u001b[1;31mBadRequestError\u001b[0m                           Traceback (most recent call last)",
      "Cell \u001b[1;32mIn[9], line 23\u001b[0m\n\u001b[0;32m     20\u001b[0m temperatures \u001b[38;5;241m=\u001b[39m group[\u001b[38;5;124m\"\u001b[39m\u001b[38;5;124mtemperature\u001b[39m\u001b[38;5;124m\"\u001b[39m]\u001b[38;5;241m.\u001b[39mvalues\u001b[38;5;241m.\u001b[39mtolist()\n\u001b[0;32m     21\u001b[0m labels \u001b[38;5;241m=\u001b[39m group[\u001b[38;5;124m\"\u001b[39m\u001b[38;5;124mlabels\u001b[39m\u001b[38;5;124m\"\u001b[39m]\u001b[38;5;241m.\u001b[39mvalues\u001b[38;5;241m.\u001b[39mtolist()\n\u001b[1;32m---> 23\u001b[0m raw_json \u001b[38;5;241m=\u001b[39m \u001b[43mfaithfulness\u001b[49m\u001b[43m(\u001b[49m\u001b[43mclient\u001b[49m\u001b[43m,\u001b[49m\u001b[43m \u001b[49m\u001b[43mquestions\u001b[49m\u001b[43m,\u001b[49m\u001b[43m \u001b[49m\u001b[43mcontext\u001b[49m\u001b[43m,\u001b[49m\u001b[43m \u001b[49m\u001b[43mresponses\u001b[49m\u001b[43m)\u001b[49m\n\u001b[0;32m     24\u001b[0m raw_json \u001b[38;5;241m=\u001b[39m raw_json[raw_json\u001b[38;5;241m.\u001b[39mfind(\u001b[38;5;124m\"\u001b[39m\u001b[38;5;124m{\u001b[39m\u001b[38;5;124m\"\u001b[39m) : raw_json\u001b[38;5;241m.\u001b[39mrfind(\u001b[38;5;124m\"\u001b[39m\u001b[38;5;124m}\u001b[39m\u001b[38;5;124m\"\u001b[39m) \u001b[38;5;241m+\u001b[39m \u001b[38;5;241m1\u001b[39m]\n\u001b[0;32m     25\u001b[0m \u001b[38;5;28;01mtry\u001b[39;00m:\n",
      "Cell \u001b[1;32mIn[4], line 16\u001b[0m, in \u001b[0;36mfaithfulness\u001b[1;34m(judge, query, context, output)\u001b[0m\n\u001b[0;32m     15\u001b[0m \u001b[38;5;28;01mdef\u001b[39;00m\u001b[38;5;250m \u001b[39m\u001b[38;5;21mfaithfulness\u001b[39m(judge, query, context, output):\n\u001b[1;32m---> 16\u001b[0m     judge_statement \u001b[38;5;241m=\u001b[39m \u001b[43mjudge\u001b[49m\u001b[38;5;241;43m.\u001b[39;49m\u001b[43mchat\u001b[49m\u001b[38;5;241;43m.\u001b[39;49m\u001b[43mcompletions\u001b[49m\u001b[38;5;241;43m.\u001b[39;49m\u001b[43mcreate\u001b[49m\u001b[43m(\u001b[49m\n\u001b[0;32m     17\u001b[0m \u001b[43m        \u001b[49m\u001b[43mmessages\u001b[49m\u001b[38;5;241;43m=\u001b[39;49m\u001b[43mprompt_template\u001b[49m\u001b[43m(\u001b[49m\u001b[43mfaithfulness_prompt\u001b[49m\u001b[43m(\u001b[49m\u001b[43mcontext\u001b[49m\u001b[43m,\u001b[49m\u001b[43m \u001b[49m\u001b[43mquery\u001b[49m\u001b[43m,\u001b[49m\u001b[43m \u001b[49m\u001b[43moutput\u001b[49m\u001b[43m)\u001b[49m\u001b[43m)\u001b[49m\u001b[43m,\u001b[49m\n\u001b[0;32m     18\u001b[0m \u001b[43m        \u001b[49m\u001b[43mmodel\u001b[49m\u001b[38;5;241;43m=\u001b[39;49m\u001b[38;5;124;43m\"\u001b[39;49m\u001b[38;5;124;43mllama3-70b-8192\u001b[39;49m\u001b[38;5;124;43m\"\u001b[39;49m\u001b[43m,\u001b[49m\n\u001b[0;32m     19\u001b[0m \u001b[43m        \u001b[49m\u001b[43mtemperature\u001b[49m\u001b[38;5;241;43m=\u001b[39;49m\u001b[38;5;241;43m0.2\u001b[39;49m\u001b[43m,\u001b[49m\n\u001b[0;32m     20\u001b[0m \u001b[43m    \u001b[49m\u001b[43m)\u001b[49m\n\u001b[0;32m     21\u001b[0m     \u001b[38;5;28;01mreturn\u001b[39;00m judge_statement\u001b[38;5;241m.\u001b[39mchoices[\u001b[38;5;241m0\u001b[39m]\u001b[38;5;241m.\u001b[39mmessage\u001b[38;5;241m.\u001b[39mcontent\n",
      "File \u001b[1;32md:\\Documents\\AI\\RAG\\transformers\\lib\\site-packages\\groq\\resources\\chat\\completions.py:316\u001b[0m, in \u001b[0;36mCompletions.create\u001b[1;34m(self, messages, model, frequency_penalty, function_call, functions, logit_bias, logprobs, max_completion_tokens, max_tokens, n, parallel_tool_calls, presence_penalty, response_format, seed, service_tier, stop, stream, temperature, tool_choice, tools, top_logprobs, top_p, user, extra_headers, extra_query, extra_body, timeout)\u001b[0m\n\u001b[0;32m    163\u001b[0m \u001b[38;5;28;01mdef\u001b[39;00m\u001b[38;5;250m \u001b[39m\u001b[38;5;21mcreate\u001b[39m(\n\u001b[0;32m    164\u001b[0m     \u001b[38;5;28mself\u001b[39m,\n\u001b[0;32m    165\u001b[0m     \u001b[38;5;241m*\u001b[39m,\n\u001b[1;32m   (...)\u001b[0m\n\u001b[0;32m    194\u001b[0m     timeout: \u001b[38;5;28mfloat\u001b[39m \u001b[38;5;241m|\u001b[39m httpx\u001b[38;5;241m.\u001b[39mTimeout \u001b[38;5;241m|\u001b[39m \u001b[38;5;28;01mNone\u001b[39;00m \u001b[38;5;241m|\u001b[39m NotGiven \u001b[38;5;241m=\u001b[39m NOT_GIVEN,\n\u001b[0;32m    195\u001b[0m ) \u001b[38;5;241m-\u001b[39m\u001b[38;5;241m>\u001b[39m ChatCompletion \u001b[38;5;241m|\u001b[39m Stream[ChatCompletionChunk]:\n\u001b[0;32m    196\u001b[0m \u001b[38;5;250m    \u001b[39m\u001b[38;5;124;03m\"\"\"\u001b[39;00m\n\u001b[0;32m    197\u001b[0m \u001b[38;5;124;03m    Creates a model response for the given chat conversation.\u001b[39;00m\n\u001b[0;32m    198\u001b[0m \n\u001b[1;32m   (...)\u001b[0m\n\u001b[0;32m    314\u001b[0m \u001b[38;5;124;03m      timeout: Override the client-level default timeout for this request, in seconds\u001b[39;00m\n\u001b[0;32m    315\u001b[0m \u001b[38;5;124;03m    \"\"\"\u001b[39;00m\n\u001b[1;32m--> 316\u001b[0m     \u001b[38;5;28;01mreturn\u001b[39;00m \u001b[38;5;28;43mself\u001b[39;49m\u001b[38;5;241;43m.\u001b[39;49m\u001b[43m_post\u001b[49m\u001b[43m(\u001b[49m\n\u001b[0;32m    317\u001b[0m \u001b[43m        \u001b[49m\u001b[38;5;124;43m\"\u001b[39;49m\u001b[38;5;124;43m/openai/v1/chat/completions\u001b[39;49m\u001b[38;5;124;43m\"\u001b[39;49m\u001b[43m,\u001b[49m\n\u001b[0;32m    318\u001b[0m \u001b[43m        \u001b[49m\u001b[43mbody\u001b[49m\u001b[38;5;241;43m=\u001b[39;49m\u001b[43mmaybe_transform\u001b[49m\u001b[43m(\u001b[49m\n\u001b[0;32m    319\u001b[0m \u001b[43m            \u001b[49m\u001b[43m{\u001b[49m\n\u001b[0;32m    320\u001b[0m \u001b[43m                \u001b[49m\u001b[38;5;124;43m\"\u001b[39;49m\u001b[38;5;124;43mmessages\u001b[39;49m\u001b[38;5;124;43m\"\u001b[39;49m\u001b[43m:\u001b[49m\u001b[43m \u001b[49m\u001b[43mmessages\u001b[49m\u001b[43m,\u001b[49m\n\u001b[0;32m    321\u001b[0m \u001b[43m                \u001b[49m\u001b[38;5;124;43m\"\u001b[39;49m\u001b[38;5;124;43mmodel\u001b[39;49m\u001b[38;5;124;43m\"\u001b[39;49m\u001b[43m:\u001b[49m\u001b[43m \u001b[49m\u001b[43mmodel\u001b[49m\u001b[43m,\u001b[49m\n\u001b[0;32m    322\u001b[0m \u001b[43m                \u001b[49m\u001b[38;5;124;43m\"\u001b[39;49m\u001b[38;5;124;43mfrequency_penalty\u001b[39;49m\u001b[38;5;124;43m\"\u001b[39;49m\u001b[43m:\u001b[49m\u001b[43m \u001b[49m\u001b[43mfrequency_penalty\u001b[49m\u001b[43m,\u001b[49m\n\u001b[0;32m    323\u001b[0m \u001b[43m                \u001b[49m\u001b[38;5;124;43m\"\u001b[39;49m\u001b[38;5;124;43mfunction_call\u001b[39;49m\u001b[38;5;124;43m\"\u001b[39;49m\u001b[43m:\u001b[49m\u001b[43m \u001b[49m\u001b[43mfunction_call\u001b[49m\u001b[43m,\u001b[49m\n\u001b[0;32m    324\u001b[0m \u001b[43m                \u001b[49m\u001b[38;5;124;43m\"\u001b[39;49m\u001b[38;5;124;43mfunctions\u001b[39;49m\u001b[38;5;124;43m\"\u001b[39;49m\u001b[43m:\u001b[49m\u001b[43m \u001b[49m\u001b[43mfunctions\u001b[49m\u001b[43m,\u001b[49m\n\u001b[0;32m    325\u001b[0m \u001b[43m                \u001b[49m\u001b[38;5;124;43m\"\u001b[39;49m\u001b[38;5;124;43mlogit_bias\u001b[39;49m\u001b[38;5;124;43m\"\u001b[39;49m\u001b[43m:\u001b[49m\u001b[43m \u001b[49m\u001b[43mlogit_bias\u001b[49m\u001b[43m,\u001b[49m\n\u001b[0;32m    326\u001b[0m \u001b[43m                \u001b[49m\u001b[38;5;124;43m\"\u001b[39;49m\u001b[38;5;124;43mlogprobs\u001b[39;49m\u001b[38;5;124;43m\"\u001b[39;49m\u001b[43m:\u001b[49m\u001b[43m \u001b[49m\u001b[43mlogprobs\u001b[49m\u001b[43m,\u001b[49m\n\u001b[0;32m    327\u001b[0m \u001b[43m                \u001b[49m\u001b[38;5;124;43m\"\u001b[39;49m\u001b[38;5;124;43mmax_completion_tokens\u001b[39;49m\u001b[38;5;124;43m\"\u001b[39;49m\u001b[43m:\u001b[49m\u001b[43m \u001b[49m\u001b[43mmax_completion_tokens\u001b[49m\u001b[43m,\u001b[49m\n\u001b[0;32m    328\u001b[0m \u001b[43m                \u001b[49m\u001b[38;5;124;43m\"\u001b[39;49m\u001b[38;5;124;43mmax_tokens\u001b[39;49m\u001b[38;5;124;43m\"\u001b[39;49m\u001b[43m:\u001b[49m\u001b[43m \u001b[49m\u001b[43mmax_tokens\u001b[49m\u001b[43m,\u001b[49m\n\u001b[0;32m    329\u001b[0m \u001b[43m                \u001b[49m\u001b[38;5;124;43m\"\u001b[39;49m\u001b[38;5;124;43mn\u001b[39;49m\u001b[38;5;124;43m\"\u001b[39;49m\u001b[43m:\u001b[49m\u001b[43m \u001b[49m\u001b[43mn\u001b[49m\u001b[43m,\u001b[49m\n\u001b[0;32m    330\u001b[0m \u001b[43m                \u001b[49m\u001b[38;5;124;43m\"\u001b[39;49m\u001b[38;5;124;43mparallel_tool_calls\u001b[39;49m\u001b[38;5;124;43m\"\u001b[39;49m\u001b[43m:\u001b[49m\u001b[43m \u001b[49m\u001b[43mparallel_tool_calls\u001b[49m\u001b[43m,\u001b[49m\n\u001b[0;32m    331\u001b[0m \u001b[43m                \u001b[49m\u001b[38;5;124;43m\"\u001b[39;49m\u001b[38;5;124;43mpresence_penalty\u001b[39;49m\u001b[38;5;124;43m\"\u001b[39;49m\u001b[43m:\u001b[49m\u001b[43m \u001b[49m\u001b[43mpresence_penalty\u001b[49m\u001b[43m,\u001b[49m\n\u001b[0;32m    332\u001b[0m \u001b[43m                \u001b[49m\u001b[38;5;124;43m\"\u001b[39;49m\u001b[38;5;124;43mresponse_format\u001b[39;49m\u001b[38;5;124;43m\"\u001b[39;49m\u001b[43m:\u001b[49m\u001b[43m \u001b[49m\u001b[43mresponse_format\u001b[49m\u001b[43m,\u001b[49m\n\u001b[0;32m    333\u001b[0m \u001b[43m                \u001b[49m\u001b[38;5;124;43m\"\u001b[39;49m\u001b[38;5;124;43mseed\u001b[39;49m\u001b[38;5;124;43m\"\u001b[39;49m\u001b[43m:\u001b[49m\u001b[43m \u001b[49m\u001b[43mseed\u001b[49m\u001b[43m,\u001b[49m\n\u001b[0;32m    334\u001b[0m \u001b[43m                \u001b[49m\u001b[38;5;124;43m\"\u001b[39;49m\u001b[38;5;124;43mservice_tier\u001b[39;49m\u001b[38;5;124;43m\"\u001b[39;49m\u001b[43m:\u001b[49m\u001b[43m \u001b[49m\u001b[43mservice_tier\u001b[49m\u001b[43m,\u001b[49m\n\u001b[0;32m    335\u001b[0m \u001b[43m                \u001b[49m\u001b[38;5;124;43m\"\u001b[39;49m\u001b[38;5;124;43mstop\u001b[39;49m\u001b[38;5;124;43m\"\u001b[39;49m\u001b[43m:\u001b[49m\u001b[43m \u001b[49m\u001b[43mstop\u001b[49m\u001b[43m,\u001b[49m\n\u001b[0;32m    336\u001b[0m \u001b[43m                \u001b[49m\u001b[38;5;124;43m\"\u001b[39;49m\u001b[38;5;124;43mstream\u001b[39;49m\u001b[38;5;124;43m\"\u001b[39;49m\u001b[43m:\u001b[49m\u001b[43m \u001b[49m\u001b[43mstream\u001b[49m\u001b[43m,\u001b[49m\n\u001b[0;32m    337\u001b[0m \u001b[43m                \u001b[49m\u001b[38;5;124;43m\"\u001b[39;49m\u001b[38;5;124;43mtemperature\u001b[39;49m\u001b[38;5;124;43m\"\u001b[39;49m\u001b[43m:\u001b[49m\u001b[43m \u001b[49m\u001b[43mtemperature\u001b[49m\u001b[43m,\u001b[49m\n\u001b[0;32m    338\u001b[0m \u001b[43m                \u001b[49m\u001b[38;5;124;43m\"\u001b[39;49m\u001b[38;5;124;43mtool_choice\u001b[39;49m\u001b[38;5;124;43m\"\u001b[39;49m\u001b[43m:\u001b[49m\u001b[43m \u001b[49m\u001b[43mtool_choice\u001b[49m\u001b[43m,\u001b[49m\n\u001b[0;32m    339\u001b[0m \u001b[43m                \u001b[49m\u001b[38;5;124;43m\"\u001b[39;49m\u001b[38;5;124;43mtools\u001b[39;49m\u001b[38;5;124;43m\"\u001b[39;49m\u001b[43m:\u001b[49m\u001b[43m \u001b[49m\u001b[43mtools\u001b[49m\u001b[43m,\u001b[49m\n\u001b[0;32m    340\u001b[0m \u001b[43m                \u001b[49m\u001b[38;5;124;43m\"\u001b[39;49m\u001b[38;5;124;43mtop_logprobs\u001b[39;49m\u001b[38;5;124;43m\"\u001b[39;49m\u001b[43m:\u001b[49m\u001b[43m \u001b[49m\u001b[43mtop_logprobs\u001b[49m\u001b[43m,\u001b[49m\n\u001b[0;32m    341\u001b[0m \u001b[43m                \u001b[49m\u001b[38;5;124;43m\"\u001b[39;49m\u001b[38;5;124;43mtop_p\u001b[39;49m\u001b[38;5;124;43m\"\u001b[39;49m\u001b[43m:\u001b[49m\u001b[43m \u001b[49m\u001b[43mtop_p\u001b[49m\u001b[43m,\u001b[49m\n\u001b[0;32m    342\u001b[0m \u001b[43m                \u001b[49m\u001b[38;5;124;43m\"\u001b[39;49m\u001b[38;5;124;43muser\u001b[39;49m\u001b[38;5;124;43m\"\u001b[39;49m\u001b[43m:\u001b[49m\u001b[43m \u001b[49m\u001b[43muser\u001b[49m\u001b[43m,\u001b[49m\n\u001b[0;32m    343\u001b[0m \u001b[43m            \u001b[49m\u001b[43m}\u001b[49m\u001b[43m,\u001b[49m\n\u001b[0;32m    344\u001b[0m \u001b[43m            \u001b[49m\u001b[43mcompletion_create_params\u001b[49m\u001b[38;5;241;43m.\u001b[39;49m\u001b[43mCompletionCreateParams\u001b[49m\u001b[43m,\u001b[49m\n\u001b[0;32m    345\u001b[0m \u001b[43m        \u001b[49m\u001b[43m)\u001b[49m\u001b[43m,\u001b[49m\n\u001b[0;32m    346\u001b[0m \u001b[43m        \u001b[49m\u001b[43moptions\u001b[49m\u001b[38;5;241;43m=\u001b[39;49m\u001b[43mmake_request_options\u001b[49m\u001b[43m(\u001b[49m\n\u001b[0;32m    347\u001b[0m \u001b[43m            \u001b[49m\u001b[43mextra_headers\u001b[49m\u001b[38;5;241;43m=\u001b[39;49m\u001b[43mextra_headers\u001b[49m\u001b[43m,\u001b[49m\u001b[43m \u001b[49m\u001b[43mextra_query\u001b[49m\u001b[38;5;241;43m=\u001b[39;49m\u001b[43mextra_query\u001b[49m\u001b[43m,\u001b[49m\u001b[43m \u001b[49m\u001b[43mextra_body\u001b[49m\u001b[38;5;241;43m=\u001b[39;49m\u001b[43mextra_body\u001b[49m\u001b[43m,\u001b[49m\u001b[43m \u001b[49m\u001b[43mtimeout\u001b[49m\u001b[38;5;241;43m=\u001b[39;49m\u001b[43mtimeout\u001b[49m\n\u001b[0;32m    348\u001b[0m \u001b[43m        \u001b[49m\u001b[43m)\u001b[49m\u001b[43m,\u001b[49m\n\u001b[0;32m    349\u001b[0m \u001b[43m        \u001b[49m\u001b[43mcast_to\u001b[49m\u001b[38;5;241;43m=\u001b[39;49m\u001b[43mChatCompletion\u001b[49m\u001b[43m,\u001b[49m\n\u001b[0;32m    350\u001b[0m \u001b[43m        \u001b[49m\u001b[43mstream\u001b[49m\u001b[38;5;241;43m=\u001b[39;49m\u001b[43mstream\u001b[49m\u001b[43m \u001b[49m\u001b[38;5;129;43;01mor\u001b[39;49;00m\u001b[43m \u001b[49m\u001b[38;5;28;43;01mFalse\u001b[39;49;00m\u001b[43m,\u001b[49m\n\u001b[0;32m    351\u001b[0m \u001b[43m        \u001b[49m\u001b[43mstream_cls\u001b[49m\u001b[38;5;241;43m=\u001b[39;49m\u001b[43mStream\u001b[49m\u001b[43m[\u001b[49m\u001b[43mChatCompletionChunk\u001b[49m\u001b[43m]\u001b[49m\u001b[43m,\u001b[49m\n\u001b[0;32m    352\u001b[0m \u001b[43m    \u001b[49m\u001b[43m)\u001b[49m\n",
      "File \u001b[1;32md:\\Documents\\AI\\RAG\\transformers\\lib\\site-packages\\groq\\_base_client.py:1266\u001b[0m, in \u001b[0;36mSyncAPIClient.post\u001b[1;34m(self, path, cast_to, body, options, files, stream, stream_cls)\u001b[0m\n\u001b[0;32m   1252\u001b[0m \u001b[38;5;28;01mdef\u001b[39;00m\u001b[38;5;250m \u001b[39m\u001b[38;5;21mpost\u001b[39m(\n\u001b[0;32m   1253\u001b[0m     \u001b[38;5;28mself\u001b[39m,\n\u001b[0;32m   1254\u001b[0m     path: \u001b[38;5;28mstr\u001b[39m,\n\u001b[1;32m   (...)\u001b[0m\n\u001b[0;32m   1261\u001b[0m     stream_cls: \u001b[38;5;28mtype\u001b[39m[_StreamT] \u001b[38;5;241m|\u001b[39m \u001b[38;5;28;01mNone\u001b[39;00m \u001b[38;5;241m=\u001b[39m \u001b[38;5;28;01mNone\u001b[39;00m,\n\u001b[0;32m   1262\u001b[0m ) \u001b[38;5;241m-\u001b[39m\u001b[38;5;241m>\u001b[39m ResponseT \u001b[38;5;241m|\u001b[39m _StreamT:\n\u001b[0;32m   1263\u001b[0m     opts \u001b[38;5;241m=\u001b[39m FinalRequestOptions\u001b[38;5;241m.\u001b[39mconstruct(\n\u001b[0;32m   1264\u001b[0m         method\u001b[38;5;241m=\u001b[39m\u001b[38;5;124m\"\u001b[39m\u001b[38;5;124mpost\u001b[39m\u001b[38;5;124m\"\u001b[39m, url\u001b[38;5;241m=\u001b[39mpath, json_data\u001b[38;5;241m=\u001b[39mbody, files\u001b[38;5;241m=\u001b[39mto_httpx_files(files), \u001b[38;5;241m*\u001b[39m\u001b[38;5;241m*\u001b[39moptions\n\u001b[0;32m   1265\u001b[0m     )\n\u001b[1;32m-> 1266\u001b[0m     \u001b[38;5;28;01mreturn\u001b[39;00m cast(ResponseT, \u001b[38;5;28;43mself\u001b[39;49m\u001b[38;5;241;43m.\u001b[39;49m\u001b[43mrequest\u001b[49m\u001b[43m(\u001b[49m\u001b[43mcast_to\u001b[49m\u001b[43m,\u001b[49m\u001b[43m \u001b[49m\u001b[43mopts\u001b[49m\u001b[43m,\u001b[49m\u001b[43m \u001b[49m\u001b[43mstream\u001b[49m\u001b[38;5;241;43m=\u001b[39;49m\u001b[43mstream\u001b[49m\u001b[43m,\u001b[49m\u001b[43m \u001b[49m\u001b[43mstream_cls\u001b[49m\u001b[38;5;241;43m=\u001b[39;49m\u001b[43mstream_cls\u001b[49m\u001b[43m)\u001b[49m)\n",
      "File \u001b[1;32md:\\Documents\\AI\\RAG\\transformers\\lib\\site-packages\\groq\\_base_client.py:958\u001b[0m, in \u001b[0;36mSyncAPIClient.request\u001b[1;34m(self, cast_to, options, remaining_retries, stream, stream_cls)\u001b[0m\n\u001b[0;32m    955\u001b[0m \u001b[38;5;28;01melse\u001b[39;00m:\n\u001b[0;32m    956\u001b[0m     retries_taken \u001b[38;5;241m=\u001b[39m \u001b[38;5;241m0\u001b[39m\n\u001b[1;32m--> 958\u001b[0m \u001b[38;5;28;01mreturn\u001b[39;00m \u001b[38;5;28;43mself\u001b[39;49m\u001b[38;5;241;43m.\u001b[39;49m\u001b[43m_request\u001b[49m\u001b[43m(\u001b[49m\n\u001b[0;32m    959\u001b[0m \u001b[43m    \u001b[49m\u001b[43mcast_to\u001b[49m\u001b[38;5;241;43m=\u001b[39;49m\u001b[43mcast_to\u001b[49m\u001b[43m,\u001b[49m\n\u001b[0;32m    960\u001b[0m \u001b[43m    \u001b[49m\u001b[43moptions\u001b[49m\u001b[38;5;241;43m=\u001b[39;49m\u001b[43moptions\u001b[49m\u001b[43m,\u001b[49m\n\u001b[0;32m    961\u001b[0m \u001b[43m    \u001b[49m\u001b[43mstream\u001b[49m\u001b[38;5;241;43m=\u001b[39;49m\u001b[43mstream\u001b[49m\u001b[43m,\u001b[49m\n\u001b[0;32m    962\u001b[0m \u001b[43m    \u001b[49m\u001b[43mstream_cls\u001b[49m\u001b[38;5;241;43m=\u001b[39;49m\u001b[43mstream_cls\u001b[49m\u001b[43m,\u001b[49m\n\u001b[0;32m    963\u001b[0m \u001b[43m    \u001b[49m\u001b[43mretries_taken\u001b[49m\u001b[38;5;241;43m=\u001b[39;49m\u001b[43mretries_taken\u001b[49m\u001b[43m,\u001b[49m\n\u001b[0;32m    964\u001b[0m \u001b[43m\u001b[49m\u001b[43m)\u001b[49m\n",
      "File \u001b[1;32md:\\Documents\\AI\\RAG\\transformers\\lib\\site-packages\\groq\\_base_client.py:1061\u001b[0m, in \u001b[0;36mSyncAPIClient._request\u001b[1;34m(self, cast_to, options, retries_taken, stream, stream_cls)\u001b[0m\n\u001b[0;32m   1058\u001b[0m         err\u001b[38;5;241m.\u001b[39mresponse\u001b[38;5;241m.\u001b[39mread()\n\u001b[0;32m   1060\u001b[0m     log\u001b[38;5;241m.\u001b[39mdebug(\u001b[38;5;124m\"\u001b[39m\u001b[38;5;124mRe-raising status error\u001b[39m\u001b[38;5;124m\"\u001b[39m)\n\u001b[1;32m-> 1061\u001b[0m     \u001b[38;5;28;01mraise\u001b[39;00m \u001b[38;5;28mself\u001b[39m\u001b[38;5;241m.\u001b[39m_make_status_error_from_response(err\u001b[38;5;241m.\u001b[39mresponse) \u001b[38;5;28;01mfrom\u001b[39;00m\u001b[38;5;250m \u001b[39m\u001b[38;5;28;01mNone\u001b[39;00m\n\u001b[0;32m   1063\u001b[0m \u001b[38;5;28;01mreturn\u001b[39;00m \u001b[38;5;28mself\u001b[39m\u001b[38;5;241m.\u001b[39m_process_response(\n\u001b[0;32m   1064\u001b[0m     cast_to\u001b[38;5;241m=\u001b[39mcast_to,\n\u001b[0;32m   1065\u001b[0m     options\u001b[38;5;241m=\u001b[39moptions,\n\u001b[1;32m   (...)\u001b[0m\n\u001b[0;32m   1069\u001b[0m     retries_taken\u001b[38;5;241m=\u001b[39mretries_taken,\n\u001b[0;32m   1070\u001b[0m )\n",
      "\u001b[1;31mBadRequestError\u001b[0m: Error code: 400 - {'error': {'message': 'Organization has been restricted. Please reach out to support if you believe this was in error.', 'type': 'invalid_request_error', 'code': 'organization_restricted'}}"
     ]
    }
   ],
   "source": [
    "import json\n",
    "from tqdm import tqdm\n",
    "import numpy as np\n",
    "\n",
    "STEP = 25\n",
    "BATCH_SIZE = 4\n",
    "\n",
    "\n",
    "for b in range(1, 4):\n",
    "    faithful_values = []\n",
    "    ar_values = []\n",
    "    temperature_values = []\n",
    "    ys = []\n",
    "    for i, (source_id, group) in enumerate(tqdm(df.groupby(df.index))):\n",
    "        if i > 50:\n",
    "            break\n",
    "        questions = group[\"question\"].values[0]\n",
    "        context = group[\"context\"].values[0]\n",
    "        responses = group[\"response\"].values.tolist()\n",
    "        temperatures = group[\"temperature\"].values.tolist()\n",
    "        labels = group[\"labels\"].values.tolist()\n",
    "\n",
    "        raw_json = faithfulness(client, questions, context, responses)\n",
    "        raw_json = raw_json[raw_json.find(\"{\") : raw_json.rfind(\"}\") + 1]\n",
    "        try:\n",
    "            parsed_json = json.loads(raw_json)\n",
    "        except json.JSONDecodeError:\n",
    "            print(raw_json)\n",
    "            faithful_values.extend([None for _ in range(len(group))])\n",
    "        else:\n",
    "            faithful_values.extend(\n",
    "                [parsed_json[f\"answer_{j}\"][\"faithfulness\"] for j in range(len(group))]\n",
    "            )\n",
    "        finally:\n",
    "            raw_json = answer_relevancy(client, questions, responses)\n",
    "            raw_json = raw_json[raw_json.find(\"{\") : raw_json.rfind(\"}\") + 1]\n",
    "            try:\n",
    "                parsed_json = json.loads(raw_json)\n",
    "\n",
    "            except json.JSONDecodeError:\n",
    "                print(raw_json)\n",
    "                ar_values.extend([None for _ in range(len(group))])\n",
    "            else:\n",
    "                ar_values.extend(\n",
    "                    [parsed_json[f\"answer_{j}\"][\"answer_relevancy\"] for j in range(len(group))]\n",
    "                )\n",
    "            finally:\n",
    "                temperature_values.extend(temperatures)\n",
    "                ys.extend(labels)\n",
    "                if i % STEP == 0 and i > 0:\n",
    "                    print(f\"Length of ar_values: {len(ar_values)}\")\n",
    "                    print(f\"Length of faithful_values: {len(faithful_values)}\")\n",
    "                    print(f\"Length of temperature_values: {len(temperature_values)}\")\n",
    "                    print(f\"Length of ys: {len(ys)}\")\n",
    "                    pd.DataFrame.from_dict(\n",
    "                        {\n",
    "                            \"faithfulness\": faithful_values,\n",
    "                            \"answer_relevancy\": ar_values,\n",
    "                            \"temperature\": temperatures,\n",
    "                            \"label\": ys,\n",
    "                        }, orient=\"index\"\n",
    "                    ).T.to_parquet(f\"data_{i // STEP - 1}_{b}.parquet\")"
   ]
  },
  {
   "cell_type": "markdown",
   "metadata": {},
   "source": [
    "## Loading RAGTruth"
   ]
  },
  {
   "cell_type": "code",
   "execution_count": 4,
   "metadata": {
    "execution": {
     "iopub.execute_input": "2025-01-17T08:46:38.530682Z",
     "iopub.status.busy": "2025-01-17T08:46:38.529726Z",
     "iopub.status.idle": "2025-01-17T08:46:38.534423Z",
     "shell.execute_reply": "2025-01-17T08:46:38.533559Z",
     "shell.execute_reply.started": "2025-01-17T08:46:38.530648Z"
    },
    "trusted": true
   },
   "outputs": [],
   "source": [
    "def roBERTa_prompt(question, answer, context):\n",
    "    return f\"Based on the question {question}, and the {context}, determine whether the {answer} hallucinates\""
   ]
  },
  {
   "cell_type": "code",
   "execution_count": 2,
   "metadata": {
    "execution": {
     "iopub.execute_input": "2025-01-17T08:42:58.471105Z",
     "iopub.status.busy": "2025-01-17T08:42:58.470796Z",
     "iopub.status.idle": "2025-01-17T08:43:00.929240Z",
     "shell.execute_reply": "2025-01-17T08:43:00.928318Z",
     "shell.execute_reply.started": "2025-01-17T08:42:58.471079Z"
    },
    "trusted": true
   },
   "outputs": [],
   "source": [
    "from transformers import RobertaTokenizer\n",
    "from torch.utils.data import Dataset, DataLoader\n",
    "\n",
    "class RAGTruthDataset(Dataset):\n",
    "    def __init__(self, texts, labels, tokenizer, max_length):\n",
    "        self.texts = texts\n",
    "        self.labels = labels\n",
    "        self.tokenizer = tokenizer\n",
    "        self.max_length = max_length\n",
    "\n",
    "    def __len__(self):\n",
    "        return len(self.texts)\n",
    "\n",
    "    def __getitem__(self, idx):\n",
    "        text = self.texts[idx]\n",
    "        label = self.labels[idx]\n",
    "        encoding = self.tokenizer(\n",
    "            text,\n",
    "            max_length=self.max_length,\n",
    "            padding=\"max_length\",\n",
    "            truncation=True,\n",
    "            return_tensors=\"pt\",\n",
    "        )\n",
    "        return {\n",
    "            \"input_ids\": encoding[\"input_ids\"].squeeze(0),\n",
    "            \"attention_mask\": encoding[\"attention_mask\"].squeeze(0),\n",
    "            \"label\": torch.tensor(label, dtype=torch.long),\n",
    "        }"
   ]
  },
  {
   "cell_type": "code",
   "execution_count": 11,
   "metadata": {
    "execution": {
     "iopub.execute_input": "2025-01-17T08:53:50.011892Z",
     "iopub.status.busy": "2025-01-17T08:53:50.011527Z",
     "iopub.status.idle": "2025-01-17T08:53:50.082014Z",
     "shell.execute_reply": "2025-01-17T08:53:50.081067Z",
     "shell.execute_reply.started": "2025-01-17T08:53:50.011859Z"
    },
    "trusted": true
   },
   "outputs": [],
   "source": [
    "df[\"roBERTa\"] = df.apply(lambda x: roBERTa_prompt(x[\"question\"], x[\"response\"], x[\"context\"]), axis=1)\n",
    "y = df[\"labels\"]\n",
    "label_mapping = {label: idx for idx, label in enumerate(y.unique())}\n",
    "y = y.map(label_mapping)"
   ]
  },
  {
   "cell_type": "code",
   "execution_count": 13,
   "metadata": {
    "execution": {
     "iopub.execute_input": "2025-01-17T08:53:58.550662Z",
     "iopub.status.busy": "2025-01-17T08:53:58.550319Z",
     "iopub.status.idle": "2025-01-17T08:53:58.863312Z",
     "shell.execute_reply": "2025-01-17T08:53:58.862624Z",
     "shell.execute_reply.started": "2025-01-17T08:53:58.550630Z"
    },
    "trusted": true
   },
   "outputs": [],
   "source": [
    "tokenizer = RobertaTokenizer.from_pretrained(\"roberta-base\")\n",
    "\n",
    "\n",
    "dataset = RAGTruthDataset(df[\"roBERTa\"].to_numpy(), y.to_numpy(), tokenizer, max_length=128)\n",
    "dataloader = DataLoader(dataset, batch_size=16, shuffle=True)"
   ]
  },
  {
   "cell_type": "code",
   "execution_count": 6,
   "metadata": {
    "execution": {
     "iopub.execute_input": "2025-01-17T08:48:05.632342Z",
     "iopub.status.busy": "2025-01-17T08:48:05.631723Z",
     "iopub.status.idle": "2025-01-17T08:48:05.654706Z",
     "shell.execute_reply": "2025-01-17T08:48:05.653933Z",
     "shell.execute_reply.started": "2025-01-17T08:48:05.632307Z"
    },
    "trusted": true
   },
   "outputs": [
    {
     "data": {
      "text/html": [
       "<div>\n",
       "<style scoped>\n",
       "    .dataframe tbody tr th:only-of-type {\n",
       "        vertical-align: middle;\n",
       "    }\n",
       "\n",
       "    .dataframe tbody tr th {\n",
       "        vertical-align: top;\n",
       "    }\n",
       "\n",
       "    .dataframe thead th {\n",
       "        text-align: right;\n",
       "    }\n",
       "</style>\n",
       "<table border=\"1\" class=\"dataframe\">\n",
       "  <thead>\n",
       "    <tr style=\"text-align: right;\">\n",
       "      <th></th>\n",
       "      <th>task_type</th>\n",
       "      <th>source</th>\n",
       "      <th>prompt</th>\n",
       "      <th>id</th>\n",
       "      <th>model</th>\n",
       "      <th>temperature</th>\n",
       "      <th>labels</th>\n",
       "      <th>split</th>\n",
       "      <th>quality</th>\n",
       "      <th>response</th>\n",
       "      <th>question</th>\n",
       "      <th>context</th>\n",
       "    </tr>\n",
       "    <tr>\n",
       "      <th>source_id</th>\n",
       "      <th></th>\n",
       "      <th></th>\n",
       "      <th></th>\n",
       "      <th></th>\n",
       "      <th></th>\n",
       "      <th></th>\n",
       "      <th></th>\n",
       "      <th></th>\n",
       "      <th></th>\n",
       "      <th></th>\n",
       "      <th></th>\n",
       "      <th></th>\n",
       "    </tr>\n",
       "  </thead>\n",
       "  <tbody>\n",
       "    <tr>\n",
       "      <th>14292</th>\n",
       "      <td>QA</td>\n",
       "      <td>MARCO</td>\n",
       "      <td>Briefly answer the following question:\\nbutche...</td>\n",
       "      <td>11856</td>\n",
       "      <td>gpt-4-0613</td>\n",
       "      <td>0.70</td>\n",
       "      <td>False</td>\n",
       "      <td>train</td>\n",
       "      <td>good</td>\n",
       "      <td>The phone numbers for several butcher shops ar...</td>\n",
       "      <td>butcher shop phone number</td>\n",
       "      <td>passage 1:Butcher Shop - Hayward 826 B Street,...</td>\n",
       "    </tr>\n",
       "    <tr>\n",
       "      <th>14292</th>\n",
       "      <td>QA</td>\n",
       "      <td>MARCO</td>\n",
       "      <td>Briefly answer the following question:\\nbutche...</td>\n",
       "      <td>11857</td>\n",
       "      <td>gpt-3.5-turbo-0613</td>\n",
       "      <td>0.70</td>\n",
       "      <td>False</td>\n",
       "      <td>train</td>\n",
       "      <td>good</td>\n",
       "      <td>Butcher Shop - Hayward phone number: (510) 889...</td>\n",
       "      <td>butcher shop phone number</td>\n",
       "      <td>passage 1:Butcher Shop - Hayward 826 B Street,...</td>\n",
       "    </tr>\n",
       "    <tr>\n",
       "      <th>14292</th>\n",
       "      <td>QA</td>\n",
       "      <td>MARCO</td>\n",
       "      <td>Briefly answer the following question:\\nbutche...</td>\n",
       "      <td>11858</td>\n",
       "      <td>mistral-7B-instruct</td>\n",
       "      <td>0.70</td>\n",
       "      <td>Evident Baseless Info</td>\n",
       "      <td>train</td>\n",
       "      <td>good</td>\n",
       "      <td>Based on the given passages, there are several...</td>\n",
       "      <td>butcher shop phone number</td>\n",
       "      <td>passage 1:Butcher Shop - Hayward 826 B Street,...</td>\n",
       "    </tr>\n",
       "    <tr>\n",
       "      <th>14292</th>\n",
       "      <td>QA</td>\n",
       "      <td>MARCO</td>\n",
       "      <td>Briefly answer the following question:\\nbutche...</td>\n",
       "      <td>11859</td>\n",
       "      <td>llama-2-7b-chat</td>\n",
       "      <td>0.85</td>\n",
       "      <td>False</td>\n",
       "      <td>train</td>\n",
       "      <td>good</td>\n",
       "      <td>Based on the provided passages, the butcher sh...</td>\n",
       "      <td>butcher shop phone number</td>\n",
       "      <td>passage 1:Butcher Shop - Hayward 826 B Street,...</td>\n",
       "    </tr>\n",
       "    <tr>\n",
       "      <th>14292</th>\n",
       "      <td>QA</td>\n",
       "      <td>MARCO</td>\n",
       "      <td>Briefly answer the following question:\\nbutche...</td>\n",
       "      <td>11860</td>\n",
       "      <td>llama-2-13b-chat</td>\n",
       "      <td>0.70</td>\n",
       "      <td>False</td>\n",
       "      <td>train</td>\n",
       "      <td>good</td>\n",
       "      <td>Based on the given passages, the butcher shop ...</td>\n",
       "      <td>butcher shop phone number</td>\n",
       "      <td>passage 1:Butcher Shop - Hayward 826 B Street,...</td>\n",
       "    </tr>\n",
       "    <tr>\n",
       "      <th>...</th>\n",
       "      <td>...</td>\n",
       "      <td>...</td>\n",
       "      <td>...</td>\n",
       "      <td>...</td>\n",
       "      <td>...</td>\n",
       "      <td>...</td>\n",
       "      <td>...</td>\n",
       "      <td>...</td>\n",
       "      <td>...</td>\n",
       "      <td>...</td>\n",
       "      <td>...</td>\n",
       "      <td>...</td>\n",
       "    </tr>\n",
       "    <tr>\n",
       "      <th>12460</th>\n",
       "      <td>QA</td>\n",
       "      <td>MARCO</td>\n",
       "      <td>Briefly answer the following question:\\nwhat a...</td>\n",
       "      <td>17785</td>\n",
       "      <td>gpt-3.5-turbo-0613</td>\n",
       "      <td>0.70</td>\n",
       "      <td>False</td>\n",
       "      <td>train</td>\n",
       "      <td>good</td>\n",
       "      <td>Eating tomatoes can provide nutrition benefits...</td>\n",
       "      <td>what are nutrition benefits eating tomatoes</td>\n",
       "      <td>passage 1:2. Prevent DNA Damage. Tomatoes are ...</td>\n",
       "    </tr>\n",
       "    <tr>\n",
       "      <th>12460</th>\n",
       "      <td>QA</td>\n",
       "      <td>MARCO</td>\n",
       "      <td>Briefly answer the following question:\\nwhat a...</td>\n",
       "      <td>17786</td>\n",
       "      <td>mistral-7B-instruct</td>\n",
       "      <td>0.70</td>\n",
       "      <td>Evident Baseless Info</td>\n",
       "      <td>train</td>\n",
       "      <td>good</td>\n",
       "      <td>Based on the given passages, it appears that e...</td>\n",
       "      <td>what are nutrition benefits eating tomatoes</td>\n",
       "      <td>passage 1:2. Prevent DNA Damage. Tomatoes are ...</td>\n",
       "    </tr>\n",
       "    <tr>\n",
       "      <th>12460</th>\n",
       "      <td>QA</td>\n",
       "      <td>MARCO</td>\n",
       "      <td>Briefly answer the following question:\\nwhat a...</td>\n",
       "      <td>17787</td>\n",
       "      <td>llama-2-7b-chat</td>\n",
       "      <td>0.70</td>\n",
       "      <td>Evident Baseless Info</td>\n",
       "      <td>train</td>\n",
       "      <td>good</td>\n",
       "      <td>Based on the provided passages, here are the n...</td>\n",
       "      <td>what are nutrition benefits eating tomatoes</td>\n",
       "      <td>passage 1:2. Prevent DNA Damage. Tomatoes are ...</td>\n",
       "    </tr>\n",
       "    <tr>\n",
       "      <th>12460</th>\n",
       "      <td>QA</td>\n",
       "      <td>MARCO</td>\n",
       "      <td>Briefly answer the following question:\\nwhat a...</td>\n",
       "      <td>17788</td>\n",
       "      <td>llama-2-13b-chat</td>\n",
       "      <td>1.00</td>\n",
       "      <td>False</td>\n",
       "      <td>train</td>\n",
       "      <td>good</td>\n",
       "      <td>Based on the provided passages, here are the n...</td>\n",
       "      <td>what are nutrition benefits eating tomatoes</td>\n",
       "      <td>passage 1:2. Prevent DNA Damage. Tomatoes are ...</td>\n",
       "    </tr>\n",
       "    <tr>\n",
       "      <th>12460</th>\n",
       "      <td>QA</td>\n",
       "      <td>MARCO</td>\n",
       "      <td>Briefly answer the following question:\\nwhat a...</td>\n",
       "      <td>17789</td>\n",
       "      <td>llama-2-70b-chat</td>\n",
       "      <td>0.85</td>\n",
       "      <td>False</td>\n",
       "      <td>train</td>\n",
       "      <td>good</td>\n",
       "      <td>Based on the given passages, here are some of ...</td>\n",
       "      <td>what are nutrition benefits eating tomatoes</td>\n",
       "      <td>passage 1:2. Prevent DNA Damage. Tomatoes are ...</td>\n",
       "    </tr>\n",
       "  </tbody>\n",
       "</table>\n",
       "<p>5934 rows × 12 columns</p>\n",
       "</div>"
      ],
      "text/plain": [
       "          task_type source                                             prompt  \\\n",
       "source_id                                                                       \n",
       "14292            QA  MARCO  Briefly answer the following question:\\nbutche...   \n",
       "14292            QA  MARCO  Briefly answer the following question:\\nbutche...   \n",
       "14292            QA  MARCO  Briefly answer the following question:\\nbutche...   \n",
       "14292            QA  MARCO  Briefly answer the following question:\\nbutche...   \n",
       "14292            QA  MARCO  Briefly answer the following question:\\nbutche...   \n",
       "...             ...    ...                                                ...   \n",
       "12460            QA  MARCO  Briefly answer the following question:\\nwhat a...   \n",
       "12460            QA  MARCO  Briefly answer the following question:\\nwhat a...   \n",
       "12460            QA  MARCO  Briefly answer the following question:\\nwhat a...   \n",
       "12460            QA  MARCO  Briefly answer the following question:\\nwhat a...   \n",
       "12460            QA  MARCO  Briefly answer the following question:\\nwhat a...   \n",
       "\n",
       "              id                model  temperature                 labels  \\\n",
       "source_id                                                                   \n",
       "14292      11856           gpt-4-0613         0.70                  False   \n",
       "14292      11857   gpt-3.5-turbo-0613         0.70                  False   \n",
       "14292      11858  mistral-7B-instruct         0.70  Evident Baseless Info   \n",
       "14292      11859      llama-2-7b-chat         0.85                  False   \n",
       "14292      11860     llama-2-13b-chat         0.70                  False   \n",
       "...          ...                  ...          ...                    ...   \n",
       "12460      17785   gpt-3.5-turbo-0613         0.70                  False   \n",
       "12460      17786  mistral-7B-instruct         0.70  Evident Baseless Info   \n",
       "12460      17787      llama-2-7b-chat         0.70  Evident Baseless Info   \n",
       "12460      17788     llama-2-13b-chat         1.00                  False   \n",
       "12460      17789     llama-2-70b-chat         0.85                  False   \n",
       "\n",
       "           split quality                                           response  \\\n",
       "source_id                                                                     \n",
       "14292      train    good  The phone numbers for several butcher shops ar...   \n",
       "14292      train    good  Butcher Shop - Hayward phone number: (510) 889...   \n",
       "14292      train    good  Based on the given passages, there are several...   \n",
       "14292      train    good  Based on the provided passages, the butcher sh...   \n",
       "14292      train    good  Based on the given passages, the butcher shop ...   \n",
       "...          ...     ...                                                ...   \n",
       "12460      train    good  Eating tomatoes can provide nutrition benefits...   \n",
       "12460      train    good  Based on the given passages, it appears that e...   \n",
       "12460      train    good  Based on the provided passages, here are the n...   \n",
       "12460      train    good  Based on the provided passages, here are the n...   \n",
       "12460      train    good  Based on the given passages, here are some of ...   \n",
       "\n",
       "                                              question  \\\n",
       "source_id                                                \n",
       "14292                        butcher shop phone number   \n",
       "14292                        butcher shop phone number   \n",
       "14292                        butcher shop phone number   \n",
       "14292                        butcher shop phone number   \n",
       "14292                        butcher shop phone number   \n",
       "...                                                ...   \n",
       "12460      what are nutrition benefits eating tomatoes   \n",
       "12460      what are nutrition benefits eating tomatoes   \n",
       "12460      what are nutrition benefits eating tomatoes   \n",
       "12460      what are nutrition benefits eating tomatoes   \n",
       "12460      what are nutrition benefits eating tomatoes   \n",
       "\n",
       "                                                     context  \n",
       "source_id                                                     \n",
       "14292      passage 1:Butcher Shop - Hayward 826 B Street,...  \n",
       "14292      passage 1:Butcher Shop - Hayward 826 B Street,...  \n",
       "14292      passage 1:Butcher Shop - Hayward 826 B Street,...  \n",
       "14292      passage 1:Butcher Shop - Hayward 826 B Street,...  \n",
       "14292      passage 1:Butcher Shop - Hayward 826 B Street,...  \n",
       "...                                                      ...  \n",
       "12460      passage 1:2. Prevent DNA Damage. Tomatoes are ...  \n",
       "12460      passage 1:2. Prevent DNA Damage. Tomatoes are ...  \n",
       "12460      passage 1:2. Prevent DNA Damage. Tomatoes are ...  \n",
       "12460      passage 1:2. Prevent DNA Damage. Tomatoes are ...  \n",
       "12460      passage 1:2. Prevent DNA Damage. Tomatoes are ...  \n",
       "\n",
       "[5934 rows x 12 columns]"
      ]
     },
     "execution_count": 6,
     "metadata": {},
     "output_type": "execute_result"
    }
   ],
   "source": [
    "from transformers import RobertaForSequenceClassification\n",
    "from torch.optim import AdamW\n",
    "from transformers import get_scheduler\n",
    "\n",
    "num_labels = len(np.unique(y))\n",
    "model = RobertaForSequenceClassification.from_pretrained(\"roberta-base\", num_labels=num_labels)\n",
    "\n",
    "optimizer = AdamW(model.parameters(), lr=5e-5)\n",
    "num_training_steps = len(dataloader) * num_epochs\n",
    "lr_scheduler = get_scheduler(\n",
    "    \"linear\", optimizer=optimizer, num_warmup_steps=0, num_training_steps=num_training_steps\n",
    ")"
   ]
  },
  {
   "cell_type": "code",
   "execution_count": null,
   "metadata": {
    "trusted": true
   },
   "outputs": [],
   "source": [
    "from torch.nn import CrossEntropyLoss\n",
    "from tqdm import tqdm\n",
    "\n",
    "device = torch.device(\"cuda\") if torch.cuda.is_available() else torch.device(\"cpu\")\n",
    "model.to(device)\n",
    "\n",
    "num_epochs = 3\n",
    "loss_fn = CrossEntropyLoss()\n",
    "\n",
    "for epoch in range(num_epochs):\n",
    "    model.train()\n",
    "    loop = tqdm(dataloader, leave=True)\n",
    "    for batch in loop:\n",
    "        input_ids = batch[\"input_ids\"].to(device)\n",
    "        attention_mask = batch[\"attention_mask\"].to(device)\n",
    "        labels = batch[\"label\"].to(device)\n",
    "\n",
    "        outputs = model(input_ids, attention_mask=attention_mask, labels=labels)\n",
    "        loss = outputs.loss\n",
    "        logits = outputs.logits\n",
    "\n",
    "        optimizer.zero_grad()\n",
    "        loss.backward()\n",
    "        optimizer.step()\n",
    "\n",
    "        loop.set_description(f\"Epoch {epoch}\")\n",
    "        loop.set_postfix(loss=loss.item())"
   ]
  },
  {
   "cell_type": "code",
   "execution_count": null,
   "metadata": {
    "trusted": true
   },
   "outputs": [],
   "source": [
    "model.save_pretrained(\"fine_tuned_roberta\")\n",
    "tokenizer.save_pretrained(\"fine_tuned_roberta\")\n",
    "\n",
    "# Evaluate\n",
    "model.eval()"
   ]
  },
  {
   "cell_type": "code",
   "execution_count": null,
   "metadata": {},
   "outputs": [],
   "source": [
    "from transformers import RobertaTokenizer, RobertaForSequenceClassification\n",
    "\n",
    "# Load the fine-tuned model and tokenizer\n",
    "model_path = \"fine_tuned_roberta\"\n",
    "tokenizer = RobertaTokenizer.from_pretrained(model_path)\n",
    "model = RobertaForSequenceClassification.from_pretrained(model_path)\n",
    "\n",
    "# Move model to device\n",
    "device = \"cuda\" if torch.cuda.is_available() else \"cpu\"\n",
    "model.to(device)\n",
    "model.eval()"
   ]
  },
  {
   "cell_type": "code",
   "execution_count": null,
   "metadata": {},
   "outputs": [],
   "source": [
    "def preprocess_text(text, tokenizer, max_length=128):\n",
    "    encoding = tokenizer(\n",
    "        text,\n",
    "        max_length=max_length,\n",
    "        padding=\"max_length\",\n",
    "        truncation=True,\n",
    "        return_tensors=\"pt\"\n",
    "    )\n",
    "    return encoding"
   ]
  },
  {
   "cell_type": "code",
   "execution_count": null,
   "metadata": {},
   "outputs": [],
   "source": [
    "import torch\n",
    "\n",
    "def predict(text, model, tokenizer, max_length=128):\n",
    "    # Preprocess the text\n",
    "    encoding = preprocess_text(text, tokenizer, max_length)\n",
    "\n",
    "    # Move tensors to device\n",
    "    input_ids = encoding[\"input_ids\"].to(device)\n",
    "    attention_mask = encoding[\"attention_mask\"].to(device)\n",
    "\n",
    "    # Forward pass through the model\n",
    "    with torch.no_grad():\n",
    "        outputs = model(input_ids, attention_mask=attention_mask)\n",
    "    \n",
    "    # Get logits and convert to probabilities\n",
    "    logits = outputs.logits\n",
    "    probabilities = torch.nn.functional.softmax(logits, dim=-1)\n",
    "\n",
    "    # Get the predicted class\n",
    "    predicted_class = torch.argmax(probabilities, dim=-1).item()\n",
    "\n",
    "    return predicted_class, probabilities.cpu().numpy()\n",
    "\n",
    "# Example usage\n",
    "text = \"This is a sample text for inference.\"\n",
    "predicted_class, probabilities = predict(text, model, tokenizer)\n",
    "\n",
    "print(f\"Predicted class: {predicted_class}\")\n",
    "print(f\"Probabilities: {probabilities}\")"
   ]
  },
  {
   "cell_type": "code",
   "execution_count": 22,
   "metadata": {
    "execution": {
     "iopub.execute_input": "2024-12-25T16:21:30.872476Z",
     "iopub.status.busy": "2024-12-25T16:21:30.871669Z",
     "iopub.status.idle": "2024-12-25T16:21:31.400968Z",
     "shell.execute_reply": "2024-12-25T16:21:31.400058Z",
     "shell.execute_reply.started": "2024-12-25T16:21:30.872440Z"
    },
    "trusted": true
   },
   "outputs": [],
   "source": [
    "from sklearn.model_selection import train_test_split\n",
    "\n",
    "X_train, X_test, y_train, y_test = train_test_split(X, y, test_size=0.33)"
   ]
  },
  {
   "cell_type": "code",
   "execution_count": 44,
   "metadata": {
    "execution": {
     "iopub.execute_input": "2024-12-25T16:25:48.577318Z",
     "iopub.status.busy": "2024-12-25T16:25:48.576968Z",
     "iopub.status.idle": "2024-12-25T16:25:48.582711Z",
     "shell.execute_reply": "2024-12-25T16:25:48.581735Z",
     "shell.execute_reply.started": "2024-12-25T16:25:48.577287Z"
    },
    "trusted": true
   },
   "outputs": [],
   "source": [
    "import torch.nn as nn\n",
    "import torch.nn.functional as F\n",
    "\n",
    "class BasicMLP(nn.Module):\n",
    "    def __init__(self):\n",
    "        super(BasicMLP, self).__init__()\n",
    "        self.ffnn = nn.Sequential(\n",
    "            nn.Linear(2, 2),\n",
    "            nn.ReLU(),\n",
    "            nn.Linear(2, len(index)),\n",
    "        )\n",
    "    def forward(self, x):\n",
    "        return self.ffnn(x)"
   ]
  },
  {
   "cell_type": "code",
   "execution_count": 31,
   "metadata": {
    "execution": {
     "iopub.execute_input": "2024-12-25T16:22:54.294160Z",
     "iopub.status.busy": "2024-12-25T16:22:54.293580Z",
     "iopub.status.idle": "2024-12-25T16:22:54.299503Z",
     "shell.execute_reply": "2024-12-25T16:22:54.298586Z",
     "shell.execute_reply.started": "2024-12-25T16:22:54.294124Z"
    },
    "trusted": true
   },
   "outputs": [],
   "source": [
    "import torch.optim as optim\n",
    "\n",
    "model = BasicMLP()\n",
    "optimizer = optim.Adam(model.parameters(),)\n",
    "loss_fn = nn.CrossEntropyLoss()"
   ]
  },
  {
   "cell_type": "code",
   "execution_count": 45,
   "metadata": {
    "execution": {
     "iopub.execute_input": "2024-12-25T16:25:53.722698Z",
     "iopub.status.busy": "2024-12-25T16:25:53.722384Z",
     "iopub.status.idle": "2024-12-25T16:25:53.728391Z",
     "shell.execute_reply": "2024-12-25T16:25:53.727570Z",
     "shell.execute_reply.started": "2024-12-25T16:25:53.722672Z"
    },
    "trusted": true
   },
   "outputs": [],
   "source": [
    "from torch.utils.data import TensorDataset, DataLoader\n",
    "import torch\n",
    "\n",
    "x_tensor = torch.tensor(X_train.to_numpy(), dtype=torch.float32, requires_grad=True)\n",
    "y_tensor = torch.tensor(y_train, dtype=torch.long)\n",
    "\n",
    "# Create a TensorDataset\n",
    "dataset = TensorDataset(x_tensor, y_tensor)\n",
    "\n",
    "train_loader = torch.utils.data.DataLoader(dataset, batch_size=128, shuffle=True)"
   ]
  },
  {
   "cell_type": "code",
   "execution_count": 46,
   "metadata": {
    "execution": {
     "iopub.execute_input": "2024-12-25T16:25:55.001652Z",
     "iopub.status.busy": "2024-12-25T16:25:55.001315Z",
     "iopub.status.idle": "2024-12-25T16:25:55.852853Z",
     "shell.execute_reply": "2024-12-25T16:25:55.851981Z",
     "shell.execute_reply.started": "2024-12-25T16:25:55.001623Z"
    },
    "trusted": true
   },
   "outputs": [
    {
     "name": "stdout",
     "output_type": "stream",
     "text": [
      "EPOCH 1:\n",
      "3.11735337972641\n",
      "EPOCH 6:\n",
      "3.1196709871292114\n",
      "EPOCH 11:\n",
      "3.215919852256775\n",
      "EPOCH 16:\n",
      "3.586550533771515\n",
      "EPOCH 21:\n",
      "3.2034358978271484\n",
      "EPOCH 26:\n",
      "3.355764091014862\n",
      "EPOCH 31:\n",
      "3.2376062870025635\n",
      "EPOCH 36:\n",
      "3.7988849878311157\n",
      "EPOCH 41:\n",
      "3.2641862630844116\n",
      "EPOCH 46:\n",
      "2.888943374156952\n",
      "EPOCH 51:\n",
      "2.7804263830184937\n",
      "EPOCH 56:\n",
      "3.0602681040763855\n",
      "EPOCH 61:\n",
      "3.324139714241028\n",
      "EPOCH 66:\n",
      "3.0205820202827454\n",
      "EPOCH 71:\n",
      "2.8311057686805725\n",
      "EPOCH 76:\n",
      "3.3463022708892822\n",
      "EPOCH 81:\n",
      "3.1722772121429443\n",
      "EPOCH 86:\n",
      "2.8814147114753723\n",
      "EPOCH 91:\n",
      "2.77474308013916\n",
      "EPOCH 96:\n",
      "3.1973016262054443\n"
     ]
    }
   ],
   "source": [
    "EPOCHS = 100\n",
    "\n",
    "for epoch in range(EPOCHS):\n",
    "    running_loss = 0.\n",
    "    last_loss = 0.\n",
    "\n",
    "    model.train()\n",
    "    for i, data in enumerate(train_loader):\n",
    "        inputs, labels = data\n",
    "        optimizer.zero_grad()\n",
    "        outputs = model(inputs)\n",
    "        loss = loss_fn(outputs, labels)\n",
    "        loss.backward()\n",
    "        optimizer.step()\n",
    "        running_loss += loss.item()\n",
    "    if epoch % 5 == 0:\n",
    "        print('EPOCH {}:'.format(epoch + 1))\n",
    "        print(running_loss)"
   ]
  },
  {
   "cell_type": "code",
   "execution_count": 52,
   "metadata": {
    "execution": {
     "iopub.execute_input": "2024-12-25T16:36:36.320398Z",
     "iopub.status.busy": "2024-12-25T16:36:36.320027Z",
     "iopub.status.idle": "2024-12-25T16:36:36.646097Z",
     "shell.execute_reply": "2024-12-25T16:36:36.645240Z",
     "shell.execute_reply.started": "2024-12-25T16:36:36.320364Z"
    },
    "trusted": true
   },
   "outputs": [
    {
     "data": {
      "text/html": [
       "<style>#sk-container-id-1 {color: black;background-color: white;}#sk-container-id-1 pre{padding: 0;}#sk-container-id-1 div.sk-toggleable {background-color: white;}#sk-container-id-1 label.sk-toggleable__label {cursor: pointer;display: block;width: 100%;margin-bottom: 0;padding: 0.3em;box-sizing: border-box;text-align: center;}#sk-container-id-1 label.sk-toggleable__label-arrow:before {content: \"▸\";float: left;margin-right: 0.25em;color: #696969;}#sk-container-id-1 label.sk-toggleable__label-arrow:hover:before {color: black;}#sk-container-id-1 div.sk-estimator:hover label.sk-toggleable__label-arrow:before {color: black;}#sk-container-id-1 div.sk-toggleable__content {max-height: 0;max-width: 0;overflow: hidden;text-align: left;background-color: #f0f8ff;}#sk-container-id-1 div.sk-toggleable__content pre {margin: 0.2em;color: black;border-radius: 0.25em;background-color: #f0f8ff;}#sk-container-id-1 input.sk-toggleable__control:checked~div.sk-toggleable__content {max-height: 200px;max-width: 100%;overflow: auto;}#sk-container-id-1 input.sk-toggleable__control:checked~label.sk-toggleable__label-arrow:before {content: \"▾\";}#sk-container-id-1 div.sk-estimator input.sk-toggleable__control:checked~label.sk-toggleable__label {background-color: #d4ebff;}#sk-container-id-1 div.sk-label input.sk-toggleable__control:checked~label.sk-toggleable__label {background-color: #d4ebff;}#sk-container-id-1 input.sk-hidden--visually {border: 0;clip: rect(1px 1px 1px 1px);clip: rect(1px, 1px, 1px, 1px);height: 1px;margin: -1px;overflow: hidden;padding: 0;position: absolute;width: 1px;}#sk-container-id-1 div.sk-estimator {font-family: monospace;background-color: #f0f8ff;border: 1px dotted black;border-radius: 0.25em;box-sizing: border-box;margin-bottom: 0.5em;}#sk-container-id-1 div.sk-estimator:hover {background-color: #d4ebff;}#sk-container-id-1 div.sk-parallel-item::after {content: \"\";width: 100%;border-bottom: 1px solid gray;flex-grow: 1;}#sk-container-id-1 div.sk-label:hover label.sk-toggleable__label {background-color: #d4ebff;}#sk-container-id-1 div.sk-serial::before {content: \"\";position: absolute;border-left: 1px solid gray;box-sizing: border-box;top: 0;bottom: 0;left: 50%;z-index: 0;}#sk-container-id-1 div.sk-serial {display: flex;flex-direction: column;align-items: center;background-color: white;padding-right: 0.2em;padding-left: 0.2em;position: relative;}#sk-container-id-1 div.sk-item {position: relative;z-index: 1;}#sk-container-id-1 div.sk-parallel {display: flex;align-items: stretch;justify-content: center;background-color: white;position: relative;}#sk-container-id-1 div.sk-item::before, #sk-container-id-1 div.sk-parallel-item::before {content: \"\";position: absolute;border-left: 1px solid gray;box-sizing: border-box;top: 0;bottom: 0;left: 50%;z-index: -1;}#sk-container-id-1 div.sk-parallel-item {display: flex;flex-direction: column;z-index: 1;position: relative;background-color: white;}#sk-container-id-1 div.sk-parallel-item:first-child::after {align-self: flex-end;width: 50%;}#sk-container-id-1 div.sk-parallel-item:last-child::after {align-self: flex-start;width: 50%;}#sk-container-id-1 div.sk-parallel-item:only-child::after {width: 0;}#sk-container-id-1 div.sk-dashed-wrapped {border: 1px dashed gray;margin: 0 0.4em 0.5em 0.4em;box-sizing: border-box;padding-bottom: 0.4em;background-color: white;}#sk-container-id-1 div.sk-label label {font-family: monospace;font-weight: bold;display: inline-block;line-height: 1.2em;}#sk-container-id-1 div.sk-label-container {text-align: center;}#sk-container-id-1 div.sk-container {/* jupyter's `normalize.less` sets `[hidden] { display: none; }` but bootstrap.min.css set `[hidden] { display: none !important; }` so we also need the `!important` here to be able to override the default hidden behavior on the sphinx rendered scikit-learn.org. See: https://github.com/scikit-learn/scikit-learn/issues/21755 */display: inline-block !important;position: relative;}#sk-container-id-1 div.sk-text-repr-fallback {display: none;}</style><div id=\"sk-container-id-1\" class=\"sk-top-container\"><div class=\"sk-text-repr-fallback\"><pre>LogisticRegression()</pre><b>In a Jupyter environment, please rerun this cell to show the HTML representation or trust the notebook. <br />On GitHub, the HTML representation is unable to render, please try loading this page with nbviewer.org.</b></div><div class=\"sk-container\" hidden><div class=\"sk-item\"><div class=\"sk-estimator sk-toggleable\"><input class=\"sk-toggleable__control sk-hidden--visually\" id=\"sk-estimator-id-1\" type=\"checkbox\" checked><label for=\"sk-estimator-id-1\" class=\"sk-toggleable__label sk-toggleable__label-arrow\">LogisticRegression</label><div class=\"sk-toggleable__content\"><pre>LogisticRegression()</pre></div></div></div></div></div>"
      ],
      "text/plain": [
       "LogisticRegression()"
      ]
     },
     "execution_count": 52,
     "metadata": {},
     "output_type": "execute_result"
    }
   ],
   "source": [
    "from sklearn.linear_model import LogisticRegression\n",
    "\n",
    "log = LogisticRegression(penalty='l2')\n",
    "\n",
    "log.fit(X_train, y_train)"
   ]
  },
  {
   "cell_type": "code",
   "execution_count": 53,
   "metadata": {
    "execution": {
     "iopub.execute_input": "2024-12-25T16:37:37.977571Z",
     "iopub.status.busy": "2024-12-25T16:37:37.977160Z",
     "iopub.status.idle": "2024-12-25T16:37:38.284216Z",
     "shell.execute_reply": "2024-12-25T16:37:38.283188Z",
     "shell.execute_reply.started": "2024-12-25T16:37:37.977538Z"
    },
    "trusted": true
   },
   "outputs": [
    {
     "data": {
      "image/png": "[encoded data removed]",
      "text/plain": [
       "<Figure size 640x480 with 2 Axes>"
      ]
     },
     "metadata": {},
     "output_type": "display_data"
    }
   ],
   "source": [
    "cm = confusion_matrix(y_test, log.predict(X_test))\n",
    "\n",
    "# Display confusion matrix\n",
    "display = ConfusionMatrixDisplay(confusion_matrix=cm, display_labels=np.unique(y_test))\n",
    "display.plot(cmap=plt.cm.Blues)\n",
    "plt.title(\"Confusion Matrix\")\n",
    "\n",
    "plt.show()"
   ]
  },
  {
   "cell_type": "code",
   "execution_count": 47,
   "metadata": {
    "execution": {
     "iopub.execute_input": "2024-12-25T16:26:01.552897Z",
     "iopub.status.busy": "2024-12-25T16:26:01.552183Z",
     "iopub.status.idle": "2024-12-25T16:26:01.558618Z",
     "shell.execute_reply": "2024-12-25T16:26:01.557583Z",
     "shell.execute_reply.started": "2024-12-25T16:26:01.552863Z"
    },
    "trusted": true
   },
   "outputs": [],
   "source": [
    "x_tensor_test = torch.tensor(X_test.to_numpy(), dtype=torch.float32)\n",
    "y_tensor_test = torch.tensor(y_test, dtype=torch.long)\n",
    "dataset = TensorDataset(x_tensor_test, y_tensor_test)\n",
    "test_loader = torch.utils.data.DataLoader(dataset, batch_size=128, shuffle=True)"
   ]
  },
  {
   "cell_type": "code",
   "execution_count": 48,
   "metadata": {
    "execution": {
     "iopub.execute_input": "2024-12-25T16:26:02.288863Z",
     "iopub.status.busy": "2024-12-25T16:26:02.288510Z",
     "iopub.status.idle": "2024-12-25T16:26:02.296445Z",
     "shell.execute_reply": "2024-12-25T16:26:02.295524Z",
     "shell.execute_reply.started": "2024-12-25T16:26:02.288834Z"
    },
    "trusted": true
   },
   "outputs": [],
   "source": [
    "with torch.no_grad():\n",
    "    running_vloss = 0.\n",
    "    avg_loss = 0.\n",
    "    for i, vdata in enumerate(test_loader):\n",
    "        vinputs, vlabels = vdata\n",
    "        voutputs = model(vinputs)\n",
    "        vloss = loss_fn(voutputs, vlabels)\n",
    "        running_vloss += vloss\n",
    "    \n",
    "        avg_vloss = running_vloss / (i + 1)"
   ]
  },
  {
   "cell_type": "code",
   "execution_count": 49,
   "metadata": {
    "execution": {
     "iopub.execute_input": "2024-12-25T16:26:03.521654Z",
     "iopub.status.busy": "2024-12-25T16:26:03.520828Z",
     "iopub.status.idle": "2024-12-25T16:26:03.824923Z",
     "shell.execute_reply": "2024-12-25T16:26:03.824016Z",
     "shell.execute_reply.started": "2024-12-25T16:26:03.521618Z"
    },
    "trusted": true
   },
   "outputs": [
    {
     "data": {
      "image/png": "[encoded data removed]",
      "text/plain": [
       "<Figure size 640x480 with 2 Axes>"
      ]
     },
     "metadata": {},
     "output_type": "display_data"
    }
   ],
   "source": [
    "import numpy as np\n",
    "from sklearn.metrics import confusion_matrix, ConfusionMatrixDisplay\n",
    "import matplotlib.pyplot as plt\n",
    "\n",
    "true_labels = []\n",
    "predicted_labels = []\n",
    "\n",
    "# Set model to evaluation mode\n",
    "model.eval()\n",
    "\n",
    "with torch.no_grad():\n",
    "    for inputs, labels in test_loader:\n",
    "        # Get model outputs\n",
    "        outputs = model(inputs)  # Raw logits\n",
    "        \n",
    "        # Apply sigmoid activation\n",
    "        probabilities = torch.sigmoid(outputs)\n",
    "        \n",
    "        # Compute argmax for class prediction\n",
    "        predictions = torch.argmax(probabilities, dim=1)\n",
    "        \n",
    "        # Store true and predicted labels\n",
    "        true_labels.extend(labels.cpu().numpy())\n",
    "        predicted_labels.extend(predictions.cpu().numpy())\n",
    "\n",
    "# Convert to NumPy arrays\n",
    "true_labels = np.array(true_labels)\n",
    "predicted_labels = np.array(predicted_labels)\n",
    "\n",
    "# Compute confusion matrix\n",
    "cm = confusion_matrix(true_labels, predicted_labels)\n",
    "\n",
    "# Plot confusion matrix\n",
    "disp = ConfusionMatrixDisplay(confusion_matrix=cm)\n",
    "disp.plot(cmap=plt.cm.Blues)\n",
    "plt.title(\"Confusion Matrix\")\n",
    "plt.savefig(\"dl.png\")\n",
    "plt.show()"
   ]
  },
  {
   "cell_type": "markdown",
   "metadata": {},
   "source": [
    "## Completeness"
   ]
  },
  {
   "cell_type": "code",
   "execution_count": null,
   "metadata": {
    "execution": {
     "iopub.status.busy": "2024-12-18T19:30:39.162900Z",
     "iopub.status.idle": "2024-12-18T19:30:39.163162Z",
     "shell.execute_reply": "2024-12-18T19:30:39.163046Z",
     "shell.execute_reply.started": "2024-12-18T19:30:39.163033Z"
    },
    "trusted": true
   },
   "outputs": [],
   "source": [
    "completeness = (\n",
    "    judge.chat_completion(\n",
    "        completeness_prompt(output, inputs[\"question\"], inputs[\"context\"]),\n",
    "        max_tokens=300,\n",
    "    )\n",
    "    .choices[0]\n",
    "    .message.content.lower()\n",
    ")\n",
    "completeness_val = int(completeness.split('\"completeness\": ')[-1][0]) / 5\n",
    "completeness_val, completeness"
   ]
  },
  {
   "cell_type": "code",
   "execution_count": null,
   "metadata": {
    "execution": {
     "iopub.status.busy": "2024-12-18T19:30:39.164620Z",
     "iopub.status.idle": "2024-12-18T19:30:39.164887Z",
     "shell.execute_reply": "2024-12-18T19:30:39.164772Z",
     "shell.execute_reply.started": "2024-12-18T19:30:39.164758Z"
    },
    "trusted": true
   },
   "outputs": [],
   "source": [
    "context_relevance = list(\n",
    "    filter(\n",
    "        None,\n",
    "        judge.chat_completion(\n",
    "            context_statements(inputs[\"context\"], inputs[\"question\"]), max_tokens=400\n",
    "        )\n",
    "        .choices[0]\n",
    "        .message.content.lower()\n",
    "        .split(\"statement:\"),\n",
    "    )\n",
    ")\n",
    "context_summarized = list(\n",
    "    filter(\n",
    "        None,\n",
    "        judge.chat_completion(summarize_context(inputs[\"context\"]), max_tokens=1000)\n",
    "        .choices[0]\n",
    "        .message.content.lower()\n",
    "        .split(\"statement:\"),\n",
    "    )\n",
    ")"
   ]
  },
  {
   "cell_type": "code",
   "execution_count": null,
   "metadata": {
    "execution": {
     "iopub.status.busy": "2024-12-18T19:30:39.166534Z",
     "iopub.status.idle": "2024-12-18T19:30:39.166805Z",
     "shell.execute_reply": "2024-12-18T19:30:39.166688Z",
     "shell.execute_reply.started": "2024-12-18T19:30:39.166674Z"
    },
    "trusted": true
   },
   "outputs": [],
   "source": [
    "len(context_relevance) / summarized_length(judge, inputs[\"context\"])"
   ]
  },
  {
   "cell_type": "code",
   "execution_count": null,
   "metadata": {
    "execution": {
     "iopub.status.busy": "2024-12-18T19:30:39.168216Z",
     "iopub.status.idle": "2024-12-18T19:30:39.168596Z",
     "shell.execute_reply": "2024-12-18T19:30:39.168425Z",
     "shell.execute_reply.started": "2024-12-18T19:30:39.168400Z"
    },
    "trusted": true
   },
   "outputs": [],
   "source": [
    "context_relevance"
   ]
  },
  {
   "cell_type": "code",
   "execution_count": null,
   "metadata": {
    "trusted": true
   },
   "outputs": [],
   "source": []
  }
 ],
 "metadata": {
  "kaggle": {
   "accelerator": "none",
   "dataSources": [
    {
     "datasetId": 6321207,
     "sourceId": 10224826,
     "sourceType": "datasetVersion"
    },
    {
     "datasetId": 6321916,
     "sourceId": 10225719,
     "sourceType": "datasetVersion"
    },
    {
     "datasetId": 6362975,
     "sourceId": 10282645,
     "sourceType": "datasetVersion"
    }
   ],
   "dockerImageVersionId": 30805,
   "isGpuEnabled": false,
   "isInternetEnabled": true,
   "language": "python",
   "sourceType": "notebook"
  },
  "kernelspec": {
   "display_name": "transformers",
   "language": "python",
   "name": "python3"
  },
  "language_info": {
   "codemirror_mode": {
    "name": "ipython",
    "version": 3
   },
   "file_extension": ".py",
   "mimetype": "text/x-python",
   "name": "python",
   "nbconvert_exporter": "python",
   "pygments_lexer": "ipython3",
   "version": "3.10.11"
  }
 },
 "nbformat": 4,
 "nbformat_minor": 4
}
